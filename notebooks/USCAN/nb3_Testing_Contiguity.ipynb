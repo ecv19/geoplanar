{
 "cells": [
  {
   "cell_type": "markdown",
   "id": "c96dfca0-fa7b-4c1d-8d84-f188cf820aa5",
   "metadata": {
    "tags": []
   },
   "source": [
    "## Assessment of `Geoplanar`\n"
   ]
  },
  {
   "cell_type": "markdown",
   "id": "be76bfc0-b677-4c58-8b11-e903805e1ff4",
   "metadata": {},
   "source": [
    "### Example US and Canada"
   ]
  },
  {
   "cell_type": "markdown",
   "id": "3075d89e-2cb0-4ba7-afc3-a4d028344193",
   "metadata": {
    "tags": []
   },
   "source": [
    "### Spatial Contiguity\n",
    "\n",
    "Spatial contiguity is an importance concept for the application and computation of most advance spatial statistical tools.\n",
    "In this notebook we can compare changes in spatial contiguity using nonplanarenforced/raw and planar enforced/cleaned data , after application of`geoplanar`. \n",
    "\n",
    "- We will estimate both cases of rook and queen contiguity on each set of data. \n",
    "- A comparison is done for each case of contiguity and the changes can be studied using simple on maps and bar graphs.\n"
   ]
  },
  {
   "cell_type": "code",
   "execution_count": 1,
   "id": "a7a54d18-7b76-410a-922a-25942791e5a3",
   "metadata": {},
   "outputs": [],
   "source": [
    "import geoplanar\n",
    "import geopandas as gpd\n",
    "import numpy as np"
   ]
  },
  {
   "cell_type": "code",
   "execution_count": 2,
   "id": "fe4afdd4-34bc-4cd1-86ec-d335a64aa084",
   "metadata": {
    "tags": []
   },
   "outputs": [],
   "source": [
    "import warnings\n",
    "warnings.filterwarnings(\"ignore\")"
   ]
  },
  {
   "cell_type": "code",
   "execution_count": 3,
   "id": "14a971b7-f7ab-417d-9857-0c869ed760d1",
   "metadata": {},
   "outputs": [],
   "source": [
    "import sys\n",
    "import os\n",
    "sys.path.append(os.path.abspath('..'))\n",
    "import libpysal"
   ]
  },
  {
   "cell_type": "markdown",
   "id": "33832f01-8d1f-4293-9976-e5b404c4f53d",
   "metadata": {},
   "source": [
    "#### Data Retrieval"
   ]
  },
  {
   "cell_type": "code",
   "execution_count": 4,
   "id": "9c432566-3fc6-4b4d-9046-520603c35d1e",
   "metadata": {},
   "outputs": [
    {
     "data": {
      "text/html": [
       "<div>\n",
       "<style scoped>\n",
       "    .dataframe tbody tr th:only-of-type {\n",
       "        vertical-align: middle;\n",
       "    }\n",
       "\n",
       "    .dataframe tbody tr th {\n",
       "        vertical-align: top;\n",
       "    }\n",
       "\n",
       "    .dataframe thead th {\n",
       "        text-align: right;\n",
       "    }\n",
       "</style>\n",
       "<table border=\"1\" class=\"dataframe\">\n",
       "  <thead>\n",
       "    <tr style=\"text-align: right;\">\n",
       "      <th></th>\n",
       "      <th>level_0</th>\n",
       "      <th>geometry</th>\n",
       "      <th>COUNTRY</th>\n",
       "      <th>index</th>\n",
       "      <th>AREA</th>\n",
       "      <th>PERIMETER</th>\n",
       "      <th>STATE_</th>\n",
       "      <th>STATE_ID</th>\n",
       "      <th>STATE_NAME</th>\n",
       "      <th>STATE_FIPS</th>\n",
       "      <th>...</th>\n",
       "      <th>GID_0</th>\n",
       "      <th>NAME_0</th>\n",
       "      <th>GID_1</th>\n",
       "      <th>NAME_1</th>\n",
       "      <th>VARNAME_1</th>\n",
       "      <th>NL_NAME_1</th>\n",
       "      <th>TYPE_1</th>\n",
       "      <th>ENGTYPE_1</th>\n",
       "      <th>CC_1</th>\n",
       "      <th>HASC_1</th>\n",
       "    </tr>\n",
       "  </thead>\n",
       "  <tbody>\n",
       "    <tr>\n",
       "      <th>0</th>\n",
       "      <td>59</td>\n",
       "      <td>POLYGON ((-89.56835 47.99815, -89.53059 48.001...</td>\n",
       "      <td>LAKE</td>\n",
       "      <td>NaN</td>\n",
       "      <td>NaN</td>\n",
       "      <td>NaN</td>\n",
       "      <td>NaN</td>\n",
       "      <td>NaN</td>\n",
       "      <td>None</td>\n",
       "      <td>None</td>\n",
       "      <td>...</td>\n",
       "      <td>None</td>\n",
       "      <td>None</td>\n",
       "      <td>None</td>\n",
       "      <td>None</td>\n",
       "      <td>None</td>\n",
       "      <td>None</td>\n",
       "      <td>None</td>\n",
       "      <td>None</td>\n",
       "      <td>None</td>\n",
       "      <td>None</td>\n",
       "    </tr>\n",
       "    <tr>\n",
       "      <th>1</th>\n",
       "      <td>64</td>\n",
       "      <td>POLYGON ((-82.92947 42.36300, -82.87499 42.458...</td>\n",
       "      <td>LAKE</td>\n",
       "      <td>NaN</td>\n",
       "      <td>NaN</td>\n",
       "      <td>NaN</td>\n",
       "      <td>NaN</td>\n",
       "      <td>NaN</td>\n",
       "      <td>None</td>\n",
       "      <td>None</td>\n",
       "      <td>...</td>\n",
       "      <td>None</td>\n",
       "      <td>None</td>\n",
       "      <td>None</td>\n",
       "      <td>None</td>\n",
       "      <td>None</td>\n",
       "      <td>None</td>\n",
       "      <td>None</td>\n",
       "      <td>None</td>\n",
       "      <td>None</td>\n",
       "      <td>None</td>\n",
       "    </tr>\n",
       "    <tr>\n",
       "      <th>2</th>\n",
       "      <td>63</td>\n",
       "      <td>POLYGON ((-82.46070 42.90598, -82.46270 42.895...</td>\n",
       "      <td>LAKE</td>\n",
       "      <td>NaN</td>\n",
       "      <td>NaN</td>\n",
       "      <td>NaN</td>\n",
       "      <td>NaN</td>\n",
       "      <td>NaN</td>\n",
       "      <td>None</td>\n",
       "      <td>None</td>\n",
       "      <td>...</td>\n",
       "      <td>None</td>\n",
       "      <td>None</td>\n",
       "      <td>None</td>\n",
       "      <td>None</td>\n",
       "      <td>None</td>\n",
       "      <td>None</td>\n",
       "      <td>None</td>\n",
       "      <td>None</td>\n",
       "      <td>None</td>\n",
       "      <td>None</td>\n",
       "    </tr>\n",
       "    <tr>\n",
       "      <th>3</th>\n",
       "      <td>0</td>\n",
       "      <td>MULTIPOLYGON (((-122.40075 48.22540, -122.4615...</td>\n",
       "      <td>US</td>\n",
       "      <td>0.0</td>\n",
       "      <td>20.750</td>\n",
       "      <td>34.956</td>\n",
       "      <td>1.0</td>\n",
       "      <td>1.0</td>\n",
       "      <td>Washington</td>\n",
       "      <td>53</td>\n",
       "      <td>...</td>\n",
       "      <td>None</td>\n",
       "      <td>None</td>\n",
       "      <td>None</td>\n",
       "      <td>None</td>\n",
       "      <td>None</td>\n",
       "      <td>None</td>\n",
       "      <td>None</td>\n",
       "      <td>None</td>\n",
       "      <td>None</td>\n",
       "      <td>None</td>\n",
       "    </tr>\n",
       "    <tr>\n",
       "      <th>4</th>\n",
       "      <td>1</td>\n",
       "      <td>POLYGON ((-111.47463 44.70224, -111.48001 44.6...</td>\n",
       "      <td>US</td>\n",
       "      <td>1.0</td>\n",
       "      <td>45.132</td>\n",
       "      <td>34.527</td>\n",
       "      <td>2.0</td>\n",
       "      <td>2.0</td>\n",
       "      <td>Montana</td>\n",
       "      <td>30</td>\n",
       "      <td>...</td>\n",
       "      <td>None</td>\n",
       "      <td>None</td>\n",
       "      <td>None</td>\n",
       "      <td>None</td>\n",
       "      <td>None</td>\n",
       "      <td>None</td>\n",
       "      <td>None</td>\n",
       "      <td>None</td>\n",
       "      <td>None</td>\n",
       "      <td>None</td>\n",
       "    </tr>\n",
       "  </tbody>\n",
       "</table>\n",
       "<p>5 rows × 22 columns</p>\n",
       "</div>"
      ],
      "text/plain": [
       "   level_0                                           geometry COUNTRY  index  \\\n",
       "0       59  POLYGON ((-89.56835 47.99815, -89.53059 48.001...    LAKE    NaN   \n",
       "1       64  POLYGON ((-82.92947 42.36300, -82.87499 42.458...    LAKE    NaN   \n",
       "2       63  POLYGON ((-82.46070 42.90598, -82.46270 42.895...    LAKE    NaN   \n",
       "3        0  MULTIPOLYGON (((-122.40075 48.22540, -122.4615...      US    0.0   \n",
       "4        1  POLYGON ((-111.47463 44.70224, -111.48001 44.6...      US    1.0   \n",
       "\n",
       "     AREA  PERIMETER  STATE_  STATE_ID  STATE_NAME STATE_FIPS  ... GID_0  \\\n",
       "0     NaN        NaN     NaN       NaN        None       None  ...  None   \n",
       "1     NaN        NaN     NaN       NaN        None       None  ...  None   \n",
       "2     NaN        NaN     NaN       NaN        None       None  ...  None   \n",
       "3  20.750     34.956     1.0       1.0  Washington         53  ...  None   \n",
       "4  45.132     34.527     2.0       2.0     Montana         30  ...  None   \n",
       "\n",
       "  NAME_0 GID_1 NAME_1 VARNAME_1 NL_NAME_1 TYPE_1 ENGTYPE_1  CC_1 HASC_1  \n",
       "0   None  None   None      None      None   None      None  None   None  \n",
       "1   None  None   None      None      None   None      None  None   None  \n",
       "2   None  None   None      None      None   None      None  None   None  \n",
       "3   None  None   None      None      None   None      None  None   None  \n",
       "4   None  None   None      None      None   None      None  None   None  \n",
       "\n",
       "[5 rows x 22 columns]"
      ]
     },
     "execution_count": 4,
     "metadata": {},
     "output_type": "execute_result"
    }
   ],
   "source": [
    "npe = gpd.read_parquet(\"../../geoplanar/datasets/uscan/nonplanar_enforced.parquet\") #non planar enforced data\n",
    "npe.head()"
   ]
  },
  {
   "cell_type": "code",
   "execution_count": 5,
   "id": "a9cc9007-d6b6-4d9e-a817-3bf1dd41dc14",
   "metadata": {},
   "outputs": [
    {
     "data": {
      "text/plain": [
       "(64, 22)"
      ]
     },
     "execution_count": 5,
     "metadata": {},
     "output_type": "execute_result"
    }
   ],
   "source": [
    "npe.shape"
   ]
  },
  {
   "cell_type": "code",
   "execution_count": 6,
   "id": "0b6134b4-38cf-43cc-a5f5-9412fd83fcac",
   "metadata": {},
   "outputs": [
    {
     "data": {
      "text/plain": [
       "Index(['level_0', 'geometry', 'COUNTRY', 'index', 'AREA', 'PERIMETER',\n",
       "       'STATE_', 'STATE_ID', 'STATE_NAME', 'STATE_FIPS', 'SUB_REGION',\n",
       "       'STATE_ABBR', 'GID_0', 'NAME_0', 'GID_1', 'NAME_1', 'VARNAME_1',\n",
       "       'NL_NAME_1', 'TYPE_1', 'ENGTYPE_1', 'CC_1', 'HASC_1'],\n",
       "      dtype='object')"
      ]
     },
     "execution_count": 6,
     "metadata": {},
     "output_type": "execute_result"
    }
   ],
   "source": [
    "npe.columns"
   ]
  },
  {
   "cell_type": "code",
   "execution_count": 7,
   "id": "64d98800-046c-4f18-b1da-51940083ed18",
   "metadata": {},
   "outputs": [
    {
     "data": {
      "text/html": [
       "<div>\n",
       "<style scoped>\n",
       "    .dataframe tbody tr th:only-of-type {\n",
       "        vertical-align: middle;\n",
       "    }\n",
       "\n",
       "    .dataframe tbody tr th {\n",
       "        vertical-align: top;\n",
       "    }\n",
       "\n",
       "    .dataframe thead th {\n",
       "        text-align: right;\n",
       "    }\n",
       "</style>\n",
       "<table border=\"1\" class=\"dataframe\">\n",
       "  <thead>\n",
       "    <tr style=\"text-align: right;\">\n",
       "      <th></th>\n",
       "      <th>level_0</th>\n",
       "      <th>geometry</th>\n",
       "      <th>COUNTRY</th>\n",
       "      <th>index</th>\n",
       "      <th>AREA</th>\n",
       "      <th>PERIMETER</th>\n",
       "      <th>STATE_</th>\n",
       "      <th>STATE_ID</th>\n",
       "      <th>STATE_NAME</th>\n",
       "      <th>STATE_FIPS</th>\n",
       "      <th>...</th>\n",
       "      <th>GID_0</th>\n",
       "      <th>NAME_0</th>\n",
       "      <th>GID_1</th>\n",
       "      <th>NAME_1</th>\n",
       "      <th>VARNAME_1</th>\n",
       "      <th>NL_NAME_1</th>\n",
       "      <th>TYPE_1</th>\n",
       "      <th>ENGTYPE_1</th>\n",
       "      <th>CC_1</th>\n",
       "      <th>HASC_1</th>\n",
       "    </tr>\n",
       "  </thead>\n",
       "  <tbody>\n",
       "    <tr>\n",
       "      <th>0</th>\n",
       "      <td>59</td>\n",
       "      <td>POLYGON ((-89.39987 47.98665, -89.34513 47.971...</td>\n",
       "      <td>LAKE</td>\n",
       "      <td>NaN</td>\n",
       "      <td>NaN</td>\n",
       "      <td>NaN</td>\n",
       "      <td>NaN</td>\n",
       "      <td>NaN</td>\n",
       "      <td>None</td>\n",
       "      <td>None</td>\n",
       "      <td>...</td>\n",
       "      <td>None</td>\n",
       "      <td>None</td>\n",
       "      <td>None</td>\n",
       "      <td>None</td>\n",
       "      <td>None</td>\n",
       "      <td>None</td>\n",
       "      <td>None</td>\n",
       "      <td>None</td>\n",
       "      <td>None</td>\n",
       "      <td>None</td>\n",
       "    </tr>\n",
       "    <tr>\n",
       "      <th>1</th>\n",
       "      <td>64</td>\n",
       "      <td>POLYGON ((-82.92947 42.36300, -82.87499 42.458...</td>\n",
       "      <td>LAKE</td>\n",
       "      <td>NaN</td>\n",
       "      <td>NaN</td>\n",
       "      <td>NaN</td>\n",
       "      <td>NaN</td>\n",
       "      <td>NaN</td>\n",
       "      <td>None</td>\n",
       "      <td>None</td>\n",
       "      <td>...</td>\n",
       "      <td>None</td>\n",
       "      <td>None</td>\n",
       "      <td>None</td>\n",
       "      <td>None</td>\n",
       "      <td>None</td>\n",
       "      <td>None</td>\n",
       "      <td>None</td>\n",
       "      <td>None</td>\n",
       "      <td>None</td>\n",
       "      <td>None</td>\n",
       "    </tr>\n",
       "    <tr>\n",
       "      <th>2</th>\n",
       "      <td>63</td>\n",
       "      <td>POLYGON ((-82.46070 42.90598, -82.46270 42.895...</td>\n",
       "      <td>LAKE</td>\n",
       "      <td>NaN</td>\n",
       "      <td>NaN</td>\n",
       "      <td>NaN</td>\n",
       "      <td>NaN</td>\n",
       "      <td>NaN</td>\n",
       "      <td>None</td>\n",
       "      <td>None</td>\n",
       "      <td>...</td>\n",
       "      <td>None</td>\n",
       "      <td>None</td>\n",
       "      <td>None</td>\n",
       "      <td>None</td>\n",
       "      <td>None</td>\n",
       "      <td>None</td>\n",
       "      <td>None</td>\n",
       "      <td>None</td>\n",
       "      <td>None</td>\n",
       "      <td>None</td>\n",
       "    </tr>\n",
       "    <tr>\n",
       "      <th>3</th>\n",
       "      <td>0</td>\n",
       "      <td>MULTIPOLYGON (((-122.45316 48.12867, -122.3600...</td>\n",
       "      <td>US</td>\n",
       "      <td>0.0</td>\n",
       "      <td>20.750</td>\n",
       "      <td>34.956</td>\n",
       "      <td>1.0</td>\n",
       "      <td>1.0</td>\n",
       "      <td>Washington</td>\n",
       "      <td>53</td>\n",
       "      <td>...</td>\n",
       "      <td>None</td>\n",
       "      <td>None</td>\n",
       "      <td>None</td>\n",
       "      <td>None</td>\n",
       "      <td>None</td>\n",
       "      <td>None</td>\n",
       "      <td>None</td>\n",
       "      <td>None</td>\n",
       "      <td>None</td>\n",
       "      <td>None</td>\n",
       "    </tr>\n",
       "    <tr>\n",
       "      <th>4</th>\n",
       "      <td>1</td>\n",
       "      <td>POLYGON ((-111.45853 44.53800, -111.48178 44.5...</td>\n",
       "      <td>US</td>\n",
       "      <td>1.0</td>\n",
       "      <td>45.132</td>\n",
       "      <td>34.527</td>\n",
       "      <td>2.0</td>\n",
       "      <td>2.0</td>\n",
       "      <td>Montana</td>\n",
       "      <td>30</td>\n",
       "      <td>...</td>\n",
       "      <td>None</td>\n",
       "      <td>None</td>\n",
       "      <td>None</td>\n",
       "      <td>None</td>\n",
       "      <td>None</td>\n",
       "      <td>None</td>\n",
       "      <td>None</td>\n",
       "      <td>None</td>\n",
       "      <td>None</td>\n",
       "      <td>None</td>\n",
       "    </tr>\n",
       "  </tbody>\n",
       "</table>\n",
       "<p>5 rows × 22 columns</p>\n",
       "</div>"
      ],
      "text/plain": [
       "   level_0                                           geometry COUNTRY  index  \\\n",
       "0       59  POLYGON ((-89.39987 47.98665, -89.34513 47.971...    LAKE    NaN   \n",
       "1       64  POLYGON ((-82.92947 42.36300, -82.87499 42.458...    LAKE    NaN   \n",
       "2       63  POLYGON ((-82.46070 42.90598, -82.46270 42.895...    LAKE    NaN   \n",
       "3        0  MULTIPOLYGON (((-122.45316 48.12867, -122.3600...      US    0.0   \n",
       "4        1  POLYGON ((-111.45853 44.53800, -111.48178 44.5...      US    1.0   \n",
       "\n",
       "     AREA  PERIMETER  STATE_  STATE_ID  STATE_NAME STATE_FIPS  ... GID_0  \\\n",
       "0     NaN        NaN     NaN       NaN        None       None  ...  None   \n",
       "1     NaN        NaN     NaN       NaN        None       None  ...  None   \n",
       "2     NaN        NaN     NaN       NaN        None       None  ...  None   \n",
       "3  20.750     34.956     1.0       1.0  Washington         53  ...  None   \n",
       "4  45.132     34.527     2.0       2.0     Montana         30  ...  None   \n",
       "\n",
       "  NAME_0 GID_1 NAME_1 VARNAME_1 NL_NAME_1 TYPE_1 ENGTYPE_1  CC_1 HASC_1  \n",
       "0   None  None   None      None      None   None      None  None   None  \n",
       "1   None  None   None      None      None   None      None  None   None  \n",
       "2   None  None   None      None      None   None      None  None   None  \n",
       "3   None  None   None      None      None   None      None  None   None  \n",
       "4   None  None   None      None      None   None      None  None   None  \n",
       "\n",
       "[5 rows x 22 columns]"
      ]
     },
     "execution_count": 7,
     "metadata": {},
     "output_type": "execute_result"
    }
   ],
   "source": [
    "pe = gpd.read_parquet(\"../../geoplanar/datasets/uscan/planar_enforced.parquet\") # planar enforced\n",
    "pe.head()"
   ]
  },
  {
   "cell_type": "code",
   "execution_count": 8,
   "id": "ff1099b3-5b85-4632-b858-5ed7acdbfa9f",
   "metadata": {},
   "outputs": [
    {
     "data": {
      "text/plain": [
       "(64, 22)"
      ]
     },
     "execution_count": 8,
     "metadata": {},
     "output_type": "execute_result"
    }
   ],
   "source": [
    "pe.shape"
   ]
  },
  {
   "cell_type": "markdown",
   "id": "28d7b2a9-fbbe-4ab6-891c-7298cfbc9b48",
   "metadata": {
    "tags": []
   },
   "source": [
    "### Testing Contiguity"
   ]
  },
  {
   "cell_type": "markdown",
   "id": "8e8a0628-eba7-4d59-b857-a83097cc1715",
   "metadata": {},
   "source": [
    "A contiguous pair of spatial objects are those who share a common border. There can be different ways that objects can share a common border. \n",
    "\n",
    "We can check by using two types of contiguity/adjacency Rook and Queen. \n",
    "\n",
    "- **Rook Contiguity Case** (Requires pair of polygons to share an edge)\n",
    "\n",
    "- **Queen Contiguity Case** (Requires pair of polygons only share one or more vertices)\n",
    "\n"
   ]
  },
  {
   "cell_type": "code",
   "execution_count": 9,
   "id": "1040fa52-ec08-479c-b4c4-177a232d6034",
   "metadata": {},
   "outputs": [],
   "source": [
    "import libpysal\n",
    "from libpysal.weights import Queen, Rook\n",
    "import pandas"
   ]
  },
  {
   "cell_type": "markdown",
   "id": "4b6b9fc0-e8e4-47f7-8d60-8b32100b7b69",
   "metadata": {
    "tags": []
   },
   "source": [
    "### CASE 1. Rook Contiguity"
   ]
  },
  {
   "cell_type": "markdown",
   "id": "bfe61b65-5451-4eb8-8892-25fa9f75ef9c",
   "metadata": {},
   "source": [
    "Here we will compare the rook contiguity of the raw(nonplanar enforcd) and cleaned(planar enforced) datatsets."
   ]
  },
  {
   "cell_type": "code",
   "execution_count": 10,
   "id": "611be1ef-430c-477e-a9ac-1a0d3509a18b",
   "metadata": {
    "tags": []
   },
   "outputs": [],
   "source": [
    "wr_npe = Rook.from_dataframe(npe)"
   ]
  },
  {
   "cell_type": "code",
   "execution_count": 11,
   "id": "6eeb52ea-28ac-4198-b2a0-21af055b1d26",
   "metadata": {},
   "outputs": [],
   "source": [
    "wr_pe = Rook.from_dataframe(pe)"
   ]
  },
  {
   "cell_type": "code",
   "execution_count": 12,
   "id": "e86fefb6-0724-4f65-b333-85e8ca823a20",
   "metadata": {},
   "outputs": [
    {
     "data": {
      "text/plain": [
       "64"
      ]
     },
     "execution_count": 12,
     "metadata": {},
     "output_type": "execute_result"
    }
   ],
   "source": [
    "wr_npe.n"
   ]
  },
  {
   "cell_type": "code",
   "execution_count": 13,
   "id": "6239abd7-346b-4c5e-a1f4-9608f7267961",
   "metadata": {
    "tags": []
   },
   "outputs": [
    {
     "data": {
      "text/plain": [
       "64"
      ]
     },
     "execution_count": 13,
     "metadata": {},
     "output_type": "execute_result"
    }
   ],
   "source": [
    "wr_pe.n"
   ]
  },
  {
   "cell_type": "markdown",
   "id": "6d330026-93a4-4832-b253-064d9a61649f",
   "metadata": {},
   "source": [
    "### Non-Zero Entries"
   ]
  },
  {
   "cell_type": "code",
   "execution_count": 14,
   "id": "77302c4d-d140-43ee-abcc-dd1525dc1d31",
   "metadata": {},
   "outputs": [
    {
     "data": {
      "text/plain": [
       "260"
      ]
     },
     "execution_count": 14,
     "metadata": {},
     "output_type": "execute_result"
    }
   ],
   "source": [
    "# non-zero entries\n",
    "wr_npe.nonzero"
   ]
  },
  {
   "cell_type": "code",
   "execution_count": 15,
   "id": "7aec36e3-abce-42ad-bfb9-a890999afd07",
   "metadata": {},
   "outputs": [
    {
     "data": {
      "text/plain": [
       "296"
      ]
     },
     "execution_count": 15,
     "metadata": {},
     "output_type": "execute_result"
    }
   ],
   "source": [
    "wr_pe.nonzero"
   ]
  },
  {
   "cell_type": "code",
   "execution_count": 16,
   "id": "514f7453-2162-4bd3-a603-f84d24facad4",
   "metadata": {},
   "outputs": [],
   "source": [
    "%matplotlib inline\n",
    "import matplotlib.pyplot as plt"
   ]
  },
  {
   "cell_type": "markdown",
   "id": "d3621521-b73e-4568-9b4a-1cf160d6b6b1",
   "metadata": {},
   "source": [
    "### Number of Joins"
   ]
  },
  {
   "cell_type": "code",
   "execution_count": 17,
   "id": "3ddde388-1689-482a-8d39-4698d5d171b4",
   "metadata": {},
   "outputs": [
    {
     "data": {
      "text/plain": [
       "260.0"
      ]
     },
     "execution_count": 17,
     "metadata": {},
     "output_type": "execute_result"
    }
   ],
   "source": [
    "# number of joins\n",
    "wr_npe.s0"
   ]
  },
  {
   "cell_type": "code",
   "execution_count": 18,
   "id": "06dbdaf2-3fb1-4cec-8e22-b58f0eb614b4",
   "metadata": {},
   "outputs": [
    {
     "data": {
      "text/plain": [
       "296.0"
      ]
     },
     "execution_count": 18,
     "metadata": {},
     "output_type": "execute_result"
    }
   ],
   "source": [
    "wr_pe.s0"
   ]
  },
  {
   "cell_type": "markdown",
   "id": "bf983856-25ef-4d0b-bbe9-ad4d76530095",
   "metadata": {},
   "source": [
    "### Measure of the Density of the Spatial Weights Matrix"
   ]
  },
  {
   "cell_type": "code",
   "execution_count": 19,
   "id": "8462dafb-b3c2-44ad-a2bd-2285e1e1b077",
   "metadata": {},
   "outputs": [
    {
     "data": {
      "text/plain": [
       "6.34765625"
      ]
     },
     "execution_count": 19,
     "metadata": {},
     "output_type": "execute_result"
    }
   ],
   "source": [
    "\n",
    "wr_npe.pct_nonzero"
   ]
  },
  {
   "cell_type": "code",
   "execution_count": 20,
   "id": "596e4d87-ec77-4a8b-bbeb-37093e1f7ba0",
   "metadata": {},
   "outputs": [
    {
     "data": {
      "text/plain": [
       "7.2265625"
      ]
     },
     "execution_count": 20,
     "metadata": {},
     "output_type": "execute_result"
    }
   ],
   "source": [
    "wr_pe.pct_nonzero"
   ]
  },
  {
   "cell_type": "markdown",
   "id": "72619551-9aa2-4f88-bf79-4dc904cea3aa",
   "metadata": {},
   "source": [
    "### Neighbors of Location Zero"
   ]
  },
  {
   "cell_type": "code",
   "execution_count": 21,
   "id": "cc07aaa3-f95f-4a6b-b247-cf52a7c02f22",
   "metadata": {},
   "outputs": [
    {
     "data": {
      "text/plain": [
       "[50, 23, 9, 59, 28, 12]"
      ]
     },
     "execution_count": 21,
     "metadata": {},
     "output_type": "execute_result"
    }
   ],
   "source": [
    "# the first location in raw data has two neighbors at locations 10 and 7\n",
    "wr_npe.neighbors[0] "
   ]
  },
  {
   "cell_type": "code",
   "execution_count": 22,
   "id": "31a366d5-dfd1-441f-a265-f29537258b43",
   "metadata": {
    "tags": []
   },
   "outputs": [
    {
     "data": {
      "text/plain": [
       "50     Michigan\n",
       "23      Indiana\n",
       "9     Wisconsin\n",
       "59         None\n",
       "28     Illinois\n",
       "12    Minnesota\n",
       "Name: STATE_NAME, dtype: object"
      ]
     },
     "execution_count": 22,
     "metadata": {},
     "output_type": "execute_result"
    }
   ],
   "source": [
    "npe['STATE_NAME'][[50, 23, 9, 59, 28, 12]] # these are the names"
   ]
  },
  {
   "cell_type": "code",
   "execution_count": 23,
   "id": "b098823c-1624-4b70-83d3-a313b967275f",
   "metadata": {},
   "outputs": [
    {
     "data": {
      "text/plain": [
       "[50, 23, 9, 59, 28, 12]"
      ]
     },
     "execution_count": 23,
     "metadata": {},
     "output_type": "execute_result"
    }
   ],
   "source": [
    "# the first location in clean data three neighbors at locations [50, 23, 9, 59, 28, 12]\n",
    "\n",
    "wr_pe.neighbors[0] "
   ]
  },
  {
   "cell_type": "code",
   "execution_count": 24,
   "id": "f8400b72-0eff-40da-9ce1-3c28bffd0bd3",
   "metadata": {
    "tags": []
   },
   "outputs": [
    {
     "data": {
      "text/plain": [
       "50     Michigan\n",
       "23      Indiana\n",
       "9     Wisconsin\n",
       "59         None\n",
       "28     Illinois\n",
       "12    Minnesota\n",
       "Name: STATE_NAME, dtype: object"
      ]
     },
     "execution_count": 24,
     "metadata": {},
     "output_type": "execute_result"
    }
   ],
   "source": [
    "npe['STATE_NAME'][[50, 23, 9, 59, 28, 12]] # belongs to Canada"
   ]
  },
  {
   "cell_type": "markdown",
   "id": "b2afc2c4-7cb7-4bb9-aad1-8313bed40599",
   "metadata": {},
   "source": [
    "Lets see who are the neighbors for each observation"
   ]
  },
  {
   "cell_type": "markdown",
   "id": "f8a48189-7d51-4d4b-9ab3-ae92b1b5c46b",
   "metadata": {},
   "source": [
    "### Neighbors for Each Observation"
   ]
  },
  {
   "cell_type": "code",
   "execution_count": 25,
   "id": "e000d7f2-b55d-47c4-9c93-fd0cb0e71d2e",
   "metadata": {},
   "outputs": [
    {
     "data": {
      "text/plain": [
       "{0: [50, 23, 9, 59, 28, 12],\n",
       " 1: [50, 59],\n",
       " 2: [59],\n",
       " 3: [10, 13],\n",
       " 4: [8, 10, 6, 7],\n",
       " 5: [14],\n",
       " 6: [4, 12, 7],\n",
       " 7: [17, 4, 6, 8, 12, 15],\n",
       " 8: [32, 17, 4, 7, 25, 10],\n",
       " 9: [0, 50, 28, 12, 15],\n",
       " 10: [3, 4, 8, 25, 13, 24],\n",
       " 11: [16, 18, 14],\n",
       " 12: [0, 6, 7, 9, 15],\n",
       " 13: [24, 26, 10, 3],\n",
       " 14: [16, 11, 5],\n",
       " 15: [17, 36, 7, 9, 12, 28],\n",
       " 16: [18, 20, 21, 11, 14],\n",
       " 17: [32, 34, 36, 7, 8, 15],\n",
       " 18: [16, 19, 20, 22, 11],\n",
       " 19: [18, 22, 27, 29, 30, 31],\n",
       " 20: [16, 18, 21],\n",
       " 21: [16, 20],\n",
       " 22: [18, 19, 29],\n",
       " 23: [0, 33, 50, 27, 28],\n",
       " 24: [10, 37, 25, 26, 13],\n",
       " 25: [32, 37, 8, 24, 10],\n",
       " 26: [24, 13, 37],\n",
       " 27: [33, 50, 19, 23, 30],\n",
       " 28: [0, 33, 36, 23, 9, 15],\n",
       " 29: [19, 22, 31],\n",
       " 30: [33, 19, 35, 27, 31],\n",
       " 31: [19, 35, 29, 30],\n",
       " 32: [17, 34, 38, 8, 25, 42],\n",
       " 33: [35, 36, 23, 40, 27, 28, 30],\n",
       " 34: [32, 17, 36, 38],\n",
       " 35: [33, 39, 40, 30, 31],\n",
       " 36: [33, 34, 38, 40, 15, 47, 17, 28],\n",
       " 37: [24, 25, 26, 42],\n",
       " 38: [32, 34, 36, 41, 42, 47],\n",
       " 39: [40, 35, 45, 46],\n",
       " 40: [33, 35, 36, 39, 43, 44, 45, 47],\n",
       " 41: [48, 42, 38, 47],\n",
       " 42: [32, 41, 37, 38],\n",
       " 43: [40, 49, 44, 45],\n",
       " 44: [48, 40, 43, 47],\n",
       " 45: [49, 39, 40, 43, 46],\n",
       " 46: [45, 39],\n",
       " 47: [48, 36, 38, 40, 41, 44],\n",
       " 48: [41, 44, 47],\n",
       " 49: [43, 45],\n",
       " 50: [0, 1, 23, 9, 27],\n",
       " 51: [56, 52, 62],\n",
       " 52: [56, 51, 63],\n",
       " 53: [58, 59, 62],\n",
       " 54: [57, 61],\n",
       " 55: [61],\n",
       " 56: [51, 52, 58, 62, 63],\n",
       " 57: [54],\n",
       " 58: [56, 61, 53],\n",
       " 59: [0, 1, 2, 53, 61],\n",
       " 60: [],\n",
       " 61: [58, 59, 54, 55],\n",
       " 62: [56, 51, 53],\n",
       " 63: [56, 52]}"
      ]
     },
     "execution_count": 25,
     "metadata": {},
     "output_type": "execute_result"
    }
   ],
   "source": [
    "# neighbors for each observation non planar enforced\n",
    "wr_npe.neighbors"
   ]
  },
  {
   "cell_type": "code",
   "execution_count": 26,
   "id": "b2a8d8fa-a670-4299-aa7f-d84cc97f1b9b",
   "metadata": {},
   "outputs": [
    {
     "data": {
      "text/plain": [
       "{0: [50, 23, 9, 59, 28, 12],\n",
       " 1: [50, 59],\n",
       " 2: [50, 59],\n",
       " 3: [10, 52, 13],\n",
       " 4: [51, 6, 7, 8, 10],\n",
       " 5: [61, 54, 14],\n",
       " 6: [51, 4, 53, 7, 12, 62],\n",
       " 7: [17, 4, 6, 8, 12, 15],\n",
       " 8: [32, 17, 4, 7, 25, 10],\n",
       " 9: [0, 50, 28, 12, 15],\n",
       " 10: [3, 4, 8, 13, 51, 52, 24, 25],\n",
       " 11: [16, 18, 61, 14],\n",
       " 12: [0, 53, 6, 7, 9, 59, 15],\n",
       " 13: [24, 26, 10, 3],\n",
       " 14: [16, 61, 11, 5],\n",
       " 15: [17, 36, 7, 9, 12, 28],\n",
       " 16: [18, 20, 21, 11, 14],\n",
       " 17: [32, 34, 36, 7, 8, 15],\n",
       " 18: [16, 19, 20, 22, 11, 27, 59],\n",
       " 19: [18, 22, 27, 29, 30, 31],\n",
       " 20: [16, 18, 21],\n",
       " 21: [16, 20],\n",
       " 22: [18, 19, 29],\n",
       " 23: [0, 33, 50, 27, 28],\n",
       " 24: [10, 37, 25, 26, 13],\n",
       " 25: [32, 37, 8, 24, 10],\n",
       " 26: [24, 13, 37],\n",
       " 27: [33, 18, 19, 50, 23, 59, 30],\n",
       " 28: [0, 33, 36, 23, 9, 15],\n",
       " 29: [19, 22, 31],\n",
       " 30: [33, 19, 35, 27, 31],\n",
       " 31: [19, 35, 29, 30],\n",
       " 32: [17, 34, 38, 8, 25, 42],\n",
       " 33: [35, 36, 23, 40, 27, 28, 30],\n",
       " 34: [32, 17, 36, 38],\n",
       " 35: [33, 39, 40, 30, 31],\n",
       " 36: [33, 34, 38, 40, 15, 47, 17, 28],\n",
       " 37: [24, 25, 26, 42],\n",
       " 38: [32, 34, 36, 41, 42, 47],\n",
       " 39: [40, 35, 45, 46],\n",
       " 40: [33, 35, 36, 39, 43, 44, 45, 47],\n",
       " 41: [48, 42, 38, 47],\n",
       " 42: [32, 41, 37, 38],\n",
       " 43: [40, 49, 44, 45],\n",
       " 44: [48, 40, 43, 47],\n",
       " 45: [49, 39, 40, 43, 46],\n",
       " 46: [45, 39],\n",
       " 47: [48, 36, 38, 40, 41, 44],\n",
       " 48: [41, 44, 47],\n",
       " 49: [43, 45],\n",
       " 50: [0, 1, 2, 23, 9, 27, 59],\n",
       " 51: [4, 52, 6, 56, 10, 62],\n",
       " 52: [51, 3, 56, 10, 63],\n",
       " 53: [6, 58, 59, 12, 62],\n",
       " 54: [57, 61, 5],\n",
       " 55: [61],\n",
       " 56: [51, 52, 58, 62, 63],\n",
       " 57: [54],\n",
       " 58: [56, 61, 53],\n",
       " 59: [0, 1, 2, 12, 18, 50, 53, 27, 61],\n",
       " 60: [],\n",
       " 61: [5, 54, 55, 59, 58, 11, 14],\n",
       " 62: [56, 51, 53, 6],\n",
       " 63: [56, 52]}"
      ]
     },
     "execution_count": 26,
     "metadata": {},
     "output_type": "execute_result"
    }
   ],
   "source": [
    "# neighbors for each observation planar enforced data\n",
    "wr_pe.neighbors"
   ]
  },
  {
   "cell_type": "markdown",
   "id": "04f7541e-fe27-4288-8603-91c8f716c6b0",
   "metadata": {
    "tags": []
   },
   "source": [
    "### Full Neighbor Matrix"
   ]
  },
  {
   "cell_type": "code",
   "execution_count": 27,
   "id": "0cb7562a-1cbc-4852-be46-6b62d2862992",
   "metadata": {},
   "outputs": [],
   "source": [
    "import pandas as pd"
   ]
  },
  {
   "cell_type": "code",
   "execution_count": 28,
   "id": "bc92d721-4366-42a4-8d99-8c7a320bbe49",
   "metadata": {},
   "outputs": [
    {
     "data": {
      "text/html": [
       "<div>\n",
       "<style scoped>\n",
       "    .dataframe tbody tr th:only-of-type {\n",
       "        vertical-align: middle;\n",
       "    }\n",
       "\n",
       "    .dataframe tbody tr th {\n",
       "        vertical-align: top;\n",
       "    }\n",
       "\n",
       "    .dataframe thead th {\n",
       "        text-align: right;\n",
       "    }\n",
       "</style>\n",
       "<table border=\"1\" class=\"dataframe\">\n",
       "  <thead>\n",
       "    <tr style=\"text-align: right;\">\n",
       "      <th></th>\n",
       "      <th>0</th>\n",
       "      <th>1</th>\n",
       "      <th>2</th>\n",
       "      <th>3</th>\n",
       "      <th>4</th>\n",
       "      <th>5</th>\n",
       "      <th>6</th>\n",
       "      <th>7</th>\n",
       "      <th>8</th>\n",
       "      <th>9</th>\n",
       "      <th>...</th>\n",
       "      <th>54</th>\n",
       "      <th>55</th>\n",
       "      <th>56</th>\n",
       "      <th>57</th>\n",
       "      <th>58</th>\n",
       "      <th>59</th>\n",
       "      <th>60</th>\n",
       "      <th>61</th>\n",
       "      <th>62</th>\n",
       "      <th>63</th>\n",
       "    </tr>\n",
       "  </thead>\n",
       "  <tbody>\n",
       "    <tr>\n",
       "      <th>0</th>\n",
       "      <td>0</td>\n",
       "      <td>0</td>\n",
       "      <td>0</td>\n",
       "      <td>0</td>\n",
       "      <td>0</td>\n",
       "      <td>0</td>\n",
       "      <td>0</td>\n",
       "      <td>0</td>\n",
       "      <td>0</td>\n",
       "      <td>1</td>\n",
       "      <td>...</td>\n",
       "      <td>0</td>\n",
       "      <td>0</td>\n",
       "      <td>0</td>\n",
       "      <td>0</td>\n",
       "      <td>0</td>\n",
       "      <td>1</td>\n",
       "      <td>0</td>\n",
       "      <td>0</td>\n",
       "      <td>0</td>\n",
       "      <td>0</td>\n",
       "    </tr>\n",
       "    <tr>\n",
       "      <th>1</th>\n",
       "      <td>0</td>\n",
       "      <td>0</td>\n",
       "      <td>0</td>\n",
       "      <td>0</td>\n",
       "      <td>0</td>\n",
       "      <td>0</td>\n",
       "      <td>0</td>\n",
       "      <td>0</td>\n",
       "      <td>0</td>\n",
       "      <td>0</td>\n",
       "      <td>...</td>\n",
       "      <td>0</td>\n",
       "      <td>0</td>\n",
       "      <td>0</td>\n",
       "      <td>0</td>\n",
       "      <td>0</td>\n",
       "      <td>1</td>\n",
       "      <td>0</td>\n",
       "      <td>0</td>\n",
       "      <td>0</td>\n",
       "      <td>0</td>\n",
       "    </tr>\n",
       "    <tr>\n",
       "      <th>2</th>\n",
       "      <td>0</td>\n",
       "      <td>0</td>\n",
       "      <td>0</td>\n",
       "      <td>0</td>\n",
       "      <td>0</td>\n",
       "      <td>0</td>\n",
       "      <td>0</td>\n",
       "      <td>0</td>\n",
       "      <td>0</td>\n",
       "      <td>0</td>\n",
       "      <td>...</td>\n",
       "      <td>0</td>\n",
       "      <td>0</td>\n",
       "      <td>0</td>\n",
       "      <td>0</td>\n",
       "      <td>0</td>\n",
       "      <td>1</td>\n",
       "      <td>0</td>\n",
       "      <td>0</td>\n",
       "      <td>0</td>\n",
       "      <td>0</td>\n",
       "    </tr>\n",
       "    <tr>\n",
       "      <th>3</th>\n",
       "      <td>0</td>\n",
       "      <td>0</td>\n",
       "      <td>0</td>\n",
       "      <td>0</td>\n",
       "      <td>0</td>\n",
       "      <td>0</td>\n",
       "      <td>0</td>\n",
       "      <td>0</td>\n",
       "      <td>0</td>\n",
       "      <td>0</td>\n",
       "      <td>...</td>\n",
       "      <td>0</td>\n",
       "      <td>0</td>\n",
       "      <td>0</td>\n",
       "      <td>0</td>\n",
       "      <td>0</td>\n",
       "      <td>0</td>\n",
       "      <td>0</td>\n",
       "      <td>0</td>\n",
       "      <td>0</td>\n",
       "      <td>0</td>\n",
       "    </tr>\n",
       "    <tr>\n",
       "      <th>4</th>\n",
       "      <td>0</td>\n",
       "      <td>0</td>\n",
       "      <td>0</td>\n",
       "      <td>0</td>\n",
       "      <td>0</td>\n",
       "      <td>0</td>\n",
       "      <td>1</td>\n",
       "      <td>1</td>\n",
       "      <td>1</td>\n",
       "      <td>0</td>\n",
       "      <td>...</td>\n",
       "      <td>0</td>\n",
       "      <td>0</td>\n",
       "      <td>0</td>\n",
       "      <td>0</td>\n",
       "      <td>0</td>\n",
       "      <td>0</td>\n",
       "      <td>0</td>\n",
       "      <td>0</td>\n",
       "      <td>0</td>\n",
       "      <td>0</td>\n",
       "    </tr>\n",
       "    <tr>\n",
       "      <th>...</th>\n",
       "      <td>...</td>\n",
       "      <td>...</td>\n",
       "      <td>...</td>\n",
       "      <td>...</td>\n",
       "      <td>...</td>\n",
       "      <td>...</td>\n",
       "      <td>...</td>\n",
       "      <td>...</td>\n",
       "      <td>...</td>\n",
       "      <td>...</td>\n",
       "      <td>...</td>\n",
       "      <td>...</td>\n",
       "      <td>...</td>\n",
       "      <td>...</td>\n",
       "      <td>...</td>\n",
       "      <td>...</td>\n",
       "      <td>...</td>\n",
       "      <td>...</td>\n",
       "      <td>...</td>\n",
       "      <td>...</td>\n",
       "      <td>...</td>\n",
       "    </tr>\n",
       "    <tr>\n",
       "      <th>59</th>\n",
       "      <td>1</td>\n",
       "      <td>1</td>\n",
       "      <td>1</td>\n",
       "      <td>0</td>\n",
       "      <td>0</td>\n",
       "      <td>0</td>\n",
       "      <td>0</td>\n",
       "      <td>0</td>\n",
       "      <td>0</td>\n",
       "      <td>0</td>\n",
       "      <td>...</td>\n",
       "      <td>0</td>\n",
       "      <td>0</td>\n",
       "      <td>0</td>\n",
       "      <td>0</td>\n",
       "      <td>0</td>\n",
       "      <td>0</td>\n",
       "      <td>0</td>\n",
       "      <td>1</td>\n",
       "      <td>0</td>\n",
       "      <td>0</td>\n",
       "    </tr>\n",
       "    <tr>\n",
       "      <th>60</th>\n",
       "      <td>0</td>\n",
       "      <td>0</td>\n",
       "      <td>0</td>\n",
       "      <td>0</td>\n",
       "      <td>0</td>\n",
       "      <td>0</td>\n",
       "      <td>0</td>\n",
       "      <td>0</td>\n",
       "      <td>0</td>\n",
       "      <td>0</td>\n",
       "      <td>...</td>\n",
       "      <td>0</td>\n",
       "      <td>0</td>\n",
       "      <td>0</td>\n",
       "      <td>0</td>\n",
       "      <td>0</td>\n",
       "      <td>0</td>\n",
       "      <td>0</td>\n",
       "      <td>0</td>\n",
       "      <td>0</td>\n",
       "      <td>0</td>\n",
       "    </tr>\n",
       "    <tr>\n",
       "      <th>61</th>\n",
       "      <td>0</td>\n",
       "      <td>0</td>\n",
       "      <td>0</td>\n",
       "      <td>0</td>\n",
       "      <td>0</td>\n",
       "      <td>0</td>\n",
       "      <td>0</td>\n",
       "      <td>0</td>\n",
       "      <td>0</td>\n",
       "      <td>0</td>\n",
       "      <td>...</td>\n",
       "      <td>1</td>\n",
       "      <td>1</td>\n",
       "      <td>0</td>\n",
       "      <td>0</td>\n",
       "      <td>1</td>\n",
       "      <td>1</td>\n",
       "      <td>0</td>\n",
       "      <td>0</td>\n",
       "      <td>0</td>\n",
       "      <td>0</td>\n",
       "    </tr>\n",
       "    <tr>\n",
       "      <th>62</th>\n",
       "      <td>0</td>\n",
       "      <td>0</td>\n",
       "      <td>0</td>\n",
       "      <td>0</td>\n",
       "      <td>0</td>\n",
       "      <td>0</td>\n",
       "      <td>0</td>\n",
       "      <td>0</td>\n",
       "      <td>0</td>\n",
       "      <td>0</td>\n",
       "      <td>...</td>\n",
       "      <td>0</td>\n",
       "      <td>0</td>\n",
       "      <td>1</td>\n",
       "      <td>0</td>\n",
       "      <td>0</td>\n",
       "      <td>0</td>\n",
       "      <td>0</td>\n",
       "      <td>0</td>\n",
       "      <td>0</td>\n",
       "      <td>0</td>\n",
       "    </tr>\n",
       "    <tr>\n",
       "      <th>63</th>\n",
       "      <td>0</td>\n",
       "      <td>0</td>\n",
       "      <td>0</td>\n",
       "      <td>0</td>\n",
       "      <td>0</td>\n",
       "      <td>0</td>\n",
       "      <td>0</td>\n",
       "      <td>0</td>\n",
       "      <td>0</td>\n",
       "      <td>0</td>\n",
       "      <td>...</td>\n",
       "      <td>0</td>\n",
       "      <td>0</td>\n",
       "      <td>1</td>\n",
       "      <td>0</td>\n",
       "      <td>0</td>\n",
       "      <td>0</td>\n",
       "      <td>0</td>\n",
       "      <td>0</td>\n",
       "      <td>0</td>\n",
       "      <td>0</td>\n",
       "    </tr>\n",
       "  </tbody>\n",
       "</table>\n",
       "<p>64 rows × 64 columns</p>\n",
       "</div>"
      ],
      "text/plain": [
       "    0   1   2   3   4   5   6   7   8   9   ...  54  55  56  57  58  59  60  \\\n",
       "0    0   0   0   0   0   0   0   0   0   1  ...   0   0   0   0   0   1   0   \n",
       "1    0   0   0   0   0   0   0   0   0   0  ...   0   0   0   0   0   1   0   \n",
       "2    0   0   0   0   0   0   0   0   0   0  ...   0   0   0   0   0   1   0   \n",
       "3    0   0   0   0   0   0   0   0   0   0  ...   0   0   0   0   0   0   0   \n",
       "4    0   0   0   0   0   0   1   1   1   0  ...   0   0   0   0   0   0   0   \n",
       "..  ..  ..  ..  ..  ..  ..  ..  ..  ..  ..  ...  ..  ..  ..  ..  ..  ..  ..   \n",
       "59   1   1   1   0   0   0   0   0   0   0  ...   0   0   0   0   0   0   0   \n",
       "60   0   0   0   0   0   0   0   0   0   0  ...   0   0   0   0   0   0   0   \n",
       "61   0   0   0   0   0   0   0   0   0   0  ...   1   1   0   0   1   1   0   \n",
       "62   0   0   0   0   0   0   0   0   0   0  ...   0   0   1   0   0   0   0   \n",
       "63   0   0   0   0   0   0   0   0   0   0  ...   0   0   1   0   0   0   0   \n",
       "\n",
       "    61  62  63  \n",
       "0    0   0   0  \n",
       "1    0   0   0  \n",
       "2    0   0   0  \n",
       "3    0   0   0  \n",
       "4    0   0   0  \n",
       "..  ..  ..  ..  \n",
       "59   1   0   0  \n",
       "60   0   0   0  \n",
       "61   0   0   0  \n",
       "62   0   0   0  \n",
       "63   0   0   0  \n",
       "\n",
       "[64 rows x 64 columns]"
      ]
     },
     "execution_count": 28,
     "metadata": {},
     "output_type": "execute_result"
    }
   ],
   "source": [
    "pd.DataFrame(*wr_npe.full()).astype(int) # non planar enforced rook "
   ]
  },
  {
   "cell_type": "code",
   "execution_count": 29,
   "id": "d97ccf88-4f35-4b58-a8b4-949ceb91b915",
   "metadata": {},
   "outputs": [
    {
     "data": {
      "text/html": [
       "<div>\n",
       "<style scoped>\n",
       "    .dataframe tbody tr th:only-of-type {\n",
       "        vertical-align: middle;\n",
       "    }\n",
       "\n",
       "    .dataframe tbody tr th {\n",
       "        vertical-align: top;\n",
       "    }\n",
       "\n",
       "    .dataframe thead th {\n",
       "        text-align: right;\n",
       "    }\n",
       "</style>\n",
       "<table border=\"1\" class=\"dataframe\">\n",
       "  <thead>\n",
       "    <tr style=\"text-align: right;\">\n",
       "      <th></th>\n",
       "      <th>0</th>\n",
       "      <th>1</th>\n",
       "      <th>2</th>\n",
       "      <th>3</th>\n",
       "      <th>4</th>\n",
       "      <th>5</th>\n",
       "      <th>6</th>\n",
       "      <th>7</th>\n",
       "      <th>8</th>\n",
       "      <th>9</th>\n",
       "      <th>...</th>\n",
       "      <th>54</th>\n",
       "      <th>55</th>\n",
       "      <th>56</th>\n",
       "      <th>57</th>\n",
       "      <th>58</th>\n",
       "      <th>59</th>\n",
       "      <th>60</th>\n",
       "      <th>61</th>\n",
       "      <th>62</th>\n",
       "      <th>63</th>\n",
       "    </tr>\n",
       "  </thead>\n",
       "  <tbody>\n",
       "    <tr>\n",
       "      <th>0</th>\n",
       "      <td>0</td>\n",
       "      <td>0</td>\n",
       "      <td>0</td>\n",
       "      <td>0</td>\n",
       "      <td>0</td>\n",
       "      <td>0</td>\n",
       "      <td>0</td>\n",
       "      <td>0</td>\n",
       "      <td>0</td>\n",
       "      <td>1</td>\n",
       "      <td>...</td>\n",
       "      <td>0</td>\n",
       "      <td>0</td>\n",
       "      <td>0</td>\n",
       "      <td>0</td>\n",
       "      <td>0</td>\n",
       "      <td>1</td>\n",
       "      <td>0</td>\n",
       "      <td>0</td>\n",
       "      <td>0</td>\n",
       "      <td>0</td>\n",
       "    </tr>\n",
       "    <tr>\n",
       "      <th>1</th>\n",
       "      <td>0</td>\n",
       "      <td>0</td>\n",
       "      <td>0</td>\n",
       "      <td>0</td>\n",
       "      <td>0</td>\n",
       "      <td>0</td>\n",
       "      <td>0</td>\n",
       "      <td>0</td>\n",
       "      <td>0</td>\n",
       "      <td>0</td>\n",
       "      <td>...</td>\n",
       "      <td>0</td>\n",
       "      <td>0</td>\n",
       "      <td>0</td>\n",
       "      <td>0</td>\n",
       "      <td>0</td>\n",
       "      <td>1</td>\n",
       "      <td>0</td>\n",
       "      <td>0</td>\n",
       "      <td>0</td>\n",
       "      <td>0</td>\n",
       "    </tr>\n",
       "    <tr>\n",
       "      <th>2</th>\n",
       "      <td>0</td>\n",
       "      <td>0</td>\n",
       "      <td>0</td>\n",
       "      <td>0</td>\n",
       "      <td>0</td>\n",
       "      <td>0</td>\n",
       "      <td>0</td>\n",
       "      <td>0</td>\n",
       "      <td>0</td>\n",
       "      <td>0</td>\n",
       "      <td>...</td>\n",
       "      <td>0</td>\n",
       "      <td>0</td>\n",
       "      <td>0</td>\n",
       "      <td>0</td>\n",
       "      <td>0</td>\n",
       "      <td>1</td>\n",
       "      <td>0</td>\n",
       "      <td>0</td>\n",
       "      <td>0</td>\n",
       "      <td>0</td>\n",
       "    </tr>\n",
       "    <tr>\n",
       "      <th>3</th>\n",
       "      <td>0</td>\n",
       "      <td>0</td>\n",
       "      <td>0</td>\n",
       "      <td>0</td>\n",
       "      <td>0</td>\n",
       "      <td>0</td>\n",
       "      <td>0</td>\n",
       "      <td>0</td>\n",
       "      <td>0</td>\n",
       "      <td>0</td>\n",
       "      <td>...</td>\n",
       "      <td>0</td>\n",
       "      <td>0</td>\n",
       "      <td>0</td>\n",
       "      <td>0</td>\n",
       "      <td>0</td>\n",
       "      <td>0</td>\n",
       "      <td>0</td>\n",
       "      <td>0</td>\n",
       "      <td>0</td>\n",
       "      <td>0</td>\n",
       "    </tr>\n",
       "    <tr>\n",
       "      <th>4</th>\n",
       "      <td>0</td>\n",
       "      <td>0</td>\n",
       "      <td>0</td>\n",
       "      <td>0</td>\n",
       "      <td>0</td>\n",
       "      <td>0</td>\n",
       "      <td>1</td>\n",
       "      <td>1</td>\n",
       "      <td>1</td>\n",
       "      <td>0</td>\n",
       "      <td>...</td>\n",
       "      <td>0</td>\n",
       "      <td>0</td>\n",
       "      <td>0</td>\n",
       "      <td>0</td>\n",
       "      <td>0</td>\n",
       "      <td>0</td>\n",
       "      <td>0</td>\n",
       "      <td>0</td>\n",
       "      <td>0</td>\n",
       "      <td>0</td>\n",
       "    </tr>\n",
       "    <tr>\n",
       "      <th>...</th>\n",
       "      <td>...</td>\n",
       "      <td>...</td>\n",
       "      <td>...</td>\n",
       "      <td>...</td>\n",
       "      <td>...</td>\n",
       "      <td>...</td>\n",
       "      <td>...</td>\n",
       "      <td>...</td>\n",
       "      <td>...</td>\n",
       "      <td>...</td>\n",
       "      <td>...</td>\n",
       "      <td>...</td>\n",
       "      <td>...</td>\n",
       "      <td>...</td>\n",
       "      <td>...</td>\n",
       "      <td>...</td>\n",
       "      <td>...</td>\n",
       "      <td>...</td>\n",
       "      <td>...</td>\n",
       "      <td>...</td>\n",
       "      <td>...</td>\n",
       "    </tr>\n",
       "    <tr>\n",
       "      <th>59</th>\n",
       "      <td>1</td>\n",
       "      <td>1</td>\n",
       "      <td>1</td>\n",
       "      <td>0</td>\n",
       "      <td>0</td>\n",
       "      <td>0</td>\n",
       "      <td>0</td>\n",
       "      <td>0</td>\n",
       "      <td>0</td>\n",
       "      <td>0</td>\n",
       "      <td>...</td>\n",
       "      <td>0</td>\n",
       "      <td>0</td>\n",
       "      <td>0</td>\n",
       "      <td>0</td>\n",
       "      <td>0</td>\n",
       "      <td>0</td>\n",
       "      <td>0</td>\n",
       "      <td>1</td>\n",
       "      <td>0</td>\n",
       "      <td>0</td>\n",
       "    </tr>\n",
       "    <tr>\n",
       "      <th>60</th>\n",
       "      <td>0</td>\n",
       "      <td>0</td>\n",
       "      <td>0</td>\n",
       "      <td>0</td>\n",
       "      <td>0</td>\n",
       "      <td>0</td>\n",
       "      <td>0</td>\n",
       "      <td>0</td>\n",
       "      <td>0</td>\n",
       "      <td>0</td>\n",
       "      <td>...</td>\n",
       "      <td>0</td>\n",
       "      <td>0</td>\n",
       "      <td>0</td>\n",
       "      <td>0</td>\n",
       "      <td>0</td>\n",
       "      <td>0</td>\n",
       "      <td>0</td>\n",
       "      <td>0</td>\n",
       "      <td>0</td>\n",
       "      <td>0</td>\n",
       "    </tr>\n",
       "    <tr>\n",
       "      <th>61</th>\n",
       "      <td>0</td>\n",
       "      <td>0</td>\n",
       "      <td>0</td>\n",
       "      <td>0</td>\n",
       "      <td>0</td>\n",
       "      <td>1</td>\n",
       "      <td>0</td>\n",
       "      <td>0</td>\n",
       "      <td>0</td>\n",
       "      <td>0</td>\n",
       "      <td>...</td>\n",
       "      <td>1</td>\n",
       "      <td>1</td>\n",
       "      <td>0</td>\n",
       "      <td>0</td>\n",
       "      <td>1</td>\n",
       "      <td>1</td>\n",
       "      <td>0</td>\n",
       "      <td>0</td>\n",
       "      <td>0</td>\n",
       "      <td>0</td>\n",
       "    </tr>\n",
       "    <tr>\n",
       "      <th>62</th>\n",
       "      <td>0</td>\n",
       "      <td>0</td>\n",
       "      <td>0</td>\n",
       "      <td>0</td>\n",
       "      <td>0</td>\n",
       "      <td>0</td>\n",
       "      <td>1</td>\n",
       "      <td>0</td>\n",
       "      <td>0</td>\n",
       "      <td>0</td>\n",
       "      <td>...</td>\n",
       "      <td>0</td>\n",
       "      <td>0</td>\n",
       "      <td>1</td>\n",
       "      <td>0</td>\n",
       "      <td>0</td>\n",
       "      <td>0</td>\n",
       "      <td>0</td>\n",
       "      <td>0</td>\n",
       "      <td>0</td>\n",
       "      <td>0</td>\n",
       "    </tr>\n",
       "    <tr>\n",
       "      <th>63</th>\n",
       "      <td>0</td>\n",
       "      <td>0</td>\n",
       "      <td>0</td>\n",
       "      <td>0</td>\n",
       "      <td>0</td>\n",
       "      <td>0</td>\n",
       "      <td>0</td>\n",
       "      <td>0</td>\n",
       "      <td>0</td>\n",
       "      <td>0</td>\n",
       "      <td>...</td>\n",
       "      <td>0</td>\n",
       "      <td>0</td>\n",
       "      <td>1</td>\n",
       "      <td>0</td>\n",
       "      <td>0</td>\n",
       "      <td>0</td>\n",
       "      <td>0</td>\n",
       "      <td>0</td>\n",
       "      <td>0</td>\n",
       "      <td>0</td>\n",
       "    </tr>\n",
       "  </tbody>\n",
       "</table>\n",
       "<p>64 rows × 64 columns</p>\n",
       "</div>"
      ],
      "text/plain": [
       "    0   1   2   3   4   5   6   7   8   9   ...  54  55  56  57  58  59  60  \\\n",
       "0    0   0   0   0   0   0   0   0   0   1  ...   0   0   0   0   0   1   0   \n",
       "1    0   0   0   0   0   0   0   0   0   0  ...   0   0   0   0   0   1   0   \n",
       "2    0   0   0   0   0   0   0   0   0   0  ...   0   0   0   0   0   1   0   \n",
       "3    0   0   0   0   0   0   0   0   0   0  ...   0   0   0   0   0   0   0   \n",
       "4    0   0   0   0   0   0   1   1   1   0  ...   0   0   0   0   0   0   0   \n",
       "..  ..  ..  ..  ..  ..  ..  ..  ..  ..  ..  ...  ..  ..  ..  ..  ..  ..  ..   \n",
       "59   1   1   1   0   0   0   0   0   0   0  ...   0   0   0   0   0   0   0   \n",
       "60   0   0   0   0   0   0   0   0   0   0  ...   0   0   0   0   0   0   0   \n",
       "61   0   0   0   0   0   1   0   0   0   0  ...   1   1   0   0   1   1   0   \n",
       "62   0   0   0   0   0   0   1   0   0   0  ...   0   0   1   0   0   0   0   \n",
       "63   0   0   0   0   0   0   0   0   0   0  ...   0   0   1   0   0   0   0   \n",
       "\n",
       "    61  62  63  \n",
       "0    0   0   0  \n",
       "1    0   0   0  \n",
       "2    0   0   0  \n",
       "3    0   0   0  \n",
       "4    0   0   0  \n",
       "..  ..  ..  ..  \n",
       "59   1   0   0  \n",
       "60   0   0   0  \n",
       "61   0   0   0  \n",
       "62   0   0   0  \n",
       "63   0   0   0  \n",
       "\n",
       "[64 rows x 64 columns]"
      ]
     },
     "execution_count": 29,
     "metadata": {},
     "output_type": "execute_result"
    }
   ],
   "source": [
    "pd.DataFrame(*wr_pe.full()).astype(int) # planar enforced rook "
   ]
  },
  {
   "cell_type": "markdown",
   "id": "7415a19a-bec0-43f0-9e84-97adab18b6ab",
   "metadata": {},
   "source": [
    "### Weight Values"
   ]
  },
  {
   "cell_type": "code",
   "execution_count": 30,
   "id": "e05ef83b-520b-4452-bfdd-bae88431d5f1",
   "metadata": {},
   "outputs": [
    {
     "data": {
      "text/plain": [
       "{0: [1.0, 1.0, 1.0, 1.0, 1.0, 1.0],\n",
       " 1: [1.0, 1.0],\n",
       " 2: [1.0],\n",
       " 3: [1.0, 1.0],\n",
       " 4: [1.0, 1.0, 1.0, 1.0],\n",
       " 5: [1.0],\n",
       " 6: [1.0, 1.0, 1.0],\n",
       " 7: [1.0, 1.0, 1.0, 1.0, 1.0, 1.0],\n",
       " 8: [1.0, 1.0, 1.0, 1.0, 1.0, 1.0],\n",
       " 9: [1.0, 1.0, 1.0, 1.0, 1.0],\n",
       " 10: [1.0, 1.0, 1.0, 1.0, 1.0, 1.0],\n",
       " 11: [1.0, 1.0, 1.0],\n",
       " 12: [1.0, 1.0, 1.0, 1.0, 1.0],\n",
       " 13: [1.0, 1.0, 1.0, 1.0],\n",
       " 14: [1.0, 1.0, 1.0],\n",
       " 15: [1.0, 1.0, 1.0, 1.0, 1.0, 1.0],\n",
       " 16: [1.0, 1.0, 1.0, 1.0, 1.0],\n",
       " 17: [1.0, 1.0, 1.0, 1.0, 1.0, 1.0],\n",
       " 18: [1.0, 1.0, 1.0, 1.0, 1.0],\n",
       " 19: [1.0, 1.0, 1.0, 1.0, 1.0, 1.0],\n",
       " 20: [1.0, 1.0, 1.0],\n",
       " 21: [1.0, 1.0],\n",
       " 22: [1.0, 1.0, 1.0],\n",
       " 23: [1.0, 1.0, 1.0, 1.0, 1.0],\n",
       " 24: [1.0, 1.0, 1.0, 1.0, 1.0],\n",
       " 25: [1.0, 1.0, 1.0, 1.0, 1.0],\n",
       " 26: [1.0, 1.0, 1.0],\n",
       " 27: [1.0, 1.0, 1.0, 1.0, 1.0],\n",
       " 28: [1.0, 1.0, 1.0, 1.0, 1.0, 1.0],\n",
       " 29: [1.0, 1.0, 1.0],\n",
       " 30: [1.0, 1.0, 1.0, 1.0, 1.0],\n",
       " 31: [1.0, 1.0, 1.0, 1.0],\n",
       " 32: [1.0, 1.0, 1.0, 1.0, 1.0, 1.0],\n",
       " 33: [1.0, 1.0, 1.0, 1.0, 1.0, 1.0, 1.0],\n",
       " 34: [1.0, 1.0, 1.0, 1.0],\n",
       " 35: [1.0, 1.0, 1.0, 1.0, 1.0],\n",
       " 36: [1.0, 1.0, 1.0, 1.0, 1.0, 1.0, 1.0, 1.0],\n",
       " 37: [1.0, 1.0, 1.0, 1.0],\n",
       " 38: [1.0, 1.0, 1.0, 1.0, 1.0, 1.0],\n",
       " 39: [1.0, 1.0, 1.0, 1.0],\n",
       " 40: [1.0, 1.0, 1.0, 1.0, 1.0, 1.0, 1.0, 1.0],\n",
       " 41: [1.0, 1.0, 1.0, 1.0],\n",
       " 42: [1.0, 1.0, 1.0, 1.0],\n",
       " 43: [1.0, 1.0, 1.0, 1.0],\n",
       " 44: [1.0, 1.0, 1.0, 1.0],\n",
       " 45: [1.0, 1.0, 1.0, 1.0, 1.0],\n",
       " 46: [1.0, 1.0],\n",
       " 47: [1.0, 1.0, 1.0, 1.0, 1.0, 1.0],\n",
       " 48: [1.0, 1.0, 1.0],\n",
       " 49: [1.0, 1.0],\n",
       " 50: [1.0, 1.0, 1.0, 1.0, 1.0],\n",
       " 51: [1.0, 1.0, 1.0],\n",
       " 52: [1.0, 1.0, 1.0],\n",
       " 53: [1.0, 1.0, 1.0],\n",
       " 54: [1.0, 1.0],\n",
       " 55: [1.0],\n",
       " 56: [1.0, 1.0, 1.0, 1.0, 1.0],\n",
       " 57: [1.0],\n",
       " 58: [1.0, 1.0, 1.0],\n",
       " 59: [1.0, 1.0, 1.0, 1.0, 1.0],\n",
       " 60: [],\n",
       " 61: [1.0, 1.0, 1.0, 1.0],\n",
       " 62: [1.0, 1.0, 1.0],\n",
       " 63: [1.0, 1.0]}"
      ]
     },
     "execution_count": 30,
     "metadata": {},
     "output_type": "execute_result"
    }
   ],
   "source": [
    "wr_npe.weights"
   ]
  },
  {
   "cell_type": "code",
   "execution_count": 31,
   "id": "28a2d955-6278-4170-9e51-a3c65e03d704",
   "metadata": {},
   "outputs": [
    {
     "data": {
      "text/plain": [
       "{0: [1.0, 1.0, 1.0, 1.0, 1.0, 1.0],\n",
       " 1: [1.0, 1.0],\n",
       " 2: [1.0, 1.0],\n",
       " 3: [1.0, 1.0, 1.0],\n",
       " 4: [1.0, 1.0, 1.0, 1.0, 1.0],\n",
       " 5: [1.0, 1.0, 1.0],\n",
       " 6: [1.0, 1.0, 1.0, 1.0, 1.0, 1.0],\n",
       " 7: [1.0, 1.0, 1.0, 1.0, 1.0, 1.0],\n",
       " 8: [1.0, 1.0, 1.0, 1.0, 1.0, 1.0],\n",
       " 9: [1.0, 1.0, 1.0, 1.0, 1.0],\n",
       " 10: [1.0, 1.0, 1.0, 1.0, 1.0, 1.0, 1.0, 1.0],\n",
       " 11: [1.0, 1.0, 1.0, 1.0],\n",
       " 12: [1.0, 1.0, 1.0, 1.0, 1.0, 1.0, 1.0],\n",
       " 13: [1.0, 1.0, 1.0, 1.0],\n",
       " 14: [1.0, 1.0, 1.0, 1.0],\n",
       " 15: [1.0, 1.0, 1.0, 1.0, 1.0, 1.0],\n",
       " 16: [1.0, 1.0, 1.0, 1.0, 1.0],\n",
       " 17: [1.0, 1.0, 1.0, 1.0, 1.0, 1.0],\n",
       " 18: [1.0, 1.0, 1.0, 1.0, 1.0, 1.0, 1.0],\n",
       " 19: [1.0, 1.0, 1.0, 1.0, 1.0, 1.0],\n",
       " 20: [1.0, 1.0, 1.0],\n",
       " 21: [1.0, 1.0],\n",
       " 22: [1.0, 1.0, 1.0],\n",
       " 23: [1.0, 1.0, 1.0, 1.0, 1.0],\n",
       " 24: [1.0, 1.0, 1.0, 1.0, 1.0],\n",
       " 25: [1.0, 1.0, 1.0, 1.0, 1.0],\n",
       " 26: [1.0, 1.0, 1.0],\n",
       " 27: [1.0, 1.0, 1.0, 1.0, 1.0, 1.0, 1.0],\n",
       " 28: [1.0, 1.0, 1.0, 1.0, 1.0, 1.0],\n",
       " 29: [1.0, 1.0, 1.0],\n",
       " 30: [1.0, 1.0, 1.0, 1.0, 1.0],\n",
       " 31: [1.0, 1.0, 1.0, 1.0],\n",
       " 32: [1.0, 1.0, 1.0, 1.0, 1.0, 1.0],\n",
       " 33: [1.0, 1.0, 1.0, 1.0, 1.0, 1.0, 1.0],\n",
       " 34: [1.0, 1.0, 1.0, 1.0],\n",
       " 35: [1.0, 1.0, 1.0, 1.0, 1.0],\n",
       " 36: [1.0, 1.0, 1.0, 1.0, 1.0, 1.0, 1.0, 1.0],\n",
       " 37: [1.0, 1.0, 1.0, 1.0],\n",
       " 38: [1.0, 1.0, 1.0, 1.0, 1.0, 1.0],\n",
       " 39: [1.0, 1.0, 1.0, 1.0],\n",
       " 40: [1.0, 1.0, 1.0, 1.0, 1.0, 1.0, 1.0, 1.0],\n",
       " 41: [1.0, 1.0, 1.0, 1.0],\n",
       " 42: [1.0, 1.0, 1.0, 1.0],\n",
       " 43: [1.0, 1.0, 1.0, 1.0],\n",
       " 44: [1.0, 1.0, 1.0, 1.0],\n",
       " 45: [1.0, 1.0, 1.0, 1.0, 1.0],\n",
       " 46: [1.0, 1.0],\n",
       " 47: [1.0, 1.0, 1.0, 1.0, 1.0, 1.0],\n",
       " 48: [1.0, 1.0, 1.0],\n",
       " 49: [1.0, 1.0],\n",
       " 50: [1.0, 1.0, 1.0, 1.0, 1.0, 1.0, 1.0],\n",
       " 51: [1.0, 1.0, 1.0, 1.0, 1.0, 1.0],\n",
       " 52: [1.0, 1.0, 1.0, 1.0, 1.0],\n",
       " 53: [1.0, 1.0, 1.0, 1.0, 1.0],\n",
       " 54: [1.0, 1.0, 1.0],\n",
       " 55: [1.0],\n",
       " 56: [1.0, 1.0, 1.0, 1.0, 1.0],\n",
       " 57: [1.0],\n",
       " 58: [1.0, 1.0, 1.0],\n",
       " 59: [1.0, 1.0, 1.0, 1.0, 1.0, 1.0, 1.0, 1.0, 1.0],\n",
       " 60: [],\n",
       " 61: [1.0, 1.0, 1.0, 1.0, 1.0, 1.0, 1.0],\n",
       " 62: [1.0, 1.0, 1.0, 1.0],\n",
       " 63: [1.0, 1.0]}"
      ]
     },
     "execution_count": 31,
     "metadata": {},
     "output_type": "execute_result"
    }
   ],
   "source": [
    "wr_pe.weights"
   ]
  },
  {
   "cell_type": "markdown",
   "id": "aea4f64a-83e3-49e0-9c1b-73d3964ad712",
   "metadata": {},
   "source": [
    "### Number of Neighbors for Each Observation"
   ]
  },
  {
   "cell_type": "code",
   "execution_count": 32,
   "id": "eca2eafe-0b82-492c-83ae-c05412c2562a",
   "metadata": {},
   "outputs": [
    {
     "data": {
      "text/plain": [
       "{0: 6,\n",
       " 1: 2,\n",
       " 2: 1,\n",
       " 3: 2,\n",
       " 4: 4,\n",
       " 5: 1,\n",
       " 6: 3,\n",
       " 7: 6,\n",
       " 8: 6,\n",
       " 9: 5,\n",
       " 10: 6,\n",
       " 11: 3,\n",
       " 12: 5,\n",
       " 13: 4,\n",
       " 14: 3,\n",
       " 15: 6,\n",
       " 16: 5,\n",
       " 17: 6,\n",
       " 18: 5,\n",
       " 19: 6,\n",
       " 20: 3,\n",
       " 21: 2,\n",
       " 22: 3,\n",
       " 23: 5,\n",
       " 24: 5,\n",
       " 25: 5,\n",
       " 26: 3,\n",
       " 27: 5,\n",
       " 28: 6,\n",
       " 29: 3,\n",
       " 30: 5,\n",
       " 31: 4,\n",
       " 32: 6,\n",
       " 33: 7,\n",
       " 34: 4,\n",
       " 35: 5,\n",
       " 36: 8,\n",
       " 37: 4,\n",
       " 38: 6,\n",
       " 39: 4,\n",
       " 40: 8,\n",
       " 41: 4,\n",
       " 42: 4,\n",
       " 43: 4,\n",
       " 44: 4,\n",
       " 45: 5,\n",
       " 46: 2,\n",
       " 47: 6,\n",
       " 48: 3,\n",
       " 49: 2,\n",
       " 50: 5,\n",
       " 51: 3,\n",
       " 52: 3,\n",
       " 53: 3,\n",
       " 54: 2,\n",
       " 55: 1,\n",
       " 56: 5,\n",
       " 57: 1,\n",
       " 58: 3,\n",
       " 59: 5,\n",
       " 60: 0,\n",
       " 61: 4,\n",
       " 62: 3,\n",
       " 63: 2}"
      ]
     },
     "execution_count": 32,
     "metadata": {},
     "output_type": "execute_result"
    }
   ],
   "source": [
    "# number of neighbors for each observation\n",
    "wr_npe.cardinalities"
   ]
  },
  {
   "cell_type": "code",
   "execution_count": 33,
   "id": "07192095-6a00-4f22-9c55-ff60d1006369",
   "metadata": {},
   "outputs": [
    {
     "data": {
      "text/plain": [
       "{0: 6,\n",
       " 1: 2,\n",
       " 2: 2,\n",
       " 3: 3,\n",
       " 4: 5,\n",
       " 5: 3,\n",
       " 6: 6,\n",
       " 7: 6,\n",
       " 8: 6,\n",
       " 9: 5,\n",
       " 10: 8,\n",
       " 11: 4,\n",
       " 12: 7,\n",
       " 13: 4,\n",
       " 14: 4,\n",
       " 15: 6,\n",
       " 16: 5,\n",
       " 17: 6,\n",
       " 18: 7,\n",
       " 19: 6,\n",
       " 20: 3,\n",
       " 21: 2,\n",
       " 22: 3,\n",
       " 23: 5,\n",
       " 24: 5,\n",
       " 25: 5,\n",
       " 26: 3,\n",
       " 27: 7,\n",
       " 28: 6,\n",
       " 29: 3,\n",
       " 30: 5,\n",
       " 31: 4,\n",
       " 32: 6,\n",
       " 33: 7,\n",
       " 34: 4,\n",
       " 35: 5,\n",
       " 36: 8,\n",
       " 37: 4,\n",
       " 38: 6,\n",
       " 39: 4,\n",
       " 40: 8,\n",
       " 41: 4,\n",
       " 42: 4,\n",
       " 43: 4,\n",
       " 44: 4,\n",
       " 45: 5,\n",
       " 46: 2,\n",
       " 47: 6,\n",
       " 48: 3,\n",
       " 49: 2,\n",
       " 50: 7,\n",
       " 51: 6,\n",
       " 52: 5,\n",
       " 53: 5,\n",
       " 54: 3,\n",
       " 55: 1,\n",
       " 56: 5,\n",
       " 57: 1,\n",
       " 58: 3,\n",
       " 59: 9,\n",
       " 60: 0,\n",
       " 61: 7,\n",
       " 62: 4,\n",
       " 63: 2}"
      ]
     },
     "execution_count": 33,
     "metadata": {},
     "output_type": "execute_result"
    }
   ],
   "source": [
    "wr_pe.cardinalities"
   ]
  },
  {
   "cell_type": "markdown",
   "id": "a3aa538a-294a-49e8-8957-f9625b0a1cdb",
   "metadata": {},
   "source": [
    "### Overview of the Distribution of the Cardinalities"
   ]
  },
  {
   "cell_type": "code",
   "execution_count": 34,
   "id": "38ce4151-b46f-48ab-8962-d448e2d90d8c",
   "metadata": {},
   "outputs": [
    {
     "data": {
      "text/plain": [
       "[(0, 1), (1, 4), (2, 7), (3, 13), (4, 11), (5, 14), (6, 11), (7, 1), (8, 2)]"
      ]
     },
     "execution_count": 34,
     "metadata": {},
     "output_type": "execute_result"
    }
   ],
   "source": [
    "# overview of the distribution of these cardinalities\n",
    "wr_npe.histogram"
   ]
  },
  {
   "cell_type": "code",
   "execution_count": 35,
   "id": "7d8d0e45-b372-4931-a0b4-c73384ec9966",
   "metadata": {},
   "outputs": [
    {
     "data": {
      "text/plain": [
       "[(0, 1),\n",
       " (1, 2),\n",
       " (2, 6),\n",
       " (3, 9),\n",
       " (4, 12),\n",
       " (5, 12),\n",
       " (6, 12),\n",
       " (7, 6),\n",
       " (8, 3),\n",
       " (9, 1)]"
      ]
     },
     "execution_count": 35,
     "metadata": {},
     "output_type": "execute_result"
    }
   ],
   "source": [
    "# overview of the distribution of these cardinalities\n",
    "wr_pe.histogram"
   ]
  },
  {
   "cell_type": "markdown",
   "id": "186b30ad-403f-4d22-971a-e7419bca5890",
   "metadata": {},
   "source": [
    "The cardinalities and histogram attributes help quickly spot asymmetries in the number of neighbors"
   ]
  },
  {
   "cell_type": "code",
   "execution_count": 36,
   "id": "33f4de28-d225-41c3-a564-1c170db95b67",
   "metadata": {
    "tags": []
   },
   "outputs": [
    {
     "data": {
      "image/png": "[encoded data removed]",
      "text/plain": [
       "<Figure size 432x288 with 1 Axes>"
      ]
     },
     "metadata": {
      "needs_background": "light"
     },
     "output_type": "display_data"
    }
   ],
   "source": [
    "pandas.Series(wr_npe.cardinalities).plot.hist(color='k');"
   ]
  },
  {
   "cell_type": "code",
   "execution_count": 37,
   "id": "17c7bf43-b03a-4149-b08e-8add65a9da20",
   "metadata": {},
   "outputs": [
    {
     "data": {
      "image/png": "[encoded data removed]",
      "text/plain": [
       "<Figure size 432x288 with 1 Axes>"
      ]
     },
     "metadata": {
      "needs_background": "light"
     },
     "output_type": "display_data"
    }
   ],
   "source": [
    "pandas.Series(wr_pe.cardinalities).plot.hist(color='k');"
   ]
  },
  {
   "cell_type": "code",
   "execution_count": 38,
   "id": "e73a4f3b-97d7-4fb0-b5b0-4563da161fdf",
   "metadata": {},
   "outputs": [
    {
     "data": {
      "text/plain": [
       "<AxesSubplot:ylabel='Frequency'>"
      ]
     },
     "execution_count": 38,
     "metadata": {},
     "output_type": "execute_result"
    },
    {
     "data": {
      "image/png": "[encoded data removed]",
      "text/plain": [
       "<Figure size 432x288 with 1 Axes>"
      ]
     },
     "metadata": {
      "needs_background": "light"
     },
     "output_type": "display_data"
    }
   ],
   "source": [
    "pandas.Series(wr_pe.cardinalities).plot.hist(color='r', alpha=0.5)\n",
    "pandas.Series(wr_npe.cardinalities).plot.hist(color='b', alpha=0.5)\n",
    "\n"
   ]
  },
  {
   "cell_type": "markdown",
   "id": "0fe1e0bf-ab54-4a90-b535-ec6c636c9675",
   "metadata": {},
   "source": [
    "We can see that the rook neighbors change in the planar enforced data. The red color shows the planar enforced data while the blue shows the neighbors in nonplanar enforced US and Canada shapefile."
   ]
  },
  {
   "cell_type": "code",
   "execution_count": 39,
   "id": "121377a1-7788-4cf7-b254-e6f95f90a56a",
   "metadata": {},
   "outputs": [
    {
     "data": {
      "text/plain": [
       "(-140.0, -60.0, 25.0, 65.0)"
      ]
     },
     "execution_count": 39,
     "metadata": {},
     "output_type": "execute_result"
    },
    {
     "data": {
      "image/png": "[encoded data removed]",
      "text/plain": [
       "<Figure size 1152x1152 with 2 Axes>"
      ]
     },
     "metadata": {
      "needs_background": "light"
     },
     "output_type": "display_data"
    }
   ],
   "source": [
    "import numpy as np\n",
    "f,ax = plt.subplots(1,2,figsize=(16, 16), subplot_kw=dict(aspect='equal'))\n",
    "npe.plot(edgecolor='grey', facecolor='w', ax=ax[0])\n",
    "wr_npe.plot(npe, ax=ax[0],\n",
    "        edge_kws=dict(color='r', linestyle=':', linewidth=1),\n",
    "        node_kws=dict(marker=''))\n",
    "ax[0].set_title('Non Planar Enforced Rook ')\n",
    "ax[0].axis(np.asarray([-140, -60, 25, 65]))\n",
    "\n",
    "ax[0].axis('off')\n",
    "pe.plot(edgecolor='grey', facecolor='w', ax=ax[1])\n",
    "wr_pe.plot(pe, ax=ax[1],\n",
    "        edge_kws=dict(color='r', linestyle=':', linewidth=1),\n",
    "        node_kws=dict(marker=''))\n",
    "ax[1].set_title('Planar Enforced Rook')\n",
    "ax[1].axis('off')\n",
    "ax[1].axis(np.asarray([-140, -60, 25, 65]))"
   ]
  },
  {
   "cell_type": "markdown",
   "id": "8e3cdf6d-4e23-4913-bf19-38bdf93ecdd1",
   "metadata": {},
   "source": [
    "### CASE 2. Queen Contiguity\n",
    "\n",
    "Now we apply the same steps to raw(nonplanar enforced) and clean (planar enforced) data to test queen contiguity."
   ]
  },
  {
   "cell_type": "code",
   "execution_count": 40,
   "id": "c85a42bd-1fcd-4ba0-87b5-df2c8249a84d",
   "metadata": {},
   "outputs": [],
   "source": [
    "wq_npe = Queen.from_dataframe(npe)"
   ]
  },
  {
   "cell_type": "code",
   "execution_count": 41,
   "id": "a7bb27e6-30e5-4281-a469-cc9ae1ebc534",
   "metadata": {},
   "outputs": [],
   "source": [
    "wq_pe= Queen.from_dataframe(pe)"
   ]
  },
  {
   "cell_type": "code",
   "execution_count": 42,
   "id": "6bc03649-a3af-44fa-8a23-b5a426afd716",
   "metadata": {},
   "outputs": [
    {
     "data": {
      "text/plain": [
       "64"
      ]
     },
     "execution_count": 42,
     "metadata": {},
     "output_type": "execute_result"
    }
   ],
   "source": [
    "wq_pe.n"
   ]
  },
  {
   "cell_type": "code",
   "execution_count": 43,
   "id": "5a13e6ca-a203-4eb2-9a87-9f9e3a822f1f",
   "metadata": {},
   "outputs": [
    {
     "data": {
      "text/plain": [
       "64"
      ]
     },
     "execution_count": 43,
     "metadata": {},
     "output_type": "execute_result"
    }
   ],
   "source": [
    "wq_npe.n"
   ]
  },
  {
   "cell_type": "code",
   "execution_count": 44,
   "id": "89cc4709-fc23-49c7-bd9d-1e8cd12e82ef",
   "metadata": {
    "tags": []
   },
   "outputs": [
    {
     "data": {
      "text/plain": [
       "True"
      ]
     },
     "execution_count": 44,
     "metadata": {},
     "output_type": "execute_result"
    }
   ],
   "source": [
    "wq_npe.n == wr_npe.n # queen is same as rook in raw data"
   ]
  },
  {
   "cell_type": "code",
   "execution_count": 45,
   "id": "009d67f0-d062-4aab-95fb-0a6616097d44",
   "metadata": {},
   "outputs": [
    {
     "data": {
      "text/plain": [
       "True"
      ]
     },
     "execution_count": 45,
     "metadata": {},
     "output_type": "execute_result"
    }
   ],
   "source": [
    "wq_pe.n == wr_pe.n # queen is same as rook in raw data"
   ]
  },
  {
   "cell_type": "markdown",
   "id": "44751daa-49c0-46cf-935b-1124cab1c8c0",
   "metadata": {},
   "source": [
    "###  Non-zero entries"
   ]
  },
  {
   "cell_type": "code",
   "execution_count": 46,
   "id": "5d7d08c2-b996-47c3-8fca-64317e4c53b8",
   "metadata": {},
   "outputs": [
    {
     "data": {
      "text/plain": [
       "272"
      ]
     },
     "execution_count": 46,
     "metadata": {},
     "output_type": "execute_result"
    }
   ],
   "source": [
    "# non-zero entries\n",
    "wq_npe.nonzero"
   ]
  },
  {
   "cell_type": "code",
   "execution_count": 47,
   "id": "db04167c-c45d-4c2f-a4ac-f9336db8067e",
   "metadata": {},
   "outputs": [
    {
     "data": {
      "text/plain": [
       "306"
      ]
     },
     "execution_count": 47,
     "metadata": {},
     "output_type": "execute_result"
    }
   ],
   "source": [
    "# non-zero entries\n",
    "wq_pe.nonzero"
   ]
  },
  {
   "cell_type": "markdown",
   "id": "6bcbf9b1-fab4-410a-93d5-d75e9fd5ad4f",
   "metadata": {},
   "source": [
    "### Number of Joins"
   ]
  },
  {
   "cell_type": "code",
   "execution_count": 48,
   "id": "7c4a039e-945d-4244-8dd9-19fa334860ec",
   "metadata": {},
   "outputs": [
    {
     "data": {
      "text/plain": [
       "272.0"
      ]
     },
     "execution_count": 48,
     "metadata": {},
     "output_type": "execute_result"
    }
   ],
   "source": [
    "# number of joins\n",
    "wq_npe.s0"
   ]
  },
  {
   "cell_type": "code",
   "execution_count": 49,
   "id": "52484d61-2d5e-41ce-86e5-e1b4cc06401c",
   "metadata": {
    "tags": []
   },
   "outputs": [
    {
     "data": {
      "text/plain": [
       "306.0"
      ]
     },
     "execution_count": 49,
     "metadata": {},
     "output_type": "execute_result"
    }
   ],
   "source": [
    "# number of joins\n",
    "wq_pe.s0"
   ]
  },
  {
   "cell_type": "markdown",
   "id": "7845e82c-5620-46e7-a004-d1dd2b74db38",
   "metadata": {},
   "source": [
    "### Neighbors for each observation"
   ]
  },
  {
   "cell_type": "code",
   "execution_count": 50,
   "id": "c960e4cf-2ea4-443b-8e1f-4de292783550",
   "metadata": {},
   "outputs": [
    {
     "data": {
      "text/plain": [
       "{0: [50, 23, 9, 59, 12, 28],\n",
       " 1: [50, 59],\n",
       " 2: [50, 59],\n",
       " 3: [10, 52, 13],\n",
       " 4: [51, 6, 7, 8, 10],\n",
       " 5: [61, 54, 14],\n",
       " 6: [51, 4, 53, 7, 12, 62],\n",
       " 7: [17, 4, 6, 8, 12, 15],\n",
       " 8: [32, 17, 4, 7, 25, 10],\n",
       " 9: [0, 50, 28, 12, 15],\n",
       " 10: [3, 4, 8, 13, 51, 52, 24, 25],\n",
       " 11: [16, 18, 61, 14],\n",
       " 12: [0, 53, 6, 7, 9, 59, 15],\n",
       " 13: [24, 10, 26, 3],\n",
       " 14: [16, 61, 11, 5],\n",
       " 15: [17, 36, 7, 9, 12, 28],\n",
       " 16: [18, 20, 21, 11, 14],\n",
       " 17: [32, 34, 36, 7, 8, 15],\n",
       " 18: [59, 11, 16, 19, 20, 22, 27, 61],\n",
       " 19: [18, 22, 27, 29, 30, 31],\n",
       " 20: [16, 18, 21],\n",
       " 21: [16, 20],\n",
       " 22: [18, 19, 29],\n",
       " 23: [0, 33, 50, 27, 28],\n",
       " 24: [26, 37, 25, 10, 13],\n",
       " 25: [32, 42, 37, 8, 24, 10],\n",
       " 26: [24, 13, 37],\n",
       " 27: [33, 18, 19, 50, 23, 59, 30],\n",
       " 28: [0, 33, 36, 23, 9, 15],\n",
       " 29: [19, 22, 31],\n",
       " 30: [33, 19, 35, 27, 31],\n",
       " 31: [35, 19, 29, 30],\n",
       " 32: [17, 34, 37, 38, 8, 25, 42],\n",
       " 33: [35, 36, 23, 40, 27, 28, 30],\n",
       " 34: [32, 17, 36, 38],\n",
       " 35: [33, 39, 40, 30, 31],\n",
       " 36: [33, 34, 38, 40, 15, 47, 17, 28],\n",
       " 37: [32, 42, 24, 25, 26],\n",
       " 38: [32, 34, 36, 41, 42, 47],\n",
       " 39: [40, 35, 45, 46],\n",
       " 40: [33, 35, 36, 39, 43, 44, 45, 47],\n",
       " 41: [48, 42, 38, 47],\n",
       " 42: [32, 37, 38, 25, 41],\n",
       " 43: [40, 49, 44, 45],\n",
       " 44: [48, 40, 43, 47],\n",
       " 45: [49, 39, 40, 43, 46],\n",
       " 46: [45, 39],\n",
       " 47: [48, 36, 38, 40, 41, 44],\n",
       " 48: [41, 44, 47],\n",
       " 49: [43, 45],\n",
       " 50: [0, 1, 2, 23, 27, 9, 59],\n",
       " 51: [4, 52, 6, 56, 10, 62],\n",
       " 52: [51, 3, 56, 10, 63],\n",
       " 53: [6, 56, 58, 59, 12, 62],\n",
       " 54: [57, 61, 5],\n",
       " 55: [61],\n",
       " 56: [51, 52, 53, 58, 62, 63],\n",
       " 57: [54],\n",
       " 58: [56, 61, 53, 62],\n",
       " 59: [0, 1, 2, 12, 50, 18, 53, 27, 61],\n",
       " 60: [],\n",
       " 61: [5, 11, 14, 18, 54, 55, 58, 59],\n",
       " 62: [51, 53, 6, 56, 58],\n",
       " 63: [56, 52]}"
      ]
     },
     "execution_count": 50,
     "metadata": {},
     "output_type": "execute_result"
    }
   ],
   "source": [
    "# neighbors for each observation\n",
    "wq_pe.neighbors"
   ]
  },
  {
   "cell_type": "code",
   "execution_count": 51,
   "id": "ef4bace2-d081-4bfc-9142-bfa65f75dfe8",
   "metadata": {},
   "outputs": [
    {
     "data": {
      "text/plain": [
       "{0: [50, 23, 9, 59, 12, 28],\n",
       " 1: [50, 59],\n",
       " 2: [50, 59],\n",
       " 3: [10, 13],\n",
       " 4: [51, 6, 7, 8, 10],\n",
       " 5: [14],\n",
       " 6: [4, 12, 7],\n",
       " 7: [17, 4, 6, 8, 12, 15],\n",
       " 8: [32, 17, 4, 7, 25, 10],\n",
       " 9: [0, 50, 28, 12, 15],\n",
       " 10: [3, 4, 8, 24, 13, 25],\n",
       " 11: [16, 18, 14],\n",
       " 12: [0, 6, 7, 9, 15],\n",
       " 13: [24, 10, 26, 3],\n",
       " 14: [16, 11, 5],\n",
       " 15: [17, 36, 7, 9, 12, 28],\n",
       " 16: [18, 20, 21, 11, 14],\n",
       " 17: [32, 34, 36, 7, 8, 15],\n",
       " 18: [16, 19, 20, 22, 11],\n",
       " 19: [18, 22, 27, 29, 30, 31],\n",
       " 20: [16, 18, 21],\n",
       " 21: [16, 20],\n",
       " 22: [18, 19, 29],\n",
       " 23: [0, 33, 50, 27, 28],\n",
       " 24: [26, 37, 25, 10, 13],\n",
       " 25: [32, 42, 37, 8, 24, 10],\n",
       " 26: [24, 13, 37],\n",
       " 27: [33, 50, 19, 23, 30],\n",
       " 28: [0, 33, 36, 23, 9, 15],\n",
       " 29: [19, 22, 31],\n",
       " 30: [33, 19, 35, 27, 31],\n",
       " 31: [35, 19, 29, 30],\n",
       " 32: [17, 34, 37, 38, 8, 25, 42],\n",
       " 33: [35, 36, 23, 40, 27, 28, 30],\n",
       " 34: [32, 17, 36, 38],\n",
       " 35: [33, 39, 40, 30, 31],\n",
       " 36: [33, 34, 38, 40, 15, 47, 17, 28],\n",
       " 37: [32, 42, 24, 25, 26],\n",
       " 38: [32, 34, 36, 41, 42, 47],\n",
       " 39: [40, 35, 45, 46],\n",
       " 40: [33, 35, 36, 39, 43, 44, 45, 47],\n",
       " 41: [48, 42, 38, 47],\n",
       " 42: [32, 37, 38, 25, 41],\n",
       " 43: [40, 49, 44, 45],\n",
       " 44: [48, 40, 43, 47],\n",
       " 45: [49, 39, 40, 43, 46],\n",
       " 46: [45, 39],\n",
       " 47: [48, 36, 38, 40, 41, 44],\n",
       " 48: [41, 44, 47],\n",
       " 49: [43, 45],\n",
       " 50: [0, 1, 2, 23, 9, 27],\n",
       " 51: [56, 62, 4, 52],\n",
       " 52: [56, 51, 63],\n",
       " 53: [56, 58, 59, 62],\n",
       " 54: [57, 61],\n",
       " 55: [61],\n",
       " 56: [51, 52, 53, 58, 62, 63],\n",
       " 57: [54],\n",
       " 58: [56, 61, 53, 62],\n",
       " 59: [0, 1, 2, 53, 61],\n",
       " 60: [],\n",
       " 61: [58, 59, 54, 55],\n",
       " 62: [56, 58, 51, 53],\n",
       " 63: [56, 52]}"
      ]
     },
     "execution_count": 51,
     "metadata": {},
     "output_type": "execute_result"
    }
   ],
   "source": [
    "# neighbors for each observation\n",
    "wq_npe.neighbors"
   ]
  },
  {
   "cell_type": "code",
   "execution_count": 52,
   "id": "e3da0866-c4e9-4440-b8f9-f856109b0ac5",
   "metadata": {
    "tags": []
   },
   "outputs": [
    {
     "data": {
      "text/plain": [
       "8                      None\n",
       "13                     None\n",
       "16                     None\n",
       "17                     None\n",
       "19                     None\n",
       "56    Northwest Territories\n",
       "24                     None\n",
       "58                  Nunavut\n",
       "Name: NAME_1, dtype: object"
      ]
     },
     "execution_count": 52,
     "metadata": {},
     "output_type": "execute_result"
    }
   ],
   "source": [
    "pe['NAME_1'][[8, 13, 16, 17, 19, 56, 24, 58]]"
   ]
  },
  {
   "cell_type": "code",
   "execution_count": 53,
   "id": "27c21643-c8b0-4531-9b34-92f01a6e67f7",
   "metadata": {
    "tags": []
   },
   "outputs": [
    {
     "data": {
      "text/plain": [
       "8           Wyoming\n",
       "13           Oregon\n",
       "16    Massachusetts\n",
       "17         Nebraska\n",
       "19     Pennsylvania\n",
       "56             None\n",
       "24           Nevada\n",
       "58             None\n",
       "Name: STATE_NAME, dtype: object"
      ]
     },
     "execution_count": 53,
     "metadata": {},
     "output_type": "execute_result"
    }
   ],
   "source": [
    "pe['STATE_NAME'][[8, 13, 16, 17, 19, 56, 24, 58]]"
   ]
  },
  {
   "cell_type": "code",
   "execution_count": 54,
   "id": "342ddec6-eaa9-42c4-9fa6-1e38bd4e4e2e",
   "metadata": {},
   "outputs": [
    {
     "data": {
      "text/plain": [
       "2        None\n",
       "51       None\n",
       "52       None\n",
       "55       None\n",
       "8     Wyoming\n",
       "56       None\n",
       "11    Vermont\n",
       "Name: STATE_NAME, dtype: object"
      ]
     },
     "execution_count": 54,
     "metadata": {},
     "output_type": "execute_result"
    }
   ],
   "source": [
    "pe['STATE_NAME'][[2, 51, 52, 55, 8, 56, 11]]"
   ]
  },
  {
   "cell_type": "code",
   "execution_count": 55,
   "id": "2aac45bf-80ce-41e3-a747-2f72f768a1a1",
   "metadata": {},
   "outputs": [
    {
     "data": {
      "text/plain": [
       "2                          None\n",
       "51                      Alberta\n",
       "52             British Columbia\n",
       "55    Newfoundland and Labrador\n",
       "8                          None\n",
       "56        Northwest Territories\n",
       "11                         None\n",
       "Name: NAME_1, dtype: object"
      ]
     },
     "execution_count": 55,
     "metadata": {},
     "output_type": "execute_result"
    }
   ],
   "source": [
    "pe['NAME_1'][[2, 51, 52, 55, 8, 56, 11]]"
   ]
  },
  {
   "cell_type": "markdown",
   "id": "15dcf0ff-ba79-466a-b791-2cdf6a8324ec",
   "metadata": {},
   "source": [
    "### Measure of the density of the spatial weights matrix"
   ]
  },
  {
   "cell_type": "code",
   "execution_count": 56,
   "id": "e60ccc23-f7d8-4fa3-a2a7-927ce965ff94",
   "metadata": {},
   "outputs": [
    {
     "data": {
      "text/plain": [
       "6.640625"
      ]
     },
     "execution_count": 56,
     "metadata": {},
     "output_type": "execute_result"
    }
   ],
   "source": [
    "# measure of the density of the spatial weights matrix\n",
    "wq_npe.pct_nonzero\n"
   ]
  },
  {
   "cell_type": "code",
   "execution_count": 57,
   "id": "0d27dc08-c7dc-41a2-9aa8-269369f5154d",
   "metadata": {
    "tags": []
   },
   "outputs": [
    {
     "data": {
      "text/plain": [
       "7.470703125"
      ]
     },
     "execution_count": 57,
     "metadata": {},
     "output_type": "execute_result"
    }
   ],
   "source": [
    "# measure of the density of the spatial weights matrix\n",
    "wq_pe.pct_nonzero"
   ]
  },
  {
   "cell_type": "code",
   "execution_count": 58,
   "id": "bbbe9fab-99c8-44de-9cf9-28f9ab299299",
   "metadata": {},
   "outputs": [
    {
     "data": {
      "text/plain": [
       "True"
      ]
     },
     "execution_count": 58,
     "metadata": {},
     "output_type": "execute_result"
    }
   ],
   "source": [
    "(wq_npe.pct_nonzero > wr_npe.pct_nonzero) == (wq_npe.n == wr_npe.n)"
   ]
  },
  {
   "cell_type": "markdown",
   "id": "263a03a6-da6c-40ae-985f-03af977e139b",
   "metadata": {},
   "source": [
    "### Full neighbor matrix"
   ]
  },
  {
   "cell_type": "code",
   "execution_count": 59,
   "id": "bd25e011-6c0f-4fde-9d33-9849550820f8",
   "metadata": {},
   "outputs": [
    {
     "data": {
      "text/html": [
       "<div>\n",
       "<style scoped>\n",
       "    .dataframe tbody tr th:only-of-type {\n",
       "        vertical-align: middle;\n",
       "    }\n",
       "\n",
       "    .dataframe tbody tr th {\n",
       "        vertical-align: top;\n",
       "    }\n",
       "\n",
       "    .dataframe thead th {\n",
       "        text-align: right;\n",
       "    }\n",
       "</style>\n",
       "<table border=\"1\" class=\"dataframe\">\n",
       "  <thead>\n",
       "    <tr style=\"text-align: right;\">\n",
       "      <th></th>\n",
       "      <th>0</th>\n",
       "      <th>1</th>\n",
       "      <th>2</th>\n",
       "      <th>3</th>\n",
       "      <th>4</th>\n",
       "      <th>5</th>\n",
       "      <th>6</th>\n",
       "      <th>7</th>\n",
       "      <th>8</th>\n",
       "      <th>9</th>\n",
       "      <th>...</th>\n",
       "      <th>54</th>\n",
       "      <th>55</th>\n",
       "      <th>56</th>\n",
       "      <th>57</th>\n",
       "      <th>58</th>\n",
       "      <th>59</th>\n",
       "      <th>60</th>\n",
       "      <th>61</th>\n",
       "      <th>62</th>\n",
       "      <th>63</th>\n",
       "    </tr>\n",
       "  </thead>\n",
       "  <tbody>\n",
       "    <tr>\n",
       "      <th>0</th>\n",
       "      <td>0</td>\n",
       "      <td>0</td>\n",
       "      <td>0</td>\n",
       "      <td>0</td>\n",
       "      <td>0</td>\n",
       "      <td>0</td>\n",
       "      <td>0</td>\n",
       "      <td>0</td>\n",
       "      <td>0</td>\n",
       "      <td>1</td>\n",
       "      <td>...</td>\n",
       "      <td>0</td>\n",
       "      <td>0</td>\n",
       "      <td>0</td>\n",
       "      <td>0</td>\n",
       "      <td>0</td>\n",
       "      <td>1</td>\n",
       "      <td>0</td>\n",
       "      <td>0</td>\n",
       "      <td>0</td>\n",
       "      <td>0</td>\n",
       "    </tr>\n",
       "    <tr>\n",
       "      <th>1</th>\n",
       "      <td>0</td>\n",
       "      <td>0</td>\n",
       "      <td>0</td>\n",
       "      <td>0</td>\n",
       "      <td>0</td>\n",
       "      <td>0</td>\n",
       "      <td>0</td>\n",
       "      <td>0</td>\n",
       "      <td>0</td>\n",
       "      <td>0</td>\n",
       "      <td>...</td>\n",
       "      <td>0</td>\n",
       "      <td>0</td>\n",
       "      <td>0</td>\n",
       "      <td>0</td>\n",
       "      <td>0</td>\n",
       "      <td>1</td>\n",
       "      <td>0</td>\n",
       "      <td>0</td>\n",
       "      <td>0</td>\n",
       "      <td>0</td>\n",
       "    </tr>\n",
       "    <tr>\n",
       "      <th>2</th>\n",
       "      <td>0</td>\n",
       "      <td>0</td>\n",
       "      <td>0</td>\n",
       "      <td>0</td>\n",
       "      <td>0</td>\n",
       "      <td>0</td>\n",
       "      <td>0</td>\n",
       "      <td>0</td>\n",
       "      <td>0</td>\n",
       "      <td>0</td>\n",
       "      <td>...</td>\n",
       "      <td>0</td>\n",
       "      <td>0</td>\n",
       "      <td>0</td>\n",
       "      <td>0</td>\n",
       "      <td>0</td>\n",
       "      <td>1</td>\n",
       "      <td>0</td>\n",
       "      <td>0</td>\n",
       "      <td>0</td>\n",
       "      <td>0</td>\n",
       "    </tr>\n",
       "    <tr>\n",
       "      <th>3</th>\n",
       "      <td>0</td>\n",
       "      <td>0</td>\n",
       "      <td>0</td>\n",
       "      <td>0</td>\n",
       "      <td>0</td>\n",
       "      <td>0</td>\n",
       "      <td>0</td>\n",
       "      <td>0</td>\n",
       "      <td>0</td>\n",
       "      <td>0</td>\n",
       "      <td>...</td>\n",
       "      <td>0</td>\n",
       "      <td>0</td>\n",
       "      <td>0</td>\n",
       "      <td>0</td>\n",
       "      <td>0</td>\n",
       "      <td>0</td>\n",
       "      <td>0</td>\n",
       "      <td>0</td>\n",
       "      <td>0</td>\n",
       "      <td>0</td>\n",
       "    </tr>\n",
       "    <tr>\n",
       "      <th>4</th>\n",
       "      <td>0</td>\n",
       "      <td>0</td>\n",
       "      <td>0</td>\n",
       "      <td>0</td>\n",
       "      <td>0</td>\n",
       "      <td>0</td>\n",
       "      <td>1</td>\n",
       "      <td>1</td>\n",
       "      <td>1</td>\n",
       "      <td>0</td>\n",
       "      <td>...</td>\n",
       "      <td>0</td>\n",
       "      <td>0</td>\n",
       "      <td>0</td>\n",
       "      <td>0</td>\n",
       "      <td>0</td>\n",
       "      <td>0</td>\n",
       "      <td>0</td>\n",
       "      <td>0</td>\n",
       "      <td>0</td>\n",
       "      <td>0</td>\n",
       "    </tr>\n",
       "    <tr>\n",
       "      <th>...</th>\n",
       "      <td>...</td>\n",
       "      <td>...</td>\n",
       "      <td>...</td>\n",
       "      <td>...</td>\n",
       "      <td>...</td>\n",
       "      <td>...</td>\n",
       "      <td>...</td>\n",
       "      <td>...</td>\n",
       "      <td>...</td>\n",
       "      <td>...</td>\n",
       "      <td>...</td>\n",
       "      <td>...</td>\n",
       "      <td>...</td>\n",
       "      <td>...</td>\n",
       "      <td>...</td>\n",
       "      <td>...</td>\n",
       "      <td>...</td>\n",
       "      <td>...</td>\n",
       "      <td>...</td>\n",
       "      <td>...</td>\n",
       "      <td>...</td>\n",
       "    </tr>\n",
       "    <tr>\n",
       "      <th>59</th>\n",
       "      <td>1</td>\n",
       "      <td>1</td>\n",
       "      <td>1</td>\n",
       "      <td>0</td>\n",
       "      <td>0</td>\n",
       "      <td>0</td>\n",
       "      <td>0</td>\n",
       "      <td>0</td>\n",
       "      <td>0</td>\n",
       "      <td>0</td>\n",
       "      <td>...</td>\n",
       "      <td>0</td>\n",
       "      <td>0</td>\n",
       "      <td>0</td>\n",
       "      <td>0</td>\n",
       "      <td>0</td>\n",
       "      <td>0</td>\n",
       "      <td>0</td>\n",
       "      <td>1</td>\n",
       "      <td>0</td>\n",
       "      <td>0</td>\n",
       "    </tr>\n",
       "    <tr>\n",
       "      <th>60</th>\n",
       "      <td>0</td>\n",
       "      <td>0</td>\n",
       "      <td>0</td>\n",
       "      <td>0</td>\n",
       "      <td>0</td>\n",
       "      <td>0</td>\n",
       "      <td>0</td>\n",
       "      <td>0</td>\n",
       "      <td>0</td>\n",
       "      <td>0</td>\n",
       "      <td>...</td>\n",
       "      <td>0</td>\n",
       "      <td>0</td>\n",
       "      <td>0</td>\n",
       "      <td>0</td>\n",
       "      <td>0</td>\n",
       "      <td>0</td>\n",
       "      <td>0</td>\n",
       "      <td>0</td>\n",
       "      <td>0</td>\n",
       "      <td>0</td>\n",
       "    </tr>\n",
       "    <tr>\n",
       "      <th>61</th>\n",
       "      <td>0</td>\n",
       "      <td>0</td>\n",
       "      <td>0</td>\n",
       "      <td>0</td>\n",
       "      <td>0</td>\n",
       "      <td>0</td>\n",
       "      <td>0</td>\n",
       "      <td>0</td>\n",
       "      <td>0</td>\n",
       "      <td>0</td>\n",
       "      <td>...</td>\n",
       "      <td>1</td>\n",
       "      <td>1</td>\n",
       "      <td>0</td>\n",
       "      <td>0</td>\n",
       "      <td>1</td>\n",
       "      <td>1</td>\n",
       "      <td>0</td>\n",
       "      <td>0</td>\n",
       "      <td>0</td>\n",
       "      <td>0</td>\n",
       "    </tr>\n",
       "    <tr>\n",
       "      <th>62</th>\n",
       "      <td>0</td>\n",
       "      <td>0</td>\n",
       "      <td>0</td>\n",
       "      <td>0</td>\n",
       "      <td>0</td>\n",
       "      <td>0</td>\n",
       "      <td>0</td>\n",
       "      <td>0</td>\n",
       "      <td>0</td>\n",
       "      <td>0</td>\n",
       "      <td>...</td>\n",
       "      <td>0</td>\n",
       "      <td>0</td>\n",
       "      <td>1</td>\n",
       "      <td>0</td>\n",
       "      <td>1</td>\n",
       "      <td>0</td>\n",
       "      <td>0</td>\n",
       "      <td>0</td>\n",
       "      <td>0</td>\n",
       "      <td>0</td>\n",
       "    </tr>\n",
       "    <tr>\n",
       "      <th>63</th>\n",
       "      <td>0</td>\n",
       "      <td>0</td>\n",
       "      <td>0</td>\n",
       "      <td>0</td>\n",
       "      <td>0</td>\n",
       "      <td>0</td>\n",
       "      <td>0</td>\n",
       "      <td>0</td>\n",
       "      <td>0</td>\n",
       "      <td>0</td>\n",
       "      <td>...</td>\n",
       "      <td>0</td>\n",
       "      <td>0</td>\n",
       "      <td>1</td>\n",
       "      <td>0</td>\n",
       "      <td>0</td>\n",
       "      <td>0</td>\n",
       "      <td>0</td>\n",
       "      <td>0</td>\n",
       "      <td>0</td>\n",
       "      <td>0</td>\n",
       "    </tr>\n",
       "  </tbody>\n",
       "</table>\n",
       "<p>64 rows × 64 columns</p>\n",
       "</div>"
      ],
      "text/plain": [
       "    0   1   2   3   4   5   6   7   8   9   ...  54  55  56  57  58  59  60  \\\n",
       "0    0   0   0   0   0   0   0   0   0   1  ...   0   0   0   0   0   1   0   \n",
       "1    0   0   0   0   0   0   0   0   0   0  ...   0   0   0   0   0   1   0   \n",
       "2    0   0   0   0   0   0   0   0   0   0  ...   0   0   0   0   0   1   0   \n",
       "3    0   0   0   0   0   0   0   0   0   0  ...   0   0   0   0   0   0   0   \n",
       "4    0   0   0   0   0   0   1   1   1   0  ...   0   0   0   0   0   0   0   \n",
       "..  ..  ..  ..  ..  ..  ..  ..  ..  ..  ..  ...  ..  ..  ..  ..  ..  ..  ..   \n",
       "59   1   1   1   0   0   0   0   0   0   0  ...   0   0   0   0   0   0   0   \n",
       "60   0   0   0   0   0   0   0   0   0   0  ...   0   0   0   0   0   0   0   \n",
       "61   0   0   0   0   0   0   0   0   0   0  ...   1   1   0   0   1   1   0   \n",
       "62   0   0   0   0   0   0   0   0   0   0  ...   0   0   1   0   1   0   0   \n",
       "63   0   0   0   0   0   0   0   0   0   0  ...   0   0   1   0   0   0   0   \n",
       "\n",
       "    61  62  63  \n",
       "0    0   0   0  \n",
       "1    0   0   0  \n",
       "2    0   0   0  \n",
       "3    0   0   0  \n",
       "4    0   0   0  \n",
       "..  ..  ..  ..  \n",
       "59   1   0   0  \n",
       "60   0   0   0  \n",
       "61   0   0   0  \n",
       "62   0   0   0  \n",
       "63   0   0   0  \n",
       "\n",
       "[64 rows x 64 columns]"
      ]
     },
     "execution_count": 59,
     "metadata": {},
     "output_type": "execute_result"
    }
   ],
   "source": [
    "pd.DataFrame(*wq_npe.full()).astype(int)"
   ]
  },
  {
   "cell_type": "code",
   "execution_count": 60,
   "id": "958b1600-e4ce-42e5-b941-393428dfa729",
   "metadata": {},
   "outputs": [
    {
     "data": {
      "text/html": [
       "<div>\n",
       "<style scoped>\n",
       "    .dataframe tbody tr th:only-of-type {\n",
       "        vertical-align: middle;\n",
       "    }\n",
       "\n",
       "    .dataframe tbody tr th {\n",
       "        vertical-align: top;\n",
       "    }\n",
       "\n",
       "    .dataframe thead th {\n",
       "        text-align: right;\n",
       "    }\n",
       "</style>\n",
       "<table border=\"1\" class=\"dataframe\">\n",
       "  <thead>\n",
       "    <tr style=\"text-align: right;\">\n",
       "      <th></th>\n",
       "      <th>0</th>\n",
       "      <th>1</th>\n",
       "      <th>2</th>\n",
       "      <th>3</th>\n",
       "      <th>4</th>\n",
       "      <th>5</th>\n",
       "      <th>6</th>\n",
       "      <th>7</th>\n",
       "      <th>8</th>\n",
       "      <th>9</th>\n",
       "      <th>...</th>\n",
       "      <th>54</th>\n",
       "      <th>55</th>\n",
       "      <th>56</th>\n",
       "      <th>57</th>\n",
       "      <th>58</th>\n",
       "      <th>59</th>\n",
       "      <th>60</th>\n",
       "      <th>61</th>\n",
       "      <th>62</th>\n",
       "      <th>63</th>\n",
       "    </tr>\n",
       "  </thead>\n",
       "  <tbody>\n",
       "    <tr>\n",
       "      <th>0</th>\n",
       "      <td>0</td>\n",
       "      <td>0</td>\n",
       "      <td>0</td>\n",
       "      <td>0</td>\n",
       "      <td>0</td>\n",
       "      <td>0</td>\n",
       "      <td>0</td>\n",
       "      <td>0</td>\n",
       "      <td>0</td>\n",
       "      <td>1</td>\n",
       "      <td>...</td>\n",
       "      <td>0</td>\n",
       "      <td>0</td>\n",
       "      <td>0</td>\n",
       "      <td>0</td>\n",
       "      <td>0</td>\n",
       "      <td>1</td>\n",
       "      <td>0</td>\n",
       "      <td>0</td>\n",
       "      <td>0</td>\n",
       "      <td>0</td>\n",
       "    </tr>\n",
       "    <tr>\n",
       "      <th>1</th>\n",
       "      <td>0</td>\n",
       "      <td>0</td>\n",
       "      <td>0</td>\n",
       "      <td>0</td>\n",
       "      <td>0</td>\n",
       "      <td>0</td>\n",
       "      <td>0</td>\n",
       "      <td>0</td>\n",
       "      <td>0</td>\n",
       "      <td>0</td>\n",
       "      <td>...</td>\n",
       "      <td>0</td>\n",
       "      <td>0</td>\n",
       "      <td>0</td>\n",
       "      <td>0</td>\n",
       "      <td>0</td>\n",
       "      <td>1</td>\n",
       "      <td>0</td>\n",
       "      <td>0</td>\n",
       "      <td>0</td>\n",
       "      <td>0</td>\n",
       "    </tr>\n",
       "    <tr>\n",
       "      <th>2</th>\n",
       "      <td>0</td>\n",
       "      <td>0</td>\n",
       "      <td>0</td>\n",
       "      <td>0</td>\n",
       "      <td>0</td>\n",
       "      <td>0</td>\n",
       "      <td>0</td>\n",
       "      <td>0</td>\n",
       "      <td>0</td>\n",
       "      <td>0</td>\n",
       "      <td>...</td>\n",
       "      <td>0</td>\n",
       "      <td>0</td>\n",
       "      <td>0</td>\n",
       "      <td>0</td>\n",
       "      <td>0</td>\n",
       "      <td>1</td>\n",
       "      <td>0</td>\n",
       "      <td>0</td>\n",
       "      <td>0</td>\n",
       "      <td>0</td>\n",
       "    </tr>\n",
       "    <tr>\n",
       "      <th>3</th>\n",
       "      <td>0</td>\n",
       "      <td>0</td>\n",
       "      <td>0</td>\n",
       "      <td>0</td>\n",
       "      <td>0</td>\n",
       "      <td>0</td>\n",
       "      <td>0</td>\n",
       "      <td>0</td>\n",
       "      <td>0</td>\n",
       "      <td>0</td>\n",
       "      <td>...</td>\n",
       "      <td>0</td>\n",
       "      <td>0</td>\n",
       "      <td>0</td>\n",
       "      <td>0</td>\n",
       "      <td>0</td>\n",
       "      <td>0</td>\n",
       "      <td>0</td>\n",
       "      <td>0</td>\n",
       "      <td>0</td>\n",
       "      <td>0</td>\n",
       "    </tr>\n",
       "    <tr>\n",
       "      <th>4</th>\n",
       "      <td>0</td>\n",
       "      <td>0</td>\n",
       "      <td>0</td>\n",
       "      <td>0</td>\n",
       "      <td>0</td>\n",
       "      <td>0</td>\n",
       "      <td>1</td>\n",
       "      <td>1</td>\n",
       "      <td>1</td>\n",
       "      <td>0</td>\n",
       "      <td>...</td>\n",
       "      <td>0</td>\n",
       "      <td>0</td>\n",
       "      <td>0</td>\n",
       "      <td>0</td>\n",
       "      <td>0</td>\n",
       "      <td>0</td>\n",
       "      <td>0</td>\n",
       "      <td>0</td>\n",
       "      <td>0</td>\n",
       "      <td>0</td>\n",
       "    </tr>\n",
       "    <tr>\n",
       "      <th>...</th>\n",
       "      <td>...</td>\n",
       "      <td>...</td>\n",
       "      <td>...</td>\n",
       "      <td>...</td>\n",
       "      <td>...</td>\n",
       "      <td>...</td>\n",
       "      <td>...</td>\n",
       "      <td>...</td>\n",
       "      <td>...</td>\n",
       "      <td>...</td>\n",
       "      <td>...</td>\n",
       "      <td>...</td>\n",
       "      <td>...</td>\n",
       "      <td>...</td>\n",
       "      <td>...</td>\n",
       "      <td>...</td>\n",
       "      <td>...</td>\n",
       "      <td>...</td>\n",
       "      <td>...</td>\n",
       "      <td>...</td>\n",
       "      <td>...</td>\n",
       "    </tr>\n",
       "    <tr>\n",
       "      <th>59</th>\n",
       "      <td>1</td>\n",
       "      <td>1</td>\n",
       "      <td>1</td>\n",
       "      <td>0</td>\n",
       "      <td>0</td>\n",
       "      <td>0</td>\n",
       "      <td>0</td>\n",
       "      <td>0</td>\n",
       "      <td>0</td>\n",
       "      <td>0</td>\n",
       "      <td>...</td>\n",
       "      <td>0</td>\n",
       "      <td>0</td>\n",
       "      <td>0</td>\n",
       "      <td>0</td>\n",
       "      <td>0</td>\n",
       "      <td>0</td>\n",
       "      <td>0</td>\n",
       "      <td>1</td>\n",
       "      <td>0</td>\n",
       "      <td>0</td>\n",
       "    </tr>\n",
       "    <tr>\n",
       "      <th>60</th>\n",
       "      <td>0</td>\n",
       "      <td>0</td>\n",
       "      <td>0</td>\n",
       "      <td>0</td>\n",
       "      <td>0</td>\n",
       "      <td>0</td>\n",
       "      <td>0</td>\n",
       "      <td>0</td>\n",
       "      <td>0</td>\n",
       "      <td>0</td>\n",
       "      <td>...</td>\n",
       "      <td>0</td>\n",
       "      <td>0</td>\n",
       "      <td>0</td>\n",
       "      <td>0</td>\n",
       "      <td>0</td>\n",
       "      <td>0</td>\n",
       "      <td>0</td>\n",
       "      <td>0</td>\n",
       "      <td>0</td>\n",
       "      <td>0</td>\n",
       "    </tr>\n",
       "    <tr>\n",
       "      <th>61</th>\n",
       "      <td>0</td>\n",
       "      <td>0</td>\n",
       "      <td>0</td>\n",
       "      <td>0</td>\n",
       "      <td>0</td>\n",
       "      <td>1</td>\n",
       "      <td>0</td>\n",
       "      <td>0</td>\n",
       "      <td>0</td>\n",
       "      <td>0</td>\n",
       "      <td>...</td>\n",
       "      <td>1</td>\n",
       "      <td>1</td>\n",
       "      <td>0</td>\n",
       "      <td>0</td>\n",
       "      <td>1</td>\n",
       "      <td>1</td>\n",
       "      <td>0</td>\n",
       "      <td>0</td>\n",
       "      <td>0</td>\n",
       "      <td>0</td>\n",
       "    </tr>\n",
       "    <tr>\n",
       "      <th>62</th>\n",
       "      <td>0</td>\n",
       "      <td>0</td>\n",
       "      <td>0</td>\n",
       "      <td>0</td>\n",
       "      <td>0</td>\n",
       "      <td>0</td>\n",
       "      <td>1</td>\n",
       "      <td>0</td>\n",
       "      <td>0</td>\n",
       "      <td>0</td>\n",
       "      <td>...</td>\n",
       "      <td>0</td>\n",
       "      <td>0</td>\n",
       "      <td>1</td>\n",
       "      <td>0</td>\n",
       "      <td>1</td>\n",
       "      <td>0</td>\n",
       "      <td>0</td>\n",
       "      <td>0</td>\n",
       "      <td>0</td>\n",
       "      <td>0</td>\n",
       "    </tr>\n",
       "    <tr>\n",
       "      <th>63</th>\n",
       "      <td>0</td>\n",
       "      <td>0</td>\n",
       "      <td>0</td>\n",
       "      <td>0</td>\n",
       "      <td>0</td>\n",
       "      <td>0</td>\n",
       "      <td>0</td>\n",
       "      <td>0</td>\n",
       "      <td>0</td>\n",
       "      <td>0</td>\n",
       "      <td>...</td>\n",
       "      <td>0</td>\n",
       "      <td>0</td>\n",
       "      <td>1</td>\n",
       "      <td>0</td>\n",
       "      <td>0</td>\n",
       "      <td>0</td>\n",
       "      <td>0</td>\n",
       "      <td>0</td>\n",
       "      <td>0</td>\n",
       "      <td>0</td>\n",
       "    </tr>\n",
       "  </tbody>\n",
       "</table>\n",
       "<p>64 rows × 64 columns</p>\n",
       "</div>"
      ],
      "text/plain": [
       "    0   1   2   3   4   5   6   7   8   9   ...  54  55  56  57  58  59  60  \\\n",
       "0    0   0   0   0   0   0   0   0   0   1  ...   0   0   0   0   0   1   0   \n",
       "1    0   0   0   0   0   0   0   0   0   0  ...   0   0   0   0   0   1   0   \n",
       "2    0   0   0   0   0   0   0   0   0   0  ...   0   0   0   0   0   1   0   \n",
       "3    0   0   0   0   0   0   0   0   0   0  ...   0   0   0   0   0   0   0   \n",
       "4    0   0   0   0   0   0   1   1   1   0  ...   0   0   0   0   0   0   0   \n",
       "..  ..  ..  ..  ..  ..  ..  ..  ..  ..  ..  ...  ..  ..  ..  ..  ..  ..  ..   \n",
       "59   1   1   1   0   0   0   0   0   0   0  ...   0   0   0   0   0   0   0   \n",
       "60   0   0   0   0   0   0   0   0   0   0  ...   0   0   0   0   0   0   0   \n",
       "61   0   0   0   0   0   1   0   0   0   0  ...   1   1   0   0   1   1   0   \n",
       "62   0   0   0   0   0   0   1   0   0   0  ...   0   0   1   0   1   0   0   \n",
       "63   0   0   0   0   0   0   0   0   0   0  ...   0   0   1   0   0   0   0   \n",
       "\n",
       "    61  62  63  \n",
       "0    0   0   0  \n",
       "1    0   0   0  \n",
       "2    0   0   0  \n",
       "3    0   0   0  \n",
       "4    0   0   0  \n",
       "..  ..  ..  ..  \n",
       "59   1   0   0  \n",
       "60   0   0   0  \n",
       "61   0   0   0  \n",
       "62   0   0   0  \n",
       "63   0   0   0  \n",
       "\n",
       "[64 rows x 64 columns]"
      ]
     },
     "execution_count": 60,
     "metadata": {},
     "output_type": "execute_result"
    }
   ],
   "source": [
    "pd.DataFrame(*wq_pe.full()).astype(int)"
   ]
  },
  {
   "cell_type": "markdown",
   "id": "e59787c3-2212-4891-b5a6-da6136f9dcc7",
   "metadata": {},
   "source": [
    "### Weight values"
   ]
  },
  {
   "cell_type": "code",
   "execution_count": 61,
   "id": "b1aa6928-d594-4cdb-b5f6-30c5ed8dddee",
   "metadata": {},
   "outputs": [
    {
     "data": {
      "text/plain": [
       "{0: [1.0, 1.0, 1.0, 1.0, 1.0, 1.0],\n",
       " 1: [1.0, 1.0],\n",
       " 2: [1.0, 1.0],\n",
       " 3: [1.0, 1.0],\n",
       " 4: [1.0, 1.0, 1.0, 1.0, 1.0],\n",
       " 5: [1.0],\n",
       " 6: [1.0, 1.0, 1.0],\n",
       " 7: [1.0, 1.0, 1.0, 1.0, 1.0, 1.0],\n",
       " 8: [1.0, 1.0, 1.0, 1.0, 1.0, 1.0],\n",
       " 9: [1.0, 1.0, 1.0, 1.0, 1.0],\n",
       " 10: [1.0, 1.0, 1.0, 1.0, 1.0, 1.0],\n",
       " 11: [1.0, 1.0, 1.0],\n",
       " 12: [1.0, 1.0, 1.0, 1.0, 1.0],\n",
       " 13: [1.0, 1.0, 1.0, 1.0],\n",
       " 14: [1.0, 1.0, 1.0],\n",
       " 15: [1.0, 1.0, 1.0, 1.0, 1.0, 1.0],\n",
       " 16: [1.0, 1.0, 1.0, 1.0, 1.0],\n",
       " 17: [1.0, 1.0, 1.0, 1.0, 1.0, 1.0],\n",
       " 18: [1.0, 1.0, 1.0, 1.0, 1.0],\n",
       " 19: [1.0, 1.0, 1.0, 1.0, 1.0, 1.0],\n",
       " 20: [1.0, 1.0, 1.0],\n",
       " 21: [1.0, 1.0],\n",
       " 22: [1.0, 1.0, 1.0],\n",
       " 23: [1.0, 1.0, 1.0, 1.0, 1.0],\n",
       " 24: [1.0, 1.0, 1.0, 1.0, 1.0],\n",
       " 25: [1.0, 1.0, 1.0, 1.0, 1.0, 1.0],\n",
       " 26: [1.0, 1.0, 1.0],\n",
       " 27: [1.0, 1.0, 1.0, 1.0, 1.0],\n",
       " 28: [1.0, 1.0, 1.0, 1.0, 1.0, 1.0],\n",
       " 29: [1.0, 1.0, 1.0],\n",
       " 30: [1.0, 1.0, 1.0, 1.0, 1.0],\n",
       " 31: [1.0, 1.0, 1.0, 1.0],\n",
       " 32: [1.0, 1.0, 1.0, 1.0, 1.0, 1.0, 1.0],\n",
       " 33: [1.0, 1.0, 1.0, 1.0, 1.0, 1.0, 1.0],\n",
       " 34: [1.0, 1.0, 1.0, 1.0],\n",
       " 35: [1.0, 1.0, 1.0, 1.0, 1.0],\n",
       " 36: [1.0, 1.0, 1.0, 1.0, 1.0, 1.0, 1.0, 1.0],\n",
       " 37: [1.0, 1.0, 1.0, 1.0, 1.0],\n",
       " 38: [1.0, 1.0, 1.0, 1.0, 1.0, 1.0],\n",
       " 39: [1.0, 1.0, 1.0, 1.0],\n",
       " 40: [1.0, 1.0, 1.0, 1.0, 1.0, 1.0, 1.0, 1.0],\n",
       " 41: [1.0, 1.0, 1.0, 1.0],\n",
       " 42: [1.0, 1.0, 1.0, 1.0, 1.0],\n",
       " 43: [1.0, 1.0, 1.0, 1.0],\n",
       " 44: [1.0, 1.0, 1.0, 1.0],\n",
       " 45: [1.0, 1.0, 1.0, 1.0, 1.0],\n",
       " 46: [1.0, 1.0],\n",
       " 47: [1.0, 1.0, 1.0, 1.0, 1.0, 1.0],\n",
       " 48: [1.0, 1.0, 1.0],\n",
       " 49: [1.0, 1.0],\n",
       " 50: [1.0, 1.0, 1.0, 1.0, 1.0, 1.0],\n",
       " 51: [1.0, 1.0, 1.0, 1.0],\n",
       " 52: [1.0, 1.0, 1.0],\n",
       " 53: [1.0, 1.0, 1.0, 1.0],\n",
       " 54: [1.0, 1.0],\n",
       " 55: [1.0],\n",
       " 56: [1.0, 1.0, 1.0, 1.0, 1.0, 1.0],\n",
       " 57: [1.0],\n",
       " 58: [1.0, 1.0, 1.0, 1.0],\n",
       " 59: [1.0, 1.0, 1.0, 1.0, 1.0],\n",
       " 60: [],\n",
       " 61: [1.0, 1.0, 1.0, 1.0],\n",
       " 62: [1.0, 1.0, 1.0, 1.0],\n",
       " 63: [1.0, 1.0]}"
      ]
     },
     "execution_count": 61,
     "metadata": {},
     "output_type": "execute_result"
    }
   ],
   "source": [
    "wq_npe.weights"
   ]
  },
  {
   "cell_type": "code",
   "execution_count": 62,
   "id": "682e3f8a-b8f0-46e7-afb7-85c8653af7e9",
   "metadata": {},
   "outputs": [
    {
     "data": {
      "text/plain": [
       "{0: [1.0, 1.0, 1.0, 1.0, 1.0, 1.0],\n",
       " 1: [1.0, 1.0],\n",
       " 2: [1.0, 1.0],\n",
       " 3: [1.0, 1.0, 1.0],\n",
       " 4: [1.0, 1.0, 1.0, 1.0, 1.0],\n",
       " 5: [1.0, 1.0, 1.0],\n",
       " 6: [1.0, 1.0, 1.0, 1.0, 1.0, 1.0],\n",
       " 7: [1.0, 1.0, 1.0, 1.0, 1.0, 1.0],\n",
       " 8: [1.0, 1.0, 1.0, 1.0, 1.0, 1.0],\n",
       " 9: [1.0, 1.0, 1.0, 1.0, 1.0],\n",
       " 10: [1.0, 1.0, 1.0, 1.0, 1.0, 1.0, 1.0, 1.0],\n",
       " 11: [1.0, 1.0, 1.0, 1.0],\n",
       " 12: [1.0, 1.0, 1.0, 1.0, 1.0, 1.0, 1.0],\n",
       " 13: [1.0, 1.0, 1.0, 1.0],\n",
       " 14: [1.0, 1.0, 1.0, 1.0],\n",
       " 15: [1.0, 1.0, 1.0, 1.0, 1.0, 1.0],\n",
       " 16: [1.0, 1.0, 1.0, 1.0, 1.0],\n",
       " 17: [1.0, 1.0, 1.0, 1.0, 1.0, 1.0],\n",
       " 18: [1.0, 1.0, 1.0, 1.0, 1.0, 1.0, 1.0, 1.0],\n",
       " 19: [1.0, 1.0, 1.0, 1.0, 1.0, 1.0],\n",
       " 20: [1.0, 1.0, 1.0],\n",
       " 21: [1.0, 1.0],\n",
       " 22: [1.0, 1.0, 1.0],\n",
       " 23: [1.0, 1.0, 1.0, 1.0, 1.0],\n",
       " 24: [1.0, 1.0, 1.0, 1.0, 1.0],\n",
       " 25: [1.0, 1.0, 1.0, 1.0, 1.0, 1.0],\n",
       " 26: [1.0, 1.0, 1.0],\n",
       " 27: [1.0, 1.0, 1.0, 1.0, 1.0, 1.0, 1.0],\n",
       " 28: [1.0, 1.0, 1.0, 1.0, 1.0, 1.0],\n",
       " 29: [1.0, 1.0, 1.0],\n",
       " 30: [1.0, 1.0, 1.0, 1.0, 1.0],\n",
       " 31: [1.0, 1.0, 1.0, 1.0],\n",
       " 32: [1.0, 1.0, 1.0, 1.0, 1.0, 1.0, 1.0],\n",
       " 33: [1.0, 1.0, 1.0, 1.0, 1.0, 1.0, 1.0],\n",
       " 34: [1.0, 1.0, 1.0, 1.0],\n",
       " 35: [1.0, 1.0, 1.0, 1.0, 1.0],\n",
       " 36: [1.0, 1.0, 1.0, 1.0, 1.0, 1.0, 1.0, 1.0],\n",
       " 37: [1.0, 1.0, 1.0, 1.0, 1.0],\n",
       " 38: [1.0, 1.0, 1.0, 1.0, 1.0, 1.0],\n",
       " 39: [1.0, 1.0, 1.0, 1.0],\n",
       " 40: [1.0, 1.0, 1.0, 1.0, 1.0, 1.0, 1.0, 1.0],\n",
       " 41: [1.0, 1.0, 1.0, 1.0],\n",
       " 42: [1.0, 1.0, 1.0, 1.0, 1.0],\n",
       " 43: [1.0, 1.0, 1.0, 1.0],\n",
       " 44: [1.0, 1.0, 1.0, 1.0],\n",
       " 45: [1.0, 1.0, 1.0, 1.0, 1.0],\n",
       " 46: [1.0, 1.0],\n",
       " 47: [1.0, 1.0, 1.0, 1.0, 1.0, 1.0],\n",
       " 48: [1.0, 1.0, 1.0],\n",
       " 49: [1.0, 1.0],\n",
       " 50: [1.0, 1.0, 1.0, 1.0, 1.0, 1.0, 1.0],\n",
       " 51: [1.0, 1.0, 1.0, 1.0, 1.0, 1.0],\n",
       " 52: [1.0, 1.0, 1.0, 1.0, 1.0],\n",
       " 53: [1.0, 1.0, 1.0, 1.0, 1.0, 1.0],\n",
       " 54: [1.0, 1.0, 1.0],\n",
       " 55: [1.0],\n",
       " 56: [1.0, 1.0, 1.0, 1.0, 1.0, 1.0],\n",
       " 57: [1.0],\n",
       " 58: [1.0, 1.0, 1.0, 1.0],\n",
       " 59: [1.0, 1.0, 1.0, 1.0, 1.0, 1.0, 1.0, 1.0, 1.0],\n",
       " 60: [],\n",
       " 61: [1.0, 1.0, 1.0, 1.0, 1.0, 1.0, 1.0, 1.0],\n",
       " 62: [1.0, 1.0, 1.0, 1.0, 1.0],\n",
       " 63: [1.0, 1.0]}"
      ]
     },
     "execution_count": 62,
     "metadata": {},
     "output_type": "execute_result"
    }
   ],
   "source": [
    "wq_pe.weights"
   ]
  },
  {
   "cell_type": "markdown",
   "id": "4f7673a6-4d87-43f5-9159-7dffb99f4dbd",
   "metadata": {},
   "source": [
    "### Number of neighbors for each observation"
   ]
  },
  {
   "cell_type": "code",
   "execution_count": 63,
   "id": "5a395b98-5a19-4bee-aeb6-17f189cab3d5",
   "metadata": {
    "tags": []
   },
   "outputs": [
    {
     "data": {
      "text/plain": [
       "{0: 6,\n",
       " 1: 2,\n",
       " 2: 2,\n",
       " 3: 2,\n",
       " 4: 5,\n",
       " 5: 1,\n",
       " 6: 3,\n",
       " 7: 6,\n",
       " 8: 6,\n",
       " 9: 5,\n",
       " 10: 6,\n",
       " 11: 3,\n",
       " 12: 5,\n",
       " 13: 4,\n",
       " 14: 3,\n",
       " 15: 6,\n",
       " 16: 5,\n",
       " 17: 6,\n",
       " 18: 5,\n",
       " 19: 6,\n",
       " 20: 3,\n",
       " 21: 2,\n",
       " 22: 3,\n",
       " 23: 5,\n",
       " 24: 5,\n",
       " 25: 6,\n",
       " 26: 3,\n",
       " 27: 5,\n",
       " 28: 6,\n",
       " 29: 3,\n",
       " 30: 5,\n",
       " 31: 4,\n",
       " 32: 7,\n",
       " 33: 7,\n",
       " 34: 4,\n",
       " 35: 5,\n",
       " 36: 8,\n",
       " 37: 5,\n",
       " 38: 6,\n",
       " 39: 4,\n",
       " 40: 8,\n",
       " 41: 4,\n",
       " 42: 5,\n",
       " 43: 4,\n",
       " 44: 4,\n",
       " 45: 5,\n",
       " 46: 2,\n",
       " 47: 6,\n",
       " 48: 3,\n",
       " 49: 2,\n",
       " 50: 6,\n",
       " 51: 4,\n",
       " 52: 3,\n",
       " 53: 4,\n",
       " 54: 2,\n",
       " 55: 1,\n",
       " 56: 6,\n",
       " 57: 1,\n",
       " 58: 4,\n",
       " 59: 5,\n",
       " 60: 0,\n",
       " 61: 4,\n",
       " 62: 4,\n",
       " 63: 2}"
      ]
     },
     "execution_count": 63,
     "metadata": {},
     "output_type": "execute_result"
    }
   ],
   "source": [
    "# number of neighbors for each observation\n",
    "wq_npe.cardinalities"
   ]
  },
  {
   "cell_type": "code",
   "execution_count": 64,
   "id": "825b3a3e-abef-4ce2-80b0-5b797a08b5a9",
   "metadata": {},
   "outputs": [
    {
     "data": {
      "text/plain": [
       "{0: 6,\n",
       " 1: 2,\n",
       " 2: 2,\n",
       " 3: 3,\n",
       " 4: 5,\n",
       " 5: 3,\n",
       " 6: 6,\n",
       " 7: 6,\n",
       " 8: 6,\n",
       " 9: 5,\n",
       " 10: 8,\n",
       " 11: 4,\n",
       " 12: 7,\n",
       " 13: 4,\n",
       " 14: 4,\n",
       " 15: 6,\n",
       " 16: 5,\n",
       " 17: 6,\n",
       " 18: 8,\n",
       " 19: 6,\n",
       " 20: 3,\n",
       " 21: 2,\n",
       " 22: 3,\n",
       " 23: 5,\n",
       " 24: 5,\n",
       " 25: 6,\n",
       " 26: 3,\n",
       " 27: 7,\n",
       " 28: 6,\n",
       " 29: 3,\n",
       " 30: 5,\n",
       " 31: 4,\n",
       " 32: 7,\n",
       " 33: 7,\n",
       " 34: 4,\n",
       " 35: 5,\n",
       " 36: 8,\n",
       " 37: 5,\n",
       " 38: 6,\n",
       " 39: 4,\n",
       " 40: 8,\n",
       " 41: 4,\n",
       " 42: 5,\n",
       " 43: 4,\n",
       " 44: 4,\n",
       " 45: 5,\n",
       " 46: 2,\n",
       " 47: 6,\n",
       " 48: 3,\n",
       " 49: 2,\n",
       " 50: 7,\n",
       " 51: 6,\n",
       " 52: 5,\n",
       " 53: 6,\n",
       " 54: 3,\n",
       " 55: 1,\n",
       " 56: 6,\n",
       " 57: 1,\n",
       " 58: 4,\n",
       " 59: 9,\n",
       " 60: 0,\n",
       " 61: 8,\n",
       " 62: 5,\n",
       " 63: 2}"
      ]
     },
     "execution_count": 64,
     "metadata": {},
     "output_type": "execute_result"
    }
   ],
   "source": [
    "# number of neighbors for each observation\n",
    "wq_pe.cardinalities"
   ]
  },
  {
   "cell_type": "markdown",
   "id": "c7a28eaa-0e53-4bf0-9f6b-ef97e90f70cf",
   "metadata": {},
   "source": [
    "### Overview of the distribution of these cardinalities"
   ]
  },
  {
   "cell_type": "code",
   "execution_count": 65,
   "id": "8d9f6a2e-bcfb-4dda-9542-5fee76407e83",
   "metadata": {},
   "outputs": [
    {
     "data": {
      "text/plain": [
       "[(0, 1), (1, 3), (2, 8), (3, 9), (4, 12), (5, 14), (6, 13), (7, 2), (8, 2)]"
      ]
     },
     "execution_count": 65,
     "metadata": {},
     "output_type": "execute_result"
    }
   ],
   "source": [
    "# overview of the distribution of these cardinalities\n",
    "wq_npe.histogram"
   ]
  },
  {
   "cell_type": "code",
   "execution_count": 66,
   "id": "3088dd97-d85b-4541-8009-b84e36fd7ace",
   "metadata": {},
   "outputs": [
    {
     "data": {
      "text/plain": [
       "[(0, 1),\n",
       " (1, 2),\n",
       " (2, 6),\n",
       " (3, 8),\n",
       " (4, 10),\n",
       " (5, 12),\n",
       " (6, 14),\n",
       " (7, 5),\n",
       " (8, 5),\n",
       " (9, 1)]"
      ]
     },
     "execution_count": 66,
     "metadata": {},
     "output_type": "execute_result"
    }
   ],
   "source": [
    "# overview of the distribution of these cardinalities\n",
    "wq_pe.histogram"
   ]
  },
  {
   "cell_type": "code",
   "execution_count": 67,
   "id": "21fa818b-79a9-483a-a213-8cfde403cfc5",
   "metadata": {},
   "outputs": [
    {
     "data": {
      "image/png": "[encoded data removed]",
      "text/plain": [
       "<Figure size 432x288 with 1 Axes>"
      ]
     },
     "metadata": {
      "needs_background": "light"
     },
     "output_type": "display_data"
    }
   ],
   "source": [
    "pandas.Series(wq_npe.cardinalities).plot.hist(color='k');"
   ]
  },
  {
   "cell_type": "code",
   "execution_count": 68,
   "id": "4fed8d3b-febf-4692-8604-c256bc06abb8",
   "metadata": {},
   "outputs": [
    {
     "data": {
      "image/png": "[encoded data removed]",
      "text/plain": [
       "<Figure size 432x288 with 1 Axes>"
      ]
     },
     "metadata": {
      "needs_background": "light"
     },
     "output_type": "display_data"
    }
   ],
   "source": [
    "pandas.Series(wq_pe.cardinalities).plot.hist(color='k'); # clean data Queens neighbors"
   ]
  },
  {
   "cell_type": "code",
   "execution_count": 75,
   "id": "00b81459-61c8-48f5-aa2b-c04f74272fd4",
   "metadata": {},
   "outputs": [
    {
     "data": {
      "text/plain": [
       "<AxesSubplot:ylabel='Frequency'>"
      ]
     },
     "execution_count": 75,
     "metadata": {},
     "output_type": "execute_result"
    },
    {
     "data": {
      "image/png": "[encoded data removed]",
      "text/plain": [
       "<Figure size 432x288 with 1 Axes>"
      ]
     },
     "metadata": {
      "needs_background": "light"
     },
     "output_type": "display_data"
    }
   ],
   "source": [
    "pandas.Series(wq_pe.cardinalities).plot.hist(color='b',alpha=0.5)\n",
    "pandas.Series(wq_npe.cardinalities).plot.hist(color='r',alpha=0.5)\n"
   ]
  },
  {
   "cell_type": "markdown",
   "id": "b2a9e114-4780-4c2f-a300-fa15a369a3d4",
   "metadata": {},
   "source": [
    "The blue bars represent the data after application of geoplanar and the red bars represent queen neighbors of the before we fixed the issues. \n",
    "\n"
   ]
  },
  {
   "cell_type": "code",
   "execution_count": 70,
   "id": "05af9884-d592-41b0-99dd-366af338d7ec",
   "metadata": {},
   "outputs": [],
   "source": [
    "c9 = [idx for idx,c in wq_npe.cardinalities.items() if c==9]"
   ]
  },
  {
   "cell_type": "code",
   "execution_count": 71,
   "id": "11bd4d02-efc9-4e5c-96aa-b7d70279a165",
   "metadata": {},
   "outputs": [
    {
     "data": {
      "text/plain": [
       "'Michigan'"
      ]
     },
     "execution_count": 71,
     "metadata": {},
     "output_type": "execute_result"
    }
   ],
   "source": [
    "npe['STATE_NAME'][50]"
   ]
  },
  {
   "cell_type": "code",
   "execution_count": 72,
   "id": "971a68a8-0256-4758-9576-060dde8c999f",
   "metadata": {},
   "outputs": [
    {
     "data": {
      "text/plain": [
       "[0, 1, 23, 9, 27]"
      ]
     },
     "execution_count": 72,
     "metadata": {},
     "output_type": "execute_result"
    }
   ],
   "source": [
    "wr_npe.neighbors[50]"
   ]
  },
  {
   "cell_type": "code",
   "execution_count": 73,
   "id": "4514dcd2-00f8-403a-8f3a-441c3976b42f",
   "metadata": {},
   "outputs": [
    {
     "data": {
      "text/plain": [
       "[0, 1, 2, 23, 27, 9, 59]"
      ]
     },
     "execution_count": 73,
     "metadata": {},
     "output_type": "execute_result"
    }
   ],
   "source": [
    "wq_pe.neighbors[50]"
   ]
  },
  {
   "cell_type": "code",
   "execution_count": 74,
   "id": "31c00940-deee-4f15-8532-a4c6f967e1f5",
   "metadata": {},
   "outputs": [
    {
     "data": {
      "text/plain": [
       "(-140.0, -70.0, 25.0, 70.0)"
      ]
     },
     "execution_count": 74,
     "metadata": {},
     "output_type": "execute_result"
    },
    {
     "data": {
      "image/png": "[encoded data removed]",
      "text/plain": [
       "<Figure size 1152x1152 with 2 Axes>"
      ]
     },
     "metadata": {
      "needs_background": "light"
     },
     "output_type": "display_data"
    }
   ],
   "source": [
    "import numpy as np\n",
    "f,ax = plt.subplots(1,2,figsize=(16, 16), subplot_kw=dict(aspect='equal'))\n",
    "npe.plot(edgecolor='grey', facecolor='w', ax=ax[0])\n",
    "wq_npe.plot(npe, ax=ax[0],\n",
    "        edge_kws=dict(color='r', linestyle=':', linewidth=1),\n",
    "        node_kws=dict(marker=''))\n",
    "ax[0].set_title('Non Planar Enforced Queen')\n",
    "ax[0].axis(np.asarray([-140, -70, 25, 70]))\n",
    "\n",
    "ax[0].axis('off')\n",
    "pe.plot(edgecolor='grey', facecolor='w', ax=ax[1])\n",
    "wq_pe.plot(pe, ax=ax[1],\n",
    "        edge_kws=dict(color='b', linestyle=':', linewidth=1),\n",
    "        node_kws=dict(marker=''))\n",
    "ax[1].set_title('Planar Enforced Queen')\n",
    "ax[1].axis('off')\n",
    "ax[1].axis(np.asarray([-140, -70, 25, 70]))"
   ]
  },
  {
   "cell_type": "markdown",
   "id": "a71d068c-881f-4adb-8c2f-b366317972c3",
   "metadata": {},
   "source": [
    "These maps show Queen Contiguity for both clean and raw Data."
   ]
  }
 ],
 "metadata": {
  "kernelspec": {
   "display_name": "Python 3 (ipykernel)",
   "language": "python",
   "name": "python3"
  },
  "language_info": {
   "codemirror_mode": {
    "name": "ipython",
    "version": 3
   },
   "file_extension": ".py",
   "mimetype": "text/x-python",
   "name": "python",
   "nbconvert_exporter": "python",
   "pygments_lexer": "ipython3",
   "version": "3.7.12"
  }
 },
 "nbformat": 4,
 "nbformat_minor": 5
}
