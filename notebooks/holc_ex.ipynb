{
 "cells": [
  {
   "cell_type": "markdown",
   "id": "d8b70256-9398-409d-8953-b139a367d494",
   "metadata": {},
   "source": [
    "#  `geoplanar` & holc"
   ]
  },
  {
   "cell_type": "code",
   "execution_count": 1,
   "id": "eb7b2ccb-12a8-49c3-896f-0c5cef25eb53",
   "metadata": {},
   "outputs": [],
   "source": [
    "import geoplanar\n",
    "import geopandas as gpd"
   ]
  },
  {
   "cell_type": "code",
   "execution_count": 2,
   "id": "f9760743-87a6-4847-bdba-f3beca5ce43d",
   "metadata": {},
   "outputs": [],
   "source": [
    "us = gpd.read_file('/Users/ecv/projects/geoplanar/geoplanar/datasets/holc/fullDownload.geojson')"
   ]
  },
  {
   "cell_type": "code",
   "execution_count": 3,
   "id": "ef9aebea-2322-47ff-b00d-8d52229fc229",
   "metadata": {},
   "outputs": [
    {
     "data": {
      "text/plain": [
       "<AxesSubplot:>"
      ]
     },
     "execution_count": 3,
     "metadata": {},
     "output_type": "execute_result"
    },
    {
     "data": {
      "image/png": "[encoded data removed]",
      "text/plain": [
       "<Figure size 432x288 with 1 Axes>"
      ]
     },
     "metadata": {
      "needs_background": "light"
     },
     "output_type": "display_data"
    }
   ],
   "source": [
    "us.plot()"
   ]
  },
  {
   "cell_type": "code",
   "execution_count": 4,
   "id": "64c829d8-cafd-41bd-9072-066efcff140a",
   "metadata": {},
   "outputs": [
    {
     "data": {
      "text/html": [
       "<div>\n",
       "<style scoped>\n",
       "    .dataframe tbody tr th:only-of-type {\n",
       "        vertical-align: middle;\n",
       "    }\n",
       "\n",
       "    .dataframe tbody tr th {\n",
       "        vertical-align: top;\n",
       "    }\n",
       "\n",
       "    .dataframe thead th {\n",
       "        text-align: right;\n",
       "    }\n",
       "</style>\n",
       "<table border=\"1\" class=\"dataframe\">\n",
       "  <thead>\n",
       "    <tr style=\"text-align: right;\">\n",
       "      <th></th>\n",
       "      <th>state</th>\n",
       "      <th>city</th>\n",
       "      <th>name</th>\n",
       "      <th>holc_id</th>\n",
       "      <th>holc_grade</th>\n",
       "      <th>area_description_data</th>\n",
       "      <th>geometry</th>\n",
       "    </tr>\n",
       "  </thead>\n",
       "  <tbody>\n",
       "    <tr>\n",
       "      <th>0</th>\n",
       "      <td>AL</td>\n",
       "      <td>Birmingham</td>\n",
       "      <td>Mountain Brook Estates and Country Club Garden...</td>\n",
       "      <td>A1</td>\n",
       "      <td>A</td>\n",
       "      <td>{'5': 'Both sales and rental prices in 1929 we...</td>\n",
       "      <td>MULTIPOLYGON (((-86.75678 33.49754, -86.75692 ...</td>\n",
       "    </tr>\n",
       "    <tr>\n",
       "      <th>1</th>\n",
       "      <td>AL</td>\n",
       "      <td>Birmingham</td>\n",
       "      <td>Redmont Park, Rockridge Park, Warwick Manor, a...</td>\n",
       "      <td>A2</td>\n",
       "      <td>A</td>\n",
       "      <td>{'5': 'Both sales and rental prices in 1929 we...</td>\n",
       "      <td>MULTIPOLYGON (((-86.75867 33.50933, -86.76093 ...</td>\n",
       "    </tr>\n",
       "    <tr>\n",
       "      <th>2</th>\n",
       "      <td>AL</td>\n",
       "      <td>Birmingham</td>\n",
       "      <td>Colonial Hills, Pine Crest (outside city limits)</td>\n",
       "      <td>A3</td>\n",
       "      <td>A</td>\n",
       "      <td>{'5': 'Generally speaking, houses are not buil...</td>\n",
       "      <td>MULTIPOLYGON (((-86.75678 33.49754, -86.75196 ...</td>\n",
       "    </tr>\n",
       "    <tr>\n",
       "      <th>3</th>\n",
       "      <td>AL</td>\n",
       "      <td>Birmingham</td>\n",
       "      <td>Grove Park, Hollywood, Mayfair, and Edgewood s...</td>\n",
       "      <td>B1</td>\n",
       "      <td>B</td>\n",
       "      <td>{'5': 'Both sales and rental prices in 1929 we...</td>\n",
       "      <td>MULTIPOLYGON (((-86.80111 33.48071, -86.80099 ...</td>\n",
       "    </tr>\n",
       "    <tr>\n",
       "      <th>4</th>\n",
       "      <td>AL</td>\n",
       "      <td>Birmingham</td>\n",
       "      <td>Best section of Woodlawn Highlands</td>\n",
       "      <td>B10</td>\n",
       "      <td>B</td>\n",
       "      <td>{'5': 'Both sales and rental prices in 1929 we...</td>\n",
       "      <td>MULTIPOLYGON (((-86.74923 33.53332, -86.74916 ...</td>\n",
       "    </tr>\n",
       "  </tbody>\n",
       "</table>\n",
       "</div>"
      ],
      "text/plain": [
       "  state        city                                               name  \\\n",
       "0    AL  Birmingham  Mountain Brook Estates and Country Club Garden...   \n",
       "1    AL  Birmingham  Redmont Park, Rockridge Park, Warwick Manor, a...   \n",
       "2    AL  Birmingham   Colonial Hills, Pine Crest (outside city limits)   \n",
       "3    AL  Birmingham  Grove Park, Hollywood, Mayfair, and Edgewood s...   \n",
       "4    AL  Birmingham                 Best section of Woodlawn Highlands   \n",
       "\n",
       "  holc_id holc_grade                              area_description_data  \\\n",
       "0      A1          A  {'5': 'Both sales and rental prices in 1929 we...   \n",
       "1      A2          A  {'5': 'Both sales and rental prices in 1929 we...   \n",
       "2      A3          A  {'5': 'Generally speaking, houses are not buil...   \n",
       "3      B1          B  {'5': 'Both sales and rental prices in 1929 we...   \n",
       "4     B10          B  {'5': 'Both sales and rental prices in 1929 we...   \n",
       "\n",
       "                                            geometry  \n",
       "0  MULTIPOLYGON (((-86.75678 33.49754, -86.75692 ...  \n",
       "1  MULTIPOLYGON (((-86.75867 33.50933, -86.76093 ...  \n",
       "2  MULTIPOLYGON (((-86.75678 33.49754, -86.75196 ...  \n",
       "3  MULTIPOLYGON (((-86.80111 33.48071, -86.80099 ...  \n",
       "4  MULTIPOLYGON (((-86.74923 33.53332, -86.74916 ...  "
      ]
     },
     "execution_count": 4,
     "metadata": {},
     "output_type": "execute_result"
    }
   ],
   "source": [
    "us.head()"
   ]
  },
  {
   "cell_type": "code",
   "execution_count": 5,
   "id": "c9a0999a-4191-4efa-a2bd-b0c62916fb99",
   "metadata": {},
   "outputs": [
    {
     "data": {
      "text/plain": [
       "(7502, 7)"
      ]
     },
     "execution_count": 5,
     "metadata": {},
     "output_type": "execute_result"
    }
   ],
   "source": [
    "us.shape"
   ]
  },
  {
   "cell_type": "code",
   "execution_count": 6,
   "id": "8cfb47d5-f848-49a2-b77d-0e98a4bc2e28",
   "metadata": {},
   "outputs": [
    {
     "data": {
      "text/html": [
       "<div>\n",
       "<style scoped>\n",
       "    .dataframe tbody tr th:only-of-type {\n",
       "        vertical-align: middle;\n",
       "    }\n",
       "\n",
       "    .dataframe tbody tr th {\n",
       "        vertical-align: top;\n",
       "    }\n",
       "\n",
       "    .dataframe thead th {\n",
       "        text-align: right;\n",
       "    }\n",
       "</style>\n",
       "<table border=\"1\" class=\"dataframe\">\n",
       "  <thead>\n",
       "    <tr style=\"text-align: right;\">\n",
       "      <th></th>\n",
       "      <th>state</th>\n",
       "      <th>city</th>\n",
       "      <th>name</th>\n",
       "      <th>holc_id</th>\n",
       "      <th>holc_grade</th>\n",
       "      <th>area_description_data</th>\n",
       "      <th>geometry</th>\n",
       "    </tr>\n",
       "  </thead>\n",
       "  <tbody>\n",
       "    <tr>\n",
       "      <th>7497</th>\n",
       "      <td>WV</td>\n",
       "      <td>Wheeling</td>\n",
       "      <td>None</td>\n",
       "      <td>D4</td>\n",
       "      <td>D</td>\n",
       "      <td>{'0': 'Wheeling, W.Va.', '5': 'This area inclu...</td>\n",
       "      <td>MULTIPOLYGON (((-80.71985 40.06376, -80.71788 ...</td>\n",
       "    </tr>\n",
       "    <tr>\n",
       "      <th>7498</th>\n",
       "      <td>WV</td>\n",
       "      <td>Wheeling</td>\n",
       "      <td>None</td>\n",
       "      <td>D5</td>\n",
       "      <td>D</td>\n",
       "      <td>{'0': 'Wheeling, W.Va.', '5': 'At south end of...</td>\n",
       "      <td>MULTIPOLYGON (((-80.72854 40.06729, -80.72837 ...</td>\n",
       "    </tr>\n",
       "    <tr>\n",
       "      <th>7499</th>\n",
       "      <td>WV</td>\n",
       "      <td>Wheeling</td>\n",
       "      <td>None</td>\n",
       "      <td>D6</td>\n",
       "      <td>D</td>\n",
       "      <td>{'0': 'Wheeling, W.Va.', '5': 'This is a very ...</td>\n",
       "      <td>MULTIPOLYGON (((-80.72216 40.06134, -80.72256 ...</td>\n",
       "    </tr>\n",
       "    <tr>\n",
       "      <th>7500</th>\n",
       "      <td>WV</td>\n",
       "      <td>Wheeling</td>\n",
       "      <td>None</td>\n",
       "      <td>D7</td>\n",
       "      <td>D</td>\n",
       "      <td>{'0': 'Wheeling, W.Va.', '5': 'This is an area...</td>\n",
       "      <td>MULTIPOLYGON (((-80.64740 40.04886, -80.64845 ...</td>\n",
       "    </tr>\n",
       "    <tr>\n",
       "      <th>7501</th>\n",
       "      <td>WV</td>\n",
       "      <td>Wheeling</td>\n",
       "      <td>None</td>\n",
       "      <td>D8</td>\n",
       "      <td>D</td>\n",
       "      <td>{'0': 'Wheeling, W.Va.', '5': 'Junior Avenue a...</td>\n",
       "      <td>MULTIPOLYGON (((-80.66614 40.04970, -80.66395 ...</td>\n",
       "    </tr>\n",
       "  </tbody>\n",
       "</table>\n",
       "</div>"
      ],
      "text/plain": [
       "     state      city  name holc_id holc_grade  \\\n",
       "7497    WV  Wheeling  None      D4          D   \n",
       "7498    WV  Wheeling  None      D5          D   \n",
       "7499    WV  Wheeling  None      D6          D   \n",
       "7500    WV  Wheeling  None      D7          D   \n",
       "7501    WV  Wheeling  None      D8          D   \n",
       "\n",
       "                                  area_description_data  \\\n",
       "7497  {'0': 'Wheeling, W.Va.', '5': 'This area inclu...   \n",
       "7498  {'0': 'Wheeling, W.Va.', '5': 'At south end of...   \n",
       "7499  {'0': 'Wheeling, W.Va.', '5': 'This is a very ...   \n",
       "7500  {'0': 'Wheeling, W.Va.', '5': 'This is an area...   \n",
       "7501  {'0': 'Wheeling, W.Va.', '5': 'Junior Avenue a...   \n",
       "\n",
       "                                               geometry  \n",
       "7497  MULTIPOLYGON (((-80.71985 40.06376, -80.71788 ...  \n",
       "7498  MULTIPOLYGON (((-80.72854 40.06729, -80.72837 ...  \n",
       "7499  MULTIPOLYGON (((-80.72216 40.06134, -80.72256 ...  \n",
       "7500  MULTIPOLYGON (((-80.64740 40.04886, -80.64845 ...  \n",
       "7501  MULTIPOLYGON (((-80.66614 40.04970, -80.66395 ...  "
      ]
     },
     "execution_count": 6,
     "metadata": {},
     "output_type": "execute_result"
    }
   ],
   "source": [
    "us.tail()"
   ]
  },
  {
   "cell_type": "code",
   "execution_count": 7,
   "id": "2cc93604",
   "metadata": {},
   "outputs": [
    {
     "data": {
      "text/html": [
       "<div>\n",
       "<style scoped>\n",
       "    .dataframe tbody tr th:only-of-type {\n",
       "        vertical-align: middle;\n",
       "    }\n",
       "\n",
       "    .dataframe tbody tr th {\n",
       "        vertical-align: top;\n",
       "    }\n",
       "\n",
       "    .dataframe thead th {\n",
       "        text-align: right;\n",
       "    }\n",
       "</style>\n",
       "<table border=\"1\" class=\"dataframe\">\n",
       "  <thead>\n",
       "    <tr style=\"text-align: right;\">\n",
       "      <th></th>\n",
       "      <th>state</th>\n",
       "      <th>city</th>\n",
       "      <th>name</th>\n",
       "      <th>holc_id</th>\n",
       "      <th>area_description_data</th>\n",
       "      <th>geometry</th>\n",
       "    </tr>\n",
       "    <tr>\n",
       "      <th>holc_grade</th>\n",
       "      <th></th>\n",
       "      <th></th>\n",
       "      <th></th>\n",
       "      <th></th>\n",
       "      <th></th>\n",
       "      <th></th>\n",
       "    </tr>\n",
       "  </thead>\n",
       "  <tbody>\n",
       "    <tr>\n",
       "      <th>A</th>\n",
       "      <td>819</td>\n",
       "      <td>819</td>\n",
       "      <td>233</td>\n",
       "      <td>813</td>\n",
       "      <td>819</td>\n",
       "      <td>819</td>\n",
       "    </tr>\n",
       "    <tr>\n",
       "      <th>B</th>\n",
       "      <td>1950</td>\n",
       "      <td>1950</td>\n",
       "      <td>443</td>\n",
       "      <td>1935</td>\n",
       "      <td>1950</td>\n",
       "      <td>1950</td>\n",
       "    </tr>\n",
       "    <tr>\n",
       "      <th>C</th>\n",
       "      <td>2960</td>\n",
       "      <td>2960</td>\n",
       "      <td>544</td>\n",
       "      <td>2943</td>\n",
       "      <td>2960</td>\n",
       "      <td>2960</td>\n",
       "    </tr>\n",
       "    <tr>\n",
       "      <th>D</th>\n",
       "      <td>1771</td>\n",
       "      <td>1771</td>\n",
       "      <td>296</td>\n",
       "      <td>1750</td>\n",
       "      <td>1771</td>\n",
       "      <td>1771</td>\n",
       "    </tr>\n",
       "    <tr>\n",
       "      <th>E</th>\n",
       "      <td>2</td>\n",
       "      <td>2</td>\n",
       "      <td>0</td>\n",
       "      <td>2</td>\n",
       "      <td>2</td>\n",
       "      <td>2</td>\n",
       "    </tr>\n",
       "  </tbody>\n",
       "</table>\n",
       "</div>"
      ],
      "text/plain": [
       "            state  city  name  holc_id  area_description_data  geometry\n",
       "holc_grade                                                             \n",
       "A             819   819   233      813                    819       819\n",
       "B            1950  1950   443     1935                   1950      1950\n",
       "C            2960  2960   544     2943                   2960      2960\n",
       "D            1771  1771   296     1750                   1771      1771\n",
       "E               2     2     0        2                      2         2"
      ]
     },
     "execution_count": 7,
     "metadata": {},
     "output_type": "execute_result"
    }
   ],
   "source": [
    "us.groupby(by='holc_grade').count() # grouping by holc grade"
   ]
  },
  {
   "cell_type": "code",
   "execution_count": 8,
   "id": "ddb9facb",
   "metadata": {},
   "outputs": [],
   "source": [
    "ca = us[us.state=='CA'] # subsetting ca"
   ]
  },
  {
   "cell_type": "code",
   "execution_count": 9,
   "id": "b9098566",
   "metadata": {},
   "outputs": [
    {
     "data": {
      "text/plain": [
       "array(['Fresno', 'Los Angeles', 'Oakland', 'Sacramento', 'San Diego',\n",
       "       'San Francisco', 'San Jose', 'Stockton'], dtype=object)"
      ]
     },
     "execution_count": 9,
     "metadata": {},
     "output_type": "execute_result"
    }
   ],
   "source": [
    "ca.city.unique() # which ca cities are holc graded"
   ]
  },
  {
   "cell_type": "code",
   "execution_count": 10,
   "id": "48d1ccf4",
   "metadata": {},
   "outputs": [],
   "source": [
    "sd = us[us.city=='San Diego'] # testing sd"
   ]
  },
  {
   "cell_type": "code",
   "execution_count": 11,
   "id": "3a6309e8",
   "metadata": {},
   "outputs": [
    {
     "data": {
      "text/html": [
       "<div>\n",
       "<style scoped>\n",
       "    .dataframe tbody tr th:only-of-type {\n",
       "        vertical-align: middle;\n",
       "    }\n",
       "\n",
       "    .dataframe tbody tr th {\n",
       "        vertical-align: top;\n",
       "    }\n",
       "\n",
       "    .dataframe thead th {\n",
       "        text-align: right;\n",
       "    }\n",
       "</style>\n",
       "<table border=\"1\" class=\"dataframe\">\n",
       "  <thead>\n",
       "    <tr style=\"text-align: right;\">\n",
       "      <th></th>\n",
       "      <th>state</th>\n",
       "      <th>city</th>\n",
       "      <th>name</th>\n",
       "      <th>holc_id</th>\n",
       "      <th>holc_grade</th>\n",
       "      <th>area_description_data</th>\n",
       "      <th>geometry</th>\n",
       "    </tr>\n",
       "  </thead>\n",
       "  <tbody>\n",
       "    <tr>\n",
       "      <th>729</th>\n",
       "      <td>CA</td>\n",
       "      <td>San Diego</td>\n",
       "      <td>Matton Bond District</td>\n",
       "      <td>A1</td>\n",
       "      <td>A</td>\n",
       "      <td>{'1': 'Topography mostly level with some canyo...</td>\n",
       "      <td>MULTIPOLYGON (((-117.26806 32.84007, -117.2689...</td>\n",
       "    </tr>\n",
       "    <tr>\n",
       "      <th>730</th>\n",
       "      <td>CA</td>\n",
       "      <td>San Diego</td>\n",
       "      <td>East  Balboa Park</td>\n",
       "      <td>A10</td>\n",
       "      <td>A</td>\n",
       "      <td>{'1': 'Topography high and practically level, ...</td>\n",
       "      <td>MULTIPOLYGON (((-117.13217 32.74097, -117.1323...</td>\n",
       "    </tr>\n",
       "    <tr>\n",
       "      <th>731</th>\n",
       "      <td>CA</td>\n",
       "      <td>San Diego</td>\n",
       "      <td>Kennsington Heights</td>\n",
       "      <td>A11</td>\n",
       "      <td>A</td>\n",
       "      <td>{'1': 'This area known as Kensington Heights, ...</td>\n",
       "      <td>MULTIPOLYGON (((-117.10164 32.76750, -117.1049...</td>\n",
       "    </tr>\n",
       "    <tr>\n",
       "      <th>732</th>\n",
       "      <td>CA</td>\n",
       "      <td>San Diego</td>\n",
       "      <td>Talmadge Park</td>\n",
       "      <td>A12</td>\n",
       "      <td>A</td>\n",
       "      <td>{'1': 'Topography, gentle canyons and mesa lan...</td>\n",
       "      <td>MULTIPOLYGON (((-117.08837 32.76868, -117.0883...</td>\n",
       "    </tr>\n",
       "    <tr>\n",
       "      <th>733</th>\n",
       "      <td>CA</td>\n",
       "      <td>San Diego</td>\n",
       "      <td>Mattoon District</td>\n",
       "      <td>A13</td>\n",
       "      <td>A</td>\n",
       "      <td>{'1': 'This is similar to A-12, but not quite ...</td>\n",
       "      <td>MULTIPOLYGON (((-117.08875 32.76258, -117.0890...</td>\n",
       "    </tr>\n",
       "  </tbody>\n",
       "</table>\n",
       "</div>"
      ],
      "text/plain": [
       "    state       city                  name holc_id holc_grade  \\\n",
       "729    CA  San Diego  Matton Bond District      A1          A   \n",
       "730    CA  San Diego     East  Balboa Park     A10          A   \n",
       "731    CA  San Diego   Kennsington Heights     A11          A   \n",
       "732    CA  San Diego         Talmadge Park     A12          A   \n",
       "733    CA  San Diego      Mattoon District     A13          A   \n",
       "\n",
       "                                 area_description_data  \\\n",
       "729  {'1': 'Topography mostly level with some canyo...   \n",
       "730  {'1': 'Topography high and practically level, ...   \n",
       "731  {'1': 'This area known as Kensington Heights, ...   \n",
       "732  {'1': 'Topography, gentle canyons and mesa lan...   \n",
       "733  {'1': 'This is similar to A-12, but not quite ...   \n",
       "\n",
       "                                              geometry  \n",
       "729  MULTIPOLYGON (((-117.26806 32.84007, -117.2689...  \n",
       "730  MULTIPOLYGON (((-117.13217 32.74097, -117.1323...  \n",
       "731  MULTIPOLYGON (((-117.10164 32.76750, -117.1049...  \n",
       "732  MULTIPOLYGON (((-117.08837 32.76868, -117.0883...  \n",
       "733  MULTIPOLYGON (((-117.08875 32.76258, -117.0890...  "
      ]
     },
     "execution_count": 11,
     "metadata": {},
     "output_type": "execute_result"
    }
   ],
   "source": [
    "sd.head()"
   ]
  },
  {
   "cell_type": "code",
   "execution_count": 12,
   "id": "55679351",
   "metadata": {},
   "outputs": [
    {
     "data": {
      "text/plain": [
       "(76, 7)"
      ]
     },
     "execution_count": 12,
     "metadata": {},
     "output_type": "execute_result"
    }
   ],
   "source": [
    "sd.shape"
   ]
  },
  {
   "cell_type": "code",
   "execution_count": 13,
   "id": "9aa73f9b",
   "metadata": {},
   "outputs": [
    {
     "data": {
      "text/plain": [
       "<AxesSubplot:>"
      ]
     },
     "execution_count": 13,
     "metadata": {},
     "output_type": "execute_result"
    },
    {
     "data": {
      "image/png": "[encoded data removed]",
      "text/plain": [
       "<Figure size 432x288 with 1 Axes>"
      ]
     },
     "metadata": {
      "needs_background": "light"
     },
     "output_type": "display_data"
    }
   ],
   "source": [
    "sd.plot()"
   ]
  },
  {
   "cell_type": "code",
   "execution_count": 14,
   "id": "405b1fba",
   "metadata": {},
   "outputs": [
    {
     "data": {
      "text/html": [
       "<div>\n",
       "<style scoped>\n",
       "    .dataframe tbody tr th:only-of-type {\n",
       "        vertical-align: middle;\n",
       "    }\n",
       "\n",
       "    .dataframe tbody tr th {\n",
       "        vertical-align: top;\n",
       "    }\n",
       "\n",
       "    .dataframe thead th {\n",
       "        text-align: right;\n",
       "    }\n",
       "</style>\n",
       "<table border=\"1\" class=\"dataframe\">\n",
       "  <thead>\n",
       "    <tr style=\"text-align: right;\">\n",
       "      <th></th>\n",
       "      <th>state</th>\n",
       "      <th>city</th>\n",
       "      <th>name</th>\n",
       "      <th>holc_id</th>\n",
       "      <th>area_description_data</th>\n",
       "      <th>geometry</th>\n",
       "    </tr>\n",
       "    <tr>\n",
       "      <th>holc_grade</th>\n",
       "      <th></th>\n",
       "      <th></th>\n",
       "      <th></th>\n",
       "      <th></th>\n",
       "      <th></th>\n",
       "      <th></th>\n",
       "    </tr>\n",
       "  </thead>\n",
       "  <tbody>\n",
       "    <tr>\n",
       "      <th>A</th>\n",
       "      <td>17</td>\n",
       "      <td>17</td>\n",
       "      <td>11</td>\n",
       "      <td>14</td>\n",
       "      <td>17</td>\n",
       "      <td>17</td>\n",
       "    </tr>\n",
       "    <tr>\n",
       "      <th>B</th>\n",
       "      <td>27</td>\n",
       "      <td>27</td>\n",
       "      <td>14</td>\n",
       "      <td>23</td>\n",
       "      <td>27</td>\n",
       "      <td>27</td>\n",
       "    </tr>\n",
       "    <tr>\n",
       "      <th>C</th>\n",
       "      <td>22</td>\n",
       "      <td>22</td>\n",
       "      <td>15</td>\n",
       "      <td>22</td>\n",
       "      <td>22</td>\n",
       "      <td>22</td>\n",
       "    </tr>\n",
       "    <tr>\n",
       "      <th>D</th>\n",
       "      <td>10</td>\n",
       "      <td>10</td>\n",
       "      <td>5</td>\n",
       "      <td>10</td>\n",
       "      <td>10</td>\n",
       "      <td>10</td>\n",
       "    </tr>\n",
       "  </tbody>\n",
       "</table>\n",
       "</div>"
      ],
      "text/plain": [
       "            state  city  name  holc_id  area_description_data  geometry\n",
       "holc_grade                                                             \n",
       "A              17    17    11       14                     17        17\n",
       "B              27    27    14       23                     27        27\n",
       "C              22    22    15       22                     22        22\n",
       "D              10    10     5       10                     10        10"
      ]
     },
     "execution_count": 14,
     "metadata": {},
     "output_type": "execute_result"
    }
   ],
   "source": [
    "sd.groupby(by='holc_grade').count() # grouping sd by holc grade"
   ]
  },
  {
   "cell_type": "code",
   "execution_count": 15,
   "id": "6324b520",
   "metadata": {},
   "outputs": [
    {
     "data": {
      "text/plain": [
       "<AxesSubplot:>"
      ]
     },
     "execution_count": 15,
     "metadata": {},
     "output_type": "execute_result"
    },
    {
     "data": {
      "image/png": "[encoded data removed]",
      "text/plain": [
       "<Figure size 432x288 with 1 Axes>"
      ]
     },
     "metadata": {
      "needs_background": "light"
     },
     "output_type": "display_data"
    }
   ],
   "source": [
    "sd.plot(column='holc_grade', categorical=True, legend=True)"
   ]
  },
  {
   "cell_type": "code",
   "execution_count": 16,
   "id": "25e64f81-3451-41bc-b557-0c123d18999e",
   "metadata": {},
   "outputs": [],
   "source": [
    "from shapely.geometry import box\n",
    "\n",
    "clipper = gpd.GeoDataFrame(geometry =[box(-117.25, 32.2, -117.03, 32.9)])\n"
   ]
  },
  {
   "cell_type": "markdown",
   "id": "ee1c5729-4af3-4c7d-aa98-151a1fc6bbbc",
   "metadata": {},
   "source": [
    "## sd holc discrepancies"
   ]
  },
  {
   "cell_type": "code",
   "execution_count": 39,
   "id": "32d17035-6900-4e31-b958-7b1c3a9bf5ae",
   "metadata": {},
   "outputs": [
    {
     "data": {
      "image/png": "[encoded data removed]",
      "text/plain": [
       "<Figure size 432x288 with 1 Axes>"
      ]
     },
     "metadata": {
      "needs_background": "light"
     },
     "output_type": "display_data"
    }
   ],
   "source": [
    "base = sd.plot(alpha=0.7, facecolor='none', edgecolor='blue')\n",
    "_ = base.set_xlim(-117.201, -117.116)\n",
    "_ = base.set_ylim(32.66, 32.72)\n"
   ]
  },
  {
   "cell_type": "code",
   "execution_count": 24,
   "id": "34e40882",
   "metadata": {},
   "outputs": [
    {
     "data": {
      "text/plain": [
       "[]"
      ]
     },
     "execution_count": 24,
     "metadata": {},
     "output_type": "execute_result"
    }
   ],
   "source": [
    "mi = geoplanar.missing_interiors(sd)\n",
    "mi"
   ]
  },
  {
   "cell_type": "code",
   "execution_count": 29,
   "id": "f1622458",
   "metadata": {},
   "outputs": [],
   "source": [
    "sd1 = geoplanar.add_interiors(sd)"
   ]
  },
  {
   "cell_type": "code",
   "execution_count": 36,
   "id": "b8cfe5d7",
   "metadata": {},
   "outputs": [
    {
     "data": {
      "text/plain": [
       "[]"
      ]
     },
     "execution_count": 36,
     "metadata": {},
     "output_type": "execute_result"
    }
   ],
   "source": [
    "geoplanar.missing_interiors(sd1)"
   ]
  },
  {
   "cell_type": "code",
   "execution_count": 30,
   "id": "287943f0",
   "metadata": {},
   "outputs": [],
   "source": [
    "import libpysal"
   ]
  },
  {
   "cell_type": "code",
   "execution_count": 31,
   "id": "cc098ba8",
   "metadata": {},
   "outputs": [
    {
     "name": "stderr",
     "output_type": "stream",
     "text": [
      "/Users/ecv/anaconda3/envs/geoplanar_docs/lib/python3.7/site-packages/libpysal/weights/weights.py:172: UserWarning: The weights matrix is not fully connected: \n",
      " There are 5 disconnected components.\n",
      "  warnings.warn(message)\n"
     ]
    }
   ],
   "source": [
    "w = libpysal.weights.Queen.from_dataframe(sd)"
   ]
  },
  {
   "cell_type": "code",
   "execution_count": 32,
   "id": "36443be4",
   "metadata": {},
   "outputs": [
    {
     "data": {
      "text/plain": [
       "{0: [25, 75, 30],\n",
       " 1: [22, 23],\n",
       " 2: [27, 43, 26, 3],\n",
       " 3: [2, 27, 4, 28],\n",
       " 4: [27, 3, 28],\n",
       " 5: [50, 28],\n",
       " 6: [25, 31],\n",
       " 7: [8, 73, 74],\n",
       " 8: [32, 7, 73, 74, 31],\n",
       " 9: [36, 54, 55],\n",
       " 10: [56, 69, 15],\n",
       " 11: [16, 61],\n",
       " 12: [18],\n",
       " 13: [20],\n",
       " 14: [75],\n",
       " 15: [56, 10],\n",
       " 16: [17, 57, 11, 61, 62],\n",
       " 17: [16, 57, 58, 62],\n",
       " 18: [12, 38],\n",
       " 19: [57],\n",
       " 20: [57, 13],\n",
       " 21: [26, 43, 39],\n",
       " 22: [1, 42, 23, 39],\n",
       " 23: [1, 22, 24, 41, 42],\n",
       " 24: [40, 41, 23],\n",
       " 25: [0, 59, 6, 31],\n",
       " 26: [2, 21, 39, 27, 43],\n",
       " 27: [2, 3, 4, 26, 43, 28, 46],\n",
       " 28: [3, 4, 5, 27, 43, 46],\n",
       " 29: [44],\n",
       " 30: [0, 37],\n",
       " 31: [37, 6, 8, 25, 74, 59],\n",
       " 32: [8],\n",
       " 33: [53, 54],\n",
       " 34: [54, 35, 53, 70],\n",
       " 35: [34],\n",
       " 36: [9, 54, 55],\n",
       " 37: [59, 30, 31],\n",
       " 38: [18],\n",
       " 39: [26, 21, 22, 57, 42, 43, 44],\n",
       " 40: [64, 24, 63, 41],\n",
       " 41: [64, 23, 40, 24, 42, 63],\n",
       " 42: [64, 66, 67, 39, 41, 44, 22, 23],\n",
       " 43: [2, 39, 44, 46, 47, 21, 26, 27, 28],\n",
       " 44: [66, 39, 42, 43, 29, 46, 47],\n",
       " 45: [65, 68],\n",
       " 46: [43, 27, 28, 44, 47],\n",
       " 47: [43, 44, 46],\n",
       " 48: [72, 52],\n",
       " 49: [60],\n",
       " 50: [5, 71],\n",
       " 51: [60],\n",
       " 52: [48, 72],\n",
       " 53: [33, 34, 54, 70],\n",
       " 54: [33, 34, 36, 53, 55, 9],\n",
       " 55: [56, 9, 36, 54],\n",
       " 56: [10, 15, 55],\n",
       " 57: [16, 17, 19, 20, 39, 58],\n",
       " 58: [17, 62, 57],\n",
       " 59: [25, 37, 31],\n",
       " 60: [49, 67, 68, 51],\n",
       " 61: [16, 11],\n",
       " 62: [16, 17, 58],\n",
       " 63: [64, 65, 40, 41],\n",
       " 64: [65, 67, 40, 41, 42, 63],\n",
       " 65: [64, 45, 63],\n",
       " 66: [42, 67, 44],\n",
       " 67: [64, 66, 68, 42, 60],\n",
       " 68: [67, 60, 45],\n",
       " 69: [10],\n",
       " 70: [34, 53],\n",
       " 71: [50],\n",
       " 72: [48, 52],\n",
       " 73: [8, 75, 7],\n",
       " 74: [8, 31, 7],\n",
       " 75: [0, 73, 14]}"
      ]
     },
     "execution_count": 32,
     "metadata": {},
     "output_type": "execute_result"
    }
   ],
   "source": [
    "w.neighbors"
   ]
  },
  {
   "cell_type": "code",
   "execution_count": 37,
   "id": "0806cfaa",
   "metadata": {},
   "outputs": [],
   "source": [
    "w = libpysal.weights.Queen.from_dataframe(sd1)"
   ]
  },
  {
   "cell_type": "code",
   "execution_count": 38,
   "id": "89ac3530",
   "metadata": {},
   "outputs": [
    {
     "data": {
      "text/plain": [
       "{0: [25, 75, 30],\n",
       " 1: [22, 23],\n",
       " 2: [27, 43, 26, 3],\n",
       " 3: [2, 27, 4, 28],\n",
       " 4: [27, 3, 28],\n",
       " 5: [50, 28],\n",
       " 6: [25, 31],\n",
       " 7: [8, 73, 74],\n",
       " 8: [32, 7, 73, 74, 31],\n",
       " 9: [36, 54, 55],\n",
       " 10: [56, 69, 15],\n",
       " 11: [16, 61],\n",
       " 12: [18],\n",
       " 13: [20],\n",
       " 14: [75],\n",
       " 15: [56, 10],\n",
       " 16: [17, 57, 11, 61, 62],\n",
       " 17: [16, 57, 58, 62],\n",
       " 18: [12, 38],\n",
       " 19: [57],\n",
       " 20: [57, 13],\n",
       " 21: [26, 43, 39],\n",
       " 22: [1, 42, 23, 39],\n",
       " 23: [1, 22, 24, 41, 42],\n",
       " 24: [40, 41, 23],\n",
       " 25: [0, 59, 6, 31],\n",
       " 26: [2, 21, 39, 27, 43],\n",
       " 27: [2, 3, 4, 26, 43, 28, 46],\n",
       " 28: [3, 4, 5, 27, 43, 46],\n",
       " 29: [44],\n",
       " 30: [0, 37],\n",
       " 31: [37, 6, 8, 25, 74, 59],\n",
       " 32: [8],\n",
       " 33: [53, 54],\n",
       " 34: [54, 35, 53, 70],\n",
       " 35: [34],\n",
       " 36: [9, 54, 55],\n",
       " 37: [59, 30, 31],\n",
       " 38: [18],\n",
       " 39: [26, 21, 22, 57, 42, 43, 44],\n",
       " 40: [64, 24, 63, 41],\n",
       " 41: [64, 23, 40, 24, 42, 63],\n",
       " 42: [64, 66, 67, 39, 41, 44, 22, 23],\n",
       " 43: [2, 39, 44, 46, 47, 21, 26, 27, 28],\n",
       " 44: [66, 39, 42, 43, 29, 46, 47],\n",
       " 45: [65, 68],\n",
       " 46: [43, 27, 28, 44, 47],\n",
       " 47: [43, 44, 46],\n",
       " 48: [72, 52],\n",
       " 49: [60],\n",
       " 50: [5, 71],\n",
       " 51: [60],\n",
       " 52: [48, 72],\n",
       " 53: [33, 34, 54, 70],\n",
       " 54: [33, 34, 36, 53, 55, 9],\n",
       " 55: [56, 9, 36, 54],\n",
       " 56: [10, 15, 55],\n",
       " 57: [16, 17, 19, 20, 39, 58],\n",
       " 58: [17, 62, 57],\n",
       " 59: [25, 37, 31],\n",
       " 60: [49, 67, 68, 51],\n",
       " 61: [16, 11],\n",
       " 62: [16, 17, 58],\n",
       " 63: [64, 65, 40, 41],\n",
       " 64: [65, 67, 40, 41, 42, 63],\n",
       " 65: [64, 45, 63],\n",
       " 66: [42, 67, 44],\n",
       " 67: [64, 66, 68, 42, 60],\n",
       " 68: [67, 60, 45],\n",
       " 69: [10],\n",
       " 70: [34, 53],\n",
       " 71: [50],\n",
       " 72: [48, 52],\n",
       " 73: [8, 75, 7],\n",
       " 74: [8, 31, 7],\n",
       " 75: [0, 73, 14]}"
      ]
     },
     "execution_count": 38,
     "metadata": {},
     "output_type": "execute_result"
    }
   ],
   "source": [
    "w.neighbors"
   ]
  },
  {
   "cell_type": "code",
   "execution_count": null,
   "id": "73337fc4",
   "metadata": {},
   "outputs": [],
   "source": []
  }
 ],
 "metadata": {
  "jupytext": {
   "formats": "ipynb,md"
  },
  "kernelspec": {
   "display_name": "Python 3",
   "language": "python",
   "name": "python3"
  },
  "language_info": {
   "codemirror_mode": {
    "name": "ipython",
    "version": 3
   },
   "file_extension": ".py",
   "mimetype": "text/x-python",
   "name": "python",
   "nbconvert_exporter": "python",
   "pygments_lexer": "ipython3",
   "version": "3.7.10"
  }
 },
 "nbformat": 4,
 "nbformat_minor": 5
}
