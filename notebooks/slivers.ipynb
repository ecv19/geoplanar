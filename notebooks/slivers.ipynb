{
 "cells": [
  {
   "cell_type": "code",
   "execution_count": 8,
   "id": "dominant-arlington",
   "metadata": {},
   "outputs": [],
   "source": [
    "import geopandas\n",
    "import numpy\n",
    "import matplotlib.pyplot as plt\n",
    "import geoplanar\n",
    "from shapely.geometry import box, Polygon\n"
   ]
  },
  {
   "cell_type": "markdown",
   "id": "desperate-press",
   "metadata": {},
   "source": [
    "## Violation: Slivers"
   ]
  },
  {
   "cell_type": "code",
   "execution_count": 20,
   "id": "coordinated-beijing",
   "metadata": {},
   "outputs": [
    {
     "data": {
      "text/plain": [
       "<AxesSubplot:>"
      ]
     },
     "execution_count": 20,
     "metadata": {},
     "output_type": "execute_result"
    },
    {
     "data": {
      "image/png": "[encoded data removed]",
      "text/plain": [
       "<Figure size 432x288 with 1 Axes>"
      ]
     },
     "metadata": {
      "needs_background": "light"
     },
     "output_type": "display_data"
    }
   ],
   "source": [
    "p1 = box(0,0,10,10)\n",
    "p2 = Polygon([(10,10), (12,8), (10,6), (12,4), (10,2), (20,5)])\n",
    "\n",
    "gdf = geopandas.GeoDataFrame(geometry=[p1,p2])\n",
    "gdf.plot(edgecolor='k')"
   ]
  },
  {
   "cell_type": "code",
   "execution_count": 21,
   "id": "nonprofit-bleeding",
   "metadata": {},
   "outputs": [
    {
     "data": {
      "text/html": [
       "<div>\n",
       "<style scoped>\n",
       "    .dataframe tbody tr th:only-of-type {\n",
       "        vertical-align: middle;\n",
       "    }\n",
       "\n",
       "    .dataframe tbody tr th {\n",
       "        vertical-align: top;\n",
       "    }\n",
       "\n",
       "    .dataframe thead th {\n",
       "        text-align: right;\n",
       "    }\n",
       "</style>\n",
       "<table border=\"1\" class=\"dataframe\">\n",
       "  <thead>\n",
       "    <tr style=\"text-align: right;\">\n",
       "      <th></th>\n",
       "      <th></th>\n",
       "      <th>geometry</th>\n",
       "    </tr>\n",
       "  </thead>\n",
       "  <tbody>\n",
       "    <tr>\n",
       "      <th rowspan=\"2\" valign=\"top\">0</th>\n",
       "      <th>2</th>\n",
       "      <td>POLYGON ((10.00000 10.00000, 12.00000 8.00000,...</td>\n",
       "    </tr>\n",
       "    <tr>\n",
       "      <th>3</th>\n",
       "      <td>POLYGON ((10.00000 6.00000, 12.00000 4.00000, ...</td>\n",
       "    </tr>\n",
       "  </tbody>\n",
       "</table>\n",
       "</div>"
      ],
      "text/plain": [
       "                                              geometry\n",
       "0 2  POLYGON ((10.00000 10.00000, 12.00000 8.00000,...\n",
       "  3  POLYGON ((10.00000 6.00000, 12.00000 4.00000, ..."
      ]
     },
     "execution_count": 21,
     "metadata": {},
     "output_type": "execute_result"
    }
   ],
   "source": [
    "geoplanar.holes(gdf)"
   ]
  },
  {
   "cell_type": "code",
   "execution_count": 22,
   "id": "54368580-9ef2-4bbc-83f5-dabcd439bee5",
   "metadata": {},
   "outputs": [],
   "source": [
    "h = geoplanar.holes(gdf)"
   ]
  },
  {
   "cell_type": "code",
   "execution_count": 13,
   "id": "7dc2a758-ce4b-4274-9758-17448d2d1161",
   "metadata": {},
   "outputs": [
    {
     "data": {
      "text/plain": [
       "array([4., 4.])"
      ]
     },
     "execution_count": 13,
     "metadata": {},
     "output_type": "execute_result"
    }
   ],
   "source": [
    "h.area.values"
   ]
  },
  {
   "cell_type": "code",
   "execution_count": 14,
   "id": "incomplete-store",
   "metadata": {},
   "outputs": [],
   "source": [
    "gdf1 = geoplanar.fill_holes(gdf)"
   ]
  },
  {
   "cell_type": "code",
   "execution_count": 15,
   "id": "civil-greenhouse",
   "metadata": {},
   "outputs": [
    {
     "data": {
      "text/plain": [
       "<AxesSubplot:>"
      ]
     },
     "execution_count": 15,
     "metadata": {},
     "output_type": "execute_result"
    },
    {
     "data": {
      "image/png": "[encoded data removed]",
      "text/plain": [
       "<Figure size 432x288 with 1 Axes>"
      ]
     },
     "metadata": {
      "needs_background": "light"
     },
     "output_type": "display_data"
    }
   ],
   "source": [
    "gdf1.plot(edgecolor='k')"
   ]
  },
  {
   "cell_type": "code",
   "execution_count": 23,
   "id": "104079d5-7af6-432e-8eb1-e797ffe0db6f",
   "metadata": {},
   "outputs": [
    {
     "data": {
      "text/plain": [
       "0    108.0\n",
       "1     32.0\n",
       "dtype: float64"
      ]
     },
     "execution_count": 23,
     "metadata": {},
     "output_type": "execute_result"
    }
   ],
   "source": [
    "gdf1.area"
   ]
  },
  {
   "cell_type": "code",
   "execution_count": 24,
   "id": "eb5199bc-e1a1-4afa-9253-fdf9f6faedbc",
   "metadata": {},
   "outputs": [
    {
     "data": {
      "text/plain": [
       "0    100.0\n",
       "1     32.0\n",
       "dtype: float64"
      ]
     },
     "execution_count": 24,
     "metadata": {},
     "output_type": "execute_result"
    }
   ],
   "source": [
    "gdf.area"
   ]
  },
  {
   "cell_type": "code",
   "execution_count": 17,
   "id": "satisfactory-summer",
   "metadata": {},
   "outputs": [
    {
     "data": {
      "text/html": [
       "<div>\n",
       "<style scoped>\n",
       "    .dataframe tbody tr th:only-of-type {\n",
       "        vertical-align: middle;\n",
       "    }\n",
       "\n",
       "    .dataframe tbody tr th {\n",
       "        vertical-align: top;\n",
       "    }\n",
       "\n",
       "    .dataframe thead th {\n",
       "        text-align: right;\n",
       "    }\n",
       "</style>\n",
       "<table border=\"1\" class=\"dataframe\">\n",
       "  <thead>\n",
       "    <tr style=\"text-align: right;\">\n",
       "      <th></th>\n",
       "      <th></th>\n",
       "      <th>geometry</th>\n",
       "    </tr>\n",
       "  </thead>\n",
       "  <tbody>\n",
       "  </tbody>\n",
       "</table>\n",
       "</div>"
      ],
      "text/plain": [
       "Empty GeoDataFrame\n",
       "Columns: [geometry]\n",
       "Index: []"
      ]
     },
     "execution_count": 17,
     "metadata": {},
     "output_type": "execute_result"
    }
   ],
   "source": [
    "geoplanar.holes(gdf1)"
   ]
  },
  {
   "cell_type": "markdown",
   "id": "c5743a2c-5e18-434e-adc9-8be98417787e",
   "metadata": {},
   "source": [
    "The default is to merge the sliver with the largest neighboring feature. \n",
    "\n",
    "To merge the sliver with the smallest neighboring feature set `Largest=False':"
   ]
  },
  {
   "cell_type": "code",
   "execution_count": 18,
   "id": "45ff1bb6-d39d-480a-898b-0db53fc72aed",
   "metadata": {},
   "outputs": [
    {
     "data": {
      "text/plain": [
       "<AxesSubplot:>"
      ]
     },
     "execution_count": 18,
     "metadata": {},
     "output_type": "execute_result"
    },
    {
     "data": {
      "image/png": "[encoded data removed]",
      "text/plain": [
       "<Figure size 432x288 with 1 Axes>"
      ]
     },
     "metadata": {
      "needs_background": "light"
     },
     "output_type": "display_data"
    }
   ],
   "source": [
    "geoplanar.fill_holes(gdf, largest=False).plot(edgecolor='k')"
   ]
  },
  {
   "cell_type": "code",
   "execution_count": 19,
   "id": "692355ff-dce6-4397-a1a5-e3f92cf27471",
   "metadata": {},
   "outputs": [
    {
     "data": {
      "text/plain": [
       "0    100.0\n",
       "1     40.0\n",
       "dtype: float64"
      ]
     },
     "execution_count": 19,
     "metadata": {},
     "output_type": "execute_result"
    }
   ],
   "source": [
    "geoplanar.fill_holes(gdf, largest=False).area"
   ]
  },
  {
   "cell_type": "code",
   "execution_count": null,
   "id": "ba006ed8-5f26-472c-9849-99a4cdceac8d",
   "metadata": {},
   "outputs": [],
   "source": []
  }
 ],
 "metadata": {
  "kernelspec": {
   "display_name": "Python 3 (ipykernel)",
   "language": "python",
   "name": "python3"
  },
  "language_info": {
   "codemirror_mode": {
    "name": "ipython",
    "version": 3
   },
   "file_extension": ".py",
   "mimetype": "text/x-python",
   "name": "python",
   "nbconvert_exporter": "python",
   "pygments_lexer": "ipython3",
   "version": "3.8.10"
  }
 },
 "nbformat": 4,
 "nbformat_minor": 5
}
