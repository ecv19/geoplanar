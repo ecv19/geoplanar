{
 "cells": [
  {
   "cell_type": "markdown",
   "id": "d8b70256-9398-409d-8953-b139a367d494",
   "metadata": {},
   "source": [
    "# Introduction to `geoplanar`\n",
    "\n",
    "### Mexico level 2 - municipalities & US counties"
   ]
  },
  {
   "cell_type": "code",
   "execution_count": null,
   "id": "eb7b2ccb-12a8-49c3-896f-0c5cef25eb53",
   "metadata": {},
   "outputs": [],
   "source": [
    "import geoplanar\n",
    "import geopandas "
   ]
  },
  {
   "cell_type": "code",
   "execution_count": null,
   "id": "b964d32f-7122-4ef4-bbdc-2388864a8a00",
   "metadata": {},
   "outputs": [],
   "source": [
    "mex = geopandas.read_file(\"../geoplanar/datasets/mexico/lvl2/mex_admbnda_adm2_govmex_20210618.shp\")\n",
    "mex.plot() # municipios"
   ]
  },
  {
   "cell_type": "code",
   "execution_count": null,
   "id": "8ba5a734",
   "metadata": {},
   "outputs": [],
   "source": [
    "us = geopandas.read_parquet(\"/Users/ecv/projects/geoplanar/geoplanar/datasets/uscounties.parquet\")"
   ]
  },
  {
   "cell_type": "code",
   "execution_count": null,
   "id": "ef9aebea-2322-47ff-b00d-8d52229fc229",
   "metadata": {},
   "outputs": [],
   "source": [
    "us.plot()"
   ]
  },
  {
   "cell_type": "code",
   "execution_count": null,
   "id": "008fe6b2",
   "metadata": {},
   "outputs": [],
   "source": [
    "us = us.to_crs(\"EPSG:4326\")\n",
    "us.crs"
   ]
  },
  {
   "cell_type": "code",
   "execution_count": null,
   "id": "a7d51ff3-ac62-4eef-a77d-0bd574f4d3f9",
   "metadata": {},
   "outputs": [],
   "source": [
    "usmex = us.append(mex)"
   ]
  },
  {
   "cell_type": "code",
   "execution_count": null,
   "id": "af57e70a-77e4-49a9-8453-13fed26c0b2d",
   "metadata": {
    "tags": []
   },
   "outputs": [],
   "source": [
    "usmex.plot()"
   ]
  },
  {
   "cell_type": "code",
   "execution_count": null,
   "id": "64c829d8-cafd-41bd-9072-066efcff140a",
   "metadata": {},
   "outputs": [],
   "source": [
    "usmex.tail()"
   ]
  },
  {
   "cell_type": "code",
   "execution_count": null,
   "id": "c9a0999a-4191-4efa-a2bd-b0c62916fb99",
   "metadata": {},
   "outputs": [],
   "source": [
    "usmex.shape"
   ]
  },
  {
   "cell_type": "markdown",
   "id": "b04c3327-fb9d-42c2-8a9e-43be0acacbd1",
   "metadata": {},
   "source": [
    "We have appended the Mexico gdf to the US gdf. For now, however, we are going to zoom in the border region to investigate things further:"
   ]
  },
  {
   "cell_type": "code",
   "execution_count": null,
   "id": "25e64f81-3451-41bc-b557-0c123d18999e",
   "metadata": {},
   "outputs": [],
   "source": [
    "from shapely.geometry import box\n",
    "\n",
    "clipper = geopandas.GeoDataFrame(geometry =[box(-118.2,25.44,-95.17,34.45)])\n",
    "                                 \n"
   ]
  },
  {
   "cell_type": "code",
   "execution_count": null,
   "id": "89704192-7f7e-4474-a0f1-179167b518b4",
   "metadata": {
    "tags": []
   },
   "outputs": [],
   "source": [
    "usborder = geopandas.clip(us, clipper) # positional argument matters(see geopandas doc on clipper)\n",
    "\n",
    "mexborder = geopandas.clip(mex, clipper)"
   ]
  },
  {
   "cell_type": "code",
   "execution_count": null,
   "id": "4785a69f",
   "metadata": {},
   "outputs": [],
   "source": [
    "mexborder.shape"
   ]
  },
  {
   "cell_type": "code",
   "execution_count": null,
   "id": "ce7573e4",
   "metadata": {},
   "outputs": [],
   "source": [
    "usborder.shape"
   ]
  },
  {
   "cell_type": "code",
   "execution_count": null,
   "id": "50ed7dfa-5733-4ee5-a1df-afbbe75b8a32",
   "metadata": {},
   "outputs": [],
   "source": [
    "usborder.plot()"
   ]
  },
  {
   "cell_type": "code",
   "execution_count": null,
   "id": "a427ea10-b2c9-45bf-9044-691089d9d33b",
   "metadata": {},
   "outputs": [],
   "source": [
    "mexborder.plot()"
   ]
  },
  {
   "cell_type": "code",
   "execution_count": null,
   "id": "68db1251-98be-4908-a010-4c74c6870827",
   "metadata": {},
   "outputs": [],
   "source": [
    "usmex = usborder.append(mexborder)\n",
    "usmex.reset_index(inplace=True)"
   ]
  },
  {
   "cell_type": "code",
   "execution_count": null,
   "id": "6ce7d82e-3ab5-4e22-af05-977ca7347a03",
   "metadata": {},
   "outputs": [],
   "source": [
    "usmex.plot()"
   ]
  },
  {
   "cell_type": "code",
   "execution_count": null,
   "id": "387cc00c",
   "metadata": {},
   "outputs": [],
   "source": [
    "usmex.shape "
   ]
  },
  {
   "cell_type": "markdown",
   "id": "7bce46dc",
   "metadata": {},
   "source": [
    "number of geometries checks out"
   ]
  },
  {
   "cell_type": "markdown",
   "id": "ee1c5729-4af3-4c7d-aa98-151a1fc6bbbc",
   "metadata": {},
   "source": [
    "## Border discrepancies"
   ]
  },
  {
   "cell_type": "code",
   "execution_count": null,
   "id": "32d17035-6900-4e31-b958-7b1c3a9bf5ae",
   "metadata": {
    "scrolled": true
   },
   "outputs": [],
   "source": [
    "base = usborder.plot(alpha=0.7, facecolor='none', edgecolor='blue')\n",
    "_ = mexborder.plot(alpha=0.7, facecolor='none', edgecolor='red', ax=base)\n",
    "_ = base.set_xlim(-118.2, -95.17)\n",
    "_ = base.set_ylim(25.44, 34.45)\n"
   ]
  },
  {
   "cell_type": "markdown",
   "id": "6484a62a",
   "metadata": {},
   "source": [
    "Notice how some parts of the border have a slight purple color to them because of the overlaps."
   ]
  },
  {
   "cell_type": "markdown",
   "id": "15c5f5bd-e9b8-4a4e-af0b-82701cae9ef0",
   "metadata": {},
   "source": [
    "## Fixing Overlaps/Overshoots"
   ]
  },
  {
   "cell_type": "code",
   "execution_count": null,
   "id": "2783f72b",
   "metadata": {},
   "outputs": [],
   "source": [
    "import pandas as pd"
   ]
  },
  {
   "cell_type": "code",
   "execution_count": null,
   "id": "5600757e",
   "metadata": {},
   "outputs": [],
   "source": [
    "usborder['COUNTRY'] = 'US'\n",
    "usborder.head()"
   ]
  },
  {
   "cell_type": "code",
   "execution_count": null,
   "id": "40e74eed",
   "metadata": {},
   "outputs": [],
   "source": [
    "mexborder['COUNTRY'] = 'MEXICO'\n",
    "mexborder.head()"
   ]
  },
  {
   "cell_type": "code",
   "execution_count": null,
   "id": "cd4dcba2",
   "metadata": {},
   "outputs": [],
   "source": [
    "usmex2 = pd.concat([usborder, mexborder])"
   ]
  },
  {
   "cell_type": "code",
   "execution_count": null,
   "id": "5fc25a25",
   "metadata": {},
   "outputs": [],
   "source": [
    "usmex2.plot('COUNTRY')"
   ]
  },
  {
   "cell_type": "code",
   "execution_count": null,
   "id": "7788a979",
   "metadata": {},
   "outputs": [],
   "source": [
    "usmex2.shape"
   ]
  },
  {
   "cell_type": "code",
   "execution_count": null,
   "id": "9ebf0a7f",
   "metadata": {},
   "outputs": [],
   "source": [
    "usmex2 = usmex2.reset_index()"
   ]
  },
  {
   "cell_type": "code",
   "execution_count": null,
   "id": "1b0edd92",
   "metadata": {},
   "outputs": [],
   "source": [
    "usmex2.area.sum()  # or use .sum() "
   ]
  },
  {
   "cell_type": "code",
   "execution_count": null,
   "id": "4998fb02-d997-4399-bf18-1490172a1907",
   "metadata": {},
   "outputs": [],
   "source": [
    "border_overlaps_removed = geoplanar.trim_overlaps(usmex2) # removing overlaps\n"
   ]
  },
  {
   "cell_type": "code",
   "execution_count": null,
   "id": "03528b24",
   "metadata": {},
   "outputs": [],
   "source": [
    "border_overlaps_removed.area.sum() # mexico gets trimmed"
   ]
  },
  {
   "cell_type": "code",
   "execution_count": null,
   "id": "110eb0c0",
   "metadata": {},
   "outputs": [],
   "source": [
    "border_overlaps_removed_1 = geoplanar.trim_overlaps(usmex2, largest=False)"
   ]
  },
  {
   "cell_type": "code",
   "execution_count": null,
   "id": "e3753782-d428-4aa5-9cd7-9023d6d718e6",
   "metadata": {},
   "outputs": [],
   "source": [
    "border_overlaps_removed_1.area.sum() # us gets trimmed"
   ]
  },
  {
   "cell_type": "code",
   "execution_count": null,
   "id": "7efda08b",
   "metadata": {},
   "outputs": [],
   "source": [
    "usmex2.explore(tooltip=False) # geopandas explroe function\n"
   ]
  },
  {
   "cell_type": "markdown",
   "id": "176710b1",
   "metadata": {},
   "source": [
    "We can see where the dataframes overlap if we zoom in. The Juarex/El Paso region has multiple instances where\n",
    "we can see these issues. \n",
    "                               "
   ]
  },
  {
   "cell_type": "markdown",
   "id": "c936b824-92ac-444e-8794-26e60fd0e505",
   "metadata": {},
   "source": [
    "## Fixing undershoots/holes"
   ]
  },
  {
   "cell_type": "markdown",
   "id": "c88cd0cd-112e-462e-9103-18c4adc95fc2",
   "metadata": {},
   "source": [
    "Trimming the overlaps removes the areas where points belong to both national polygons. What remains after this correction are holes (slivers) where points belong to neither polygon."
   ]
  },
  {
   "cell_type": "code",
   "execution_count": null,
   "id": "80b67907-c92a-4c34-8ee8-6a84d69b8d07",
   "metadata": {},
   "outputs": [],
   "source": [
    "base = border_overlaps_removed.plot()\n",
    "_ = base.set_xlim(-109.87, -99.14)   \n",
    "_ = base.set_ylim(27.67, 32.68)"
   ]
  },
  {
   "cell_type": "code",
   "execution_count": null,
   "id": "1645bc1d-55e2-4b40-9cf1-57d0d589089d",
   "metadata": {},
   "outputs": [],
   "source": [
    "holes = geoplanar.holes(border_overlaps_removed) # holes left over after removing overlaps"
   ]
  },
  {
   "cell_type": "code",
   "execution_count": null,
   "id": "aa9290c5-753b-4cb6-850d-49fb9d057e84",
   "metadata": {},
   "outputs": [],
   "source": [
    "base = holes.plot(alpha=0.3, facecolor='none', edgecolor='blue')\n",
    "_ = base.set_xlim(-109.87, -99.14)   \n",
    "_ = base.set_ylim(27.67, 32.68)"
   ]
  },
  {
   "cell_type": "code",
   "execution_count": null,
   "id": "ab2d6514-cda4-4cda-8138-bd577374bcaf",
   "metadata": {},
   "outputs": [],
   "source": [
    "holes.shape"
   ]
  },
  {
   "cell_type": "markdown",
   "id": "5c18c24c-3d50-48a3-b62e-1944b725b54b",
   "metadata": {},
   "source": [
    "For the entire border region there are 2191 holes that exist. These can be corrected, by merging the hole with the larger intersecting national polygon:"
   ]
  },
  {
   "cell_type": "code",
   "execution_count": null,
   "id": "69304025-41fa-44a7-9cc8-5fd85d17185a",
   "metadata": {
    "jupyter": {
     "outputs_hidden": true
    },
    "scrolled": true,
    "tags": []
   },
   "outputs": [],
   "source": [
    "final = geoplanar.fill_holes(border_overlaps_removed) # creating final gdf "
   ]
  },
  {
   "cell_type": "code",
   "execution_count": null,
   "id": "cdd25d85-8c53-4a4b-a78a-f87d1b3a019f",
   "metadata": {},
   "outputs": [],
   "source": [
    "base = final.plot()\n",
    "_ = base.set_xlim(-109.87, -99.14)   \n",
    "_ = base.set_ylim(27.67, 32.68)"
   ]
  },
  {
   "cell_type": "code",
   "execution_count": null,
   "id": "be7a937b",
   "metadata": {},
   "outputs": [],
   "source": [
    "final.head()"
   ]
  },
  {
   "cell_type": "code",
   "execution_count": null,
   "id": "4a7128ba-1930-47dd-9bae-c9ee4d692c0a",
   "metadata": {},
   "outputs": [],
   "source": [
    "h1 = geoplanar.holes(final)"
   ]
  },
  {
   "cell_type": "code",
   "execution_count": null,
   "id": "26f9d30a-54c1-4150-b668-d969e608af5d",
   "metadata": {},
   "outputs": [],
   "source": [
    "h1.shape "
   ]
  },
  {
   "cell_type": "markdown",
   "id": "adac3acb",
   "metadata": {},
   "source": [
    "We have 0 holes after fixing overlaps, undershoots and filling in the holes."
   ]
  },
  {
   "cell_type": "code",
   "execution_count": null,
   "id": "38e3d9d6-b03d-423f-8575-8b0178fb7ed0",
   "metadata": {},
   "outputs": [],
   "source": [
    "base = final.plot(edgecolor='k')\n",
    "_ = usborder.plot(alpha=0.7, facecolor='none', edgecolor='white', ax = base)\n",
    "_ = mexborder.plot(alpha=0.7, facecolor='none', edgecolor='red', ax=base)\n",
    "_ = base.set_xlim(-109.87, -99.14)   \n",
    "_ = base.set_ylim(27.67, 32.68)\n",
    "\n"
   ]
  },
  {
   "cell_type": "code",
   "execution_count": null,
   "id": "429d17df-ac42-43b2-b28e-74bf97c07d4d",
   "metadata": {
    "lines_to_next_cell": 2
   },
   "outputs": [],
   "source": [
    "final.area"
   ]
  },
  {
   "cell_type": "code",
   "execution_count": null,
   "id": "dba9d5ae",
   "metadata": {},
   "outputs": [],
   "source": [
    "final.shape"
   ]
  },
  {
   "cell_type": "code",
   "execution_count": null,
   "id": "be376a83",
   "metadata": {},
   "outputs": [],
   "source": [
    "final.head()"
   ]
  },
  {
   "cell_type": "markdown",
   "id": "d090d341",
   "metadata": {},
   "source": [
    "After fixing the issues with overlaps, undershots, etc., we can check both gdf to see if we lost any geometries."
   ]
  },
  {
   "cell_type": "code",
   "execution_count": null,
   "id": "dd5bf2f6",
   "metadata": {},
   "outputs": [],
   "source": [
    "final.plot('COUNTRY')"
   ]
  },
  {
   "cell_type": "code",
   "execution_count": null,
   "id": "b4796396",
   "metadata": {},
   "outputs": [],
   "source": [
    "usmex.shape"
   ]
  },
  {
   "cell_type": "code",
   "execution_count": null,
   "id": "a6af5ad6",
   "metadata": {},
   "outputs": [],
   "source": [
    "final.shape"
   ]
  },
  {
   "cell_type": "markdown",
   "id": "b709f3f0",
   "metadata": {},
   "source": [
    "Notice we gained a column because we assigned a 'COUNTRY' label to each border region."
   ]
  },
  {
   "cell_type": "code",
   "execution_count": null,
   "id": "dac9a485",
   "metadata": {},
   "outputs": [],
   "source": [
    "usmex2.columns.symmetric_difference(usmex.columns)"
   ]
  }
 ],
 "metadata": {
  "jupytext": {
   "formats": "ipynb,md"
  },
  "kernelspec": {
   "display_name": "Python 3",
   "language": "python",
   "name": "python3"
  },
  "language_info": {
   "codemirror_mode": {
    "name": "ipython",
    "version": 3
   },
   "file_extension": ".py",
   "mimetype": "text/x-python",
   "name": "python",
   "nbconvert_exporter": "python",
   "pygments_lexer": "ipython3",
   "version": "3.7.10"
  }
 },
 "nbformat": 4,
 "nbformat_minor": 5
}
