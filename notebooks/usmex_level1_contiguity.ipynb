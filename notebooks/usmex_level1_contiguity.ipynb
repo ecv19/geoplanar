{
 "cells": [
  {
   "cell_type": "markdown",
   "id": "d8b70256-9398-409d-8953-b139a367d494",
   "metadata": {},
   "source": [
    "# Level 1 Contiguity\n",
    "\n",
    "### Mexico level 2 - municipalities & US counties"
   ]
  },
  {
   "cell_type": "code",
   "execution_count": 1,
   "id": "eb7b2ccb-12a8-49c3-896f-0c5cef25eb53",
   "metadata": {
    "ExecuteTime": {
     "end_time": "2021-11-27T01:44:46.513831Z",
     "start_time": "2021-11-27T01:44:44.990292Z"
    }
   },
   "outputs": [],
   "source": [
    "import geoplanar\n",
    "import geopandas as gpd\n",
    "import numpy as np\n",
    "import warnings\n",
    "warnings.filterwarnings(\"ignore\")"
   ]
  },
  {
   "cell_type": "code",
   "execution_count": 2,
   "id": "a7d51ff3-ac62-4eef-a77d-0bd574f4d3f9",
   "metadata": {
    "ExecuteTime": {
     "end_time": "2021-11-27T01:44:46.851410Z",
     "start_time": "2021-11-27T01:44:46.515346Z"
    }
   },
   "outputs": [
    {
     "data": {
      "text/html": [
       "<div>\n",
       "<style scoped>\n",
       "    .dataframe tbody tr th:only-of-type {\n",
       "        vertical-align: middle;\n",
       "    }\n",
       "\n",
       "    .dataframe tbody tr th {\n",
       "        vertical-align: top;\n",
       "    }\n",
       "\n",
       "    .dataframe thead th {\n",
       "        text-align: right;\n",
       "    }\n",
       "</style>\n",
       "<table border=\"1\" class=\"dataframe\">\n",
       "  <thead>\n",
       "    <tr style=\"text-align: right;\">\n",
       "      <th></th>\n",
       "      <th>index</th>\n",
       "      <th>ADM1_ES</th>\n",
       "      <th>ADM1_PCODE</th>\n",
       "      <th>ADM1_REF</th>\n",
       "      <th>ADM1ALT1ES</th>\n",
       "      <th>ADM1ALT2ES</th>\n",
       "      <th>ADM0_ES</th>\n",
       "      <th>ADM0_PCODE</th>\n",
       "      <th>date</th>\n",
       "      <th>validOn</th>\n",
       "      <th>...</th>\n",
       "      <th>GID_0</th>\n",
       "      <th>NAME_0</th>\n",
       "      <th>GID_1</th>\n",
       "      <th>NAME_1</th>\n",
       "      <th>VARNAME_1</th>\n",
       "      <th>NL_NAME_1</th>\n",
       "      <th>TYPE_1</th>\n",
       "      <th>ENGTYPE_1</th>\n",
       "      <th>CC_1</th>\n",
       "      <th>HASC_1</th>\n",
       "    </tr>\n",
       "  </thead>\n",
       "  <tbody>\n",
       "    <tr>\n",
       "      <th>0</th>\n",
       "      <td>0</td>\n",
       "      <td>Aguascalientes</td>\n",
       "      <td>MX01</td>\n",
       "      <td>None</td>\n",
       "      <td>None</td>\n",
       "      <td>None</td>\n",
       "      <td>México</td>\n",
       "      <td>MX</td>\n",
       "      <td>2020-06-23</td>\n",
       "      <td>2021-06-18</td>\n",
       "      <td>...</td>\n",
       "      <td>None</td>\n",
       "      <td>None</td>\n",
       "      <td>None</td>\n",
       "      <td>None</td>\n",
       "      <td>None</td>\n",
       "      <td>None</td>\n",
       "      <td>None</td>\n",
       "      <td>None</td>\n",
       "      <td>None</td>\n",
       "      <td>None</td>\n",
       "    </tr>\n",
       "    <tr>\n",
       "      <th>1</th>\n",
       "      <td>1</td>\n",
       "      <td>Baja California</td>\n",
       "      <td>MX02</td>\n",
       "      <td>None</td>\n",
       "      <td>None</td>\n",
       "      <td>None</td>\n",
       "      <td>México</td>\n",
       "      <td>MX</td>\n",
       "      <td>2020-06-23</td>\n",
       "      <td>2021-06-18</td>\n",
       "      <td>...</td>\n",
       "      <td>None</td>\n",
       "      <td>None</td>\n",
       "      <td>None</td>\n",
       "      <td>None</td>\n",
       "      <td>None</td>\n",
       "      <td>None</td>\n",
       "      <td>None</td>\n",
       "      <td>None</td>\n",
       "      <td>None</td>\n",
       "      <td>None</td>\n",
       "    </tr>\n",
       "    <tr>\n",
       "      <th>2</th>\n",
       "      <td>2</td>\n",
       "      <td>Baja California Sur</td>\n",
       "      <td>MX03</td>\n",
       "      <td>None</td>\n",
       "      <td>None</td>\n",
       "      <td>None</td>\n",
       "      <td>México</td>\n",
       "      <td>MX</td>\n",
       "      <td>2020-06-23</td>\n",
       "      <td>2021-06-18</td>\n",
       "      <td>...</td>\n",
       "      <td>None</td>\n",
       "      <td>None</td>\n",
       "      <td>None</td>\n",
       "      <td>None</td>\n",
       "      <td>None</td>\n",
       "      <td>None</td>\n",
       "      <td>None</td>\n",
       "      <td>None</td>\n",
       "      <td>None</td>\n",
       "      <td>None</td>\n",
       "    </tr>\n",
       "    <tr>\n",
       "      <th>3</th>\n",
       "      <td>3</td>\n",
       "      <td>Campeche</td>\n",
       "      <td>MX04</td>\n",
       "      <td>None</td>\n",
       "      <td>None</td>\n",
       "      <td>None</td>\n",
       "      <td>México</td>\n",
       "      <td>MX</td>\n",
       "      <td>2020-06-23</td>\n",
       "      <td>2021-06-18</td>\n",
       "      <td>...</td>\n",
       "      <td>None</td>\n",
       "      <td>None</td>\n",
       "      <td>None</td>\n",
       "      <td>None</td>\n",
       "      <td>None</td>\n",
       "      <td>None</td>\n",
       "      <td>None</td>\n",
       "      <td>None</td>\n",
       "      <td>None</td>\n",
       "      <td>None</td>\n",
       "    </tr>\n",
       "    <tr>\n",
       "      <th>4</th>\n",
       "      <td>4</td>\n",
       "      <td>Chiapas</td>\n",
       "      <td>MX07</td>\n",
       "      <td>None</td>\n",
       "      <td>None</td>\n",
       "      <td>None</td>\n",
       "      <td>México</td>\n",
       "      <td>MX</td>\n",
       "      <td>2020-06-23</td>\n",
       "      <td>2021-06-18</td>\n",
       "      <td>...</td>\n",
       "      <td>None</td>\n",
       "      <td>None</td>\n",
       "      <td>None</td>\n",
       "      <td>None</td>\n",
       "      <td>None</td>\n",
       "      <td>None</td>\n",
       "      <td>None</td>\n",
       "      <td>None</td>\n",
       "      <td>None</td>\n",
       "      <td>None</td>\n",
       "    </tr>\n",
       "    <tr>\n",
       "      <th>...</th>\n",
       "      <td>...</td>\n",
       "      <td>...</td>\n",
       "      <td>...</td>\n",
       "      <td>...</td>\n",
       "      <td>...</td>\n",
       "      <td>...</td>\n",
       "      <td>...</td>\n",
       "      <td>...</td>\n",
       "      <td>...</td>\n",
       "      <td>...</td>\n",
       "      <td>...</td>\n",
       "      <td>...</td>\n",
       "      <td>...</td>\n",
       "      <td>...</td>\n",
       "      <td>...</td>\n",
       "      <td>...</td>\n",
       "      <td>...</td>\n",
       "      <td>...</td>\n",
       "      <td>...</td>\n",
       "      <td>...</td>\n",
       "      <td>...</td>\n",
       "    </tr>\n",
       "    <tr>\n",
       "      <th>76</th>\n",
       "      <td>46</td>\n",
       "      <td>None</td>\n",
       "      <td>None</td>\n",
       "      <td>None</td>\n",
       "      <td>None</td>\n",
       "      <td>None</td>\n",
       "      <td>None</td>\n",
       "      <td>None</td>\n",
       "      <td>None</td>\n",
       "      <td>None</td>\n",
       "      <td>...</td>\n",
       "      <td>USA</td>\n",
       "      <td>United States</td>\n",
       "      <td>USA.47_1</td>\n",
       "      <td>Virginia</td>\n",
       "      <td>VA</td>\n",
       "      <td>None</td>\n",
       "      <td>State</td>\n",
       "      <td>State</td>\n",
       "      <td>None</td>\n",
       "      <td>US.VA</td>\n",
       "    </tr>\n",
       "    <tr>\n",
       "      <th>77</th>\n",
       "      <td>47</td>\n",
       "      <td>None</td>\n",
       "      <td>None</td>\n",
       "      <td>None</td>\n",
       "      <td>None</td>\n",
       "      <td>None</td>\n",
       "      <td>None</td>\n",
       "      <td>None</td>\n",
       "      <td>None</td>\n",
       "      <td>None</td>\n",
       "      <td>...</td>\n",
       "      <td>USA</td>\n",
       "      <td>United States</td>\n",
       "      <td>USA.48_1</td>\n",
       "      <td>Washington</td>\n",
       "      <td>WA|Wash.</td>\n",
       "      <td>None</td>\n",
       "      <td>State</td>\n",
       "      <td>State</td>\n",
       "      <td>None</td>\n",
       "      <td>US.WA</td>\n",
       "    </tr>\n",
       "    <tr>\n",
       "      <th>78</th>\n",
       "      <td>48</td>\n",
       "      <td>None</td>\n",
       "      <td>None</td>\n",
       "      <td>None</td>\n",
       "      <td>None</td>\n",
       "      <td>None</td>\n",
       "      <td>None</td>\n",
       "      <td>None</td>\n",
       "      <td>None</td>\n",
       "      <td>None</td>\n",
       "      <td>...</td>\n",
       "      <td>USA</td>\n",
       "      <td>United States</td>\n",
       "      <td>USA.49_1</td>\n",
       "      <td>West Virginia</td>\n",
       "      <td>WV|W.Va.</td>\n",
       "      <td>None</td>\n",
       "      <td>State</td>\n",
       "      <td>State</td>\n",
       "      <td>None</td>\n",
       "      <td>US.WV</td>\n",
       "    </tr>\n",
       "    <tr>\n",
       "      <th>79</th>\n",
       "      <td>49</td>\n",
       "      <td>None</td>\n",
       "      <td>None</td>\n",
       "      <td>None</td>\n",
       "      <td>None</td>\n",
       "      <td>None</td>\n",
       "      <td>None</td>\n",
       "      <td>None</td>\n",
       "      <td>None</td>\n",
       "      <td>None</td>\n",
       "      <td>...</td>\n",
       "      <td>USA</td>\n",
       "      <td>United States</td>\n",
       "      <td>USA.50_1</td>\n",
       "      <td>Wisconsin</td>\n",
       "      <td>WI|Wis.</td>\n",
       "      <td>None</td>\n",
       "      <td>State</td>\n",
       "      <td>State</td>\n",
       "      <td>None</td>\n",
       "      <td>US.WI</td>\n",
       "    </tr>\n",
       "    <tr>\n",
       "      <th>80</th>\n",
       "      <td>50</td>\n",
       "      <td>None</td>\n",
       "      <td>None</td>\n",
       "      <td>None</td>\n",
       "      <td>None</td>\n",
       "      <td>None</td>\n",
       "      <td>None</td>\n",
       "      <td>None</td>\n",
       "      <td>None</td>\n",
       "      <td>None</td>\n",
       "      <td>...</td>\n",
       "      <td>USA</td>\n",
       "      <td>United States</td>\n",
       "      <td>USA.51_1</td>\n",
       "      <td>Wyoming</td>\n",
       "      <td>WY|Wyo.</td>\n",
       "      <td>None</td>\n",
       "      <td>State</td>\n",
       "      <td>State</td>\n",
       "      <td>None</td>\n",
       "      <td>US.WY</td>\n",
       "    </tr>\n",
       "  </tbody>\n",
       "</table>\n",
       "<p>81 rows × 25 columns</p>\n",
       "</div>"
      ],
      "text/plain": [
       "    index              ADM1_ES ADM1_PCODE ADM1_REF ADM1ALT1ES ADM1ALT2ES  \\\n",
       "0       0       Aguascalientes       MX01     None       None       None   \n",
       "1       1      Baja California       MX02     None       None       None   \n",
       "2       2  Baja California Sur       MX03     None       None       None   \n",
       "3       3             Campeche       MX04     None       None       None   \n",
       "4       4              Chiapas       MX07     None       None       None   \n",
       "..    ...                  ...        ...      ...        ...        ...   \n",
       "76     46                 None       None     None       None       None   \n",
       "77     47                 None       None     None       None       None   \n",
       "78     48                 None       None     None       None       None   \n",
       "79     49                 None       None     None       None       None   \n",
       "80     50                 None       None     None       None       None   \n",
       "\n",
       "   ADM0_ES ADM0_PCODE        date     validOn  ... GID_0         NAME_0  \\\n",
       "0   México         MX  2020-06-23  2021-06-18  ...  None           None   \n",
       "1   México         MX  2020-06-23  2021-06-18  ...  None           None   \n",
       "2   México         MX  2020-06-23  2021-06-18  ...  None           None   \n",
       "3   México         MX  2020-06-23  2021-06-18  ...  None           None   \n",
       "4   México         MX  2020-06-23  2021-06-18  ...  None           None   \n",
       "..     ...        ...         ...         ...  ...   ...            ...   \n",
       "76    None       None        None        None  ...   USA  United States   \n",
       "77    None       None        None        None  ...   USA  United States   \n",
       "78    None       None        None        None  ...   USA  United States   \n",
       "79    None       None        None        None  ...   USA  United States   \n",
       "80    None       None        None        None  ...   USA  United States   \n",
       "\n",
       "       GID_1         NAME_1 VARNAME_1 NL_NAME_1 TYPE_1 ENGTYPE_1  CC_1 HASC_1  \n",
       "0       None           None      None      None   None      None  None   None  \n",
       "1       None           None      None      None   None      None  None   None  \n",
       "2       None           None      None      None   None      None  None   None  \n",
       "3       None           None      None      None   None      None  None   None  \n",
       "4       None           None      None      None   None      None  None   None  \n",
       "..       ...            ...       ...       ...    ...       ...   ...    ...  \n",
       "76  USA.47_1       Virginia        VA      None  State     State  None  US.VA  \n",
       "77  USA.48_1     Washington  WA|Wash.      None  State     State  None  US.WA  \n",
       "78  USA.49_1  West Virginia  WV|W.Va.      None  State     State  None  US.WV  \n",
       "79  USA.50_1      Wisconsin   WI|Wis.      None  State     State  None  US.WI  \n",
       "80  USA.51_1        Wyoming   WY|Wyo.      None  State     State  None  US.WY  \n",
       "\n",
       "[81 rows x 25 columns]"
      ]
     },
     "execution_count": 2,
     "metadata": {},
     "output_type": "execute_result"
    }
   ],
   "source": [
    "df = gpd.read_parquet(\"../geoplanar/datasets/usmex/usmex_1.parquet\")\n",
    "df"
   ]
  },
  {
   "cell_type": "code",
   "execution_count": 3,
   "id": "c6e94374",
   "metadata": {
    "ExecuteTime": {
     "end_time": "2021-11-27T01:44:46.857034Z",
     "start_time": "2021-11-27T01:44:46.853559Z"
    }
   },
   "outputs": [
    {
     "data": {
      "text/plain": [
       "(81, 25)"
      ]
     },
     "execution_count": 3,
     "metadata": {},
     "output_type": "execute_result"
    }
   ],
   "source": [
    "df.shape"
   ]
  },
  {
   "cell_type": "code",
   "execution_count": 4,
   "id": "bb4f7fb2",
   "metadata": {
    "ExecuteTime": {
     "end_time": "2021-11-27T01:44:47.054446Z",
     "start_time": "2021-11-27T01:44:46.858851Z"
    }
   },
   "outputs": [
    {
     "data": {
      "text/html": [
       "<div>\n",
       "<style scoped>\n",
       "    .dataframe tbody tr th:only-of-type {\n",
       "        vertical-align: middle;\n",
       "    }\n",
       "\n",
       "    .dataframe tbody tr th {\n",
       "        vertical-align: top;\n",
       "    }\n",
       "\n",
       "    .dataframe thead th {\n",
       "        text-align: right;\n",
       "    }\n",
       "</style>\n",
       "<table border=\"1\" class=\"dataframe\">\n",
       "  <thead>\n",
       "    <tr style=\"text-align: right;\">\n",
       "      <th></th>\n",
       "      <th>index</th>\n",
       "      <th>ADM1_ES</th>\n",
       "      <th>ADM1_PCODE</th>\n",
       "      <th>ADM1_REF</th>\n",
       "      <th>ADM1ALT1ES</th>\n",
       "      <th>ADM1ALT2ES</th>\n",
       "      <th>ADM0_ES</th>\n",
       "      <th>ADM0_PCODE</th>\n",
       "      <th>date</th>\n",
       "      <th>validOn</th>\n",
       "      <th>...</th>\n",
       "      <th>GID_0</th>\n",
       "      <th>NAME_0</th>\n",
       "      <th>GID_1</th>\n",
       "      <th>NAME_1</th>\n",
       "      <th>VARNAME_1</th>\n",
       "      <th>NL_NAME_1</th>\n",
       "      <th>TYPE_1</th>\n",
       "      <th>ENGTYPE_1</th>\n",
       "      <th>CC_1</th>\n",
       "      <th>HASC_1</th>\n",
       "    </tr>\n",
       "  </thead>\n",
       "  <tbody>\n",
       "    <tr>\n",
       "      <th>0</th>\n",
       "      <td>0</td>\n",
       "      <td>Aguascalientes</td>\n",
       "      <td>MX01</td>\n",
       "      <td>None</td>\n",
       "      <td>None</td>\n",
       "      <td>None</td>\n",
       "      <td>México</td>\n",
       "      <td>MX</td>\n",
       "      <td>2020-06-23</td>\n",
       "      <td>2021-06-18</td>\n",
       "      <td>...</td>\n",
       "      <td>None</td>\n",
       "      <td>None</td>\n",
       "      <td>None</td>\n",
       "      <td>None</td>\n",
       "      <td>None</td>\n",
       "      <td>None</td>\n",
       "      <td>None</td>\n",
       "      <td>None</td>\n",
       "      <td>None</td>\n",
       "      <td>None</td>\n",
       "    </tr>\n",
       "    <tr>\n",
       "      <th>1</th>\n",
       "      <td>1</td>\n",
       "      <td>Baja California</td>\n",
       "      <td>MX02</td>\n",
       "      <td>None</td>\n",
       "      <td>None</td>\n",
       "      <td>None</td>\n",
       "      <td>México</td>\n",
       "      <td>MX</td>\n",
       "      <td>2020-06-23</td>\n",
       "      <td>2021-06-18</td>\n",
       "      <td>...</td>\n",
       "      <td>None</td>\n",
       "      <td>None</td>\n",
       "      <td>None</td>\n",
       "      <td>None</td>\n",
       "      <td>None</td>\n",
       "      <td>None</td>\n",
       "      <td>None</td>\n",
       "      <td>None</td>\n",
       "      <td>None</td>\n",
       "      <td>None</td>\n",
       "    </tr>\n",
       "    <tr>\n",
       "      <th>2</th>\n",
       "      <td>2</td>\n",
       "      <td>Baja California Sur</td>\n",
       "      <td>MX03</td>\n",
       "      <td>None</td>\n",
       "      <td>None</td>\n",
       "      <td>None</td>\n",
       "      <td>México</td>\n",
       "      <td>MX</td>\n",
       "      <td>2020-06-23</td>\n",
       "      <td>2021-06-18</td>\n",
       "      <td>...</td>\n",
       "      <td>None</td>\n",
       "      <td>None</td>\n",
       "      <td>None</td>\n",
       "      <td>None</td>\n",
       "      <td>None</td>\n",
       "      <td>None</td>\n",
       "      <td>None</td>\n",
       "      <td>None</td>\n",
       "      <td>None</td>\n",
       "      <td>None</td>\n",
       "    </tr>\n",
       "    <tr>\n",
       "      <th>3</th>\n",
       "      <td>3</td>\n",
       "      <td>Campeche</td>\n",
       "      <td>MX04</td>\n",
       "      <td>None</td>\n",
       "      <td>None</td>\n",
       "      <td>None</td>\n",
       "      <td>México</td>\n",
       "      <td>MX</td>\n",
       "      <td>2020-06-23</td>\n",
       "      <td>2021-06-18</td>\n",
       "      <td>...</td>\n",
       "      <td>None</td>\n",
       "      <td>None</td>\n",
       "      <td>None</td>\n",
       "      <td>None</td>\n",
       "      <td>None</td>\n",
       "      <td>None</td>\n",
       "      <td>None</td>\n",
       "      <td>None</td>\n",
       "      <td>None</td>\n",
       "      <td>None</td>\n",
       "    </tr>\n",
       "    <tr>\n",
       "      <th>4</th>\n",
       "      <td>4</td>\n",
       "      <td>Chiapas</td>\n",
       "      <td>MX07</td>\n",
       "      <td>None</td>\n",
       "      <td>None</td>\n",
       "      <td>None</td>\n",
       "      <td>México</td>\n",
       "      <td>MX</td>\n",
       "      <td>2020-06-23</td>\n",
       "      <td>2021-06-18</td>\n",
       "      <td>...</td>\n",
       "      <td>None</td>\n",
       "      <td>None</td>\n",
       "      <td>None</td>\n",
       "      <td>None</td>\n",
       "      <td>None</td>\n",
       "      <td>None</td>\n",
       "      <td>None</td>\n",
       "      <td>None</td>\n",
       "      <td>None</td>\n",
       "      <td>None</td>\n",
       "    </tr>\n",
       "    <tr>\n",
       "      <th>...</th>\n",
       "      <td>...</td>\n",
       "      <td>...</td>\n",
       "      <td>...</td>\n",
       "      <td>...</td>\n",
       "      <td>...</td>\n",
       "      <td>...</td>\n",
       "      <td>...</td>\n",
       "      <td>...</td>\n",
       "      <td>...</td>\n",
       "      <td>...</td>\n",
       "      <td>...</td>\n",
       "      <td>...</td>\n",
       "      <td>...</td>\n",
       "      <td>...</td>\n",
       "      <td>...</td>\n",
       "      <td>...</td>\n",
       "      <td>...</td>\n",
       "      <td>...</td>\n",
       "      <td>...</td>\n",
       "      <td>...</td>\n",
       "      <td>...</td>\n",
       "    </tr>\n",
       "    <tr>\n",
       "      <th>76</th>\n",
       "      <td>46</td>\n",
       "      <td>None</td>\n",
       "      <td>None</td>\n",
       "      <td>None</td>\n",
       "      <td>None</td>\n",
       "      <td>None</td>\n",
       "      <td>None</td>\n",
       "      <td>None</td>\n",
       "      <td>None</td>\n",
       "      <td>None</td>\n",
       "      <td>...</td>\n",
       "      <td>USA</td>\n",
       "      <td>United States</td>\n",
       "      <td>USA.47_1</td>\n",
       "      <td>Virginia</td>\n",
       "      <td>VA</td>\n",
       "      <td>None</td>\n",
       "      <td>State</td>\n",
       "      <td>State</td>\n",
       "      <td>None</td>\n",
       "      <td>US.VA</td>\n",
       "    </tr>\n",
       "    <tr>\n",
       "      <th>77</th>\n",
       "      <td>47</td>\n",
       "      <td>None</td>\n",
       "      <td>None</td>\n",
       "      <td>None</td>\n",
       "      <td>None</td>\n",
       "      <td>None</td>\n",
       "      <td>None</td>\n",
       "      <td>None</td>\n",
       "      <td>None</td>\n",
       "      <td>None</td>\n",
       "      <td>...</td>\n",
       "      <td>USA</td>\n",
       "      <td>United States</td>\n",
       "      <td>USA.48_1</td>\n",
       "      <td>Washington</td>\n",
       "      <td>WA|Wash.</td>\n",
       "      <td>None</td>\n",
       "      <td>State</td>\n",
       "      <td>State</td>\n",
       "      <td>None</td>\n",
       "      <td>US.WA</td>\n",
       "    </tr>\n",
       "    <tr>\n",
       "      <th>78</th>\n",
       "      <td>48</td>\n",
       "      <td>None</td>\n",
       "      <td>None</td>\n",
       "      <td>None</td>\n",
       "      <td>None</td>\n",
       "      <td>None</td>\n",
       "      <td>None</td>\n",
       "      <td>None</td>\n",
       "      <td>None</td>\n",
       "      <td>None</td>\n",
       "      <td>...</td>\n",
       "      <td>USA</td>\n",
       "      <td>United States</td>\n",
       "      <td>USA.49_1</td>\n",
       "      <td>West Virginia</td>\n",
       "      <td>WV|W.Va.</td>\n",
       "      <td>None</td>\n",
       "      <td>State</td>\n",
       "      <td>State</td>\n",
       "      <td>None</td>\n",
       "      <td>US.WV</td>\n",
       "    </tr>\n",
       "    <tr>\n",
       "      <th>79</th>\n",
       "      <td>49</td>\n",
       "      <td>None</td>\n",
       "      <td>None</td>\n",
       "      <td>None</td>\n",
       "      <td>None</td>\n",
       "      <td>None</td>\n",
       "      <td>None</td>\n",
       "      <td>None</td>\n",
       "      <td>None</td>\n",
       "      <td>None</td>\n",
       "      <td>...</td>\n",
       "      <td>USA</td>\n",
       "      <td>United States</td>\n",
       "      <td>USA.50_1</td>\n",
       "      <td>Wisconsin</td>\n",
       "      <td>WI|Wis.</td>\n",
       "      <td>None</td>\n",
       "      <td>State</td>\n",
       "      <td>State</td>\n",
       "      <td>None</td>\n",
       "      <td>US.WI</td>\n",
       "    </tr>\n",
       "    <tr>\n",
       "      <th>80</th>\n",
       "      <td>50</td>\n",
       "      <td>None</td>\n",
       "      <td>None</td>\n",
       "      <td>None</td>\n",
       "      <td>None</td>\n",
       "      <td>None</td>\n",
       "      <td>None</td>\n",
       "      <td>None</td>\n",
       "      <td>None</td>\n",
       "      <td>None</td>\n",
       "      <td>...</td>\n",
       "      <td>USA</td>\n",
       "      <td>United States</td>\n",
       "      <td>USA.51_1</td>\n",
       "      <td>Wyoming</td>\n",
       "      <td>WY|Wyo.</td>\n",
       "      <td>None</td>\n",
       "      <td>State</td>\n",
       "      <td>State</td>\n",
       "      <td>None</td>\n",
       "      <td>US.WY</td>\n",
       "    </tr>\n",
       "  </tbody>\n",
       "</table>\n",
       "<p>81 rows × 25 columns</p>\n",
       "</div>"
      ],
      "text/plain": [
       "    index              ADM1_ES ADM1_PCODE ADM1_REF ADM1ALT1ES ADM1ALT2ES  \\\n",
       "0       0       Aguascalientes       MX01     None       None       None   \n",
       "1       1      Baja California       MX02     None       None       None   \n",
       "2       2  Baja California Sur       MX03     None       None       None   \n",
       "3       3             Campeche       MX04     None       None       None   \n",
       "4       4              Chiapas       MX07     None       None       None   \n",
       "..    ...                  ...        ...      ...        ...        ...   \n",
       "76     46                 None       None     None       None       None   \n",
       "77     47                 None       None     None       None       None   \n",
       "78     48                 None       None     None       None       None   \n",
       "79     49                 None       None     None       None       None   \n",
       "80     50                 None       None     None       None       None   \n",
       "\n",
       "   ADM0_ES ADM0_PCODE        date     validOn  ... GID_0         NAME_0  \\\n",
       "0   México         MX  2020-06-23  2021-06-18  ...  None           None   \n",
       "1   México         MX  2020-06-23  2021-06-18  ...  None           None   \n",
       "2   México         MX  2020-06-23  2021-06-18  ...  None           None   \n",
       "3   México         MX  2020-06-23  2021-06-18  ...  None           None   \n",
       "4   México         MX  2020-06-23  2021-06-18  ...  None           None   \n",
       "..     ...        ...         ...         ...  ...   ...            ...   \n",
       "76    None       None        None        None  ...   USA  United States   \n",
       "77    None       None        None        None  ...   USA  United States   \n",
       "78    None       None        None        None  ...   USA  United States   \n",
       "79    None       None        None        None  ...   USA  United States   \n",
       "80    None       None        None        None  ...   USA  United States   \n",
       "\n",
       "       GID_1         NAME_1 VARNAME_1 NL_NAME_1 TYPE_1 ENGTYPE_1  CC_1 HASC_1  \n",
       "0       None           None      None      None   None      None  None   None  \n",
       "1       None           None      None      None   None      None  None   None  \n",
       "2       None           None      None      None   None      None  None   None  \n",
       "3       None           None      None      None   None      None  None   None  \n",
       "4       None           None      None      None   None      None  None   None  \n",
       "..       ...            ...       ...       ...    ...       ...   ...    ...  \n",
       "76  USA.47_1       Virginia        VA      None  State     State  None  US.VA  \n",
       "77  USA.48_1     Washington  WA|Wash.      None  State     State  None  US.WA  \n",
       "78  USA.49_1  West Virginia  WV|W.Va.      None  State     State  None  US.WV  \n",
       "79  USA.50_1      Wisconsin   WI|Wis.      None  State     State  None  US.WI  \n",
       "80  USA.51_1        Wyoming   WY|Wyo.      None  State     State  None  US.WY  \n",
       "\n",
       "[81 rows x 25 columns]"
      ]
     },
     "execution_count": 4,
     "metadata": {},
     "output_type": "execute_result"
    }
   ],
   "source": [
    "df2 = gpd.read_parquet(\"../geoplanar/datasets/usmex/final_usmex1.parquet\")\n",
    "df2"
   ]
  },
  {
   "cell_type": "markdown",
   "id": "d1059da3",
   "metadata": {},
   "source": [
    "# Checking for contiguity"
   ]
  },
  {
   "cell_type": "code",
   "execution_count": 5,
   "id": "7bea89ad",
   "metadata": {
    "ExecuteTime": {
     "end_time": "2021-11-27T01:44:47.058585Z",
     "start_time": "2021-11-27T01:44:47.056135Z"
    }
   },
   "outputs": [],
   "source": [
    "import libpysal\n",
    "from libpysal.weights import Queen, Rook\n",
    "import pandas"
   ]
  },
  {
   "cell_type": "markdown",
   "id": "a500aef5",
   "metadata": {},
   "source": [
    "## Rook contiguity"
   ]
  },
  {
   "cell_type": "code",
   "execution_count": 6,
   "id": "5e65b9f0",
   "metadata": {
    "ExecuteTime": {
     "end_time": "2021-11-27T01:44:59.543277Z",
     "start_time": "2021-11-27T01:44:47.060366Z"
    },
    "scrolled": true
   },
   "outputs": [],
   "source": [
    "w_rook = Rook.from_dataframe(df)"
   ]
  },
  {
   "cell_type": "code",
   "execution_count": 7,
   "id": "b28769b2",
   "metadata": {
    "ExecuteTime": {
     "end_time": "2021-11-27T01:44:59.549613Z",
     "start_time": "2021-11-27T01:44:59.545126Z"
    }
   },
   "outputs": [
    {
     "data": {
      "text/plain": [
       "81"
      ]
     },
     "execution_count": 7,
     "metadata": {},
     "output_type": "execute_result"
    }
   ],
   "source": [
    "w_rook.n"
   ]
  },
  {
   "cell_type": "code",
   "execution_count": 8,
   "id": "c157599a",
   "metadata": {
    "ExecuteTime": {
     "end_time": "2021-11-27T01:44:59.558219Z",
     "start_time": "2021-11-27T01:44:59.554327Z"
    }
   },
   "outputs": [
    {
     "data": {
      "text/plain": [
       "354"
      ]
     },
     "execution_count": 8,
     "metadata": {},
     "output_type": "execute_result"
    }
   ],
   "source": [
    "# non-zero entries\n",
    "w_rook.nonzero"
   ]
  },
  {
   "cell_type": "code",
   "execution_count": 9,
   "id": "029731a9",
   "metadata": {
    "ExecuteTime": {
     "end_time": "2021-11-27T01:44:59.564369Z",
     "start_time": "2021-11-27T01:44:59.560999Z"
    }
   },
   "outputs": [
    {
     "data": {
      "text/plain": [
       "354.0"
      ]
     },
     "execution_count": 9,
     "metadata": {},
     "output_type": "execute_result"
    }
   ],
   "source": [
    "# number of joins\n",
    "w_rook.s0"
   ]
  },
  {
   "cell_type": "code",
   "execution_count": 10,
   "id": "e9768c1a",
   "metadata": {
    "ExecuteTime": {
     "end_time": "2021-11-27T01:44:59.569233Z",
     "start_time": "2021-11-27T01:44:59.565918Z"
    }
   },
   "outputs": [
    {
     "data": {
      "text/plain": [
       "5.3955189757658895"
      ]
     },
     "execution_count": 10,
     "metadata": {},
     "output_type": "execute_result"
    }
   ],
   "source": [
    "# measure of the density of the spatial weights matrix\n",
    "w_rook.pct_nonzero"
   ]
  },
  {
   "cell_type": "code",
   "execution_count": 11,
   "id": "659c4cdc",
   "metadata": {
    "ExecuteTime": {
     "end_time": "2021-11-27T01:44:59.574480Z",
     "start_time": "2021-11-27T01:44:59.570814Z"
    }
   },
   "outputs": [
    {
     "data": {
      "text/plain": [
       "[13, 31]"
      ]
     },
     "execution_count": 11,
     "metadata": {},
     "output_type": "execute_result"
    }
   ],
   "source": [
    "# location 0 has the following neighbors\n",
    "w_rook.neighbors[0] "
   ]
  },
  {
   "cell_type": "code",
   "execution_count": 12,
   "id": "4a6a8ba8",
   "metadata": {
    "ExecuteTime": {
     "end_time": "2021-11-27T01:44:59.585964Z",
     "start_time": "2021-11-27T01:44:59.576191Z"
    }
   },
   "outputs": [
    {
     "data": {
      "text/plain": [
       "{0: [13, 31],\n",
       " 1: [25, 2],\n",
       " 2: [1],\n",
       " 3: [26, 22, 30],\n",
       " 4: [26, 19, 29],\n",
       " 5: [24, 9, 6, 25],\n",
       " 6: [9, 18, 5, 31],\n",
       " 7: [13, 15],\n",
       " 8: [16, 14],\n",
       " 9: [17, 5, 6, 24, 31],\n",
       " 10: [21, 23, 15, 13, 31],\n",
       " 11: [16, 19, 20, 14, 15],\n",
       " 12: [20, 21, 23, 28, 29, 14],\n",
       " 13: [0, 17, 7, 10, 31, 15],\n",
       " 14: [8, 11, 12, 15, 16, 20, 21, 28],\n",
       " 15: [21, 7, 10, 11, 13, 14],\n",
       " 16: [8, 11, 20, 14],\n",
       " 17: [24, 9, 13, 31],\n",
       " 18: [27, 31, 6, 23],\n",
       " 19: [29, 11, 4, 20],\n",
       " 20: [16, 29, 19, 11, 12, 28, 14],\n",
       " 21: [23, 10, 12, 14, 15],\n",
       " 22: [3, 30],\n",
       " 23: [18, 21, 10, 27, 12, 29, 31],\n",
       " 24: [17, 5, 9, 25],\n",
       " 25: [24, 1, 5],\n",
       " 26: [3, 4, 29],\n",
       " 27: [18, 29, 23],\n",
       " 28: [20, 12, 14],\n",
       " 29: [19, 4, 20, 23, 26, 27, 12],\n",
       " 30: [3, 22],\n",
       " 31: [0, 6, 9, 10, 13, 17, 18, 23],\n",
       " 32: [72, 41, 40, 54],\n",
       " 33: [74, 35, 58, 61],\n",
       " 34: [48, 66, 54, 55, 72, 73],\n",
       " 35: [33, 58, 67],\n",
       " 36: [80, 66, 57, 74, 61, 46],\n",
       " 37: [51, 69, 62],\n",
       " 38: [50, 68, 60],\n",
       " 39: [50, 76],\n",
       " 40: [32, 41],\n",
       " 41: [32, 70, 40, 72, 63],\n",
       " 42: [80, 67, 58, 56, 74, 77],\n",
       " 43: [47, 52, 55, 44, 45, 79],\n",
       " 44: [65, 43, 52, 47],\n",
       " 45: [53, 55, 71, 57, 43, 79],\n",
       " 46: [57, 66, 36, 55],\n",
       " 47: [65, 55, 72, 43, 44, 78, 76],\n",
       " 48: [73, 34, 54],\n",
       " 49: [59],\n",
       " 50: [68, 38, 39, 76, 78],\n",
       " 51: [37, 69, 59, 75, 62],\n",
       " 52: [65, 53, 43, 44, 79],\n",
       " 53: [64, 52, 71, 45, 79],\n",
       " 54: [32, 48, 72, 34],\n",
       " 55: [34, 66, 72, 43, 45, 46, 47, 57],\n",
       " 56: [80, 42, 64, 71],\n",
       " 57: [80, 36, 55, 71, 45, 46],\n",
       " 58: [33, 67, 35, 74, 42],\n",
       " 59: [49, 75, 51],\n",
       " 60: [62, 68, 38],\n",
       " 61: [73, 33, 66, 36],\n",
       " 62: [65, 51, 68, 37, 75, 60],\n",
       " 63: [72, 41, 76, 70],\n",
       " 64: [56, 53, 71],\n",
       " 65: [52, 68, 62, 44, 78, 47],\n",
       " 66: [34, 36, 55, 73, 61, 46],\n",
       " 67: [42, 35, 58, 77],\n",
       " 68: [65, 50, 38, 78, 60, 62],\n",
       " 69: [51, 37],\n",
       " 70: [41, 63],\n",
       " 71: [64, 80, 53, 56, 57, 45],\n",
       " 72: [32, 34, 41, 76, 47, 54, 55, 63],\n",
       " 73: [48, 34, 61, 66],\n",
       " 74: [80, 33, 36, 42, 58],\n",
       " 75: [59, 51, 62],\n",
       " 76: [50, 39, 72, 47, 78, 63],\n",
       " 77: [42, 67],\n",
       " 78: [65, 50, 68, 76, 47],\n",
       " 79: [45, 43, 52, 53],\n",
       " 80: [36, 42, 71, 56, 57, 74]}"
      ]
     },
     "execution_count": 12,
     "metadata": {},
     "output_type": "execute_result"
    }
   ],
   "source": [
    "# neighbors for each observation\n",
    "w_rook.neighbors"
   ]
  },
  {
   "cell_type": "code",
   "execution_count": 13,
   "id": "e9d9784d",
   "metadata": {
    "ExecuteTime": {
     "end_time": "2021-11-27T01:44:59.603621Z",
     "start_time": "2021-11-27T01:44:59.587702Z"
    }
   },
   "outputs": [
    {
     "data": {
      "text/html": [
       "<div>\n",
       "<style scoped>\n",
       "    .dataframe tbody tr th:only-of-type {\n",
       "        vertical-align: middle;\n",
       "    }\n",
       "\n",
       "    .dataframe tbody tr th {\n",
       "        vertical-align: top;\n",
       "    }\n",
       "\n",
       "    .dataframe thead th {\n",
       "        text-align: right;\n",
       "    }\n",
       "</style>\n",
       "<table border=\"1\" class=\"dataframe\">\n",
       "  <thead>\n",
       "    <tr style=\"text-align: right;\">\n",
       "      <th></th>\n",
       "      <th>0</th>\n",
       "      <th>1</th>\n",
       "      <th>2</th>\n",
       "      <th>3</th>\n",
       "      <th>4</th>\n",
       "      <th>5</th>\n",
       "      <th>6</th>\n",
       "      <th>7</th>\n",
       "      <th>8</th>\n",
       "      <th>9</th>\n",
       "      <th>...</th>\n",
       "      <th>71</th>\n",
       "      <th>72</th>\n",
       "      <th>73</th>\n",
       "      <th>74</th>\n",
       "      <th>75</th>\n",
       "      <th>76</th>\n",
       "      <th>77</th>\n",
       "      <th>78</th>\n",
       "      <th>79</th>\n",
       "      <th>80</th>\n",
       "    </tr>\n",
       "  </thead>\n",
       "  <tbody>\n",
       "    <tr>\n",
       "      <th>0</th>\n",
       "      <td>0</td>\n",
       "      <td>0</td>\n",
       "      <td>0</td>\n",
       "      <td>0</td>\n",
       "      <td>0</td>\n",
       "      <td>0</td>\n",
       "      <td>0</td>\n",
       "      <td>0</td>\n",
       "      <td>0</td>\n",
       "      <td>0</td>\n",
       "      <td>...</td>\n",
       "      <td>0</td>\n",
       "      <td>0</td>\n",
       "      <td>0</td>\n",
       "      <td>0</td>\n",
       "      <td>0</td>\n",
       "      <td>0</td>\n",
       "      <td>0</td>\n",
       "      <td>0</td>\n",
       "      <td>0</td>\n",
       "      <td>0</td>\n",
       "    </tr>\n",
       "    <tr>\n",
       "      <th>1</th>\n",
       "      <td>0</td>\n",
       "      <td>0</td>\n",
       "      <td>1</td>\n",
       "      <td>0</td>\n",
       "      <td>0</td>\n",
       "      <td>0</td>\n",
       "      <td>0</td>\n",
       "      <td>0</td>\n",
       "      <td>0</td>\n",
       "      <td>0</td>\n",
       "      <td>...</td>\n",
       "      <td>0</td>\n",
       "      <td>0</td>\n",
       "      <td>0</td>\n",
       "      <td>0</td>\n",
       "      <td>0</td>\n",
       "      <td>0</td>\n",
       "      <td>0</td>\n",
       "      <td>0</td>\n",
       "      <td>0</td>\n",
       "      <td>0</td>\n",
       "    </tr>\n",
       "    <tr>\n",
       "      <th>2</th>\n",
       "      <td>0</td>\n",
       "      <td>1</td>\n",
       "      <td>0</td>\n",
       "      <td>0</td>\n",
       "      <td>0</td>\n",
       "      <td>0</td>\n",
       "      <td>0</td>\n",
       "      <td>0</td>\n",
       "      <td>0</td>\n",
       "      <td>0</td>\n",
       "      <td>...</td>\n",
       "      <td>0</td>\n",
       "      <td>0</td>\n",
       "      <td>0</td>\n",
       "      <td>0</td>\n",
       "      <td>0</td>\n",
       "      <td>0</td>\n",
       "      <td>0</td>\n",
       "      <td>0</td>\n",
       "      <td>0</td>\n",
       "      <td>0</td>\n",
       "    </tr>\n",
       "    <tr>\n",
       "      <th>3</th>\n",
       "      <td>0</td>\n",
       "      <td>0</td>\n",
       "      <td>0</td>\n",
       "      <td>0</td>\n",
       "      <td>0</td>\n",
       "      <td>0</td>\n",
       "      <td>0</td>\n",
       "      <td>0</td>\n",
       "      <td>0</td>\n",
       "      <td>0</td>\n",
       "      <td>...</td>\n",
       "      <td>0</td>\n",
       "      <td>0</td>\n",
       "      <td>0</td>\n",
       "      <td>0</td>\n",
       "      <td>0</td>\n",
       "      <td>0</td>\n",
       "      <td>0</td>\n",
       "      <td>0</td>\n",
       "      <td>0</td>\n",
       "      <td>0</td>\n",
       "    </tr>\n",
       "    <tr>\n",
       "      <th>4</th>\n",
       "      <td>0</td>\n",
       "      <td>0</td>\n",
       "      <td>0</td>\n",
       "      <td>0</td>\n",
       "      <td>0</td>\n",
       "      <td>0</td>\n",
       "      <td>0</td>\n",
       "      <td>0</td>\n",
       "      <td>0</td>\n",
       "      <td>0</td>\n",
       "      <td>...</td>\n",
       "      <td>0</td>\n",
       "      <td>0</td>\n",
       "      <td>0</td>\n",
       "      <td>0</td>\n",
       "      <td>0</td>\n",
       "      <td>0</td>\n",
       "      <td>0</td>\n",
       "      <td>0</td>\n",
       "      <td>0</td>\n",
       "      <td>0</td>\n",
       "    </tr>\n",
       "    <tr>\n",
       "      <th>...</th>\n",
       "      <td>...</td>\n",
       "      <td>...</td>\n",
       "      <td>...</td>\n",
       "      <td>...</td>\n",
       "      <td>...</td>\n",
       "      <td>...</td>\n",
       "      <td>...</td>\n",
       "      <td>...</td>\n",
       "      <td>...</td>\n",
       "      <td>...</td>\n",
       "      <td>...</td>\n",
       "      <td>...</td>\n",
       "      <td>...</td>\n",
       "      <td>...</td>\n",
       "      <td>...</td>\n",
       "      <td>...</td>\n",
       "      <td>...</td>\n",
       "      <td>...</td>\n",
       "      <td>...</td>\n",
       "      <td>...</td>\n",
       "      <td>...</td>\n",
       "    </tr>\n",
       "    <tr>\n",
       "      <th>76</th>\n",
       "      <td>0</td>\n",
       "      <td>0</td>\n",
       "      <td>0</td>\n",
       "      <td>0</td>\n",
       "      <td>0</td>\n",
       "      <td>0</td>\n",
       "      <td>0</td>\n",
       "      <td>0</td>\n",
       "      <td>0</td>\n",
       "      <td>0</td>\n",
       "      <td>...</td>\n",
       "      <td>0</td>\n",
       "      <td>1</td>\n",
       "      <td>0</td>\n",
       "      <td>0</td>\n",
       "      <td>0</td>\n",
       "      <td>0</td>\n",
       "      <td>0</td>\n",
       "      <td>1</td>\n",
       "      <td>0</td>\n",
       "      <td>0</td>\n",
       "    </tr>\n",
       "    <tr>\n",
       "      <th>77</th>\n",
       "      <td>0</td>\n",
       "      <td>0</td>\n",
       "      <td>0</td>\n",
       "      <td>0</td>\n",
       "      <td>0</td>\n",
       "      <td>0</td>\n",
       "      <td>0</td>\n",
       "      <td>0</td>\n",
       "      <td>0</td>\n",
       "      <td>0</td>\n",
       "      <td>...</td>\n",
       "      <td>0</td>\n",
       "      <td>0</td>\n",
       "      <td>0</td>\n",
       "      <td>0</td>\n",
       "      <td>0</td>\n",
       "      <td>0</td>\n",
       "      <td>0</td>\n",
       "      <td>0</td>\n",
       "      <td>0</td>\n",
       "      <td>0</td>\n",
       "    </tr>\n",
       "    <tr>\n",
       "      <th>78</th>\n",
       "      <td>0</td>\n",
       "      <td>0</td>\n",
       "      <td>0</td>\n",
       "      <td>0</td>\n",
       "      <td>0</td>\n",
       "      <td>0</td>\n",
       "      <td>0</td>\n",
       "      <td>0</td>\n",
       "      <td>0</td>\n",
       "      <td>0</td>\n",
       "      <td>...</td>\n",
       "      <td>0</td>\n",
       "      <td>0</td>\n",
       "      <td>0</td>\n",
       "      <td>0</td>\n",
       "      <td>0</td>\n",
       "      <td>1</td>\n",
       "      <td>0</td>\n",
       "      <td>0</td>\n",
       "      <td>0</td>\n",
       "      <td>0</td>\n",
       "    </tr>\n",
       "    <tr>\n",
       "      <th>79</th>\n",
       "      <td>0</td>\n",
       "      <td>0</td>\n",
       "      <td>0</td>\n",
       "      <td>0</td>\n",
       "      <td>0</td>\n",
       "      <td>0</td>\n",
       "      <td>0</td>\n",
       "      <td>0</td>\n",
       "      <td>0</td>\n",
       "      <td>0</td>\n",
       "      <td>...</td>\n",
       "      <td>0</td>\n",
       "      <td>0</td>\n",
       "      <td>0</td>\n",
       "      <td>0</td>\n",
       "      <td>0</td>\n",
       "      <td>0</td>\n",
       "      <td>0</td>\n",
       "      <td>0</td>\n",
       "      <td>0</td>\n",
       "      <td>0</td>\n",
       "    </tr>\n",
       "    <tr>\n",
       "      <th>80</th>\n",
       "      <td>0</td>\n",
       "      <td>0</td>\n",
       "      <td>0</td>\n",
       "      <td>0</td>\n",
       "      <td>0</td>\n",
       "      <td>0</td>\n",
       "      <td>0</td>\n",
       "      <td>0</td>\n",
       "      <td>0</td>\n",
       "      <td>0</td>\n",
       "      <td>...</td>\n",
       "      <td>1</td>\n",
       "      <td>0</td>\n",
       "      <td>0</td>\n",
       "      <td>1</td>\n",
       "      <td>0</td>\n",
       "      <td>0</td>\n",
       "      <td>0</td>\n",
       "      <td>0</td>\n",
       "      <td>0</td>\n",
       "      <td>0</td>\n",
       "    </tr>\n",
       "  </tbody>\n",
       "</table>\n",
       "<p>81 rows × 81 columns</p>\n",
       "</div>"
      ],
      "text/plain": [
       "    0   1   2   3   4   5   6   7   8   9   ...  71  72  73  74  75  76  77  \\\n",
       "0    0   0   0   0   0   0   0   0   0   0  ...   0   0   0   0   0   0   0   \n",
       "1    0   0   1   0   0   0   0   0   0   0  ...   0   0   0   0   0   0   0   \n",
       "2    0   1   0   0   0   0   0   0   0   0  ...   0   0   0   0   0   0   0   \n",
       "3    0   0   0   0   0   0   0   0   0   0  ...   0   0   0   0   0   0   0   \n",
       "4    0   0   0   0   0   0   0   0   0   0  ...   0   0   0   0   0   0   0   \n",
       "..  ..  ..  ..  ..  ..  ..  ..  ..  ..  ..  ...  ..  ..  ..  ..  ..  ..  ..   \n",
       "76   0   0   0   0   0   0   0   0   0   0  ...   0   1   0   0   0   0   0   \n",
       "77   0   0   0   0   0   0   0   0   0   0  ...   0   0   0   0   0   0   0   \n",
       "78   0   0   0   0   0   0   0   0   0   0  ...   0   0   0   0   0   1   0   \n",
       "79   0   0   0   0   0   0   0   0   0   0  ...   0   0   0   0   0   0   0   \n",
       "80   0   0   0   0   0   0   0   0   0   0  ...   1   0   0   1   0   0   0   \n",
       "\n",
       "    78  79  80  \n",
       "0    0   0   0  \n",
       "1    0   0   0  \n",
       "2    0   0   0  \n",
       "3    0   0   0  \n",
       "4    0   0   0  \n",
       "..  ..  ..  ..  \n",
       "76   1   0   0  \n",
       "77   0   0   0  \n",
       "78   0   0   0  \n",
       "79   0   0   0  \n",
       "80   0   0   0  \n",
       "\n",
       "[81 rows x 81 columns]"
      ]
     },
     "execution_count": 13,
     "metadata": {},
     "output_type": "execute_result"
    }
   ],
   "source": [
    "# full neighbor matrix\n",
    "pandas.DataFrame(*w_rook.full()).astype(int)"
   ]
  },
  {
   "cell_type": "code",
   "execution_count": 14,
   "id": "0c9c843e",
   "metadata": {
    "ExecuteTime": {
     "end_time": "2021-11-27T01:44:59.614674Z",
     "start_time": "2021-11-27T01:44:59.605569Z"
    },
    "scrolled": true
   },
   "outputs": [
    {
     "data": {
      "text/plain": [
       "{0: [1.0, 1.0],\n",
       " 1: [1.0, 1.0],\n",
       " 2: [1.0],\n",
       " 3: [1.0, 1.0, 1.0],\n",
       " 4: [1.0, 1.0, 1.0],\n",
       " 5: [1.0, 1.0, 1.0, 1.0],\n",
       " 6: [1.0, 1.0, 1.0, 1.0],\n",
       " 7: [1.0, 1.0],\n",
       " 8: [1.0, 1.0],\n",
       " 9: [1.0, 1.0, 1.0, 1.0, 1.0],\n",
       " 10: [1.0, 1.0, 1.0, 1.0, 1.0],\n",
       " 11: [1.0, 1.0, 1.0, 1.0, 1.0],\n",
       " 12: [1.0, 1.0, 1.0, 1.0, 1.0, 1.0],\n",
       " 13: [1.0, 1.0, 1.0, 1.0, 1.0, 1.0],\n",
       " 14: [1.0, 1.0, 1.0, 1.0, 1.0, 1.0, 1.0, 1.0],\n",
       " 15: [1.0, 1.0, 1.0, 1.0, 1.0, 1.0],\n",
       " 16: [1.0, 1.0, 1.0, 1.0],\n",
       " 17: [1.0, 1.0, 1.0, 1.0],\n",
       " 18: [1.0, 1.0, 1.0, 1.0],\n",
       " 19: [1.0, 1.0, 1.0, 1.0],\n",
       " 20: [1.0, 1.0, 1.0, 1.0, 1.0, 1.0, 1.0],\n",
       " 21: [1.0, 1.0, 1.0, 1.0, 1.0],\n",
       " 22: [1.0, 1.0],\n",
       " 23: [1.0, 1.0, 1.0, 1.0, 1.0, 1.0, 1.0],\n",
       " 24: [1.0, 1.0, 1.0, 1.0],\n",
       " 25: [1.0, 1.0, 1.0],\n",
       " 26: [1.0, 1.0, 1.0],\n",
       " 27: [1.0, 1.0, 1.0],\n",
       " 28: [1.0, 1.0, 1.0],\n",
       " 29: [1.0, 1.0, 1.0, 1.0, 1.0, 1.0, 1.0],\n",
       " 30: [1.0, 1.0],\n",
       " 31: [1.0, 1.0, 1.0, 1.0, 1.0, 1.0, 1.0, 1.0],\n",
       " 32: [1.0, 1.0, 1.0, 1.0],\n",
       " 33: [1.0, 1.0, 1.0, 1.0],\n",
       " 34: [1.0, 1.0, 1.0, 1.0, 1.0, 1.0],\n",
       " 35: [1.0, 1.0, 1.0],\n",
       " 36: [1.0, 1.0, 1.0, 1.0, 1.0, 1.0],\n",
       " 37: [1.0, 1.0, 1.0],\n",
       " 38: [1.0, 1.0, 1.0],\n",
       " 39: [1.0, 1.0],\n",
       " 40: [1.0, 1.0],\n",
       " 41: [1.0, 1.0, 1.0, 1.0, 1.0],\n",
       " 42: [1.0, 1.0, 1.0, 1.0, 1.0, 1.0],\n",
       " 43: [1.0, 1.0, 1.0, 1.0, 1.0, 1.0],\n",
       " 44: [1.0, 1.0, 1.0, 1.0],\n",
       " 45: [1.0, 1.0, 1.0, 1.0, 1.0, 1.0],\n",
       " 46: [1.0, 1.0, 1.0, 1.0],\n",
       " 47: [1.0, 1.0, 1.0, 1.0, 1.0, 1.0, 1.0],\n",
       " 48: [1.0, 1.0, 1.0],\n",
       " 49: [1.0],\n",
       " 50: [1.0, 1.0, 1.0, 1.0, 1.0],\n",
       " 51: [1.0, 1.0, 1.0, 1.0, 1.0],\n",
       " 52: [1.0, 1.0, 1.0, 1.0, 1.0],\n",
       " 53: [1.0, 1.0, 1.0, 1.0, 1.0],\n",
       " 54: [1.0, 1.0, 1.0, 1.0],\n",
       " 55: [1.0, 1.0, 1.0, 1.0, 1.0, 1.0, 1.0, 1.0],\n",
       " 56: [1.0, 1.0, 1.0, 1.0],\n",
       " 57: [1.0, 1.0, 1.0, 1.0, 1.0, 1.0],\n",
       " 58: [1.0, 1.0, 1.0, 1.0, 1.0],\n",
       " 59: [1.0, 1.0, 1.0],\n",
       " 60: [1.0, 1.0, 1.0],\n",
       " 61: [1.0, 1.0, 1.0, 1.0],\n",
       " 62: [1.0, 1.0, 1.0, 1.0, 1.0, 1.0],\n",
       " 63: [1.0, 1.0, 1.0, 1.0],\n",
       " 64: [1.0, 1.0, 1.0],\n",
       " 65: [1.0, 1.0, 1.0, 1.0, 1.0, 1.0],\n",
       " 66: [1.0, 1.0, 1.0, 1.0, 1.0, 1.0],\n",
       " 67: [1.0, 1.0, 1.0, 1.0],\n",
       " 68: [1.0, 1.0, 1.0, 1.0, 1.0, 1.0],\n",
       " 69: [1.0, 1.0],\n",
       " 70: [1.0, 1.0],\n",
       " 71: [1.0, 1.0, 1.0, 1.0, 1.0, 1.0],\n",
       " 72: [1.0, 1.0, 1.0, 1.0, 1.0, 1.0, 1.0, 1.0],\n",
       " 73: [1.0, 1.0, 1.0, 1.0],\n",
       " 74: [1.0, 1.0, 1.0, 1.0, 1.0],\n",
       " 75: [1.0, 1.0, 1.0],\n",
       " 76: [1.0, 1.0, 1.0, 1.0, 1.0, 1.0],\n",
       " 77: [1.0, 1.0],\n",
       " 78: [1.0, 1.0, 1.0, 1.0, 1.0],\n",
       " 79: [1.0, 1.0, 1.0, 1.0],\n",
       " 80: [1.0, 1.0, 1.0, 1.0, 1.0, 1.0]}"
      ]
     },
     "execution_count": 14,
     "metadata": {},
     "output_type": "execute_result"
    }
   ],
   "source": [
    "# weight values\n",
    "w_rook.weights"
   ]
  },
  {
   "cell_type": "code",
   "execution_count": 15,
   "id": "b86c2a58",
   "metadata": {
    "ExecuteTime": {
     "end_time": "2021-11-27T01:44:59.622871Z",
     "start_time": "2021-11-27T01:44:59.616857Z"
    },
    "scrolled": true
   },
   "outputs": [
    {
     "data": {
      "text/plain": [
       "{0: 2,\n",
       " 1: 2,\n",
       " 2: 1,\n",
       " 3: 3,\n",
       " 4: 3,\n",
       " 5: 4,\n",
       " 6: 4,\n",
       " 7: 2,\n",
       " 8: 2,\n",
       " 9: 5,\n",
       " 10: 5,\n",
       " 11: 5,\n",
       " 12: 6,\n",
       " 13: 6,\n",
       " 14: 8,\n",
       " 15: 6,\n",
       " 16: 4,\n",
       " 17: 4,\n",
       " 18: 4,\n",
       " 19: 4,\n",
       " 20: 7,\n",
       " 21: 5,\n",
       " 22: 2,\n",
       " 23: 7,\n",
       " 24: 4,\n",
       " 25: 3,\n",
       " 26: 3,\n",
       " 27: 3,\n",
       " 28: 3,\n",
       " 29: 7,\n",
       " 30: 2,\n",
       " 31: 8,\n",
       " 32: 4,\n",
       " 33: 4,\n",
       " 34: 6,\n",
       " 35: 3,\n",
       " 36: 6,\n",
       " 37: 3,\n",
       " 38: 3,\n",
       " 39: 2,\n",
       " 40: 2,\n",
       " 41: 5,\n",
       " 42: 6,\n",
       " 43: 6,\n",
       " 44: 4,\n",
       " 45: 6,\n",
       " 46: 4,\n",
       " 47: 7,\n",
       " 48: 3,\n",
       " 49: 1,\n",
       " 50: 5,\n",
       " 51: 5,\n",
       " 52: 5,\n",
       " 53: 5,\n",
       " 54: 4,\n",
       " 55: 8,\n",
       " 56: 4,\n",
       " 57: 6,\n",
       " 58: 5,\n",
       " 59: 3,\n",
       " 60: 3,\n",
       " 61: 4,\n",
       " 62: 6,\n",
       " 63: 4,\n",
       " 64: 3,\n",
       " 65: 6,\n",
       " 66: 6,\n",
       " 67: 4,\n",
       " 68: 6,\n",
       " 69: 2,\n",
       " 70: 2,\n",
       " 71: 6,\n",
       " 72: 8,\n",
       " 73: 4,\n",
       " 74: 5,\n",
       " 75: 3,\n",
       " 76: 6,\n",
       " 77: 2,\n",
       " 78: 5,\n",
       " 79: 4,\n",
       " 80: 6}"
      ]
     },
     "execution_count": 15,
     "metadata": {},
     "output_type": "execute_result"
    }
   ],
   "source": [
    "# number of neighbors for each observation\n",
    "w_rook.cardinalities"
   ]
  },
  {
   "cell_type": "code",
   "execution_count": 16,
   "id": "5236b1e8",
   "metadata": {
    "ExecuteTime": {
     "end_time": "2021-11-27T01:44:59.628649Z",
     "start_time": "2021-11-27T01:44:59.624719Z"
    }
   },
   "outputs": [
    {
     "data": {
      "text/plain": [
       "[(1, 2), (2, 11), (3, 14), (4, 18), (5, 12), (6, 16), (7, 4), (8, 4)]"
      ]
     },
     "execution_count": 16,
     "metadata": {},
     "output_type": "execute_result"
    }
   ],
   "source": [
    "# overview of the distribution of these cardinalities\n",
    "w_rook.histogram"
   ]
  },
  {
   "cell_type": "markdown",
   "id": "4b79c7d5",
   "metadata": {},
   "source": [
    "The cardinalities and histogram attributes help quickly spot asymmetries in the number of neighbors"
   ]
  },
  {
   "cell_type": "code",
   "execution_count": 17,
   "id": "71bc207e",
   "metadata": {
    "ExecuteTime": {
     "end_time": "2021-11-27T01:45:00.152128Z",
     "start_time": "2021-11-27T01:44:59.630651Z"
    }
   },
   "outputs": [
    {
     "data": {
      "image/png": "[encoded data removed]",
      "text/plain": [
       "<Figure size 432x288 with 1 Axes>"
      ]
     },
     "metadata": {
      "needs_background": "light"
     },
     "output_type": "display_data"
    }
   ],
   "source": [
    "pandas.Series(w_rook.cardinalities).plot.hist(color='k');"
   ]
  },
  {
   "cell_type": "code",
   "execution_count": 18,
   "id": "5452e05a",
   "metadata": {
    "ExecuteTime": {
     "end_time": "2021-11-27T01:45:00.156990Z",
     "start_time": "2021-11-27T01:45:00.153729Z"
    }
   },
   "outputs": [
    {
     "data": {
      "text/plain": [
       "354.0"
      ]
     },
     "execution_count": 18,
     "metadata": {},
     "output_type": "execute_result"
    }
   ],
   "source": [
    "w_rook.s0\n"
   ]
  },
  {
   "cell_type": "code",
   "execution_count": 19,
   "id": "4bc18b74",
   "metadata": {
    "ExecuteTime": {
     "end_time": "2021-11-27T01:45:00.164774Z",
     "start_time": "2021-11-27T01:45:00.158648Z"
    }
   },
   "outputs": [],
   "source": [
    "%matplotlib inline\n",
    "import matplotlib.pyplot as plt"
   ]
  },
  {
   "cell_type": "code",
   "execution_count": 20,
   "id": "8e6c701f",
   "metadata": {
    "ExecuteTime": {
     "end_time": "2021-11-27T01:45:03.981534Z",
     "start_time": "2021-11-27T01:45:00.166039Z"
    },
    "scrolled": true
   },
   "outputs": [
    {
     "data": {
      "image/png": "[encoded data removed]",
      "text/plain": [
       "<Figure size 432x288 with 1 Axes>"
      ]
     },
     "metadata": {
      "needs_background": "light"
     },
     "output_type": "display_data"
    }
   ],
   "source": [
    "ax = df.plot(edgecolor='grey', facecolor='w')\n",
    "f,ax = w_rook.plot(df, ax=ax,\n",
    "        edge_kws=dict(color='r', linestyle=':', linewidth=1),\n",
    "        node_kws=dict(marker=''))\n",
    "ax.set_axis_off()"
   ]
  },
  {
   "cell_type": "markdown",
   "id": "db4a3224",
   "metadata": {},
   "source": [
    "## Queen contiguity"
   ]
  },
  {
   "cell_type": "code",
   "execution_count": 21,
   "id": "4b392413",
   "metadata": {
    "ExecuteTime": {
     "end_time": "2021-11-27T01:45:15.225993Z",
     "start_time": "2021-11-27T01:45:03.983149Z"
    }
   },
   "outputs": [],
   "source": [
    "w_queen = Queen.from_dataframe(df)"
   ]
  },
  {
   "cell_type": "code",
   "execution_count": 22,
   "id": "ce180ba9",
   "metadata": {
    "ExecuteTime": {
     "end_time": "2021-11-27T01:45:15.232355Z",
     "start_time": "2021-11-27T01:45:15.227825Z"
    }
   },
   "outputs": [
    {
     "data": {
      "text/plain": [
       "81"
      ]
     },
     "execution_count": 22,
     "metadata": {},
     "output_type": "execute_result"
    }
   ],
   "source": [
    "w_queen.n"
   ]
  },
  {
   "cell_type": "code",
   "execution_count": 23,
   "id": "60e96e72",
   "metadata": {
    "ExecuteTime": {
     "end_time": "2021-11-27T01:45:15.244106Z",
     "start_time": "2021-11-27T01:45:15.240513Z"
    }
   },
   "outputs": [
    {
     "data": {
      "text/plain": [
       "True"
      ]
     },
     "execution_count": 23,
     "metadata": {},
     "output_type": "execute_result"
    }
   ],
   "source": [
    "w_queen.n == w_rook.n"
   ]
  },
  {
   "cell_type": "code",
   "execution_count": 24,
   "id": "dd065483",
   "metadata": {
    "ExecuteTime": {
     "end_time": "2021-11-27T01:45:15.251164Z",
     "start_time": "2021-11-27T01:45:15.248185Z"
    }
   },
   "outputs": [
    {
     "data": {
      "text/plain": [
       "358"
      ]
     },
     "execution_count": 24,
     "metadata": {},
     "output_type": "execute_result"
    }
   ],
   "source": [
    "# non-zero entries\n",
    "w_queen.nonzero"
   ]
  },
  {
   "cell_type": "code",
   "execution_count": 25,
   "id": "afd6ecad",
   "metadata": {
    "ExecuteTime": {
     "end_time": "2021-11-27T01:45:15.256720Z",
     "start_time": "2021-11-27T01:45:15.252858Z"
    }
   },
   "outputs": [
    {
     "data": {
      "text/plain": [
       "358.0"
      ]
     },
     "execution_count": 25,
     "metadata": {},
     "output_type": "execute_result"
    }
   ],
   "source": [
    "# number of joins\n",
    "w_queen.s0"
   ]
  },
  {
   "cell_type": "code",
   "execution_count": 26,
   "id": "001debba",
   "metadata": {
    "ExecuteTime": {
     "end_time": "2021-11-27T01:45:15.262422Z",
     "start_time": "2021-11-27T01:45:15.258542Z"
    }
   },
   "outputs": [
    {
     "data": {
      "text/plain": [
       "5.4564852918762385"
      ]
     },
     "execution_count": 26,
     "metadata": {},
     "output_type": "execute_result"
    }
   ],
   "source": [
    "# measure of the density of the spatial weights matrix\n",
    "w_queen.pct_nonzero"
   ]
  },
  {
   "cell_type": "code",
   "execution_count": 27,
   "id": "09c5c5e0",
   "metadata": {
    "ExecuteTime": {
     "end_time": "2021-11-27T01:45:15.268632Z",
     "start_time": "2021-11-27T01:45:15.264623Z"
    }
   },
   "outputs": [
    {
     "data": {
      "text/plain": [
       "[13, 31]"
      ]
     },
     "execution_count": 27,
     "metadata": {},
     "output_type": "execute_result"
    }
   ],
   "source": [
    "# location 0 has the following neighbors\n",
    "w_queen.neighbors[0]"
   ]
  },
  {
   "cell_type": "code",
   "execution_count": 28,
   "id": "c332934b",
   "metadata": {
    "ExecuteTime": {
     "end_time": "2021-11-27T01:45:15.280743Z",
     "start_time": "2021-11-27T01:45:15.270318Z"
    }
   },
   "outputs": [
    {
     "data": {
      "text/plain": [
       "{0: [13, 31],\n",
       " 1: [25, 2],\n",
       " 2: [1],\n",
       " 3: [26, 22, 30],\n",
       " 4: [26, 19, 29],\n",
       " 5: [24, 9, 6, 25],\n",
       " 6: [9, 18, 5, 31],\n",
       " 7: [13, 15],\n",
       " 8: [16, 14],\n",
       " 9: [17, 5, 6, 24, 31],\n",
       " 10: [21, 23, 15, 13, 31],\n",
       " 11: [16, 19, 20, 14, 15],\n",
       " 12: [20, 21, 23, 28, 29, 14],\n",
       " 13: [0, 17, 7, 10, 15, 31],\n",
       " 14: [8, 11, 12, 15, 16, 20, 21, 28],\n",
       " 15: [21, 7, 10, 11, 13, 14],\n",
       " 16: [8, 11, 20, 14],\n",
       " 17: [24, 9, 13, 31],\n",
       " 18: [27, 31, 6, 23],\n",
       " 19: [29, 11, 4, 20],\n",
       " 20: [16, 29, 19, 11, 12, 28, 14],\n",
       " 21: [23, 10, 12, 14, 15],\n",
       " 22: [3, 30],\n",
       " 23: [18, 21, 10, 27, 12, 29, 31],\n",
       " 24: [17, 5, 9, 25],\n",
       " 25: [24, 1, 5],\n",
       " 26: [3, 4, 29],\n",
       " 27: [18, 29, 23],\n",
       " 28: [20, 12, 14],\n",
       " 29: [19, 4, 20, 23, 26, 27, 12],\n",
       " 30: [3, 22],\n",
       " 31: [0, 6, 9, 10, 13, 17, 18, 23],\n",
       " 32: [72, 41, 40, 54],\n",
       " 33: [35, 36, 58, 74, 61],\n",
       " 34: [48, 66, 54, 55, 72, 73],\n",
       " 35: [33, 58, 67],\n",
       " 36: [80, 33, 66, 57, 74, 61, 46],\n",
       " 37: [51, 69, 62],\n",
       " 38: [50, 68, 60],\n",
       " 39: [50, 76],\n",
       " 40: [32, 41],\n",
       " 41: [32, 70, 40, 72, 63],\n",
       " 42: [80, 67, 58, 56, 74, 77],\n",
       " 43: [47, 52, 55, 44, 45, 79],\n",
       " 44: [65, 43, 52, 47],\n",
       " 45: [53, 55, 71, 57, 43, 79],\n",
       " 46: [57, 66, 36, 55],\n",
       " 47: [65, 55, 72, 43, 44, 78, 76],\n",
       " 48: [73, 34, 54],\n",
       " 49: [59],\n",
       " 50: [68, 38, 39, 76, 78],\n",
       " 51: [69, 37, 59, 75, 62],\n",
       " 52: [65, 53, 43, 44, 79],\n",
       " 53: [64, 52, 71, 45, 79],\n",
       " 54: [32, 48, 72, 34],\n",
       " 55: [34, 66, 72, 43, 45, 46, 47, 57],\n",
       " 56: [80, 42, 64, 71],\n",
       " 57: [80, 36, 55, 71, 45, 46],\n",
       " 58: [33, 67, 35, 42, 74],\n",
       " 59: [49, 75, 51],\n",
       " 60: [62, 68, 38],\n",
       " 61: [33, 66, 36, 73, 74],\n",
       " 62: [65, 51, 68, 37, 75, 60],\n",
       " 63: [72, 41, 76, 70],\n",
       " 64: [56, 53, 71],\n",
       " 65: [68, 52, 62, 44, 78, 47],\n",
       " 66: [34, 36, 55, 73, 61, 46],\n",
       " 67: [42, 35, 58, 77],\n",
       " 68: [65, 50, 38, 78, 60, 62],\n",
       " 69: [51, 37],\n",
       " 70: [41, 63],\n",
       " 71: [64, 80, 53, 56, 57, 45],\n",
       " 72: [32, 34, 41, 76, 47, 54, 55, 63],\n",
       " 73: [48, 34, 61, 66],\n",
       " 74: [80, 33, 36, 42, 58, 61],\n",
       " 75: [59, 51, 62],\n",
       " 76: [50, 39, 72, 63, 78, 47],\n",
       " 77: [42, 67],\n",
       " 78: [65, 50, 68, 76, 47],\n",
       " 79: [45, 43, 52, 53],\n",
       " 80: [36, 74, 71, 56, 57, 42]}"
      ]
     },
     "execution_count": 28,
     "metadata": {},
     "output_type": "execute_result"
    }
   ],
   "source": [
    "# neighbors for each observation\n",
    "w_queen.neighbors"
   ]
  },
  {
   "cell_type": "code",
   "execution_count": 29,
   "id": "523170d4",
   "metadata": {
    "ExecuteTime": {
     "end_time": "2021-11-27T01:45:15.297223Z",
     "start_time": "2021-11-27T01:45:15.282394Z"
    }
   },
   "outputs": [
    {
     "data": {
      "text/html": [
       "<div>\n",
       "<style scoped>\n",
       "    .dataframe tbody tr th:only-of-type {\n",
       "        vertical-align: middle;\n",
       "    }\n",
       "\n",
       "    .dataframe tbody tr th {\n",
       "        vertical-align: top;\n",
       "    }\n",
       "\n",
       "    .dataframe thead th {\n",
       "        text-align: right;\n",
       "    }\n",
       "</style>\n",
       "<table border=\"1\" class=\"dataframe\">\n",
       "  <thead>\n",
       "    <tr style=\"text-align: right;\">\n",
       "      <th></th>\n",
       "      <th>0</th>\n",
       "      <th>1</th>\n",
       "      <th>2</th>\n",
       "      <th>3</th>\n",
       "      <th>4</th>\n",
       "      <th>5</th>\n",
       "      <th>6</th>\n",
       "      <th>7</th>\n",
       "      <th>8</th>\n",
       "      <th>9</th>\n",
       "      <th>...</th>\n",
       "      <th>71</th>\n",
       "      <th>72</th>\n",
       "      <th>73</th>\n",
       "      <th>74</th>\n",
       "      <th>75</th>\n",
       "      <th>76</th>\n",
       "      <th>77</th>\n",
       "      <th>78</th>\n",
       "      <th>79</th>\n",
       "      <th>80</th>\n",
       "    </tr>\n",
       "  </thead>\n",
       "  <tbody>\n",
       "    <tr>\n",
       "      <th>0</th>\n",
       "      <td>0</td>\n",
       "      <td>0</td>\n",
       "      <td>0</td>\n",
       "      <td>0</td>\n",
       "      <td>0</td>\n",
       "      <td>0</td>\n",
       "      <td>0</td>\n",
       "      <td>0</td>\n",
       "      <td>0</td>\n",
       "      <td>0</td>\n",
       "      <td>...</td>\n",
       "      <td>0</td>\n",
       "      <td>0</td>\n",
       "      <td>0</td>\n",
       "      <td>0</td>\n",
       "      <td>0</td>\n",
       "      <td>0</td>\n",
       "      <td>0</td>\n",
       "      <td>0</td>\n",
       "      <td>0</td>\n",
       "      <td>0</td>\n",
       "    </tr>\n",
       "    <tr>\n",
       "      <th>1</th>\n",
       "      <td>0</td>\n",
       "      <td>0</td>\n",
       "      <td>1</td>\n",
       "      <td>0</td>\n",
       "      <td>0</td>\n",
       "      <td>0</td>\n",
       "      <td>0</td>\n",
       "      <td>0</td>\n",
       "      <td>0</td>\n",
       "      <td>0</td>\n",
       "      <td>...</td>\n",
       "      <td>0</td>\n",
       "      <td>0</td>\n",
       "      <td>0</td>\n",
       "      <td>0</td>\n",
       "      <td>0</td>\n",
       "      <td>0</td>\n",
       "      <td>0</td>\n",
       "      <td>0</td>\n",
       "      <td>0</td>\n",
       "      <td>0</td>\n",
       "    </tr>\n",
       "    <tr>\n",
       "      <th>2</th>\n",
       "      <td>0</td>\n",
       "      <td>1</td>\n",
       "      <td>0</td>\n",
       "      <td>0</td>\n",
       "      <td>0</td>\n",
       "      <td>0</td>\n",
       "      <td>0</td>\n",
       "      <td>0</td>\n",
       "      <td>0</td>\n",
       "      <td>0</td>\n",
       "      <td>...</td>\n",
       "      <td>0</td>\n",
       "      <td>0</td>\n",
       "      <td>0</td>\n",
       "      <td>0</td>\n",
       "      <td>0</td>\n",
       "      <td>0</td>\n",
       "      <td>0</td>\n",
       "      <td>0</td>\n",
       "      <td>0</td>\n",
       "      <td>0</td>\n",
       "    </tr>\n",
       "    <tr>\n",
       "      <th>3</th>\n",
       "      <td>0</td>\n",
       "      <td>0</td>\n",
       "      <td>0</td>\n",
       "      <td>0</td>\n",
       "      <td>0</td>\n",
       "      <td>0</td>\n",
       "      <td>0</td>\n",
       "      <td>0</td>\n",
       "      <td>0</td>\n",
       "      <td>0</td>\n",
       "      <td>...</td>\n",
       "      <td>0</td>\n",
       "      <td>0</td>\n",
       "      <td>0</td>\n",
       "      <td>0</td>\n",
       "      <td>0</td>\n",
       "      <td>0</td>\n",
       "      <td>0</td>\n",
       "      <td>0</td>\n",
       "      <td>0</td>\n",
       "      <td>0</td>\n",
       "    </tr>\n",
       "    <tr>\n",
       "      <th>4</th>\n",
       "      <td>0</td>\n",
       "      <td>0</td>\n",
       "      <td>0</td>\n",
       "      <td>0</td>\n",
       "      <td>0</td>\n",
       "      <td>0</td>\n",
       "      <td>0</td>\n",
       "      <td>0</td>\n",
       "      <td>0</td>\n",
       "      <td>0</td>\n",
       "      <td>...</td>\n",
       "      <td>0</td>\n",
       "      <td>0</td>\n",
       "      <td>0</td>\n",
       "      <td>0</td>\n",
       "      <td>0</td>\n",
       "      <td>0</td>\n",
       "      <td>0</td>\n",
       "      <td>0</td>\n",
       "      <td>0</td>\n",
       "      <td>0</td>\n",
       "    </tr>\n",
       "    <tr>\n",
       "      <th>...</th>\n",
       "      <td>...</td>\n",
       "      <td>...</td>\n",
       "      <td>...</td>\n",
       "      <td>...</td>\n",
       "      <td>...</td>\n",
       "      <td>...</td>\n",
       "      <td>...</td>\n",
       "      <td>...</td>\n",
       "      <td>...</td>\n",
       "      <td>...</td>\n",
       "      <td>...</td>\n",
       "      <td>...</td>\n",
       "      <td>...</td>\n",
       "      <td>...</td>\n",
       "      <td>...</td>\n",
       "      <td>...</td>\n",
       "      <td>...</td>\n",
       "      <td>...</td>\n",
       "      <td>...</td>\n",
       "      <td>...</td>\n",
       "      <td>...</td>\n",
       "    </tr>\n",
       "    <tr>\n",
       "      <th>76</th>\n",
       "      <td>0</td>\n",
       "      <td>0</td>\n",
       "      <td>0</td>\n",
       "      <td>0</td>\n",
       "      <td>0</td>\n",
       "      <td>0</td>\n",
       "      <td>0</td>\n",
       "      <td>0</td>\n",
       "      <td>0</td>\n",
       "      <td>0</td>\n",
       "      <td>...</td>\n",
       "      <td>0</td>\n",
       "      <td>1</td>\n",
       "      <td>0</td>\n",
       "      <td>0</td>\n",
       "      <td>0</td>\n",
       "      <td>0</td>\n",
       "      <td>0</td>\n",
       "      <td>1</td>\n",
       "      <td>0</td>\n",
       "      <td>0</td>\n",
       "    </tr>\n",
       "    <tr>\n",
       "      <th>77</th>\n",
       "      <td>0</td>\n",
       "      <td>0</td>\n",
       "      <td>0</td>\n",
       "      <td>0</td>\n",
       "      <td>0</td>\n",
       "      <td>0</td>\n",
       "      <td>0</td>\n",
       "      <td>0</td>\n",
       "      <td>0</td>\n",
       "      <td>0</td>\n",
       "      <td>...</td>\n",
       "      <td>0</td>\n",
       "      <td>0</td>\n",
       "      <td>0</td>\n",
       "      <td>0</td>\n",
       "      <td>0</td>\n",
       "      <td>0</td>\n",
       "      <td>0</td>\n",
       "      <td>0</td>\n",
       "      <td>0</td>\n",
       "      <td>0</td>\n",
       "    </tr>\n",
       "    <tr>\n",
       "      <th>78</th>\n",
       "      <td>0</td>\n",
       "      <td>0</td>\n",
       "      <td>0</td>\n",
       "      <td>0</td>\n",
       "      <td>0</td>\n",
       "      <td>0</td>\n",
       "      <td>0</td>\n",
       "      <td>0</td>\n",
       "      <td>0</td>\n",
       "      <td>0</td>\n",
       "      <td>...</td>\n",
       "      <td>0</td>\n",
       "      <td>0</td>\n",
       "      <td>0</td>\n",
       "      <td>0</td>\n",
       "      <td>0</td>\n",
       "      <td>1</td>\n",
       "      <td>0</td>\n",
       "      <td>0</td>\n",
       "      <td>0</td>\n",
       "      <td>0</td>\n",
       "    </tr>\n",
       "    <tr>\n",
       "      <th>79</th>\n",
       "      <td>0</td>\n",
       "      <td>0</td>\n",
       "      <td>0</td>\n",
       "      <td>0</td>\n",
       "      <td>0</td>\n",
       "      <td>0</td>\n",
       "      <td>0</td>\n",
       "      <td>0</td>\n",
       "      <td>0</td>\n",
       "      <td>0</td>\n",
       "      <td>...</td>\n",
       "      <td>0</td>\n",
       "      <td>0</td>\n",
       "      <td>0</td>\n",
       "      <td>0</td>\n",
       "      <td>0</td>\n",
       "      <td>0</td>\n",
       "      <td>0</td>\n",
       "      <td>0</td>\n",
       "      <td>0</td>\n",
       "      <td>0</td>\n",
       "    </tr>\n",
       "    <tr>\n",
       "      <th>80</th>\n",
       "      <td>0</td>\n",
       "      <td>0</td>\n",
       "      <td>0</td>\n",
       "      <td>0</td>\n",
       "      <td>0</td>\n",
       "      <td>0</td>\n",
       "      <td>0</td>\n",
       "      <td>0</td>\n",
       "      <td>0</td>\n",
       "      <td>0</td>\n",
       "      <td>...</td>\n",
       "      <td>1</td>\n",
       "      <td>0</td>\n",
       "      <td>0</td>\n",
       "      <td>1</td>\n",
       "      <td>0</td>\n",
       "      <td>0</td>\n",
       "      <td>0</td>\n",
       "      <td>0</td>\n",
       "      <td>0</td>\n",
       "      <td>0</td>\n",
       "    </tr>\n",
       "  </tbody>\n",
       "</table>\n",
       "<p>81 rows × 81 columns</p>\n",
       "</div>"
      ],
      "text/plain": [
       "    0   1   2   3   4   5   6   7   8   9   ...  71  72  73  74  75  76  77  \\\n",
       "0    0   0   0   0   0   0   0   0   0   0  ...   0   0   0   0   0   0   0   \n",
       "1    0   0   1   0   0   0   0   0   0   0  ...   0   0   0   0   0   0   0   \n",
       "2    0   1   0   0   0   0   0   0   0   0  ...   0   0   0   0   0   0   0   \n",
       "3    0   0   0   0   0   0   0   0   0   0  ...   0   0   0   0   0   0   0   \n",
       "4    0   0   0   0   0   0   0   0   0   0  ...   0   0   0   0   0   0   0   \n",
       "..  ..  ..  ..  ..  ..  ..  ..  ..  ..  ..  ...  ..  ..  ..  ..  ..  ..  ..   \n",
       "76   0   0   0   0   0   0   0   0   0   0  ...   0   1   0   0   0   0   0   \n",
       "77   0   0   0   0   0   0   0   0   0   0  ...   0   0   0   0   0   0   0   \n",
       "78   0   0   0   0   0   0   0   0   0   0  ...   0   0   0   0   0   1   0   \n",
       "79   0   0   0   0   0   0   0   0   0   0  ...   0   0   0   0   0   0   0   \n",
       "80   0   0   0   0   0   0   0   0   0   0  ...   1   0   0   1   0   0   0   \n",
       "\n",
       "    78  79  80  \n",
       "0    0   0   0  \n",
       "1    0   0   0  \n",
       "2    0   0   0  \n",
       "3    0   0   0  \n",
       "4    0   0   0  \n",
       "..  ..  ..  ..  \n",
       "76   1   0   0  \n",
       "77   0   0   0  \n",
       "78   0   0   0  \n",
       "79   0   0   0  \n",
       "80   0   0   0  \n",
       "\n",
       "[81 rows x 81 columns]"
      ]
     },
     "execution_count": 29,
     "metadata": {},
     "output_type": "execute_result"
    }
   ],
   "source": [
    "# full neighbor matrix\n",
    "pandas.DataFrame(*w_queen.full()).astype(int)"
   ]
  },
  {
   "cell_type": "code",
   "execution_count": 30,
   "id": "536d196b",
   "metadata": {
    "ExecuteTime": {
     "end_time": "2021-11-27T01:45:15.307243Z",
     "start_time": "2021-11-27T01:45:15.298886Z"
    }
   },
   "outputs": [
    {
     "data": {
      "text/plain": [
       "{0: [1.0, 1.0],\n",
       " 1: [1.0, 1.0],\n",
       " 2: [1.0],\n",
       " 3: [1.0, 1.0, 1.0],\n",
       " 4: [1.0, 1.0, 1.0],\n",
       " 5: [1.0, 1.0, 1.0, 1.0],\n",
       " 6: [1.0, 1.0, 1.0, 1.0],\n",
       " 7: [1.0, 1.0],\n",
       " 8: [1.0, 1.0],\n",
       " 9: [1.0, 1.0, 1.0, 1.0, 1.0],\n",
       " 10: [1.0, 1.0, 1.0, 1.0, 1.0],\n",
       " 11: [1.0, 1.0, 1.0, 1.0, 1.0],\n",
       " 12: [1.0, 1.0, 1.0, 1.0, 1.0, 1.0],\n",
       " 13: [1.0, 1.0, 1.0, 1.0, 1.0, 1.0],\n",
       " 14: [1.0, 1.0, 1.0, 1.0, 1.0, 1.0, 1.0, 1.0],\n",
       " 15: [1.0, 1.0, 1.0, 1.0, 1.0, 1.0],\n",
       " 16: [1.0, 1.0, 1.0, 1.0],\n",
       " 17: [1.0, 1.0, 1.0, 1.0],\n",
       " 18: [1.0, 1.0, 1.0, 1.0],\n",
       " 19: [1.0, 1.0, 1.0, 1.0],\n",
       " 20: [1.0, 1.0, 1.0, 1.0, 1.0, 1.0, 1.0],\n",
       " 21: [1.0, 1.0, 1.0, 1.0, 1.0],\n",
       " 22: [1.0, 1.0],\n",
       " 23: [1.0, 1.0, 1.0, 1.0, 1.0, 1.0, 1.0],\n",
       " 24: [1.0, 1.0, 1.0, 1.0],\n",
       " 25: [1.0, 1.0, 1.0],\n",
       " 26: [1.0, 1.0, 1.0],\n",
       " 27: [1.0, 1.0, 1.0],\n",
       " 28: [1.0, 1.0, 1.0],\n",
       " 29: [1.0, 1.0, 1.0, 1.0, 1.0, 1.0, 1.0],\n",
       " 30: [1.0, 1.0],\n",
       " 31: [1.0, 1.0, 1.0, 1.0, 1.0, 1.0, 1.0, 1.0],\n",
       " 32: [1.0, 1.0, 1.0, 1.0],\n",
       " 33: [1.0, 1.0, 1.0, 1.0, 1.0],\n",
       " 34: [1.0, 1.0, 1.0, 1.0, 1.0, 1.0],\n",
       " 35: [1.0, 1.0, 1.0],\n",
       " 36: [1.0, 1.0, 1.0, 1.0, 1.0, 1.0, 1.0],\n",
       " 37: [1.0, 1.0, 1.0],\n",
       " 38: [1.0, 1.0, 1.0],\n",
       " 39: [1.0, 1.0],\n",
       " 40: [1.0, 1.0],\n",
       " 41: [1.0, 1.0, 1.0, 1.0, 1.0],\n",
       " 42: [1.0, 1.0, 1.0, 1.0, 1.0, 1.0],\n",
       " 43: [1.0, 1.0, 1.0, 1.0, 1.0, 1.0],\n",
       " 44: [1.0, 1.0, 1.0, 1.0],\n",
       " 45: [1.0, 1.0, 1.0, 1.0, 1.0, 1.0],\n",
       " 46: [1.0, 1.0, 1.0, 1.0],\n",
       " 47: [1.0, 1.0, 1.0, 1.0, 1.0, 1.0, 1.0],\n",
       " 48: [1.0, 1.0, 1.0],\n",
       " 49: [1.0],\n",
       " 50: [1.0, 1.0, 1.0, 1.0, 1.0],\n",
       " 51: [1.0, 1.0, 1.0, 1.0, 1.0],\n",
       " 52: [1.0, 1.0, 1.0, 1.0, 1.0],\n",
       " 53: [1.0, 1.0, 1.0, 1.0, 1.0],\n",
       " 54: [1.0, 1.0, 1.0, 1.0],\n",
       " 55: [1.0, 1.0, 1.0, 1.0, 1.0, 1.0, 1.0, 1.0],\n",
       " 56: [1.0, 1.0, 1.0, 1.0],\n",
       " 57: [1.0, 1.0, 1.0, 1.0, 1.0, 1.0],\n",
       " 58: [1.0, 1.0, 1.0, 1.0, 1.0],\n",
       " 59: [1.0, 1.0, 1.0],\n",
       " 60: [1.0, 1.0, 1.0],\n",
       " 61: [1.0, 1.0, 1.0, 1.0, 1.0],\n",
       " 62: [1.0, 1.0, 1.0, 1.0, 1.0, 1.0],\n",
       " 63: [1.0, 1.0, 1.0, 1.0],\n",
       " 64: [1.0, 1.0, 1.0],\n",
       " 65: [1.0, 1.0, 1.0, 1.0, 1.0, 1.0],\n",
       " 66: [1.0, 1.0, 1.0, 1.0, 1.0, 1.0],\n",
       " 67: [1.0, 1.0, 1.0, 1.0],\n",
       " 68: [1.0, 1.0, 1.0, 1.0, 1.0, 1.0],\n",
       " 69: [1.0, 1.0],\n",
       " 70: [1.0, 1.0],\n",
       " 71: [1.0, 1.0, 1.0, 1.0, 1.0, 1.0],\n",
       " 72: [1.0, 1.0, 1.0, 1.0, 1.0, 1.0, 1.0, 1.0],\n",
       " 73: [1.0, 1.0, 1.0, 1.0],\n",
       " 74: [1.0, 1.0, 1.0, 1.0, 1.0, 1.0],\n",
       " 75: [1.0, 1.0, 1.0],\n",
       " 76: [1.0, 1.0, 1.0, 1.0, 1.0, 1.0],\n",
       " 77: [1.0, 1.0],\n",
       " 78: [1.0, 1.0, 1.0, 1.0, 1.0],\n",
       " 79: [1.0, 1.0, 1.0, 1.0],\n",
       " 80: [1.0, 1.0, 1.0, 1.0, 1.0, 1.0]}"
      ]
     },
     "execution_count": 30,
     "metadata": {},
     "output_type": "execute_result"
    }
   ],
   "source": [
    "# weight values\n",
    "w_queen.weights"
   ]
  },
  {
   "cell_type": "code",
   "execution_count": 31,
   "id": "d033ad05",
   "metadata": {
    "ExecuteTime": {
     "end_time": "2021-11-27T01:45:15.316433Z",
     "start_time": "2021-11-27T01:45:15.308990Z"
    }
   },
   "outputs": [
    {
     "data": {
      "text/plain": [
       "{0: 2,\n",
       " 1: 2,\n",
       " 2: 1,\n",
       " 3: 3,\n",
       " 4: 3,\n",
       " 5: 4,\n",
       " 6: 4,\n",
       " 7: 2,\n",
       " 8: 2,\n",
       " 9: 5,\n",
       " 10: 5,\n",
       " 11: 5,\n",
       " 12: 6,\n",
       " 13: 6,\n",
       " 14: 8,\n",
       " 15: 6,\n",
       " 16: 4,\n",
       " 17: 4,\n",
       " 18: 4,\n",
       " 19: 4,\n",
       " 20: 7,\n",
       " 21: 5,\n",
       " 22: 2,\n",
       " 23: 7,\n",
       " 24: 4,\n",
       " 25: 3,\n",
       " 26: 3,\n",
       " 27: 3,\n",
       " 28: 3,\n",
       " 29: 7,\n",
       " 30: 2,\n",
       " 31: 8,\n",
       " 32: 4,\n",
       " 33: 5,\n",
       " 34: 6,\n",
       " 35: 3,\n",
       " 36: 7,\n",
       " 37: 3,\n",
       " 38: 3,\n",
       " 39: 2,\n",
       " 40: 2,\n",
       " 41: 5,\n",
       " 42: 6,\n",
       " 43: 6,\n",
       " 44: 4,\n",
       " 45: 6,\n",
       " 46: 4,\n",
       " 47: 7,\n",
       " 48: 3,\n",
       " 49: 1,\n",
       " 50: 5,\n",
       " 51: 5,\n",
       " 52: 5,\n",
       " 53: 5,\n",
       " 54: 4,\n",
       " 55: 8,\n",
       " 56: 4,\n",
       " 57: 6,\n",
       " 58: 5,\n",
       " 59: 3,\n",
       " 60: 3,\n",
       " 61: 5,\n",
       " 62: 6,\n",
       " 63: 4,\n",
       " 64: 3,\n",
       " 65: 6,\n",
       " 66: 6,\n",
       " 67: 4,\n",
       " 68: 6,\n",
       " 69: 2,\n",
       " 70: 2,\n",
       " 71: 6,\n",
       " 72: 8,\n",
       " 73: 4,\n",
       " 74: 6,\n",
       " 75: 3,\n",
       " 76: 6,\n",
       " 77: 2,\n",
       " 78: 5,\n",
       " 79: 4,\n",
       " 80: 6}"
      ]
     },
     "execution_count": 31,
     "metadata": {},
     "output_type": "execute_result"
    }
   ],
   "source": [
    "# number of neighbors for each observation\n",
    "w_queen.cardinalities"
   ]
  },
  {
   "cell_type": "code",
   "execution_count": 32,
   "id": "bd7a6f19",
   "metadata": {
    "ExecuteTime": {
     "end_time": "2021-11-27T01:45:15.323276Z",
     "start_time": "2021-11-27T01:45:15.318435Z"
    }
   },
   "outputs": [
    {
     "data": {
      "text/plain": [
       "[(1, 2), (2, 11), (3, 14), (4, 16), (5, 13), (6, 16), (7, 5), (8, 4)]"
      ]
     },
     "execution_count": 32,
     "metadata": {},
     "output_type": "execute_result"
    }
   ],
   "source": [
    "# overview of the distribution of these cardinalities\n",
    "w_queen.histogram"
   ]
  },
  {
   "cell_type": "markdown",
   "id": "9d13fdb6",
   "metadata": {},
   "source": [
    "The cardinalities and histogram attributes help quickly spot asymmetries in the number of neighbors"
   ]
  },
  {
   "cell_type": "code",
   "execution_count": 33,
   "id": "9d819421",
   "metadata": {
    "ExecuteTime": {
     "end_time": "2021-11-27T01:45:15.468098Z",
     "start_time": "2021-11-27T01:45:15.325755Z"
    }
   },
   "outputs": [
    {
     "data": {
      "image/png": "[encoded data removed]",
      "text/plain": [
       "<Figure size 432x288 with 1 Axes>"
      ]
     },
     "metadata": {
      "needs_background": "light"
     },
     "output_type": "display_data"
    }
   ],
   "source": [
    "pandas.Series(w_queen.cardinalities).plot.hist(color='k');"
   ]
  },
  {
   "cell_type": "code",
   "execution_count": 34,
   "id": "2090be76",
   "metadata": {
    "ExecuteTime": {
     "end_time": "2021-11-27T01:45:19.095444Z",
     "start_time": "2021-11-27T01:45:15.470021Z"
    }
   },
   "outputs": [
    {
     "data": {
      "image/png": "[encoded data removed]",
      "text/plain": [
       "<Figure size 432x288 with 1 Axes>"
      ]
     },
     "metadata": {
      "needs_background": "light"
     },
     "output_type": "display_data"
    }
   ],
   "source": [
    "ax = df.plot(edgecolor='grey', facecolor='w')\n",
    "f,ax = w_queen.plot(df, ax=ax,\n",
    "        edge_kws=dict(color='r', linestyle=':', linewidth=1),\n",
    "        node_kws=dict(marker=''))\n",
    "ax.set_axis_off()"
   ]
  },
  {
   "cell_type": "markdown",
   "id": "25271610",
   "metadata": {},
   "source": [
    "## Contiguity with clean us/mex border file"
   ]
  },
  {
   "cell_type": "markdown",
   "id": "94899f21",
   "metadata": {},
   "source": [
    "## Rook contiguity"
   ]
  },
  {
   "cell_type": "code",
   "execution_count": 35,
   "id": "f12fac7c",
   "metadata": {
    "ExecuteTime": {
     "end_time": "2021-11-27T01:45:32.291460Z",
     "start_time": "2021-11-27T01:45:19.097163Z"
    }
   },
   "outputs": [],
   "source": [
    "wr = Rook.from_dataframe(df2)"
   ]
  },
  {
   "cell_type": "code",
   "execution_count": 36,
   "id": "70767ba3",
   "metadata": {
    "ExecuteTime": {
     "end_time": "2021-11-27T01:45:32.297016Z",
     "start_time": "2021-11-27T01:45:32.292697Z"
    }
   },
   "outputs": [
    {
     "data": {
      "text/plain": [
       "81"
      ]
     },
     "execution_count": 36,
     "metadata": {},
     "output_type": "execute_result"
    }
   ],
   "source": [
    "wr.n"
   ]
  },
  {
   "cell_type": "code",
   "execution_count": 37,
   "id": "bc7ceb6b",
   "metadata": {
    "ExecuteTime": {
     "end_time": "2021-11-27T01:45:32.304140Z",
     "start_time": "2021-11-27T01:45:32.300209Z"
    }
   },
   "outputs": [
    {
     "data": {
      "text/plain": [
       "372"
      ]
     },
     "execution_count": 37,
     "metadata": {},
     "output_type": "execute_result"
    }
   ],
   "source": [
    "# non-zero entries\n",
    "wr.nonzero"
   ]
  },
  {
   "cell_type": "code",
   "execution_count": 38,
   "id": "7da7307b",
   "metadata": {
    "ExecuteTime": {
     "end_time": "2021-11-27T01:45:32.310554Z",
     "start_time": "2021-11-27T01:45:32.306649Z"
    }
   },
   "outputs": [
    {
     "data": {
      "text/plain": [
       "372.0"
      ]
     },
     "execution_count": 38,
     "metadata": {},
     "output_type": "execute_result"
    }
   ],
   "source": [
    "# number of joins\n",
    "wr.s0"
   ]
  },
  {
   "cell_type": "code",
   "execution_count": 39,
   "id": "f87d3720",
   "metadata": {
    "ExecuteTime": {
     "end_time": "2021-11-27T01:45:32.316251Z",
     "start_time": "2021-11-27T01:45:32.312577Z"
    }
   },
   "outputs": [
    {
     "data": {
      "text/plain": [
       "5.66986739826246"
      ]
     },
     "execution_count": 39,
     "metadata": {},
     "output_type": "execute_result"
    }
   ],
   "source": [
    "# measure of the density of the spatial weights matrix\n",
    "wr.pct_nonzero"
   ]
  },
  {
   "cell_type": "code",
   "execution_count": 40,
   "id": "6046081e",
   "metadata": {
    "ExecuteTime": {
     "end_time": "2021-11-27T01:45:32.321800Z",
     "start_time": "2021-11-27T01:45:32.318177Z"
    }
   },
   "outputs": [
    {
     "data": {
      "text/plain": [
       "[13, 31]"
      ]
     },
     "execution_count": 40,
     "metadata": {},
     "output_type": "execute_result"
    }
   ],
   "source": [
    "# location 0 has the following neighbors\n",
    "wr.neighbors[0] "
   ]
  },
  {
   "cell_type": "code",
   "execution_count": 41,
   "id": "a15f1a63",
   "metadata": {
    "ExecuteTime": {
     "end_time": "2021-11-27T01:45:32.334799Z",
     "start_time": "2021-11-27T01:45:32.323561Z"
    }
   },
   "outputs": [
    {
     "data": {
      "text/plain": [
       "{0: [13, 31],\n",
       " 1: [33, 2, 35, 25],\n",
       " 2: [1],\n",
       " 3: [26, 22, 30],\n",
       " 4: [26, 19, 29],\n",
       " 5: [73, 6, 24, 9, 61, 25],\n",
       " 6: [18, 5, 73, 9, 31],\n",
       " 7: [13, 15],\n",
       " 8: [16, 14],\n",
       " 9: [17, 5, 6, 24, 31],\n",
       " 10: [21, 23, 15, 13, 31],\n",
       " 11: [16, 19, 20, 14, 15],\n",
       " 12: [20, 21, 23, 28, 29, 14],\n",
       " 13: [0, 17, 7, 10, 31, 15],\n",
       " 14: [8, 11, 12, 15, 16, 20, 21, 28],\n",
       " 15: [21, 7, 10, 11, 13, 14],\n",
       " 16: [8, 11, 20, 14],\n",
       " 17: [24, 9, 13, 31],\n",
       " 18: [6, 23, 73, 27, 31],\n",
       " 19: [29, 11, 4, 20],\n",
       " 20: [16, 29, 19, 11, 12, 28, 14],\n",
       " 21: [23, 10, 12, 14, 15],\n",
       " 22: [3, 30],\n",
       " 23: [18, 21, 10, 27, 12, 29, 31],\n",
       " 24: [17, 5, 9, 25],\n",
       " 25: [1, 33, 5, 24, 61],\n",
       " 26: [3, 4, 29],\n",
       " 27: [73, 18, 29, 23],\n",
       " 28: [20, 12, 14],\n",
       " 29: [19, 4, 20, 23, 26, 27, 12],\n",
       " 30: [3, 22],\n",
       " 31: [0, 6, 9, 10, 13, 17, 18, 23],\n",
       " 32: [72, 41, 40, 54],\n",
       " 33: [1, 35, 74, 25, 58, 61],\n",
       " 34: [48, 66, 54, 55, 72, 73],\n",
       " 35: [1, 58, 67, 33],\n",
       " 36: [80, 66, 57, 74, 61, 46],\n",
       " 37: [51, 69, 62],\n",
       " 38: [50, 68, 60],\n",
       " 39: [50, 76],\n",
       " 40: [32, 41],\n",
       " 41: [32, 70, 40, 72, 63],\n",
       " 42: [80, 67, 58, 56, 74, 77],\n",
       " 43: [47, 52, 55, 44, 45, 79],\n",
       " 44: [65, 43, 52, 47],\n",
       " 45: [53, 55, 71, 57, 43, 79],\n",
       " 46: [57, 66, 36, 55],\n",
       " 47: [65, 55, 72, 43, 44, 78, 76],\n",
       " 48: [73, 34, 54],\n",
       " 49: [59],\n",
       " 50: [68, 38, 39, 76, 78],\n",
       " 51: [37, 69, 59, 75, 62],\n",
       " 52: [65, 53, 43, 44, 79],\n",
       " 53: [64, 52, 71, 45, 79],\n",
       " 54: [32, 48, 72, 34],\n",
       " 55: [34, 66, 72, 43, 45, 46, 47, 57],\n",
       " 56: [80, 42, 64, 71],\n",
       " 57: [80, 36, 55, 71, 45, 46],\n",
       " 58: [33, 67, 35, 74, 42],\n",
       " 59: [49, 75, 51],\n",
       " 60: [62, 68, 38],\n",
       " 61: [33, 66, 36, 5, 73, 25],\n",
       " 62: [65, 51, 68, 37, 75, 60],\n",
       " 63: [72, 41, 76, 70],\n",
       " 64: [56, 53, 71],\n",
       " 65: [52, 68, 62, 44, 78, 47],\n",
       " 66: [34, 36, 55, 73, 61, 46],\n",
       " 67: [42, 35, 58, 77],\n",
       " 68: [65, 50, 38, 78, 60, 62],\n",
       " 69: [51, 37],\n",
       " 70: [41, 63],\n",
       " 71: [64, 80, 53, 56, 57, 45],\n",
       " 72: [32, 34, 41, 76, 47, 54, 55, 63],\n",
       " 73: [34, 66, 5, 6, 48, 18, 27, 61],\n",
       " 74: [80, 33, 36, 42, 58],\n",
       " 75: [59, 51, 62],\n",
       " 76: [50, 39, 72, 47, 78, 63],\n",
       " 77: [42, 67],\n",
       " 78: [65, 50, 68, 76, 47],\n",
       " 79: [45, 43, 52, 53],\n",
       " 80: [36, 42, 71, 56, 57, 74]}"
      ]
     },
     "execution_count": 41,
     "metadata": {},
     "output_type": "execute_result"
    }
   ],
   "source": [
    "# neighbors for each observation\n",
    "wr.neighbors"
   ]
  },
  {
   "cell_type": "code",
   "execution_count": 42,
   "id": "4b866f0a",
   "metadata": {
    "ExecuteTime": {
     "end_time": "2021-11-27T01:45:32.351814Z",
     "start_time": "2021-11-27T01:45:32.336604Z"
    }
   },
   "outputs": [
    {
     "data": {
      "text/html": [
       "<div>\n",
       "<style scoped>\n",
       "    .dataframe tbody tr th:only-of-type {\n",
       "        vertical-align: middle;\n",
       "    }\n",
       "\n",
       "    .dataframe tbody tr th {\n",
       "        vertical-align: top;\n",
       "    }\n",
       "\n",
       "    .dataframe thead th {\n",
       "        text-align: right;\n",
       "    }\n",
       "</style>\n",
       "<table border=\"1\" class=\"dataframe\">\n",
       "  <thead>\n",
       "    <tr style=\"text-align: right;\">\n",
       "      <th></th>\n",
       "      <th>0</th>\n",
       "      <th>1</th>\n",
       "      <th>2</th>\n",
       "      <th>3</th>\n",
       "      <th>4</th>\n",
       "      <th>5</th>\n",
       "      <th>6</th>\n",
       "      <th>7</th>\n",
       "      <th>8</th>\n",
       "      <th>9</th>\n",
       "      <th>...</th>\n",
       "      <th>71</th>\n",
       "      <th>72</th>\n",
       "      <th>73</th>\n",
       "      <th>74</th>\n",
       "      <th>75</th>\n",
       "      <th>76</th>\n",
       "      <th>77</th>\n",
       "      <th>78</th>\n",
       "      <th>79</th>\n",
       "      <th>80</th>\n",
       "    </tr>\n",
       "  </thead>\n",
       "  <tbody>\n",
       "    <tr>\n",
       "      <th>0</th>\n",
       "      <td>0</td>\n",
       "      <td>0</td>\n",
       "      <td>0</td>\n",
       "      <td>0</td>\n",
       "      <td>0</td>\n",
       "      <td>0</td>\n",
       "      <td>0</td>\n",
       "      <td>0</td>\n",
       "      <td>0</td>\n",
       "      <td>0</td>\n",
       "      <td>...</td>\n",
       "      <td>0</td>\n",
       "      <td>0</td>\n",
       "      <td>0</td>\n",
       "      <td>0</td>\n",
       "      <td>0</td>\n",
       "      <td>0</td>\n",
       "      <td>0</td>\n",
       "      <td>0</td>\n",
       "      <td>0</td>\n",
       "      <td>0</td>\n",
       "    </tr>\n",
       "    <tr>\n",
       "      <th>1</th>\n",
       "      <td>0</td>\n",
       "      <td>0</td>\n",
       "      <td>1</td>\n",
       "      <td>0</td>\n",
       "      <td>0</td>\n",
       "      <td>0</td>\n",
       "      <td>0</td>\n",
       "      <td>0</td>\n",
       "      <td>0</td>\n",
       "      <td>0</td>\n",
       "      <td>...</td>\n",
       "      <td>0</td>\n",
       "      <td>0</td>\n",
       "      <td>0</td>\n",
       "      <td>0</td>\n",
       "      <td>0</td>\n",
       "      <td>0</td>\n",
       "      <td>0</td>\n",
       "      <td>0</td>\n",
       "      <td>0</td>\n",
       "      <td>0</td>\n",
       "    </tr>\n",
       "    <tr>\n",
       "      <th>2</th>\n",
       "      <td>0</td>\n",
       "      <td>1</td>\n",
       "      <td>0</td>\n",
       "      <td>0</td>\n",
       "      <td>0</td>\n",
       "      <td>0</td>\n",
       "      <td>0</td>\n",
       "      <td>0</td>\n",
       "      <td>0</td>\n",
       "      <td>0</td>\n",
       "      <td>...</td>\n",
       "      <td>0</td>\n",
       "      <td>0</td>\n",
       "      <td>0</td>\n",
       "      <td>0</td>\n",
       "      <td>0</td>\n",
       "      <td>0</td>\n",
       "      <td>0</td>\n",
       "      <td>0</td>\n",
       "      <td>0</td>\n",
       "      <td>0</td>\n",
       "    </tr>\n",
       "    <tr>\n",
       "      <th>3</th>\n",
       "      <td>0</td>\n",
       "      <td>0</td>\n",
       "      <td>0</td>\n",
       "      <td>0</td>\n",
       "      <td>0</td>\n",
       "      <td>0</td>\n",
       "      <td>0</td>\n",
       "      <td>0</td>\n",
       "      <td>0</td>\n",
       "      <td>0</td>\n",
       "      <td>...</td>\n",
       "      <td>0</td>\n",
       "      <td>0</td>\n",
       "      <td>0</td>\n",
       "      <td>0</td>\n",
       "      <td>0</td>\n",
       "      <td>0</td>\n",
       "      <td>0</td>\n",
       "      <td>0</td>\n",
       "      <td>0</td>\n",
       "      <td>0</td>\n",
       "    </tr>\n",
       "    <tr>\n",
       "      <th>4</th>\n",
       "      <td>0</td>\n",
       "      <td>0</td>\n",
       "      <td>0</td>\n",
       "      <td>0</td>\n",
       "      <td>0</td>\n",
       "      <td>0</td>\n",
       "      <td>0</td>\n",
       "      <td>0</td>\n",
       "      <td>0</td>\n",
       "      <td>0</td>\n",
       "      <td>...</td>\n",
       "      <td>0</td>\n",
       "      <td>0</td>\n",
       "      <td>0</td>\n",
       "      <td>0</td>\n",
       "      <td>0</td>\n",
       "      <td>0</td>\n",
       "      <td>0</td>\n",
       "      <td>0</td>\n",
       "      <td>0</td>\n",
       "      <td>0</td>\n",
       "    </tr>\n",
       "    <tr>\n",
       "      <th>...</th>\n",
       "      <td>...</td>\n",
       "      <td>...</td>\n",
       "      <td>...</td>\n",
       "      <td>...</td>\n",
       "      <td>...</td>\n",
       "      <td>...</td>\n",
       "      <td>...</td>\n",
       "      <td>...</td>\n",
       "      <td>...</td>\n",
       "      <td>...</td>\n",
       "      <td>...</td>\n",
       "      <td>...</td>\n",
       "      <td>...</td>\n",
       "      <td>...</td>\n",
       "      <td>...</td>\n",
       "      <td>...</td>\n",
       "      <td>...</td>\n",
       "      <td>...</td>\n",
       "      <td>...</td>\n",
       "      <td>...</td>\n",
       "      <td>...</td>\n",
       "    </tr>\n",
       "    <tr>\n",
       "      <th>76</th>\n",
       "      <td>0</td>\n",
       "      <td>0</td>\n",
       "      <td>0</td>\n",
       "      <td>0</td>\n",
       "      <td>0</td>\n",
       "      <td>0</td>\n",
       "      <td>0</td>\n",
       "      <td>0</td>\n",
       "      <td>0</td>\n",
       "      <td>0</td>\n",
       "      <td>...</td>\n",
       "      <td>0</td>\n",
       "      <td>1</td>\n",
       "      <td>0</td>\n",
       "      <td>0</td>\n",
       "      <td>0</td>\n",
       "      <td>0</td>\n",
       "      <td>0</td>\n",
       "      <td>1</td>\n",
       "      <td>0</td>\n",
       "      <td>0</td>\n",
       "    </tr>\n",
       "    <tr>\n",
       "      <th>77</th>\n",
       "      <td>0</td>\n",
       "      <td>0</td>\n",
       "      <td>0</td>\n",
       "      <td>0</td>\n",
       "      <td>0</td>\n",
       "      <td>0</td>\n",
       "      <td>0</td>\n",
       "      <td>0</td>\n",
       "      <td>0</td>\n",
       "      <td>0</td>\n",
       "      <td>...</td>\n",
       "      <td>0</td>\n",
       "      <td>0</td>\n",
       "      <td>0</td>\n",
       "      <td>0</td>\n",
       "      <td>0</td>\n",
       "      <td>0</td>\n",
       "      <td>0</td>\n",
       "      <td>0</td>\n",
       "      <td>0</td>\n",
       "      <td>0</td>\n",
       "    </tr>\n",
       "    <tr>\n",
       "      <th>78</th>\n",
       "      <td>0</td>\n",
       "      <td>0</td>\n",
       "      <td>0</td>\n",
       "      <td>0</td>\n",
       "      <td>0</td>\n",
       "      <td>0</td>\n",
       "      <td>0</td>\n",
       "      <td>0</td>\n",
       "      <td>0</td>\n",
       "      <td>0</td>\n",
       "      <td>...</td>\n",
       "      <td>0</td>\n",
       "      <td>0</td>\n",
       "      <td>0</td>\n",
       "      <td>0</td>\n",
       "      <td>0</td>\n",
       "      <td>1</td>\n",
       "      <td>0</td>\n",
       "      <td>0</td>\n",
       "      <td>0</td>\n",
       "      <td>0</td>\n",
       "    </tr>\n",
       "    <tr>\n",
       "      <th>79</th>\n",
       "      <td>0</td>\n",
       "      <td>0</td>\n",
       "      <td>0</td>\n",
       "      <td>0</td>\n",
       "      <td>0</td>\n",
       "      <td>0</td>\n",
       "      <td>0</td>\n",
       "      <td>0</td>\n",
       "      <td>0</td>\n",
       "      <td>0</td>\n",
       "      <td>...</td>\n",
       "      <td>0</td>\n",
       "      <td>0</td>\n",
       "      <td>0</td>\n",
       "      <td>0</td>\n",
       "      <td>0</td>\n",
       "      <td>0</td>\n",
       "      <td>0</td>\n",
       "      <td>0</td>\n",
       "      <td>0</td>\n",
       "      <td>0</td>\n",
       "    </tr>\n",
       "    <tr>\n",
       "      <th>80</th>\n",
       "      <td>0</td>\n",
       "      <td>0</td>\n",
       "      <td>0</td>\n",
       "      <td>0</td>\n",
       "      <td>0</td>\n",
       "      <td>0</td>\n",
       "      <td>0</td>\n",
       "      <td>0</td>\n",
       "      <td>0</td>\n",
       "      <td>0</td>\n",
       "      <td>...</td>\n",
       "      <td>1</td>\n",
       "      <td>0</td>\n",
       "      <td>0</td>\n",
       "      <td>1</td>\n",
       "      <td>0</td>\n",
       "      <td>0</td>\n",
       "      <td>0</td>\n",
       "      <td>0</td>\n",
       "      <td>0</td>\n",
       "      <td>0</td>\n",
       "    </tr>\n",
       "  </tbody>\n",
       "</table>\n",
       "<p>81 rows × 81 columns</p>\n",
       "</div>"
      ],
      "text/plain": [
       "    0   1   2   3   4   5   6   7   8   9   ...  71  72  73  74  75  76  77  \\\n",
       "0    0   0   0   0   0   0   0   0   0   0  ...   0   0   0   0   0   0   0   \n",
       "1    0   0   1   0   0   0   0   0   0   0  ...   0   0   0   0   0   0   0   \n",
       "2    0   1   0   0   0   0   0   0   0   0  ...   0   0   0   0   0   0   0   \n",
       "3    0   0   0   0   0   0   0   0   0   0  ...   0   0   0   0   0   0   0   \n",
       "4    0   0   0   0   0   0   0   0   0   0  ...   0   0   0   0   0   0   0   \n",
       "..  ..  ..  ..  ..  ..  ..  ..  ..  ..  ..  ...  ..  ..  ..  ..  ..  ..  ..   \n",
       "76   0   0   0   0   0   0   0   0   0   0  ...   0   1   0   0   0   0   0   \n",
       "77   0   0   0   0   0   0   0   0   0   0  ...   0   0   0   0   0   0   0   \n",
       "78   0   0   0   0   0   0   0   0   0   0  ...   0   0   0   0   0   1   0   \n",
       "79   0   0   0   0   0   0   0   0   0   0  ...   0   0   0   0   0   0   0   \n",
       "80   0   0   0   0   0   0   0   0   0   0  ...   1   0   0   1   0   0   0   \n",
       "\n",
       "    78  79  80  \n",
       "0    0   0   0  \n",
       "1    0   0   0  \n",
       "2    0   0   0  \n",
       "3    0   0   0  \n",
       "4    0   0   0  \n",
       "..  ..  ..  ..  \n",
       "76   1   0   0  \n",
       "77   0   0   0  \n",
       "78   0   0   0  \n",
       "79   0   0   0  \n",
       "80   0   0   0  \n",
       "\n",
       "[81 rows x 81 columns]"
      ]
     },
     "execution_count": 42,
     "metadata": {},
     "output_type": "execute_result"
    }
   ],
   "source": [
    "# full neighbor matrix\n",
    "pandas.DataFrame(*wr.full()).astype(int)"
   ]
  },
  {
   "cell_type": "code",
   "execution_count": 43,
   "id": "125e2a89",
   "metadata": {
    "ExecuteTime": {
     "end_time": "2021-11-27T01:45:32.361755Z",
     "start_time": "2021-11-27T01:45:32.353586Z"
    }
   },
   "outputs": [
    {
     "data": {
      "text/plain": [
       "{0: [1.0, 1.0],\n",
       " 1: [1.0, 1.0, 1.0, 1.0],\n",
       " 2: [1.0],\n",
       " 3: [1.0, 1.0, 1.0],\n",
       " 4: [1.0, 1.0, 1.0],\n",
       " 5: [1.0, 1.0, 1.0, 1.0, 1.0, 1.0],\n",
       " 6: [1.0, 1.0, 1.0, 1.0, 1.0],\n",
       " 7: [1.0, 1.0],\n",
       " 8: [1.0, 1.0],\n",
       " 9: [1.0, 1.0, 1.0, 1.0, 1.0],\n",
       " 10: [1.0, 1.0, 1.0, 1.0, 1.0],\n",
       " 11: [1.0, 1.0, 1.0, 1.0, 1.0],\n",
       " 12: [1.0, 1.0, 1.0, 1.0, 1.0, 1.0],\n",
       " 13: [1.0, 1.0, 1.0, 1.0, 1.0, 1.0],\n",
       " 14: [1.0, 1.0, 1.0, 1.0, 1.0, 1.0, 1.0, 1.0],\n",
       " 15: [1.0, 1.0, 1.0, 1.0, 1.0, 1.0],\n",
       " 16: [1.0, 1.0, 1.0, 1.0],\n",
       " 17: [1.0, 1.0, 1.0, 1.0],\n",
       " 18: [1.0, 1.0, 1.0, 1.0, 1.0],\n",
       " 19: [1.0, 1.0, 1.0, 1.0],\n",
       " 20: [1.0, 1.0, 1.0, 1.0, 1.0, 1.0, 1.0],\n",
       " 21: [1.0, 1.0, 1.0, 1.0, 1.0],\n",
       " 22: [1.0, 1.0],\n",
       " 23: [1.0, 1.0, 1.0, 1.0, 1.0, 1.0, 1.0],\n",
       " 24: [1.0, 1.0, 1.0, 1.0],\n",
       " 25: [1.0, 1.0, 1.0, 1.0, 1.0],\n",
       " 26: [1.0, 1.0, 1.0],\n",
       " 27: [1.0, 1.0, 1.0, 1.0],\n",
       " 28: [1.0, 1.0, 1.0],\n",
       " 29: [1.0, 1.0, 1.0, 1.0, 1.0, 1.0, 1.0],\n",
       " 30: [1.0, 1.0],\n",
       " 31: [1.0, 1.0, 1.0, 1.0, 1.0, 1.0, 1.0, 1.0],\n",
       " 32: [1.0, 1.0, 1.0, 1.0],\n",
       " 33: [1.0, 1.0, 1.0, 1.0, 1.0, 1.0],\n",
       " 34: [1.0, 1.0, 1.0, 1.0, 1.0, 1.0],\n",
       " 35: [1.0, 1.0, 1.0, 1.0],\n",
       " 36: [1.0, 1.0, 1.0, 1.0, 1.0, 1.0],\n",
       " 37: [1.0, 1.0, 1.0],\n",
       " 38: [1.0, 1.0, 1.0],\n",
       " 39: [1.0, 1.0],\n",
       " 40: [1.0, 1.0],\n",
       " 41: [1.0, 1.0, 1.0, 1.0, 1.0],\n",
       " 42: [1.0, 1.0, 1.0, 1.0, 1.0, 1.0],\n",
       " 43: [1.0, 1.0, 1.0, 1.0, 1.0, 1.0],\n",
       " 44: [1.0, 1.0, 1.0, 1.0],\n",
       " 45: [1.0, 1.0, 1.0, 1.0, 1.0, 1.0],\n",
       " 46: [1.0, 1.0, 1.0, 1.0],\n",
       " 47: [1.0, 1.0, 1.0, 1.0, 1.0, 1.0, 1.0],\n",
       " 48: [1.0, 1.0, 1.0],\n",
       " 49: [1.0],\n",
       " 50: [1.0, 1.0, 1.0, 1.0, 1.0],\n",
       " 51: [1.0, 1.0, 1.0, 1.0, 1.0],\n",
       " 52: [1.0, 1.0, 1.0, 1.0, 1.0],\n",
       " 53: [1.0, 1.0, 1.0, 1.0, 1.0],\n",
       " 54: [1.0, 1.0, 1.0, 1.0],\n",
       " 55: [1.0, 1.0, 1.0, 1.0, 1.0, 1.0, 1.0, 1.0],\n",
       " 56: [1.0, 1.0, 1.0, 1.0],\n",
       " 57: [1.0, 1.0, 1.0, 1.0, 1.0, 1.0],\n",
       " 58: [1.0, 1.0, 1.0, 1.0, 1.0],\n",
       " 59: [1.0, 1.0, 1.0],\n",
       " 60: [1.0, 1.0, 1.0],\n",
       " 61: [1.0, 1.0, 1.0, 1.0, 1.0, 1.0],\n",
       " 62: [1.0, 1.0, 1.0, 1.0, 1.0, 1.0],\n",
       " 63: [1.0, 1.0, 1.0, 1.0],\n",
       " 64: [1.0, 1.0, 1.0],\n",
       " 65: [1.0, 1.0, 1.0, 1.0, 1.0, 1.0],\n",
       " 66: [1.0, 1.0, 1.0, 1.0, 1.0, 1.0],\n",
       " 67: [1.0, 1.0, 1.0, 1.0],\n",
       " 68: [1.0, 1.0, 1.0, 1.0, 1.0, 1.0],\n",
       " 69: [1.0, 1.0],\n",
       " 70: [1.0, 1.0],\n",
       " 71: [1.0, 1.0, 1.0, 1.0, 1.0, 1.0],\n",
       " 72: [1.0, 1.0, 1.0, 1.0, 1.0, 1.0, 1.0, 1.0],\n",
       " 73: [1.0, 1.0, 1.0, 1.0, 1.0, 1.0, 1.0, 1.0],\n",
       " 74: [1.0, 1.0, 1.0, 1.0, 1.0],\n",
       " 75: [1.0, 1.0, 1.0],\n",
       " 76: [1.0, 1.0, 1.0, 1.0, 1.0, 1.0],\n",
       " 77: [1.0, 1.0],\n",
       " 78: [1.0, 1.0, 1.0, 1.0, 1.0],\n",
       " 79: [1.0, 1.0, 1.0, 1.0],\n",
       " 80: [1.0, 1.0, 1.0, 1.0, 1.0, 1.0]}"
      ]
     },
     "execution_count": 43,
     "metadata": {},
     "output_type": "execute_result"
    }
   ],
   "source": [
    "# weight values\n",
    "wr.weights"
   ]
  },
  {
   "cell_type": "code",
   "execution_count": 44,
   "id": "8ff80f78",
   "metadata": {
    "ExecuteTime": {
     "end_time": "2021-11-27T01:45:32.369395Z",
     "start_time": "2021-11-27T01:45:32.363959Z"
    }
   },
   "outputs": [
    {
     "data": {
      "text/plain": [
       "{0: 2,\n",
       " 1: 4,\n",
       " 2: 1,\n",
       " 3: 3,\n",
       " 4: 3,\n",
       " 5: 6,\n",
       " 6: 5,\n",
       " 7: 2,\n",
       " 8: 2,\n",
       " 9: 5,\n",
       " 10: 5,\n",
       " 11: 5,\n",
       " 12: 6,\n",
       " 13: 6,\n",
       " 14: 8,\n",
       " 15: 6,\n",
       " 16: 4,\n",
       " 17: 4,\n",
       " 18: 5,\n",
       " 19: 4,\n",
       " 20: 7,\n",
       " 21: 5,\n",
       " 22: 2,\n",
       " 23: 7,\n",
       " 24: 4,\n",
       " 25: 5,\n",
       " 26: 3,\n",
       " 27: 4,\n",
       " 28: 3,\n",
       " 29: 7,\n",
       " 30: 2,\n",
       " 31: 8,\n",
       " 32: 4,\n",
       " 33: 6,\n",
       " 34: 6,\n",
       " 35: 4,\n",
       " 36: 6,\n",
       " 37: 3,\n",
       " 38: 3,\n",
       " 39: 2,\n",
       " 40: 2,\n",
       " 41: 5,\n",
       " 42: 6,\n",
       " 43: 6,\n",
       " 44: 4,\n",
       " 45: 6,\n",
       " 46: 4,\n",
       " 47: 7,\n",
       " 48: 3,\n",
       " 49: 1,\n",
       " 50: 5,\n",
       " 51: 5,\n",
       " 52: 5,\n",
       " 53: 5,\n",
       " 54: 4,\n",
       " 55: 8,\n",
       " 56: 4,\n",
       " 57: 6,\n",
       " 58: 5,\n",
       " 59: 3,\n",
       " 60: 3,\n",
       " 61: 6,\n",
       " 62: 6,\n",
       " 63: 4,\n",
       " 64: 3,\n",
       " 65: 6,\n",
       " 66: 6,\n",
       " 67: 4,\n",
       " 68: 6,\n",
       " 69: 2,\n",
       " 70: 2,\n",
       " 71: 6,\n",
       " 72: 8,\n",
       " 73: 8,\n",
       " 74: 5,\n",
       " 75: 3,\n",
       " 76: 6,\n",
       " 77: 2,\n",
       " 78: 5,\n",
       " 79: 4,\n",
       " 80: 6}"
      ]
     },
     "execution_count": 44,
     "metadata": {},
     "output_type": "execute_result"
    }
   ],
   "source": [
    "# number of neighbors for each observation\n",
    "wr.cardinalities"
   ]
  },
  {
   "cell_type": "code",
   "execution_count": 45,
   "id": "b9a44c23",
   "metadata": {
    "ExecuteTime": {
     "end_time": "2021-11-27T01:45:32.375377Z",
     "start_time": "2021-11-27T01:45:32.371696Z"
    }
   },
   "outputs": [
    {
     "data": {
      "text/plain": [
       "[(1, 2), (2, 10), (3, 11), (4, 15), (5, 15), (6, 19), (7, 4), (8, 5)]"
      ]
     },
     "execution_count": 45,
     "metadata": {},
     "output_type": "execute_result"
    }
   ],
   "source": [
    "# overview of the distribution of these cardinalities\n",
    "wr.histogram"
   ]
  },
  {
   "cell_type": "markdown",
   "id": "deff7445",
   "metadata": {},
   "source": [
    "The cardinalities and histogram attributes help quickly spot asymmetries in the number of neighbors"
   ]
  },
  {
   "cell_type": "code",
   "execution_count": 46,
   "id": "acddcbde",
   "metadata": {
    "ExecuteTime": {
     "end_time": "2021-11-27T01:45:32.505600Z",
     "start_time": "2021-11-27T01:45:32.376959Z"
    }
   },
   "outputs": [
    {
     "data": {
      "image/png": "[encoded data removed]",
      "text/plain": [
       "<Figure size 432x288 with 1 Axes>"
      ]
     },
     "metadata": {
      "needs_background": "light"
     },
     "output_type": "display_data"
    }
   ],
   "source": [
    "pandas.Series(wr.cardinalities).plot.hist(color='k');"
   ]
  },
  {
   "cell_type": "code",
   "execution_count": 62,
   "id": "683eead3",
   "metadata": {
    "ExecuteTime": {
     "end_time": "2021-11-27T01:46:23.174386Z",
     "start_time": "2021-11-27T01:46:19.186282Z"
    }
   },
   "outputs": [
    {
     "data": {
      "image/png": "[encoded data removed]",
      "text/plain": [
       "<Figure size 432x288 with 1 Axes>"
      ]
     },
     "metadata": {
      "needs_background": "light"
     },
     "output_type": "display_data"
    }
   ],
   "source": [
    "ax = df2.plot(edgecolor='grey', facecolor='w')\n",
    "f,ax = wr.plot(df2, ax=ax,\n",
    "        edge_kws=dict(color='r', linestyle=':', linewidth=1),\n",
    "        node_kws=dict(marker=''))\n",
    "ax.set_axis_off()"
   ]
  },
  {
   "cell_type": "markdown",
   "id": "59f28eff",
   "metadata": {},
   "source": [
    "## Queen contigutiy"
   ]
  },
  {
   "cell_type": "code",
   "execution_count": 48,
   "id": "008fc5b0",
   "metadata": {
    "ExecuteTime": {
     "end_time": "2021-11-27T01:45:48.336333Z",
     "start_time": "2021-11-27T01:45:36.302874Z"
    }
   },
   "outputs": [],
   "source": [
    "wq = Queen.from_dataframe(df2)"
   ]
  },
  {
   "cell_type": "code",
   "execution_count": 49,
   "id": "0546c53c",
   "metadata": {
    "ExecuteTime": {
     "end_time": "2021-11-27T01:45:48.342246Z",
     "start_time": "2021-11-27T01:45:48.338360Z"
    }
   },
   "outputs": [
    {
     "data": {
      "text/plain": [
       "81"
      ]
     },
     "execution_count": 49,
     "metadata": {},
     "output_type": "execute_result"
    }
   ],
   "source": [
    "wq.n"
   ]
  },
  {
   "cell_type": "code",
   "execution_count": 50,
   "id": "32cf346d",
   "metadata": {
    "ExecuteTime": {
     "end_time": "2021-11-27T01:45:48.348936Z",
     "start_time": "2021-11-27T01:45:48.343949Z"
    }
   },
   "outputs": [
    {
     "data": {
      "text/plain": [
       "True"
      ]
     },
     "execution_count": 50,
     "metadata": {},
     "output_type": "execute_result"
    }
   ],
   "source": [
    "wq.n == wr.n"
   ]
  },
  {
   "cell_type": "code",
   "execution_count": 51,
   "id": "12da4779",
   "metadata": {
    "ExecuteTime": {
     "end_time": "2021-11-27T01:45:48.354262Z",
     "start_time": "2021-11-27T01:45:48.350625Z"
    }
   },
   "outputs": [
    {
     "data": {
      "text/plain": [
       "376"
      ]
     },
     "execution_count": 51,
     "metadata": {},
     "output_type": "execute_result"
    }
   ],
   "source": [
    "# non-zero entries\n",
    "wq.nonzero"
   ]
  },
  {
   "cell_type": "code",
   "execution_count": 52,
   "id": "5ca41e70",
   "metadata": {
    "ExecuteTime": {
     "end_time": "2021-11-27T01:45:48.359550Z",
     "start_time": "2021-11-27T01:45:48.355966Z"
    }
   },
   "outputs": [
    {
     "data": {
      "text/plain": [
       "376.0"
      ]
     },
     "execution_count": 52,
     "metadata": {},
     "output_type": "execute_result"
    }
   ],
   "source": [
    "# number of joins\n",
    "wq.s0"
   ]
  },
  {
   "cell_type": "code",
   "execution_count": 53,
   "id": "1f5921fe",
   "metadata": {
    "ExecuteTime": {
     "end_time": "2021-11-27T01:45:48.365496Z",
     "start_time": "2021-11-27T01:45:48.361459Z"
    }
   },
   "outputs": [
    {
     "data": {
      "text/plain": [
       "5.730833714372809"
      ]
     },
     "execution_count": 53,
     "metadata": {},
     "output_type": "execute_result"
    }
   ],
   "source": [
    "# measure of the density of the spatial weights matrix\n",
    "wq.pct_nonzero"
   ]
  },
  {
   "cell_type": "code",
   "execution_count": 54,
   "id": "e8604afc",
   "metadata": {
    "ExecuteTime": {
     "end_time": "2021-11-27T01:45:48.371017Z",
     "start_time": "2021-11-27T01:45:48.367187Z"
    }
   },
   "outputs": [
    {
     "data": {
      "text/plain": [
       "[13, 31]"
      ]
     },
     "execution_count": 54,
     "metadata": {},
     "output_type": "execute_result"
    }
   ],
   "source": [
    "# location 0 has the following neighbors\n",
    "wq.neighbors[0] "
   ]
  },
  {
   "cell_type": "code",
   "execution_count": 55,
   "id": "837d6c5a",
   "metadata": {
    "ExecuteTime": {
     "end_time": "2021-11-27T01:45:48.382928Z",
     "start_time": "2021-11-27T01:45:48.372935Z"
    }
   },
   "outputs": [
    {
     "data": {
      "text/plain": [
       "{0: [13, 31],\n",
       " 1: [33, 2, 35, 25],\n",
       " 2: [1],\n",
       " 3: [26, 22, 30],\n",
       " 4: [26, 19, 29],\n",
       " 5: [6, 9, 24, 73, 61, 25],\n",
       " 6: [18, 5, 73, 9, 31],\n",
       " 7: [13, 15],\n",
       " 8: [16, 14],\n",
       " 9: [17, 5, 6, 24, 31],\n",
       " 10: [21, 23, 15, 13, 31],\n",
       " 11: [16, 19, 20, 14, 15],\n",
       " 12: [20, 21, 23, 28, 29, 14],\n",
       " 13: [0, 17, 7, 10, 15, 31],\n",
       " 14: [8, 11, 12, 15, 16, 20, 21, 28],\n",
       " 15: [21, 7, 10, 11, 13, 14],\n",
       " 16: [8, 11, 20, 14],\n",
       " 17: [24, 9, 13, 31],\n",
       " 18: [6, 23, 73, 27, 31],\n",
       " 19: [29, 11, 4, 20],\n",
       " 20: [16, 29, 19, 11, 12, 28, 14],\n",
       " 21: [23, 10, 12, 14, 15],\n",
       " 22: [3, 30],\n",
       " 23: [18, 21, 10, 27, 12, 29, 31],\n",
       " 24: [17, 5, 9, 25],\n",
       " 25: [1, 33, 5, 24, 61],\n",
       " 26: [3, 4, 29],\n",
       " 27: [73, 18, 29, 23],\n",
       " 28: [20, 12, 14],\n",
       " 29: [19, 4, 20, 23, 26, 27, 12],\n",
       " 30: [3, 22],\n",
       " 31: [0, 6, 9, 10, 13, 17, 18, 23],\n",
       " 32: [72, 41, 40, 54],\n",
       " 33: [1, 35, 36, 58, 25, 74, 61],\n",
       " 34: [48, 66, 54, 55, 72, 73],\n",
       " 35: [1, 58, 67, 33],\n",
       " 36: [80, 33, 66, 57, 74, 61, 46],\n",
       " 37: [51, 69, 62],\n",
       " 38: [50, 68, 60],\n",
       " 39: [50, 76],\n",
       " 40: [32, 41],\n",
       " 41: [32, 70, 40, 72, 63],\n",
       " 42: [80, 67, 58, 56, 74, 77],\n",
       " 43: [47, 52, 55, 44, 45, 79],\n",
       " 44: [65, 43, 52, 47],\n",
       " 45: [53, 55, 71, 57, 43, 79],\n",
       " 46: [57, 66, 36, 55],\n",
       " 47: [65, 55, 72, 43, 44, 78, 76],\n",
       " 48: [73, 34, 54],\n",
       " 49: [59],\n",
       " 50: [68, 38, 39, 76, 78],\n",
       " 51: [69, 37, 59, 75, 62],\n",
       " 52: [65, 53, 43, 44, 79],\n",
       " 53: [64, 52, 71, 45, 79],\n",
       " 54: [32, 48, 72, 34],\n",
       " 55: [34, 66, 72, 43, 45, 46, 47, 57],\n",
       " 56: [80, 42, 64, 71],\n",
       " 57: [80, 36, 55, 71, 45, 46],\n",
       " 58: [33, 67, 35, 42, 74],\n",
       " 59: [49, 75, 51],\n",
       " 60: [62, 68, 38],\n",
       " 61: [33, 66, 36, 5, 73, 74, 25],\n",
       " 62: [65, 51, 68, 37, 75, 60],\n",
       " 63: [72, 41, 76, 70],\n",
       " 64: [56, 53, 71],\n",
       " 65: [68, 52, 62, 44, 78, 47],\n",
       " 66: [34, 36, 55, 73, 61, 46],\n",
       " 67: [42, 35, 58, 77],\n",
       " 68: [65, 50, 38, 78, 60, 62],\n",
       " 69: [51, 37],\n",
       " 70: [41, 63],\n",
       " 71: [64, 80, 53, 56, 57, 45],\n",
       " 72: [32, 34, 41, 76, 47, 54, 55, 63],\n",
       " 73: [34, 66, 5, 6, 48, 18, 27, 61],\n",
       " 74: [80, 33, 36, 42, 58, 61],\n",
       " 75: [59, 51, 62],\n",
       " 76: [50, 39, 72, 63, 78, 47],\n",
       " 77: [42, 67],\n",
       " 78: [65, 50, 68, 76, 47],\n",
       " 79: [45, 43, 52, 53],\n",
       " 80: [36, 74, 71, 56, 57, 42]}"
      ]
     },
     "execution_count": 55,
     "metadata": {},
     "output_type": "execute_result"
    }
   ],
   "source": [
    "# neighbors for each observation\n",
    "wq.neighbors"
   ]
  },
  {
   "cell_type": "code",
   "execution_count": 56,
   "id": "fcbd4df5",
   "metadata": {
    "ExecuteTime": {
     "end_time": "2021-11-27T01:45:48.399341Z",
     "start_time": "2021-11-27T01:45:48.384540Z"
    }
   },
   "outputs": [
    {
     "data": {
      "text/html": [
       "<div>\n",
       "<style scoped>\n",
       "    .dataframe tbody tr th:only-of-type {\n",
       "        vertical-align: middle;\n",
       "    }\n",
       "\n",
       "    .dataframe tbody tr th {\n",
       "        vertical-align: top;\n",
       "    }\n",
       "\n",
       "    .dataframe thead th {\n",
       "        text-align: right;\n",
       "    }\n",
       "</style>\n",
       "<table border=\"1\" class=\"dataframe\">\n",
       "  <thead>\n",
       "    <tr style=\"text-align: right;\">\n",
       "      <th></th>\n",
       "      <th>0</th>\n",
       "      <th>1</th>\n",
       "      <th>2</th>\n",
       "      <th>3</th>\n",
       "      <th>4</th>\n",
       "      <th>5</th>\n",
       "      <th>6</th>\n",
       "      <th>7</th>\n",
       "      <th>8</th>\n",
       "      <th>9</th>\n",
       "      <th>...</th>\n",
       "      <th>71</th>\n",
       "      <th>72</th>\n",
       "      <th>73</th>\n",
       "      <th>74</th>\n",
       "      <th>75</th>\n",
       "      <th>76</th>\n",
       "      <th>77</th>\n",
       "      <th>78</th>\n",
       "      <th>79</th>\n",
       "      <th>80</th>\n",
       "    </tr>\n",
       "  </thead>\n",
       "  <tbody>\n",
       "    <tr>\n",
       "      <th>0</th>\n",
       "      <td>0</td>\n",
       "      <td>0</td>\n",
       "      <td>0</td>\n",
       "      <td>0</td>\n",
       "      <td>0</td>\n",
       "      <td>0</td>\n",
       "      <td>0</td>\n",
       "      <td>0</td>\n",
       "      <td>0</td>\n",
       "      <td>0</td>\n",
       "      <td>...</td>\n",
       "      <td>0</td>\n",
       "      <td>0</td>\n",
       "      <td>0</td>\n",
       "      <td>0</td>\n",
       "      <td>0</td>\n",
       "      <td>0</td>\n",
       "      <td>0</td>\n",
       "      <td>0</td>\n",
       "      <td>0</td>\n",
       "      <td>0</td>\n",
       "    </tr>\n",
       "    <tr>\n",
       "      <th>1</th>\n",
       "      <td>0</td>\n",
       "      <td>0</td>\n",
       "      <td>1</td>\n",
       "      <td>0</td>\n",
       "      <td>0</td>\n",
       "      <td>0</td>\n",
       "      <td>0</td>\n",
       "      <td>0</td>\n",
       "      <td>0</td>\n",
       "      <td>0</td>\n",
       "      <td>...</td>\n",
       "      <td>0</td>\n",
       "      <td>0</td>\n",
       "      <td>0</td>\n",
       "      <td>0</td>\n",
       "      <td>0</td>\n",
       "      <td>0</td>\n",
       "      <td>0</td>\n",
       "      <td>0</td>\n",
       "      <td>0</td>\n",
       "      <td>0</td>\n",
       "    </tr>\n",
       "    <tr>\n",
       "      <th>2</th>\n",
       "      <td>0</td>\n",
       "      <td>1</td>\n",
       "      <td>0</td>\n",
       "      <td>0</td>\n",
       "      <td>0</td>\n",
       "      <td>0</td>\n",
       "      <td>0</td>\n",
       "      <td>0</td>\n",
       "      <td>0</td>\n",
       "      <td>0</td>\n",
       "      <td>...</td>\n",
       "      <td>0</td>\n",
       "      <td>0</td>\n",
       "      <td>0</td>\n",
       "      <td>0</td>\n",
       "      <td>0</td>\n",
       "      <td>0</td>\n",
       "      <td>0</td>\n",
       "      <td>0</td>\n",
       "      <td>0</td>\n",
       "      <td>0</td>\n",
       "    </tr>\n",
       "    <tr>\n",
       "      <th>3</th>\n",
       "      <td>0</td>\n",
       "      <td>0</td>\n",
       "      <td>0</td>\n",
       "      <td>0</td>\n",
       "      <td>0</td>\n",
       "      <td>0</td>\n",
       "      <td>0</td>\n",
       "      <td>0</td>\n",
       "      <td>0</td>\n",
       "      <td>0</td>\n",
       "      <td>...</td>\n",
       "      <td>0</td>\n",
       "      <td>0</td>\n",
       "      <td>0</td>\n",
       "      <td>0</td>\n",
       "      <td>0</td>\n",
       "      <td>0</td>\n",
       "      <td>0</td>\n",
       "      <td>0</td>\n",
       "      <td>0</td>\n",
       "      <td>0</td>\n",
       "    </tr>\n",
       "    <tr>\n",
       "      <th>4</th>\n",
       "      <td>0</td>\n",
       "      <td>0</td>\n",
       "      <td>0</td>\n",
       "      <td>0</td>\n",
       "      <td>0</td>\n",
       "      <td>0</td>\n",
       "      <td>0</td>\n",
       "      <td>0</td>\n",
       "      <td>0</td>\n",
       "      <td>0</td>\n",
       "      <td>...</td>\n",
       "      <td>0</td>\n",
       "      <td>0</td>\n",
       "      <td>0</td>\n",
       "      <td>0</td>\n",
       "      <td>0</td>\n",
       "      <td>0</td>\n",
       "      <td>0</td>\n",
       "      <td>0</td>\n",
       "      <td>0</td>\n",
       "      <td>0</td>\n",
       "    </tr>\n",
       "    <tr>\n",
       "      <th>...</th>\n",
       "      <td>...</td>\n",
       "      <td>...</td>\n",
       "      <td>...</td>\n",
       "      <td>...</td>\n",
       "      <td>...</td>\n",
       "      <td>...</td>\n",
       "      <td>...</td>\n",
       "      <td>...</td>\n",
       "      <td>...</td>\n",
       "      <td>...</td>\n",
       "      <td>...</td>\n",
       "      <td>...</td>\n",
       "      <td>...</td>\n",
       "      <td>...</td>\n",
       "      <td>...</td>\n",
       "      <td>...</td>\n",
       "      <td>...</td>\n",
       "      <td>...</td>\n",
       "      <td>...</td>\n",
       "      <td>...</td>\n",
       "      <td>...</td>\n",
       "    </tr>\n",
       "    <tr>\n",
       "      <th>76</th>\n",
       "      <td>0</td>\n",
       "      <td>0</td>\n",
       "      <td>0</td>\n",
       "      <td>0</td>\n",
       "      <td>0</td>\n",
       "      <td>0</td>\n",
       "      <td>0</td>\n",
       "      <td>0</td>\n",
       "      <td>0</td>\n",
       "      <td>0</td>\n",
       "      <td>...</td>\n",
       "      <td>0</td>\n",
       "      <td>1</td>\n",
       "      <td>0</td>\n",
       "      <td>0</td>\n",
       "      <td>0</td>\n",
       "      <td>0</td>\n",
       "      <td>0</td>\n",
       "      <td>1</td>\n",
       "      <td>0</td>\n",
       "      <td>0</td>\n",
       "    </tr>\n",
       "    <tr>\n",
       "      <th>77</th>\n",
       "      <td>0</td>\n",
       "      <td>0</td>\n",
       "      <td>0</td>\n",
       "      <td>0</td>\n",
       "      <td>0</td>\n",
       "      <td>0</td>\n",
       "      <td>0</td>\n",
       "      <td>0</td>\n",
       "      <td>0</td>\n",
       "      <td>0</td>\n",
       "      <td>...</td>\n",
       "      <td>0</td>\n",
       "      <td>0</td>\n",
       "      <td>0</td>\n",
       "      <td>0</td>\n",
       "      <td>0</td>\n",
       "      <td>0</td>\n",
       "      <td>0</td>\n",
       "      <td>0</td>\n",
       "      <td>0</td>\n",
       "      <td>0</td>\n",
       "    </tr>\n",
       "    <tr>\n",
       "      <th>78</th>\n",
       "      <td>0</td>\n",
       "      <td>0</td>\n",
       "      <td>0</td>\n",
       "      <td>0</td>\n",
       "      <td>0</td>\n",
       "      <td>0</td>\n",
       "      <td>0</td>\n",
       "      <td>0</td>\n",
       "      <td>0</td>\n",
       "      <td>0</td>\n",
       "      <td>...</td>\n",
       "      <td>0</td>\n",
       "      <td>0</td>\n",
       "      <td>0</td>\n",
       "      <td>0</td>\n",
       "      <td>0</td>\n",
       "      <td>1</td>\n",
       "      <td>0</td>\n",
       "      <td>0</td>\n",
       "      <td>0</td>\n",
       "      <td>0</td>\n",
       "    </tr>\n",
       "    <tr>\n",
       "      <th>79</th>\n",
       "      <td>0</td>\n",
       "      <td>0</td>\n",
       "      <td>0</td>\n",
       "      <td>0</td>\n",
       "      <td>0</td>\n",
       "      <td>0</td>\n",
       "      <td>0</td>\n",
       "      <td>0</td>\n",
       "      <td>0</td>\n",
       "      <td>0</td>\n",
       "      <td>...</td>\n",
       "      <td>0</td>\n",
       "      <td>0</td>\n",
       "      <td>0</td>\n",
       "      <td>0</td>\n",
       "      <td>0</td>\n",
       "      <td>0</td>\n",
       "      <td>0</td>\n",
       "      <td>0</td>\n",
       "      <td>0</td>\n",
       "      <td>0</td>\n",
       "    </tr>\n",
       "    <tr>\n",
       "      <th>80</th>\n",
       "      <td>0</td>\n",
       "      <td>0</td>\n",
       "      <td>0</td>\n",
       "      <td>0</td>\n",
       "      <td>0</td>\n",
       "      <td>0</td>\n",
       "      <td>0</td>\n",
       "      <td>0</td>\n",
       "      <td>0</td>\n",
       "      <td>0</td>\n",
       "      <td>...</td>\n",
       "      <td>1</td>\n",
       "      <td>0</td>\n",
       "      <td>0</td>\n",
       "      <td>1</td>\n",
       "      <td>0</td>\n",
       "      <td>0</td>\n",
       "      <td>0</td>\n",
       "      <td>0</td>\n",
       "      <td>0</td>\n",
       "      <td>0</td>\n",
       "    </tr>\n",
       "  </tbody>\n",
       "</table>\n",
       "<p>81 rows × 81 columns</p>\n",
       "</div>"
      ],
      "text/plain": [
       "    0   1   2   3   4   5   6   7   8   9   ...  71  72  73  74  75  76  77  \\\n",
       "0    0   0   0   0   0   0   0   0   0   0  ...   0   0   0   0   0   0   0   \n",
       "1    0   0   1   0   0   0   0   0   0   0  ...   0   0   0   0   0   0   0   \n",
       "2    0   1   0   0   0   0   0   0   0   0  ...   0   0   0   0   0   0   0   \n",
       "3    0   0   0   0   0   0   0   0   0   0  ...   0   0   0   0   0   0   0   \n",
       "4    0   0   0   0   0   0   0   0   0   0  ...   0   0   0   0   0   0   0   \n",
       "..  ..  ..  ..  ..  ..  ..  ..  ..  ..  ..  ...  ..  ..  ..  ..  ..  ..  ..   \n",
       "76   0   0   0   0   0   0   0   0   0   0  ...   0   1   0   0   0   0   0   \n",
       "77   0   0   0   0   0   0   0   0   0   0  ...   0   0   0   0   0   0   0   \n",
       "78   0   0   0   0   0   0   0   0   0   0  ...   0   0   0   0   0   1   0   \n",
       "79   0   0   0   0   0   0   0   0   0   0  ...   0   0   0   0   0   0   0   \n",
       "80   0   0   0   0   0   0   0   0   0   0  ...   1   0   0   1   0   0   0   \n",
       "\n",
       "    78  79  80  \n",
       "0    0   0   0  \n",
       "1    0   0   0  \n",
       "2    0   0   0  \n",
       "3    0   0   0  \n",
       "4    0   0   0  \n",
       "..  ..  ..  ..  \n",
       "76   1   0   0  \n",
       "77   0   0   0  \n",
       "78   0   0   0  \n",
       "79   0   0   0  \n",
       "80   0   0   0  \n",
       "\n",
       "[81 rows x 81 columns]"
      ]
     },
     "execution_count": 56,
     "metadata": {},
     "output_type": "execute_result"
    }
   ],
   "source": [
    "# full neighbor matrix\n",
    "pandas.DataFrame(*wq.full()).astype(int)"
   ]
  },
  {
   "cell_type": "code",
   "execution_count": 57,
   "id": "956036de",
   "metadata": {
    "ExecuteTime": {
     "end_time": "2021-11-27T01:45:48.409884Z",
     "start_time": "2021-11-27T01:45:48.401577Z"
    }
   },
   "outputs": [
    {
     "data": {
      "text/plain": [
       "{0: [1.0, 1.0],\n",
       " 1: [1.0, 1.0, 1.0, 1.0],\n",
       " 2: [1.0],\n",
       " 3: [1.0, 1.0, 1.0],\n",
       " 4: [1.0, 1.0, 1.0],\n",
       " 5: [1.0, 1.0, 1.0, 1.0, 1.0, 1.0],\n",
       " 6: [1.0, 1.0, 1.0, 1.0, 1.0],\n",
       " 7: [1.0, 1.0],\n",
       " 8: [1.0, 1.0],\n",
       " 9: [1.0, 1.0, 1.0, 1.0, 1.0],\n",
       " 10: [1.0, 1.0, 1.0, 1.0, 1.0],\n",
       " 11: [1.0, 1.0, 1.0, 1.0, 1.0],\n",
       " 12: [1.0, 1.0, 1.0, 1.0, 1.0, 1.0],\n",
       " 13: [1.0, 1.0, 1.0, 1.0, 1.0, 1.0],\n",
       " 14: [1.0, 1.0, 1.0, 1.0, 1.0, 1.0, 1.0, 1.0],\n",
       " 15: [1.0, 1.0, 1.0, 1.0, 1.0, 1.0],\n",
       " 16: [1.0, 1.0, 1.0, 1.0],\n",
       " 17: [1.0, 1.0, 1.0, 1.0],\n",
       " 18: [1.0, 1.0, 1.0, 1.0, 1.0],\n",
       " 19: [1.0, 1.0, 1.0, 1.0],\n",
       " 20: [1.0, 1.0, 1.0, 1.0, 1.0, 1.0, 1.0],\n",
       " 21: [1.0, 1.0, 1.0, 1.0, 1.0],\n",
       " 22: [1.0, 1.0],\n",
       " 23: [1.0, 1.0, 1.0, 1.0, 1.0, 1.0, 1.0],\n",
       " 24: [1.0, 1.0, 1.0, 1.0],\n",
       " 25: [1.0, 1.0, 1.0, 1.0, 1.0],\n",
       " 26: [1.0, 1.0, 1.0],\n",
       " 27: [1.0, 1.0, 1.0, 1.0],\n",
       " 28: [1.0, 1.0, 1.0],\n",
       " 29: [1.0, 1.0, 1.0, 1.0, 1.0, 1.0, 1.0],\n",
       " 30: [1.0, 1.0],\n",
       " 31: [1.0, 1.0, 1.0, 1.0, 1.0, 1.0, 1.0, 1.0],\n",
       " 32: [1.0, 1.0, 1.0, 1.0],\n",
       " 33: [1.0, 1.0, 1.0, 1.0, 1.0, 1.0, 1.0],\n",
       " 34: [1.0, 1.0, 1.0, 1.0, 1.0, 1.0],\n",
       " 35: [1.0, 1.0, 1.0, 1.0],\n",
       " 36: [1.0, 1.0, 1.0, 1.0, 1.0, 1.0, 1.0],\n",
       " 37: [1.0, 1.0, 1.0],\n",
       " 38: [1.0, 1.0, 1.0],\n",
       " 39: [1.0, 1.0],\n",
       " 40: [1.0, 1.0],\n",
       " 41: [1.0, 1.0, 1.0, 1.0, 1.0],\n",
       " 42: [1.0, 1.0, 1.0, 1.0, 1.0, 1.0],\n",
       " 43: [1.0, 1.0, 1.0, 1.0, 1.0, 1.0],\n",
       " 44: [1.0, 1.0, 1.0, 1.0],\n",
       " 45: [1.0, 1.0, 1.0, 1.0, 1.0, 1.0],\n",
       " 46: [1.0, 1.0, 1.0, 1.0],\n",
       " 47: [1.0, 1.0, 1.0, 1.0, 1.0, 1.0, 1.0],\n",
       " 48: [1.0, 1.0, 1.0],\n",
       " 49: [1.0],\n",
       " 50: [1.0, 1.0, 1.0, 1.0, 1.0],\n",
       " 51: [1.0, 1.0, 1.0, 1.0, 1.0],\n",
       " 52: [1.0, 1.0, 1.0, 1.0, 1.0],\n",
       " 53: [1.0, 1.0, 1.0, 1.0, 1.0],\n",
       " 54: [1.0, 1.0, 1.0, 1.0],\n",
       " 55: [1.0, 1.0, 1.0, 1.0, 1.0, 1.0, 1.0, 1.0],\n",
       " 56: [1.0, 1.0, 1.0, 1.0],\n",
       " 57: [1.0, 1.0, 1.0, 1.0, 1.0, 1.0],\n",
       " 58: [1.0, 1.0, 1.0, 1.0, 1.0],\n",
       " 59: [1.0, 1.0, 1.0],\n",
       " 60: [1.0, 1.0, 1.0],\n",
       " 61: [1.0, 1.0, 1.0, 1.0, 1.0, 1.0, 1.0],\n",
       " 62: [1.0, 1.0, 1.0, 1.0, 1.0, 1.0],\n",
       " 63: [1.0, 1.0, 1.0, 1.0],\n",
       " 64: [1.0, 1.0, 1.0],\n",
       " 65: [1.0, 1.0, 1.0, 1.0, 1.0, 1.0],\n",
       " 66: [1.0, 1.0, 1.0, 1.0, 1.0, 1.0],\n",
       " 67: [1.0, 1.0, 1.0, 1.0],\n",
       " 68: [1.0, 1.0, 1.0, 1.0, 1.0, 1.0],\n",
       " 69: [1.0, 1.0],\n",
       " 70: [1.0, 1.0],\n",
       " 71: [1.0, 1.0, 1.0, 1.0, 1.0, 1.0],\n",
       " 72: [1.0, 1.0, 1.0, 1.0, 1.0, 1.0, 1.0, 1.0],\n",
       " 73: [1.0, 1.0, 1.0, 1.0, 1.0, 1.0, 1.0, 1.0],\n",
       " 74: [1.0, 1.0, 1.0, 1.0, 1.0, 1.0],\n",
       " 75: [1.0, 1.0, 1.0],\n",
       " 76: [1.0, 1.0, 1.0, 1.0, 1.0, 1.0],\n",
       " 77: [1.0, 1.0],\n",
       " 78: [1.0, 1.0, 1.0, 1.0, 1.0],\n",
       " 79: [1.0, 1.0, 1.0, 1.0],\n",
       " 80: [1.0, 1.0, 1.0, 1.0, 1.0, 1.0]}"
      ]
     },
     "execution_count": 57,
     "metadata": {},
     "output_type": "execute_result"
    }
   ],
   "source": [
    "# weight values\n",
    "wq.weights"
   ]
  },
  {
   "cell_type": "code",
   "execution_count": 58,
   "id": "ebed5682",
   "metadata": {
    "ExecuteTime": {
     "end_time": "2021-11-27T01:45:48.417294Z",
     "start_time": "2021-11-27T01:45:48.411672Z"
    }
   },
   "outputs": [
    {
     "data": {
      "text/plain": [
       "{0: 2,\n",
       " 1: 4,\n",
       " 2: 1,\n",
       " 3: 3,\n",
       " 4: 3,\n",
       " 5: 6,\n",
       " 6: 5,\n",
       " 7: 2,\n",
       " 8: 2,\n",
       " 9: 5,\n",
       " 10: 5,\n",
       " 11: 5,\n",
       " 12: 6,\n",
       " 13: 6,\n",
       " 14: 8,\n",
       " 15: 6,\n",
       " 16: 4,\n",
       " 17: 4,\n",
       " 18: 5,\n",
       " 19: 4,\n",
       " 20: 7,\n",
       " 21: 5,\n",
       " 22: 2,\n",
       " 23: 7,\n",
       " 24: 4,\n",
       " 25: 5,\n",
       " 26: 3,\n",
       " 27: 4,\n",
       " 28: 3,\n",
       " 29: 7,\n",
       " 30: 2,\n",
       " 31: 8,\n",
       " 32: 4,\n",
       " 33: 7,\n",
       " 34: 6,\n",
       " 35: 4,\n",
       " 36: 7,\n",
       " 37: 3,\n",
       " 38: 3,\n",
       " 39: 2,\n",
       " 40: 2,\n",
       " 41: 5,\n",
       " 42: 6,\n",
       " 43: 6,\n",
       " 44: 4,\n",
       " 45: 6,\n",
       " 46: 4,\n",
       " 47: 7,\n",
       " 48: 3,\n",
       " 49: 1,\n",
       " 50: 5,\n",
       " 51: 5,\n",
       " 52: 5,\n",
       " 53: 5,\n",
       " 54: 4,\n",
       " 55: 8,\n",
       " 56: 4,\n",
       " 57: 6,\n",
       " 58: 5,\n",
       " 59: 3,\n",
       " 60: 3,\n",
       " 61: 7,\n",
       " 62: 6,\n",
       " 63: 4,\n",
       " 64: 3,\n",
       " 65: 6,\n",
       " 66: 6,\n",
       " 67: 4,\n",
       " 68: 6,\n",
       " 69: 2,\n",
       " 70: 2,\n",
       " 71: 6,\n",
       " 72: 8,\n",
       " 73: 8,\n",
       " 74: 6,\n",
       " 75: 3,\n",
       " 76: 6,\n",
       " 77: 2,\n",
       " 78: 5,\n",
       " 79: 4,\n",
       " 80: 6}"
      ]
     },
     "execution_count": 58,
     "metadata": {},
     "output_type": "execute_result"
    }
   ],
   "source": [
    "# number of neighbors for each observation\n",
    "wq.cardinalities"
   ]
  },
  {
   "cell_type": "code",
   "execution_count": 59,
   "id": "6cc27715",
   "metadata": {
    "ExecuteTime": {
     "end_time": "2021-11-27T01:45:48.423507Z",
     "start_time": "2021-11-27T01:45:48.419185Z"
    }
   },
   "outputs": [
    {
     "data": {
      "text/plain": [
       "[(1, 2), (2, 10), (3, 11), (4, 15), (5, 14), (6, 17), (7, 7), (8, 5)]"
      ]
     },
     "execution_count": 59,
     "metadata": {},
     "output_type": "execute_result"
    }
   ],
   "source": [
    "# overview of the distribution of these cardinalities\n",
    "wq.histogram"
   ]
  },
  {
   "cell_type": "markdown",
   "id": "75b0bfa0",
   "metadata": {},
   "source": [
    "The cardinalities and histogram attributes help quickly spot asymmetries in the number of neighbors"
   ]
  },
  {
   "cell_type": "code",
   "execution_count": 60,
   "id": "1bbb39f8",
   "metadata": {
    "ExecuteTime": {
     "end_time": "2021-11-27T01:45:48.564490Z",
     "start_time": "2021-11-27T01:45:48.425437Z"
    }
   },
   "outputs": [
    {
     "data": {
      "image/png": "[encoded data removed]",
      "text/plain": [
       "<Figure size 432x288 with 1 Axes>"
      ]
     },
     "metadata": {
      "needs_background": "light"
     },
     "output_type": "display_data"
    }
   ],
   "source": [
    "pandas.Series(wq.cardinalities).plot.hist(color='k');"
   ]
  },
  {
   "cell_type": "code",
   "execution_count": 61,
   "id": "b0a6200a",
   "metadata": {
    "ExecuteTime": {
     "end_time": "2021-11-27T01:45:52.372439Z",
     "start_time": "2021-11-27T01:45:48.566402Z"
    },
    "scrolled": true
   },
   "outputs": [
    {
     "data": {
      "image/png": "[encoded data removed]",
      "text/plain": [
       "<Figure size 432x288 with 1 Axes>"
      ]
     },
     "metadata": {
      "needs_background": "light"
     },
     "output_type": "display_data"
    }
   ],
   "source": [
    "ax = df2.plot(edgecolor='grey', facecolor='w')\n",
    "f,ax = wq.plot(df2, ax=ax,\n",
    "        edge_kws=dict(color='r', linestyle=':', linewidth=1),\n",
    "        node_kws=dict(marker=''))\n",
    "ax.set_axis_off()"
   ]
  },
  {
   "cell_type": "code",
   "execution_count": 64,
   "id": "5bab2ab4",
   "metadata": {
    "ExecuteTime": {
     "end_time": "2021-11-27T01:49:03.201425Z",
     "start_time": "2021-11-27T01:48:54.669760Z"
    }
   },
   "outputs": [
    {
     "data": {
      "text/plain": [
       "(-127.6534736675, -64.0581962625, 12.792663105600067, 51.1257081064)"
      ]
     },
     "execution_count": 64,
     "metadata": {},
     "output_type": "execute_result"
    },
    {
     "data": {
      "image/png": "[encoded data removed]",
      "text/plain": [
       "<Figure size 720x432 with 2 Axes>"
      ]
     },
     "metadata": {
      "needs_background": "light"
     },
     "output_type": "display_data"
    }
   ],
   "source": [
    "f,ax = plt.subplots(1,2,figsize=(10, 6), subplot_kw=dict(aspect='equal'))\n",
    "df.plot(edgecolor='grey', facecolor='w', ax=ax[0])\n",
    "w_rook.plot(df, ax=ax[0],\n",
    "        edge_kws=dict(color='r', linestyle=':', linewidth=1),\n",
    "        node_kws=dict(marker=''))\n",
    "ax[0].set_title('Raw')\n",
    "\n",
    "ax[0].axis('off')\n",
    "df2.plot(edgecolor='grey', facecolor='w', ax=ax[1])\n",
    "wr.plot(df2, ax=ax[1],\n",
    "        edge_kws=dict(color='r', linestyle=':', linewidth=1),\n",
    "        node_kws=dict(marker=''))\n",
    "ax[1].set_title('Clean')\n",
    "ax[1].axis('off')"
   ]
  },
  {
   "cell_type": "code",
   "execution_count": 65,
   "id": "3cf89d12",
   "metadata": {
    "ExecuteTime": {
     "end_time": "2021-11-27T01:49:58.354671Z",
     "start_time": "2021-11-27T01:49:49.966125Z"
    }
   },
   "outputs": [
    {
     "data": {
      "text/plain": [
       "(-127.6534736675, -64.0581962625, 12.792663105600067, 51.1257081064)"
      ]
     },
     "execution_count": 65,
     "metadata": {},
     "output_type": "execute_result"
    },
    {
     "data": {
      "image/png": "[encoded data removed]",
      "text/plain": [
       "<Figure size 720x432 with 2 Axes>"
      ]
     },
     "metadata": {
      "needs_background": "light"
     },
     "output_type": "display_data"
    }
   ],
   "source": [
    "f,ax = plt.subplots(1,2,figsize=(10, 6), subplot_kw=dict(aspect='equal'))\n",
    "df.plot(edgecolor='grey', facecolor='w', ax=ax[0])\n",
    "w_queen.plot(df, ax=ax[0],\n",
    "        edge_kws=dict(color='r', linestyle=':', linewidth=1),\n",
    "        node_kws=dict(marker=''))\n",
    "ax[0].set_title('Raw')\n",
    "\n",
    "ax[0].axis('off')\n",
    "df2.plot(edgecolor='grey', facecolor='w', ax=ax[1])\n",
    "wq.plot(df2, ax=ax[1],\n",
    "        edge_kws=dict(color='r', linestyle=':', linewidth=1),\n",
    "        node_kws=dict(marker=''))\n",
    "ax[1].set_title('Clean')\n",
    "ax[1].axis('off')"
   ]
  },
  {
   "cell_type": "code",
   "execution_count": null,
   "id": "0b7a66f2",
   "metadata": {},
   "outputs": [],
   "source": []
  },
  {
   "cell_type": "code",
   "execution_count": null,
   "id": "af9a46d3",
   "metadata": {},
   "outputs": [],
   "source": []
  }
 ],
 "metadata": {
  "jupytext": {
   "formats": "ipynb,md"
  },
  "kernelspec": {
   "display_name": "Python 3",
   "language": "python",
   "name": "python3"
  },
  "language_info": {
   "codemirror_mode": {
    "name": "ipython",
    "version": 3
   },
   "file_extension": ".py",
   "mimetype": "text/x-python",
   "name": "python",
   "nbconvert_exporter": "python",
   "pygments_lexer": "ipython3",
   "version": "3.7.10"
  },
  "varInspector": {
   "cols": {
    "lenName": 16,
    "lenType": 16,
    "lenVar": 40
   },
   "kernels_config": {
    "python": {
     "delete_cmd_postfix": "",
     "delete_cmd_prefix": "del ",
     "library": "var_list.py",
     "varRefreshCmd": "print(var_dic_list())"
    },
    "r": {
     "delete_cmd_postfix": ") ",
     "delete_cmd_prefix": "rm(",
     "library": "var_list.r",
     "varRefreshCmd": "cat(var_dic_list()) "
    }
   },
   "types_to_exclude": [
    "module",
    "function",
    "builtin_function_or_method",
    "instance",
    "_Feature"
   ],
   "window_display": false
  }
 },
 "nbformat": 4,
 "nbformat_minor": 5
}
