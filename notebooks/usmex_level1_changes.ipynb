{
 "cells": [
  {
   "cell_type": "markdown",
   "id": "d8b70256-9398-409d-8953-b139a367d494",
   "metadata": {},
   "source": [
    "# Comparing Changes \n",
    "\n",
    "### Mexico level 2 - municipalities & US counties"
   ]
  },
  {
   "cell_type": "code",
   "execution_count": 2,
   "id": "eb7b2ccb-12a8-49c3-896f-0c5cef25eb53",
   "metadata": {
    "ExecuteTime": {
     "end_time": "2021-11-23T21:11:54.859337Z",
     "start_time": "2021-11-23T21:11:54.856534Z"
    }
   },
   "outputs": [],
   "source": [
    "import geopandas as gpd"
   ]
  },
  {
   "cell_type": "code",
   "execution_count": 25,
   "id": "a7d51ff3-ac62-4eef-a77d-0bd574f4d3f9",
   "metadata": {
    "ExecuteTime": {
     "end_time": "2021-11-23T21:22:41.155944Z",
     "start_time": "2021-11-23T21:22:40.785179Z"
    }
   },
   "outputs": [
    {
     "data": {
      "text/html": [
       "<div>\n",
       "<style scoped>\n",
       "    .dataframe tbody tr th:only-of-type {\n",
       "        vertical-align: middle;\n",
       "    }\n",
       "\n",
       "    .dataframe tbody tr th {\n",
       "        vertical-align: top;\n",
       "    }\n",
       "\n",
       "    .dataframe thead th {\n",
       "        text-align: right;\n",
       "    }\n",
       "</style>\n",
       "<table border=\"1\" class=\"dataframe\">\n",
       "  <thead>\n",
       "    <tr style=\"text-align: right;\">\n",
       "      <th></th>\n",
       "      <th>index</th>\n",
       "      <th>ADM1_ES</th>\n",
       "      <th>ADM1_PCODE</th>\n",
       "      <th>ADM1_REF</th>\n",
       "      <th>ADM1ALT1ES</th>\n",
       "      <th>ADM1ALT2ES</th>\n",
       "      <th>ADM0_ES</th>\n",
       "      <th>ADM0_PCODE</th>\n",
       "      <th>date</th>\n",
       "      <th>validOn</th>\n",
       "      <th>...</th>\n",
       "      <th>GID_0</th>\n",
       "      <th>NAME_0</th>\n",
       "      <th>GID_1</th>\n",
       "      <th>NAME_1</th>\n",
       "      <th>VARNAME_1</th>\n",
       "      <th>NL_NAME_1</th>\n",
       "      <th>TYPE_1</th>\n",
       "      <th>ENGTYPE_1</th>\n",
       "      <th>CC_1</th>\n",
       "      <th>HASC_1</th>\n",
       "    </tr>\n",
       "  </thead>\n",
       "  <tbody>\n",
       "    <tr>\n",
       "      <th>0</th>\n",
       "      <td>0</td>\n",
       "      <td>Aguascalientes</td>\n",
       "      <td>MX01</td>\n",
       "      <td>None</td>\n",
       "      <td>None</td>\n",
       "      <td>None</td>\n",
       "      <td>México</td>\n",
       "      <td>MX</td>\n",
       "      <td>2020-06-23</td>\n",
       "      <td>2021-06-18</td>\n",
       "      <td>...</td>\n",
       "      <td>None</td>\n",
       "      <td>None</td>\n",
       "      <td>None</td>\n",
       "      <td>None</td>\n",
       "      <td>None</td>\n",
       "      <td>None</td>\n",
       "      <td>None</td>\n",
       "      <td>None</td>\n",
       "      <td>None</td>\n",
       "      <td>None</td>\n",
       "    </tr>\n",
       "    <tr>\n",
       "      <th>1</th>\n",
       "      <td>1</td>\n",
       "      <td>Baja California</td>\n",
       "      <td>MX02</td>\n",
       "      <td>None</td>\n",
       "      <td>None</td>\n",
       "      <td>None</td>\n",
       "      <td>México</td>\n",
       "      <td>MX</td>\n",
       "      <td>2020-06-23</td>\n",
       "      <td>2021-06-18</td>\n",
       "      <td>...</td>\n",
       "      <td>None</td>\n",
       "      <td>None</td>\n",
       "      <td>None</td>\n",
       "      <td>None</td>\n",
       "      <td>None</td>\n",
       "      <td>None</td>\n",
       "      <td>None</td>\n",
       "      <td>None</td>\n",
       "      <td>None</td>\n",
       "      <td>None</td>\n",
       "    </tr>\n",
       "    <tr>\n",
       "      <th>2</th>\n",
       "      <td>2</td>\n",
       "      <td>Baja California Sur</td>\n",
       "      <td>MX03</td>\n",
       "      <td>None</td>\n",
       "      <td>None</td>\n",
       "      <td>None</td>\n",
       "      <td>México</td>\n",
       "      <td>MX</td>\n",
       "      <td>2020-06-23</td>\n",
       "      <td>2021-06-18</td>\n",
       "      <td>...</td>\n",
       "      <td>None</td>\n",
       "      <td>None</td>\n",
       "      <td>None</td>\n",
       "      <td>None</td>\n",
       "      <td>None</td>\n",
       "      <td>None</td>\n",
       "      <td>None</td>\n",
       "      <td>None</td>\n",
       "      <td>None</td>\n",
       "      <td>None</td>\n",
       "    </tr>\n",
       "    <tr>\n",
       "      <th>3</th>\n",
       "      <td>3</td>\n",
       "      <td>Campeche</td>\n",
       "      <td>MX04</td>\n",
       "      <td>None</td>\n",
       "      <td>None</td>\n",
       "      <td>None</td>\n",
       "      <td>México</td>\n",
       "      <td>MX</td>\n",
       "      <td>2020-06-23</td>\n",
       "      <td>2021-06-18</td>\n",
       "      <td>...</td>\n",
       "      <td>None</td>\n",
       "      <td>None</td>\n",
       "      <td>None</td>\n",
       "      <td>None</td>\n",
       "      <td>None</td>\n",
       "      <td>None</td>\n",
       "      <td>None</td>\n",
       "      <td>None</td>\n",
       "      <td>None</td>\n",
       "      <td>None</td>\n",
       "    </tr>\n",
       "    <tr>\n",
       "      <th>4</th>\n",
       "      <td>4</td>\n",
       "      <td>Chiapas</td>\n",
       "      <td>MX07</td>\n",
       "      <td>None</td>\n",
       "      <td>None</td>\n",
       "      <td>None</td>\n",
       "      <td>México</td>\n",
       "      <td>MX</td>\n",
       "      <td>2020-06-23</td>\n",
       "      <td>2021-06-18</td>\n",
       "      <td>...</td>\n",
       "      <td>None</td>\n",
       "      <td>None</td>\n",
       "      <td>None</td>\n",
       "      <td>None</td>\n",
       "      <td>None</td>\n",
       "      <td>None</td>\n",
       "      <td>None</td>\n",
       "      <td>None</td>\n",
       "      <td>None</td>\n",
       "      <td>None</td>\n",
       "    </tr>\n",
       "  </tbody>\n",
       "</table>\n",
       "<p>5 rows × 25 columns</p>\n",
       "</div>"
      ],
      "text/plain": [
       "   index              ADM1_ES ADM1_PCODE ADM1_REF ADM1ALT1ES ADM1ALT2ES  \\\n",
       "0      0       Aguascalientes       MX01     None       None       None   \n",
       "1      1      Baja California       MX02     None       None       None   \n",
       "2      2  Baja California Sur       MX03     None       None       None   \n",
       "3      3             Campeche       MX04     None       None       None   \n",
       "4      4              Chiapas       MX07     None       None       None   \n",
       "\n",
       "  ADM0_ES ADM0_PCODE        date     validOn  ... GID_0  NAME_0  GID_1 NAME_1  \\\n",
       "0  México         MX  2020-06-23  2021-06-18  ...  None    None   None   None   \n",
       "1  México         MX  2020-06-23  2021-06-18  ...  None    None   None   None   \n",
       "2  México         MX  2020-06-23  2021-06-18  ...  None    None   None   None   \n",
       "3  México         MX  2020-06-23  2021-06-18  ...  None    None   None   None   \n",
       "4  México         MX  2020-06-23  2021-06-18  ...  None    None   None   None   \n",
       "\n",
       "  VARNAME_1 NL_NAME_1 TYPE_1 ENGTYPE_1  CC_1 HASC_1  \n",
       "0      None      None   None      None  None   None  \n",
       "1      None      None   None      None  None   None  \n",
       "2      None      None   None      None  None   None  \n",
       "3      None      None   None      None  None   None  \n",
       "4      None      None   None      None  None   None  \n",
       "\n",
       "[5 rows x 25 columns]"
      ]
     },
     "execution_count": 25,
     "metadata": {},
     "output_type": "execute_result"
    }
   ],
   "source": [
    "df = gpd.read_parquet(\"../geoplanar/datasets/usmex/usmex_1.parquet\")\n",
    "df.head()"
   ]
  },
  {
   "cell_type": "code",
   "execution_count": 26,
   "id": "bb4f7fb2",
   "metadata": {
    "ExecuteTime": {
     "end_time": "2021-11-23T21:22:41.741195Z",
     "start_time": "2021-11-23T21:22:41.506905Z"
    }
   },
   "outputs": [
    {
     "data": {
      "text/html": [
       "<div>\n",
       "<style scoped>\n",
       "    .dataframe tbody tr th:only-of-type {\n",
       "        vertical-align: middle;\n",
       "    }\n",
       "\n",
       "    .dataframe tbody tr th {\n",
       "        vertical-align: top;\n",
       "    }\n",
       "\n",
       "    .dataframe thead th {\n",
       "        text-align: right;\n",
       "    }\n",
       "</style>\n",
       "<table border=\"1\" class=\"dataframe\">\n",
       "  <thead>\n",
       "    <tr style=\"text-align: right;\">\n",
       "      <th></th>\n",
       "      <th>index</th>\n",
       "      <th>ADM1_ES</th>\n",
       "      <th>ADM1_PCODE</th>\n",
       "      <th>ADM1_REF</th>\n",
       "      <th>ADM1ALT1ES</th>\n",
       "      <th>ADM1ALT2ES</th>\n",
       "      <th>ADM0_ES</th>\n",
       "      <th>ADM0_PCODE</th>\n",
       "      <th>date</th>\n",
       "      <th>validOn</th>\n",
       "      <th>...</th>\n",
       "      <th>GID_0</th>\n",
       "      <th>NAME_0</th>\n",
       "      <th>GID_1</th>\n",
       "      <th>NAME_1</th>\n",
       "      <th>VARNAME_1</th>\n",
       "      <th>NL_NAME_1</th>\n",
       "      <th>TYPE_1</th>\n",
       "      <th>ENGTYPE_1</th>\n",
       "      <th>CC_1</th>\n",
       "      <th>HASC_1</th>\n",
       "    </tr>\n",
       "  </thead>\n",
       "  <tbody>\n",
       "    <tr>\n",
       "      <th>0</th>\n",
       "      <td>0</td>\n",
       "      <td>Aguascalientes</td>\n",
       "      <td>MX01</td>\n",
       "      <td>None</td>\n",
       "      <td>None</td>\n",
       "      <td>None</td>\n",
       "      <td>México</td>\n",
       "      <td>MX</td>\n",
       "      <td>2020-06-23</td>\n",
       "      <td>2021-06-18</td>\n",
       "      <td>...</td>\n",
       "      <td>None</td>\n",
       "      <td>None</td>\n",
       "      <td>None</td>\n",
       "      <td>None</td>\n",
       "      <td>None</td>\n",
       "      <td>None</td>\n",
       "      <td>None</td>\n",
       "      <td>None</td>\n",
       "      <td>None</td>\n",
       "      <td>None</td>\n",
       "    </tr>\n",
       "    <tr>\n",
       "      <th>1</th>\n",
       "      <td>1</td>\n",
       "      <td>Baja California</td>\n",
       "      <td>MX02</td>\n",
       "      <td>None</td>\n",
       "      <td>None</td>\n",
       "      <td>None</td>\n",
       "      <td>México</td>\n",
       "      <td>MX</td>\n",
       "      <td>2020-06-23</td>\n",
       "      <td>2021-06-18</td>\n",
       "      <td>...</td>\n",
       "      <td>None</td>\n",
       "      <td>None</td>\n",
       "      <td>None</td>\n",
       "      <td>None</td>\n",
       "      <td>None</td>\n",
       "      <td>None</td>\n",
       "      <td>None</td>\n",
       "      <td>None</td>\n",
       "      <td>None</td>\n",
       "      <td>None</td>\n",
       "    </tr>\n",
       "    <tr>\n",
       "      <th>2</th>\n",
       "      <td>2</td>\n",
       "      <td>Baja California Sur</td>\n",
       "      <td>MX03</td>\n",
       "      <td>None</td>\n",
       "      <td>None</td>\n",
       "      <td>None</td>\n",
       "      <td>México</td>\n",
       "      <td>MX</td>\n",
       "      <td>2020-06-23</td>\n",
       "      <td>2021-06-18</td>\n",
       "      <td>...</td>\n",
       "      <td>None</td>\n",
       "      <td>None</td>\n",
       "      <td>None</td>\n",
       "      <td>None</td>\n",
       "      <td>None</td>\n",
       "      <td>None</td>\n",
       "      <td>None</td>\n",
       "      <td>None</td>\n",
       "      <td>None</td>\n",
       "      <td>None</td>\n",
       "    </tr>\n",
       "    <tr>\n",
       "      <th>3</th>\n",
       "      <td>3</td>\n",
       "      <td>Campeche</td>\n",
       "      <td>MX04</td>\n",
       "      <td>None</td>\n",
       "      <td>None</td>\n",
       "      <td>None</td>\n",
       "      <td>México</td>\n",
       "      <td>MX</td>\n",
       "      <td>2020-06-23</td>\n",
       "      <td>2021-06-18</td>\n",
       "      <td>...</td>\n",
       "      <td>None</td>\n",
       "      <td>None</td>\n",
       "      <td>None</td>\n",
       "      <td>None</td>\n",
       "      <td>None</td>\n",
       "      <td>None</td>\n",
       "      <td>None</td>\n",
       "      <td>None</td>\n",
       "      <td>None</td>\n",
       "      <td>None</td>\n",
       "    </tr>\n",
       "    <tr>\n",
       "      <th>4</th>\n",
       "      <td>4</td>\n",
       "      <td>Chiapas</td>\n",
       "      <td>MX07</td>\n",
       "      <td>None</td>\n",
       "      <td>None</td>\n",
       "      <td>None</td>\n",
       "      <td>México</td>\n",
       "      <td>MX</td>\n",
       "      <td>2020-06-23</td>\n",
       "      <td>2021-06-18</td>\n",
       "      <td>...</td>\n",
       "      <td>None</td>\n",
       "      <td>None</td>\n",
       "      <td>None</td>\n",
       "      <td>None</td>\n",
       "      <td>None</td>\n",
       "      <td>None</td>\n",
       "      <td>None</td>\n",
       "      <td>None</td>\n",
       "      <td>None</td>\n",
       "      <td>None</td>\n",
       "    </tr>\n",
       "  </tbody>\n",
       "</table>\n",
       "<p>5 rows × 25 columns</p>\n",
       "</div>"
      ],
      "text/plain": [
       "   index              ADM1_ES ADM1_PCODE ADM1_REF ADM1ALT1ES ADM1ALT2ES  \\\n",
       "0      0       Aguascalientes       MX01     None       None       None   \n",
       "1      1      Baja California       MX02     None       None       None   \n",
       "2      2  Baja California Sur       MX03     None       None       None   \n",
       "3      3             Campeche       MX04     None       None       None   \n",
       "4      4              Chiapas       MX07     None       None       None   \n",
       "\n",
       "  ADM0_ES ADM0_PCODE        date     validOn  ... GID_0  NAME_0  GID_1 NAME_1  \\\n",
       "0  México         MX  2020-06-23  2021-06-18  ...  None    None   None   None   \n",
       "1  México         MX  2020-06-23  2021-06-18  ...  None    None   None   None   \n",
       "2  México         MX  2020-06-23  2021-06-18  ...  None    None   None   None   \n",
       "3  México         MX  2020-06-23  2021-06-18  ...  None    None   None   None   \n",
       "4  México         MX  2020-06-23  2021-06-18  ...  None    None   None   None   \n",
       "\n",
       "  VARNAME_1 NL_NAME_1 TYPE_1 ENGTYPE_1  CC_1 HASC_1  \n",
       "0      None      None   None      None  None   None  \n",
       "1      None      None   None      None  None   None  \n",
       "2      None      None   None      None  None   None  \n",
       "3      None      None   None      None  None   None  \n",
       "4      None      None   None      None  None   None  \n",
       "\n",
       "[5 rows x 25 columns]"
      ]
     },
     "execution_count": 26,
     "metadata": {},
     "output_type": "execute_result"
    }
   ],
   "source": [
    "df2 = gpd.read_parquet(\"../geoplanar/datasets/usmex/final_usmex1.parquet\")\n",
    "df2.head()"
   ]
  },
  {
   "cell_type": "code",
   "execution_count": 48,
   "id": "232b29dc",
   "metadata": {
    "ExecuteTime": {
     "end_time": "2021-11-23T21:26:01.568771Z",
     "start_time": "2021-11-23T21:26:01.136585Z"
    }
   },
   "outputs": [
    {
     "data": {
      "text/plain": [
       "<AxesSubplot:>"
      ]
     },
     "execution_count": 48,
     "metadata": {},
     "output_type": "execute_result"
    },
    {
     "data": {
      "image/png": "[encoded data removed]",
      "text/plain": [
       "<Figure size 432x288 with 1 Axes>"
      ]
     },
     "metadata": {
      "needs_background": "light"
     },
     "output_type": "display_data"
    }
   ],
   "source": [
    "df2.tail(25).plot()"
   ]
  },
  {
   "cell_type": "code",
   "execution_count": 49,
   "id": "0c85aa96",
   "metadata": {
    "ExecuteTime": {
     "end_time": "2021-11-23T21:26:07.231172Z",
     "start_time": "2021-11-23T21:26:06.797971Z"
    }
   },
   "outputs": [
    {
     "data": {
      "text/plain": [
       "<AxesSubplot:>"
      ]
     },
     "execution_count": 49,
     "metadata": {},
     "output_type": "execute_result"
    },
    {
     "data": {
      "image/png": "[encoded data removed]",
      "text/plain": [
       "<Figure size 432x288 with 1 Axes>"
      ]
     },
     "metadata": {
      "needs_background": "light"
     },
     "output_type": "display_data"
    }
   ],
   "source": [
    "df.tail(25).plot()"
   ]
  },
  {
   "cell_type": "code",
   "execution_count": 29,
   "id": "21ee6958",
   "metadata": {
    "ExecuteTime": {
     "end_time": "2021-11-23T21:22:46.300344Z",
     "start_time": "2021-11-23T21:22:46.295448Z"
    }
   },
   "outputs": [],
   "source": [
    "tx = df[df.NAME_1==\"Texas\"] "
   ]
  },
  {
   "cell_type": "code",
   "execution_count": 30,
   "id": "f82ac215",
   "metadata": {
    "ExecuteTime": {
     "end_time": "2021-11-23T21:22:47.051757Z",
     "start_time": "2021-11-23T21:22:46.970330Z"
    }
   },
   "outputs": [
    {
     "data": {
      "text/plain": [
       "73    MULTIPOLYGON (((-97.21570 25.97014, -97.21570 ...\n",
       "Name: geometry, dtype: geometry"
      ]
     },
     "execution_count": 30,
     "metadata": {},
     "output_type": "execute_result"
    }
   ],
   "source": [
    "tx.geometry"
   ]
  },
  {
   "cell_type": "code",
   "execution_count": 31,
   "id": "34549773",
   "metadata": {
    "ExecuteTime": {
     "end_time": "2021-11-23T21:22:47.687185Z",
     "start_time": "2021-11-23T21:22:47.681854Z"
    }
   },
   "outputs": [],
   "source": [
    "tx2 = df2[df2.NAME_1==\"Texas\"] "
   ]
  },
  {
   "cell_type": "code",
   "execution_count": 32,
   "id": "ba0f7df2",
   "metadata": {
    "ExecuteTime": {
     "end_time": "2021-11-23T21:22:49.102121Z",
     "start_time": "2021-11-23T21:22:48.999727Z"
    }
   },
   "outputs": [
    {
     "data": {
      "text/plain": [
       "73    MULTIPOLYGON (((-97.13000 27.90417, -97.12972 ...\n",
       "Name: geometry, dtype: geometry"
      ]
     },
     "execution_count": 32,
     "metadata": {},
     "output_type": "execute_result"
    }
   ],
   "source": [
    "tx2.geometry"
   ]
  },
  {
   "cell_type": "code",
   "execution_count": 33,
   "id": "6e0dfa8a",
   "metadata": {
    "ExecuteTime": {
     "end_time": "2021-11-23T21:22:49.863321Z",
     "start_time": "2021-11-23T21:22:49.842672Z"
    }
   },
   "outputs": [
    {
     "name": "stderr",
     "output_type": "stream",
     "text": [
      "/Users/ecv/anaconda3/envs/geoplanar_docs/lib/python3.7/site-packages/ipykernel_launcher.py:1: FutureWarning: Currently, index_parts defaults to True, but in the future, it will default to False to be consistent with Pandas. Use `index_parts=True` to keep the current behavior and True/False to silence the warning.\n",
      "  \"\"\"Entry point for launching an IPython kernel.\n"
     ]
    }
   ],
   "source": [
    "tx = tx.explode()"
   ]
  },
  {
   "cell_type": "code",
   "execution_count": 34,
   "id": "bad4fdb6",
   "metadata": {
    "ExecuteTime": {
     "end_time": "2021-11-23T21:22:51.730565Z",
     "start_time": "2021-11-23T21:22:51.710763Z"
    }
   },
   "outputs": [
    {
     "name": "stderr",
     "output_type": "stream",
     "text": [
      "/Users/ecv/anaconda3/envs/geoplanar_docs/lib/python3.7/site-packages/ipykernel_launcher.py:1: FutureWarning: Currently, index_parts defaults to True, but in the future, it will default to False to be consistent with Pandas. Use `index_parts=True` to keep the current behavior and True/False to silence the warning.\n",
      "  \"\"\"Entry point for launching an IPython kernel.\n"
     ]
    }
   ],
   "source": [
    "tx2 = tx2.explode()"
   ]
  },
  {
   "cell_type": "code",
   "execution_count": 35,
   "id": "22d4e47c",
   "metadata": {
    "ExecuteTime": {
     "end_time": "2021-11-23T21:22:53.198143Z",
     "start_time": "2021-11-23T21:22:53.190351Z"
    }
   },
   "outputs": [
    {
     "data": {
      "text/plain": [
       "index                                                        43\n",
       "ADM1_ES                                                    None\n",
       "ADM1_PCODE                                                 None\n",
       "ADM1_REF                                                   None\n",
       "ADM1ALT1ES                                                 None\n",
       "ADM1ALT2ES                                                 None\n",
       "ADM0_ES                                                    None\n",
       "ADM0_PCODE                                                 None\n",
       "date                                                       None\n",
       "validOn                                                    None\n",
       "validTo                                                    None\n",
       "Shape_Leng                                                  NaN\n",
       "Shape_Area                                                  NaN\n",
       "COUNTRY                                                      US\n",
       "GID_0                                                       USA\n",
       "NAME_0                                            United States\n",
       "GID_1                                                  USA.44_1\n",
       "NAME_1                                                    Texas\n",
       "VARNAME_1                                               TX|Tex.\n",
       "NL_NAME_1                                                  None\n",
       "TYPE_1                                                    State\n",
       "ENGTYPE_1                                                 State\n",
       "CC_1                                                       None\n",
       "HASC_1                                                    US.TX\n",
       "geometry      POLYGON ((-97.21569823999999 25.97013855, -97....\n",
       "Name: (73, 0), dtype: object"
      ]
     },
     "execution_count": 35,
     "metadata": {},
     "output_type": "execute_result"
    }
   ],
   "source": [
    "tx.iloc[0]"
   ]
  },
  {
   "cell_type": "code",
   "execution_count": 36,
   "id": "46a78826",
   "metadata": {
    "ExecuteTime": {
     "end_time": "2021-11-23T21:22:55.083204Z",
     "start_time": "2021-11-23T21:22:55.076725Z"
    }
   },
   "outputs": [
    {
     "data": {
      "text/plain": [
       "index                                                        43\n",
       "ADM1_ES                                                    None\n",
       "ADM1_PCODE                                                 None\n",
       "ADM1_REF                                                   None\n",
       "ADM1ALT1ES                                                 None\n",
       "ADM1ALT2ES                                                 None\n",
       "ADM0_ES                                                    None\n",
       "ADM0_PCODE                                                 None\n",
       "date                                                       None\n",
       "validOn                                                    None\n",
       "validTo                                                    None\n",
       "Shape_Leng                                                  NaN\n",
       "Shape_Area                                                  NaN\n",
       "COUNTRY                                                      US\n",
       "GID_0                                                       USA\n",
       "NAME_0                                            United States\n",
       "GID_1                                                  USA.44_1\n",
       "NAME_1                                                    Texas\n",
       "VARNAME_1                                               TX|Tex.\n",
       "NL_NAME_1                                                  None\n",
       "TYPE_1                                                    State\n",
       "ENGTYPE_1                                                 State\n",
       "CC_1                                                       None\n",
       "HASC_1                                                    US.TX\n",
       "geometry      POLYGON ((-97.12999725 27.90416718, -97.129722...\n",
       "Name: (73, 0), dtype: object"
      ]
     },
     "execution_count": 36,
     "metadata": {},
     "output_type": "execute_result"
    }
   ],
   "source": [
    "tx2.iloc[0]"
   ]
  },
  {
   "cell_type": "code",
   "execution_count": 37,
   "id": "44583170",
   "metadata": {
    "ExecuteTime": {
     "end_time": "2021-11-23T21:22:59.423635Z",
     "start_time": "2021-11-23T21:22:59.416547Z"
    }
   },
   "outputs": [
    {
     "data": {
      "text/plain": [
       "73  0      POLYGON ((-97.21570 25.97014, -97.21570 25.970...\n",
       "    1      POLYGON ((-97.17458 25.98125, -97.17458 25.981...\n",
       "    2      POLYGON ((-97.27708 26.24042, -97.27708 26.240...\n",
       "    3      POLYGON ((-97.27847 26.24403, -97.27847 26.244...\n",
       "    4      POLYGON ((-97.28098 26.25097, -97.28098 26.251...\n",
       "                                 ...                        \n",
       "    254    POLYGON ((-96.57306 28.65667, -96.57257 28.656...\n",
       "    255    POLYGON ((-96.57207 28.69083, -96.57111 28.690...\n",
       "    256    POLYGON ((-96.57970 28.69389, -96.57722 28.693...\n",
       "    257    POLYGON ((-96.65595 28.71873, -96.65556 28.718...\n",
       "    258    POLYGON ((-96.44866 28.75027, -96.44836 28.750...\n",
       "Name: geometry, Length: 259, dtype: geometry"
      ]
     },
     "execution_count": 37,
     "metadata": {},
     "output_type": "execute_result"
    }
   ],
   "source": [
    "tx.geometry"
   ]
  },
  {
   "cell_type": "code",
   "execution_count": 38,
   "id": "37205cdc",
   "metadata": {
    "ExecuteTime": {
     "end_time": "2021-11-23T21:23:01.049359Z",
     "start_time": "2021-11-23T21:23:00.975930Z"
    }
   },
   "outputs": [
    {
     "data": {
      "text/plain": [
       "73  0      POLYGON ((-97.13000 27.90417, -97.12972 27.904...\n",
       "    1      POLYGON ((-97.12155 27.91134, -97.12167 27.911...\n",
       "    2      POLYGON ((-97.12000 27.92139, -97.11972 27.921...\n",
       "    3      POLYGON ((-97.14944 28.03028, -97.14944 28.031...\n",
       "    4      POLYGON ((-97.15444 28.05278, -97.15417 28.052...\n",
       "                                 ...                        \n",
       "    254    POLYGON ((-97.36458 27.79020, -97.36424 27.789...\n",
       "    255    POLYGON ((-97.49994 27.37181, -97.49994 27.372...\n",
       "    256    POLYGON ((-97.52722 27.42278, -97.52722 27.423...\n",
       "    257    POLYGON ((-97.74277 27.42639, -97.74250 27.426...\n",
       "    258    POLYGON ((-103.34054 29.02285, -103.34093 29.0...\n",
       "Name: geometry, Length: 259, dtype: geometry"
      ]
     },
     "execution_count": 38,
     "metadata": {},
     "output_type": "execute_result"
    }
   ],
   "source": [
    "tx2.geometry"
   ]
  },
  {
   "cell_type": "code",
   "execution_count": 61,
   "id": "37fcfa1d",
   "metadata": {
    "ExecuteTime": {
     "end_time": "2021-11-23T21:38:36.641937Z",
     "start_time": "2021-11-23T21:38:36.616311Z"
    }
   },
   "outputs": [
    {
     "data": {
      "image/svg+xml": [
       "<svg xmlns=\"http://www.w3.org/2000/svg\" xmlns:xlink=\"http://www.w3.org/1999/xlink\" width=\"100.0\" height=\"100.0\" viewBox=\"-97.395857546 26.988583834 0.004498901999994587 0.002278741999997891\" preserveAspectRatio=\"xMinYMin meet\"><g transform=\"matrix(1,0,0,-1,0,53.979446409999994)\"><path fill-rule=\"evenodd\" fill=\"#66cc99\" stroke=\"#555555\" stroke-width=\"8.997803999989173e-05\" opacity=\"0.6\" d=\"M -97.39402771,26.99069595 L -97.39402771,26.99041748 L -97.39319611,26.99041748 L -97.39319611,26.99013901 L -97.39208221,26.99013901 L -97.39208221,26.98986053 L -97.39180756,26.98986053 L -97.39180756,26.98958588 L -97.39152527,26.98958588 L -97.39152527,26.9893055 L -97.39263916,26.9893055 L -97.39263916,26.98902702 L -97.39347076,26.98902702 L -97.39347076,26.98875046 L -97.39541626,26.98875046 L -97.39541626,26.98902702 L -97.39569092,26.98902702 L -97.39569092,26.98958588 L -97.39541626,26.98958588 L -97.39541626,26.98986053 L -97.3951416,26.98986053 L -97.3951416,26.99041748 L -97.39485931,26.99041748 L -97.39485931,26.99069595 L -97.39402771,26.99069595 z\" /></g></svg>"
      ],
      "text/plain": [
       "<shapely.geometry.polygon.Polygon at 0x7fdee67c0cd0>"
      ]
     },
     "execution_count": 61,
     "metadata": {},
     "output_type": "execute_result"
    }
   ],
   "source": [
    "tx.iloc[45].geometry"
   ]
  },
  {
   "cell_type": "code",
   "execution_count": 62,
   "id": "b9f04e77",
   "metadata": {
    "ExecuteTime": {
     "end_time": "2021-11-23T21:38:37.696712Z",
     "start_time": "2021-11-23T21:38:37.684939Z"
    }
   },
   "outputs": [
    {
     "data": {
      "image/svg+xml": [
       "<svg xmlns=\"http://www.w3.org/2000/svg\" xmlns:xlink=\"http://www.w3.org/1999/xlink\" width=\"100.0\" height=\"100.0\" viewBox=\"-96.393786312 28.385657428000002 0.0797936940000028 0.05007529399999555\" preserveAspectRatio=\"xMinYMin meet\"><g transform=\"matrix(1,0,0,-1,0,56.82139015)\"><path fill-rule=\"evenodd\" fill=\"#66cc99\" stroke=\"#555555\" stroke-width=\"0.001595873880000056\" opacity=\"0.6\" d=\"M -96.39083099,28.39111137 L -96.38972473,28.39222145 L -96.38944244,28.39222145 L -96.38861084,28.39305305 L -96.38833618,28.39305305 L -96.38777924,28.39361191 L -96.38722229,28.39361191 L -96.3861084,28.39472198 L -96.3861084,28.39500046 L -96.38583374,28.39527512 L -96.38500214,28.39527512 L -96.38361359,28.39666557 L -96.3833313,28.39666557 L -96.38305664,28.39694405 L -96.38277435,28.39694405 L -96.38249969,28.39722252 L -96.38222504,28.39722252 L -96.38194275,28.39749718 L -96.38166809,28.39749718 L -96.38083649,28.3983326 L -96.3805542,28.3983326 L -96.37999725,28.39888954 L -96.3797226,28.39888954 L -96.37944794,28.39916611 L -96.37916565,28.39916611 L -96.37889099,28.39944458 L -96.3786087,28.39944458 L -96.37833405,28.39972305 L -96.37805176,28.39972305 L -96.3777771,28.39999962 L -96.37750244,28.39999962 L -96.37740326,28.40010834 L -96.37721252,28.40032005 L -96.37638092,28.4002285 L -96.3758316,28.40083313 L -96.3758316,28.4011116 L -96.37555695,28.40138817 L -96.37555695,28.40166664 L -96.375,28.40222168 L -96.375,28.40250015 L -96.37472534,28.40277863 L -96.37472534,28.40305519 L -96.37388611,28.4038887 L -96.37361145,28.4038887 L -96.37277985,28.40472221 L -96.37249756,28.40472221 L -96.3722229,28.40500069 L -96.3722229,28.40527725 L -96.37194824,28.40555573 L -96.37194824,28.40583229 L -96.3713913,28.40638924 L -96.37110901,28.40638924 L -96.37083435,28.4066658 L -96.37055206,28.4066658 L -96.3702774,28.40694427 L -96.36972046,28.40694427 L -96.3694458,28.40722275 L -96.36916351,28.40722275 L -96.36833191,28.40805435 L -96.36833191,28.40833282 L -96.36555481,28.41111183 L -96.36528015,28.41111183 L -96.36528015,28.41138649 L -96.36499786,28.41166878 L -96.36472321,28.41166878 L -96.3638916,28.41250038 L -96.36333466,28.41250038 L -96.36194611,28.41389084 L -96.36194611,28.4141674 L -96.36138916,28.41472244 L -96.3611145,28.41472244 L -96.36027527,28.41555595 L -96.36000061,28.41555595 L -96.35916901,28.41638947 L -96.35888672,28.41638947 L -96.35861206,28.41666603 L -96.35805511,28.41666603 L -96.35749817,28.41722107 L -96.35722351,28.41722107 L -96.35610962,28.41833305 L -96.35583496,28.41833305 L -96.35500336,28.41916656 L -96.35472107,28.41916656 L -96.35250092,28.42138863 L -96.35250092,28.42250061 L -96.35221863,28.42277527 L -96.35221863,28.42305756 L -96.35166931,28.42361069 L -96.35166931,28.42388725 L -96.35138702,28.42416573 L -96.35116577,28.42423248 L -96.35083008,28.42449951 L -96.35083008,28.42472267 L -96.34972382,28.42583275 L -96.34944153,28.42583275 L -96.34833527,28.42694473 L -96.34833527,28.42805481 L -96.34722137,28.42916679 L -96.34638977,28.42916679 L -96.34610748,28.42944527 L -96.34555817,28.42944527 L -96.34500122,28.43000031 L -96.34471893,28.43000031 L -96.34444427,28.43027687 L -96.34416962,28.43027687 L -96.34388733,28.43055534 L -96.34326935,28.43051529 L -96.34305573,28.43083382 L -96.34281158,28.43087578 L -96.34250641,28.43112183 L -96.34194183,28.43111038 L -96.34166718,28.43138885 L -96.34139252,28.43138885 L -96.34111023,28.43166733 L -96.34027863,28.43166733 L -96.33999634,28.43194389 L -96.33972168,28.43166733 L -96.33889008,28.43166733 L -96.33860779,28.43194389 L -96.33777618,28.43194389 L -96.33750153,28.43222237 L -96.33721924,28.43222237 L -96.33694458,28.43250084 L -96.33666992,28.4327774 L -96.33583069,28.4327774 L -96.33110809,28.42805481 L -96.32917023,28.42611122 L -96.32917023,28.42583275 L -96.32888794,28.42555618 L -96.32888794,28.42472267 L -96.32859802,28.4244175 L -96.32861328,28.42416573 L -96.32666779,28.42222214 L -96.3263855,28.42222214 L -96.32444763,28.42027855 L -96.32444763,28.42000008 L -96.32333374,28.41916656 L -96.32305908,28.41916656 L -96.32111359,28.41722107 L -96.3208313,28.41722107 L -96.32055664,28.4169445 L -96.32055664,28.41666603 L -96.31944275,28.41555595 L -96.3188858,28.41555595 L -96.31861115,28.41527748 L -96.31833649,28.41527748 L -96.31777954,28.41472244 L -96.31777954,28.41444397 L -96.31749725,28.41444397 L -96.3172226,28.4141674 L -96.3172226,28.41361046 L -96.31694794,28.41333389 L -96.31777954,28.41250038 L -96.31833649,28.41250038 L -96.31833649,28.41277885 L -96.31916809,28.41361046 L -96.31944275,28.41361046 L -96.31972504,28.41389084 L -96.31972504,28.4141674 L -96.32027435,28.41472244 L -96.32027435,28.41500092 L -96.3208313,28.41555595 L -96.32111359,28.41555595 L -96.32250214,28.4169445 L -96.32250214,28.41722107 L -96.32333374,28.41805649 L -96.3236084,28.41805649 L -96.32416534,28.41861153 L -96.32444763,28.41861153 L -96.32805634,28.42222214 L -96.32833099,28.42222214 L -96.32976532,28.42356491 L -96.33055878,28.42361069 L -96.33166504,28.42472267 L -96.33249664,28.42472267 L -96.33249664,28.42361069 L -96.33277893,28.42333412 L -96.33305359,28.42333412 L -96.33388519,28.42250061 L -96.33416748,28.42250061 L -96.33472443,28.42194366 L -96.33528137,28.42194366 L -96.33555603,28.42166519 L -96.33694458,28.42166519 L -96.33721924,28.42138863 L -96.33750153,28.42138863 L -96.33833313,28.42055321 L -96.33860779,28.42055321 L -96.33916473,28.42000008 L -96.33999634,28.42000008 L -96.34083557,28.41916656 L -96.34139252,28.41916656 L -96.34166718,28.41888809 L -96.34222412,28.41888809 L -96.34249878,28.41861153 L -96.34305573,28.41861153 L -96.34500122,28.41666603 L -96.34527588,28.41666603 L -96.34583282,28.4161129 L -96.34610748,28.4161129 L -96.34638977,28.41583252 L -96.34666443,28.41583252 L -96.34777832,28.41472244 L -96.34805298,28.41472244 L -96.34833527,28.41444397 L -96.34860992,28.41444397 L -96.34916687,28.41389084 L -96.34944153,28.41389084 L -96.35083008,28.41250038 L -96.35111237,28.41250038 L -96.35138702,28.41222191 L -96.35138702,28.41194534 L -96.35166931,28.41194534 L -96.35305786,28.41055489 L -96.35361481,28.41055489 L -96.35388947,28.41027641 L -96.35416412,28.41027641 L -96.35444641,28.40999985 L -96.35472107,28.40999985 L -96.35749817,28.40722275 L -96.35749817,28.40694427 L -96.35778046,28.4066658 L -96.35832977,28.4066658 L -96.35916901,28.40583229 L -96.35944366,28.40583229 L -96.36050415,28.40467453 L -96.36083221,28.40472221 L -96.36146545,28.40409279 L -96.36277771,28.40277863 L -96.36333466,28.40277863 L -96.3638916,28.40222168 L -96.36447906,28.40228271 L -96.36499786,28.40166664 L -96.36555481,28.40166664 L -96.3658371,28.40138817 L -96.36611176,28.40138817 L -96.36638641,28.4011116 L -96.3666687,28.4011116 L -96.36750031,28.40027809 L -96.36877441,28.39996147 L -96.36950684,28.39937401 L -96.37046051,28.39859009 L -96.37083435,28.39826393 L -96.37164307,28.39761162 L -96.37245178,28.39722061 L -96.37332916,28.39689255 L -96.37399292,28.39656639 L -96.37480164,28.39591408 L -96.3758316,28.39500046 L -96.37638855,28.39444351 L -96.37638855,28.39416695 L -96.37805176,28.39249992 L -96.37805176,28.39194489 L -96.3786087,28.39138794 L -96.37889099,28.39138794 L -96.37916565,28.39111137 L -96.37999725,28.39111137 L -96.38027954,28.3908329 L -96.3805542,28.3908329 L -96.38111115,28.39027786 L -96.38166809,28.39027786 L -96.38222504,28.38972282 L -96.38222504,28.38944435 L -96.38249969,28.38916588 L -96.38277435,28.38916588 L -96.3833313,28.38861275 L -96.38527679,28.38861275 L -96.38555908,28.38888931 L -96.38666534,28.38888931 L -96.38722229,28.38944435 L -96.38833618,28.38944435 L -96.38861084,28.38972282 L -96.3888855,28.38972282 L -96.38916779,28.38999939 L -96.38972473,28.38999939 L -96.39083099,28.39111137 z\" /></g></svg>"
      ],
      "text/plain": [
       "<shapely.geometry.polygon.Polygon at 0x7fdefc8fac10>"
      ]
     },
     "execution_count": 62,
     "metadata": {},
     "output_type": "execute_result"
    }
   ],
   "source": [
    "tx2.iloc[45].geometry"
   ]
  },
  {
   "cell_type": "code",
   "execution_count": 41,
   "id": "8719459e",
   "metadata": {
    "ExecuteTime": {
     "end_time": "2021-11-23T21:23:04.950891Z",
     "start_time": "2021-11-23T21:23:04.781374Z"
    }
   },
   "outputs": [
    {
     "data": {
      "text/plain": [
       "<AxesSubplot:>"
      ]
     },
     "execution_count": 41,
     "metadata": {},
     "output_type": "execute_result"
    },
    {
     "data": {
      "image/png": "[encoded data removed]",
      "text/plain": [
       "<Figure size 432x288 with 1 Axes>"
      ]
     },
     "metadata": {
      "needs_background": "light"
     },
     "output_type": "display_data"
    }
   ],
   "source": [
    "tx.head(25).plot()"
   ]
  },
  {
   "cell_type": "code",
   "execution_count": 42,
   "id": "59eea18d",
   "metadata": {
    "ExecuteTime": {
     "end_time": "2021-11-23T21:23:05.832780Z",
     "start_time": "2021-11-23T21:23:05.704396Z"
    }
   },
   "outputs": [
    {
     "data": {
      "text/plain": [
       "<AxesSubplot:>"
      ]
     },
     "execution_count": 42,
     "metadata": {},
     "output_type": "execute_result"
    },
    {
     "data": {
      "image/png": "[encoded data removed]",
      "text/plain": [
       "<Figure size 432x288 with 1 Axes>"
      ]
     },
     "metadata": {
      "needs_background": "light"
     },
     "output_type": "display_data"
    }
   ],
   "source": [
    "tx2.head(25).plot()"
   ]
  },
  {
   "cell_type": "code",
   "execution_count": 59,
   "id": "d875feb8",
   "metadata": {
    "ExecuteTime": {
     "end_time": "2021-11-23T21:38:01.023521Z",
     "start_time": "2021-11-23T21:38:01.012376Z"
    }
   },
   "outputs": [
    {
     "data": {
      "text/plain": [
       "0"
      ]
     },
     "execution_count": 59,
     "metadata": {},
     "output_type": "execute_result"
    }
   ],
   "source": [
    "# for each aligned geometry equal to other.\n",
    "tx.geometry.geom_equals(tx2.geometry).sum()"
   ]
  },
  {
   "cell_type": "code",
   "execution_count": 60,
   "id": "9e08ece1",
   "metadata": {
    "ExecuteTime": {
     "end_time": "2021-11-23T21:38:06.348803Z",
     "start_time": "2021-11-23T21:38:06.342606Z"
    }
   },
   "outputs": [
    {
     "data": {
      "text/plain": [
       "0"
      ]
     },
     "execution_count": 60,
     "metadata": {},
     "output_type": "execute_result"
    }
   ],
   "source": [
    "# if each aligned geometry is approximately equal to other.\n",
    "tx.geometry.geom_almost_equals(tx2.geometry, decimal=.001, align=False).sum()"
   ]
  },
  {
   "cell_type": "code",
   "execution_count": null,
   "id": "6e9caaee",
   "metadata": {},
   "outputs": [],
   "source": []
  },
  {
   "cell_type": "code",
   "execution_count": null,
   "id": "968a3391",
   "metadata": {},
   "outputs": [],
   "source": []
  },
  {
   "cell_type": "code",
   "execution_count": 55,
   "id": "f57e90b2",
   "metadata": {
    "ExecuteTime": {
     "end_time": "2021-11-23T21:32:33.415519Z",
     "start_time": "2021-11-23T21:32:33.060962Z"
    }
   },
   "outputs": [],
   "source": [
    "df2['result'] = np.where(df[\"geometry\"] == df2[\"geometry\"], True, False) "
   ]
  },
  {
   "cell_type": "code",
   "execution_count": 56,
   "id": "be787821",
   "metadata": {
    "ExecuteTime": {
     "end_time": "2021-11-23T21:32:48.095049Z",
     "start_time": "2021-11-23T21:32:46.949519Z"
    }
   },
   "outputs": [
    {
     "data": {
      "text/plain": [
       "<AxesSubplot:>"
      ]
     },
     "execution_count": 56,
     "metadata": {},
     "output_type": "execute_result"
    },
    {
     "data": {
      "image/png": "[encoded data removed]",
      "text/plain": [
       "<Figure size 432x288 with 1 Axes>"
      ]
     },
     "metadata": {
      "needs_background": "light"
     },
     "output_type": "display_data"
    }
   ],
   "source": [
    "df2.loc[df2['result'] == False].plot() "
   ]
  },
  {
   "cell_type": "code",
   "execution_count": 57,
   "id": "83a58189",
   "metadata": {
    "ExecuteTime": {
     "end_time": "2021-11-23T21:32:56.656000Z",
     "start_time": "2021-11-23T21:32:56.214479Z"
    }
   },
   "outputs": [
    {
     "data": {
      "text/plain": [
       "<AxesSubplot:>"
      ]
     },
     "execution_count": 57,
     "metadata": {},
     "output_type": "execute_result"
    },
    {
     "data": {
      "image/png": "[encoded data removed]",
      "text/plain": [
       "<Figure size 432x288 with 1 Axes>"
      ]
     },
     "metadata": {
      "needs_background": "light"
     },
     "output_type": "display_data"
    }
   ],
   "source": [
    "df2.loc[df2['result'] == True].plot() "
   ]
  },
  {
   "cell_type": "code",
   "execution_count": null,
   "id": "32ffb569",
   "metadata": {},
   "outputs": [],
   "source": []
  }
 ],
 "metadata": {
  "jupytext": {
   "formats": "ipynb,md"
  },
  "kernelspec": {
   "display_name": "Python 3",
   "language": "python",
   "name": "python3"
  },
  "language_info": {
   "codemirror_mode": {
    "name": "ipython",
    "version": 3
   },
   "file_extension": ".py",
   "mimetype": "text/x-python",
   "name": "python",
   "nbconvert_exporter": "python",
   "pygments_lexer": "ipython3",
   "version": "3.7.10"
  },
  "varInspector": {
   "cols": {
    "lenName": 16,
    "lenType": 16,
    "lenVar": 40
   },
   "kernels_config": {
    "python": {
     "delete_cmd_postfix": "",
     "delete_cmd_prefix": "del ",
     "library": "var_list.py",
     "varRefreshCmd": "print(var_dic_list())"
    },
    "r": {
     "delete_cmd_postfix": ") ",
     "delete_cmd_prefix": "rm(",
     "library": "var_list.r",
     "varRefreshCmd": "cat(var_dic_list()) "
    }
   },
   "types_to_exclude": [
    "module",
    "function",
    "builtin_function_or_method",
    "instance",
    "_Feature"
   ],
   "window_display": false
  }
 },
 "nbformat": 4,
 "nbformat_minor": 5
}
