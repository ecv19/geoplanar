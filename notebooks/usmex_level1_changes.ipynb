{
 "cells": [
  {
   "cell_type": "markdown",
   "id": "d8b70256-9398-409d-8953-b139a367d494",
   "metadata": {},
   "source": [
    "# Comparing Changes \n",
    "\n",
    "### Mexico level 2 - municipalities & US counties"
   ]
  },
  {
   "cell_type": "code",
   "execution_count": 1,
   "id": "eb7b2ccb-12a8-49c3-896f-0c5cef25eb53",
   "metadata": {
    "ExecuteTime": {
     "end_time": "2021-11-24T00:43:50.261793Z",
     "start_time": "2021-11-24T00:43:49.107960Z"
    }
   },
   "outputs": [],
   "source": [
    "import geopandas as gpd"
   ]
  },
  {
   "cell_type": "code",
   "execution_count": 2,
   "id": "a7d51ff3-ac62-4eef-a77d-0bd574f4d3f9",
   "metadata": {
    "ExecuteTime": {
     "end_time": "2021-11-24T00:43:50.610396Z",
     "start_time": "2021-11-24T00:43:50.263604Z"
    }
   },
   "outputs": [
    {
     "data": {
      "text/html": [
       "<div>\n",
       "<style scoped>\n",
       "    .dataframe tbody tr th:only-of-type {\n",
       "        vertical-align: middle;\n",
       "    }\n",
       "\n",
       "    .dataframe tbody tr th {\n",
       "        vertical-align: top;\n",
       "    }\n",
       "\n",
       "    .dataframe thead th {\n",
       "        text-align: right;\n",
       "    }\n",
       "</style>\n",
       "<table border=\"1\" class=\"dataframe\">\n",
       "  <thead>\n",
       "    <tr style=\"text-align: right;\">\n",
       "      <th></th>\n",
       "      <th>index</th>\n",
       "      <th>ADM1_ES</th>\n",
       "      <th>ADM1_PCODE</th>\n",
       "      <th>ADM1_REF</th>\n",
       "      <th>ADM1ALT1ES</th>\n",
       "      <th>ADM1ALT2ES</th>\n",
       "      <th>ADM0_ES</th>\n",
       "      <th>ADM0_PCODE</th>\n",
       "      <th>date</th>\n",
       "      <th>validOn</th>\n",
       "      <th>...</th>\n",
       "      <th>GID_0</th>\n",
       "      <th>NAME_0</th>\n",
       "      <th>GID_1</th>\n",
       "      <th>NAME_1</th>\n",
       "      <th>VARNAME_1</th>\n",
       "      <th>NL_NAME_1</th>\n",
       "      <th>TYPE_1</th>\n",
       "      <th>ENGTYPE_1</th>\n",
       "      <th>CC_1</th>\n",
       "      <th>HASC_1</th>\n",
       "    </tr>\n",
       "  </thead>\n",
       "  <tbody>\n",
       "    <tr>\n",
       "      <th>0</th>\n",
       "      <td>0</td>\n",
       "      <td>Aguascalientes</td>\n",
       "      <td>MX01</td>\n",
       "      <td>None</td>\n",
       "      <td>None</td>\n",
       "      <td>None</td>\n",
       "      <td>México</td>\n",
       "      <td>MX</td>\n",
       "      <td>2020-06-23</td>\n",
       "      <td>2021-06-18</td>\n",
       "      <td>...</td>\n",
       "      <td>None</td>\n",
       "      <td>None</td>\n",
       "      <td>None</td>\n",
       "      <td>None</td>\n",
       "      <td>None</td>\n",
       "      <td>None</td>\n",
       "      <td>None</td>\n",
       "      <td>None</td>\n",
       "      <td>None</td>\n",
       "      <td>None</td>\n",
       "    </tr>\n",
       "    <tr>\n",
       "      <th>1</th>\n",
       "      <td>1</td>\n",
       "      <td>Baja California</td>\n",
       "      <td>MX02</td>\n",
       "      <td>None</td>\n",
       "      <td>None</td>\n",
       "      <td>None</td>\n",
       "      <td>México</td>\n",
       "      <td>MX</td>\n",
       "      <td>2020-06-23</td>\n",
       "      <td>2021-06-18</td>\n",
       "      <td>...</td>\n",
       "      <td>None</td>\n",
       "      <td>None</td>\n",
       "      <td>None</td>\n",
       "      <td>None</td>\n",
       "      <td>None</td>\n",
       "      <td>None</td>\n",
       "      <td>None</td>\n",
       "      <td>None</td>\n",
       "      <td>None</td>\n",
       "      <td>None</td>\n",
       "    </tr>\n",
       "    <tr>\n",
       "      <th>2</th>\n",
       "      <td>2</td>\n",
       "      <td>Baja California Sur</td>\n",
       "      <td>MX03</td>\n",
       "      <td>None</td>\n",
       "      <td>None</td>\n",
       "      <td>None</td>\n",
       "      <td>México</td>\n",
       "      <td>MX</td>\n",
       "      <td>2020-06-23</td>\n",
       "      <td>2021-06-18</td>\n",
       "      <td>...</td>\n",
       "      <td>None</td>\n",
       "      <td>None</td>\n",
       "      <td>None</td>\n",
       "      <td>None</td>\n",
       "      <td>None</td>\n",
       "      <td>None</td>\n",
       "      <td>None</td>\n",
       "      <td>None</td>\n",
       "      <td>None</td>\n",
       "      <td>None</td>\n",
       "    </tr>\n",
       "    <tr>\n",
       "      <th>3</th>\n",
       "      <td>3</td>\n",
       "      <td>Campeche</td>\n",
       "      <td>MX04</td>\n",
       "      <td>None</td>\n",
       "      <td>None</td>\n",
       "      <td>None</td>\n",
       "      <td>México</td>\n",
       "      <td>MX</td>\n",
       "      <td>2020-06-23</td>\n",
       "      <td>2021-06-18</td>\n",
       "      <td>...</td>\n",
       "      <td>None</td>\n",
       "      <td>None</td>\n",
       "      <td>None</td>\n",
       "      <td>None</td>\n",
       "      <td>None</td>\n",
       "      <td>None</td>\n",
       "      <td>None</td>\n",
       "      <td>None</td>\n",
       "      <td>None</td>\n",
       "      <td>None</td>\n",
       "    </tr>\n",
       "    <tr>\n",
       "      <th>4</th>\n",
       "      <td>4</td>\n",
       "      <td>Chiapas</td>\n",
       "      <td>MX07</td>\n",
       "      <td>None</td>\n",
       "      <td>None</td>\n",
       "      <td>None</td>\n",
       "      <td>México</td>\n",
       "      <td>MX</td>\n",
       "      <td>2020-06-23</td>\n",
       "      <td>2021-06-18</td>\n",
       "      <td>...</td>\n",
       "      <td>None</td>\n",
       "      <td>None</td>\n",
       "      <td>None</td>\n",
       "      <td>None</td>\n",
       "      <td>None</td>\n",
       "      <td>None</td>\n",
       "      <td>None</td>\n",
       "      <td>None</td>\n",
       "      <td>None</td>\n",
       "      <td>None</td>\n",
       "    </tr>\n",
       "  </tbody>\n",
       "</table>\n",
       "<p>5 rows × 25 columns</p>\n",
       "</div>"
      ],
      "text/plain": [
       "   index              ADM1_ES ADM1_PCODE ADM1_REF ADM1ALT1ES ADM1ALT2ES  \\\n",
       "0      0       Aguascalientes       MX01     None       None       None   \n",
       "1      1      Baja California       MX02     None       None       None   \n",
       "2      2  Baja California Sur       MX03     None       None       None   \n",
       "3      3             Campeche       MX04     None       None       None   \n",
       "4      4              Chiapas       MX07     None       None       None   \n",
       "\n",
       "  ADM0_ES ADM0_PCODE        date     validOn  ... GID_0  NAME_0  GID_1 NAME_1  \\\n",
       "0  México         MX  2020-06-23  2021-06-18  ...  None    None   None   None   \n",
       "1  México         MX  2020-06-23  2021-06-18  ...  None    None   None   None   \n",
       "2  México         MX  2020-06-23  2021-06-18  ...  None    None   None   None   \n",
       "3  México         MX  2020-06-23  2021-06-18  ...  None    None   None   None   \n",
       "4  México         MX  2020-06-23  2021-06-18  ...  None    None   None   None   \n",
       "\n",
       "  VARNAME_1 NL_NAME_1 TYPE_1 ENGTYPE_1  CC_1 HASC_1  \n",
       "0      None      None   None      None  None   None  \n",
       "1      None      None   None      None  None   None  \n",
       "2      None      None   None      None  None   None  \n",
       "3      None      None   None      None  None   None  \n",
       "4      None      None   None      None  None   None  \n",
       "\n",
       "[5 rows x 25 columns]"
      ]
     },
     "execution_count": 2,
     "metadata": {},
     "output_type": "execute_result"
    }
   ],
   "source": [
    "df = gpd.read_parquet(\"../geoplanar/datasets/usmex/usmex_1.parquet\")\n",
    "df.head()"
   ]
  },
  {
   "cell_type": "code",
   "execution_count": 3,
   "id": "bb4f7fb2",
   "metadata": {
    "ExecuteTime": {
     "end_time": "2021-11-24T00:43:50.859588Z",
     "start_time": "2021-11-24T00:43:50.612933Z"
    }
   },
   "outputs": [
    {
     "data": {
      "text/html": [
       "<div>\n",
       "<style scoped>\n",
       "    .dataframe tbody tr th:only-of-type {\n",
       "        vertical-align: middle;\n",
       "    }\n",
       "\n",
       "    .dataframe tbody tr th {\n",
       "        vertical-align: top;\n",
       "    }\n",
       "\n",
       "    .dataframe thead th {\n",
       "        text-align: right;\n",
       "    }\n",
       "</style>\n",
       "<table border=\"1\" class=\"dataframe\">\n",
       "  <thead>\n",
       "    <tr style=\"text-align: right;\">\n",
       "      <th></th>\n",
       "      <th>index</th>\n",
       "      <th>ADM1_ES</th>\n",
       "      <th>ADM1_PCODE</th>\n",
       "      <th>ADM1_REF</th>\n",
       "      <th>ADM1ALT1ES</th>\n",
       "      <th>ADM1ALT2ES</th>\n",
       "      <th>ADM0_ES</th>\n",
       "      <th>ADM0_PCODE</th>\n",
       "      <th>date</th>\n",
       "      <th>validOn</th>\n",
       "      <th>...</th>\n",
       "      <th>GID_0</th>\n",
       "      <th>NAME_0</th>\n",
       "      <th>GID_1</th>\n",
       "      <th>NAME_1</th>\n",
       "      <th>VARNAME_1</th>\n",
       "      <th>NL_NAME_1</th>\n",
       "      <th>TYPE_1</th>\n",
       "      <th>ENGTYPE_1</th>\n",
       "      <th>CC_1</th>\n",
       "      <th>HASC_1</th>\n",
       "    </tr>\n",
       "  </thead>\n",
       "  <tbody>\n",
       "    <tr>\n",
       "      <th>0</th>\n",
       "      <td>0</td>\n",
       "      <td>Aguascalientes</td>\n",
       "      <td>MX01</td>\n",
       "      <td>None</td>\n",
       "      <td>None</td>\n",
       "      <td>None</td>\n",
       "      <td>México</td>\n",
       "      <td>MX</td>\n",
       "      <td>2020-06-23</td>\n",
       "      <td>2021-06-18</td>\n",
       "      <td>...</td>\n",
       "      <td>None</td>\n",
       "      <td>None</td>\n",
       "      <td>None</td>\n",
       "      <td>None</td>\n",
       "      <td>None</td>\n",
       "      <td>None</td>\n",
       "      <td>None</td>\n",
       "      <td>None</td>\n",
       "      <td>None</td>\n",
       "      <td>None</td>\n",
       "    </tr>\n",
       "    <tr>\n",
       "      <th>1</th>\n",
       "      <td>1</td>\n",
       "      <td>Baja California</td>\n",
       "      <td>MX02</td>\n",
       "      <td>None</td>\n",
       "      <td>None</td>\n",
       "      <td>None</td>\n",
       "      <td>México</td>\n",
       "      <td>MX</td>\n",
       "      <td>2020-06-23</td>\n",
       "      <td>2021-06-18</td>\n",
       "      <td>...</td>\n",
       "      <td>None</td>\n",
       "      <td>None</td>\n",
       "      <td>None</td>\n",
       "      <td>None</td>\n",
       "      <td>None</td>\n",
       "      <td>None</td>\n",
       "      <td>None</td>\n",
       "      <td>None</td>\n",
       "      <td>None</td>\n",
       "      <td>None</td>\n",
       "    </tr>\n",
       "    <tr>\n",
       "      <th>2</th>\n",
       "      <td>2</td>\n",
       "      <td>Baja California Sur</td>\n",
       "      <td>MX03</td>\n",
       "      <td>None</td>\n",
       "      <td>None</td>\n",
       "      <td>None</td>\n",
       "      <td>México</td>\n",
       "      <td>MX</td>\n",
       "      <td>2020-06-23</td>\n",
       "      <td>2021-06-18</td>\n",
       "      <td>...</td>\n",
       "      <td>None</td>\n",
       "      <td>None</td>\n",
       "      <td>None</td>\n",
       "      <td>None</td>\n",
       "      <td>None</td>\n",
       "      <td>None</td>\n",
       "      <td>None</td>\n",
       "      <td>None</td>\n",
       "      <td>None</td>\n",
       "      <td>None</td>\n",
       "    </tr>\n",
       "    <tr>\n",
       "      <th>3</th>\n",
       "      <td>3</td>\n",
       "      <td>Campeche</td>\n",
       "      <td>MX04</td>\n",
       "      <td>None</td>\n",
       "      <td>None</td>\n",
       "      <td>None</td>\n",
       "      <td>México</td>\n",
       "      <td>MX</td>\n",
       "      <td>2020-06-23</td>\n",
       "      <td>2021-06-18</td>\n",
       "      <td>...</td>\n",
       "      <td>None</td>\n",
       "      <td>None</td>\n",
       "      <td>None</td>\n",
       "      <td>None</td>\n",
       "      <td>None</td>\n",
       "      <td>None</td>\n",
       "      <td>None</td>\n",
       "      <td>None</td>\n",
       "      <td>None</td>\n",
       "      <td>None</td>\n",
       "    </tr>\n",
       "    <tr>\n",
       "      <th>4</th>\n",
       "      <td>4</td>\n",
       "      <td>Chiapas</td>\n",
       "      <td>MX07</td>\n",
       "      <td>None</td>\n",
       "      <td>None</td>\n",
       "      <td>None</td>\n",
       "      <td>México</td>\n",
       "      <td>MX</td>\n",
       "      <td>2020-06-23</td>\n",
       "      <td>2021-06-18</td>\n",
       "      <td>...</td>\n",
       "      <td>None</td>\n",
       "      <td>None</td>\n",
       "      <td>None</td>\n",
       "      <td>None</td>\n",
       "      <td>None</td>\n",
       "      <td>None</td>\n",
       "      <td>None</td>\n",
       "      <td>None</td>\n",
       "      <td>None</td>\n",
       "      <td>None</td>\n",
       "    </tr>\n",
       "  </tbody>\n",
       "</table>\n",
       "<p>5 rows × 25 columns</p>\n",
       "</div>"
      ],
      "text/plain": [
       "   index              ADM1_ES ADM1_PCODE ADM1_REF ADM1ALT1ES ADM1ALT2ES  \\\n",
       "0      0       Aguascalientes       MX01     None       None       None   \n",
       "1      1      Baja California       MX02     None       None       None   \n",
       "2      2  Baja California Sur       MX03     None       None       None   \n",
       "3      3             Campeche       MX04     None       None       None   \n",
       "4      4              Chiapas       MX07     None       None       None   \n",
       "\n",
       "  ADM0_ES ADM0_PCODE        date     validOn  ... GID_0  NAME_0  GID_1 NAME_1  \\\n",
       "0  México         MX  2020-06-23  2021-06-18  ...  None    None   None   None   \n",
       "1  México         MX  2020-06-23  2021-06-18  ...  None    None   None   None   \n",
       "2  México         MX  2020-06-23  2021-06-18  ...  None    None   None   None   \n",
       "3  México         MX  2020-06-23  2021-06-18  ...  None    None   None   None   \n",
       "4  México         MX  2020-06-23  2021-06-18  ...  None    None   None   None   \n",
       "\n",
       "  VARNAME_1 NL_NAME_1 TYPE_1 ENGTYPE_1  CC_1 HASC_1  \n",
       "0      None      None   None      None  None   None  \n",
       "1      None      None   None      None  None   None  \n",
       "2      None      None   None      None  None   None  \n",
       "3      None      None   None      None  None   None  \n",
       "4      None      None   None      None  None   None  \n",
       "\n",
       "[5 rows x 25 columns]"
      ]
     },
     "execution_count": 3,
     "metadata": {},
     "output_type": "execute_result"
    }
   ],
   "source": [
    "df2 = gpd.read_parquet(\"../geoplanar/datasets/usmex/final_usmex1.parquet\")\n",
    "df2.head()"
   ]
  },
  {
   "cell_type": "code",
   "execution_count": 4,
   "id": "232b29dc",
   "metadata": {
    "ExecuteTime": {
     "end_time": "2021-11-24T00:43:51.639894Z",
     "start_time": "2021-11-24T00:43:50.861683Z"
    }
   },
   "outputs": [
    {
     "data": {
      "text/plain": [
       "<AxesSubplot:>"
      ]
     },
     "execution_count": 4,
     "metadata": {},
     "output_type": "execute_result"
    },
    {
     "data": {
      "image/png": "[encoded data removed]",
      "text/plain": [
       "<Figure size 432x288 with 1 Axes>"
      ]
     },
     "metadata": {
      "needs_background": "light"
     },
     "output_type": "display_data"
    }
   ],
   "source": [
    "df2.tail(25).plot()"
   ]
  },
  {
   "cell_type": "code",
   "execution_count": 5,
   "id": "0c85aa96",
   "metadata": {
    "ExecuteTime": {
     "end_time": "2021-11-24T00:43:52.043435Z",
     "start_time": "2021-11-24T00:43:51.641206Z"
    }
   },
   "outputs": [
    {
     "data": {
      "text/plain": [
       "<AxesSubplot:>"
      ]
     },
     "execution_count": 5,
     "metadata": {},
     "output_type": "execute_result"
    },
    {
     "data": {
      "image/png": "[encoded data removed]",
      "text/plain": [
       "<Figure size 432x288 with 1 Axes>"
      ]
     },
     "metadata": {
      "needs_background": "light"
     },
     "output_type": "display_data"
    }
   ],
   "source": [
    "df.tail(25).plot()"
   ]
  },
  {
   "cell_type": "code",
   "execution_count": 6,
   "id": "21ee6958",
   "metadata": {
    "ExecuteTime": {
     "end_time": "2021-11-24T00:43:52.049637Z",
     "start_time": "2021-11-24T00:43:52.045098Z"
    }
   },
   "outputs": [],
   "source": [
    "tx = df[df.NAME_1==\"Texas\"] "
   ]
  },
  {
   "cell_type": "code",
   "execution_count": 7,
   "id": "f82ac215",
   "metadata": {
    "ExecuteTime": {
     "end_time": "2021-11-24T00:43:52.138909Z",
     "start_time": "2021-11-24T00:43:52.051274Z"
    }
   },
   "outputs": [
    {
     "data": {
      "text/plain": [
       "73    MULTIPOLYGON (((-97.21570 25.97014, -97.21570 ...\n",
       "Name: geometry, dtype: geometry"
      ]
     },
     "execution_count": 7,
     "metadata": {},
     "output_type": "execute_result"
    }
   ],
   "source": [
    "tx.geometry"
   ]
  },
  {
   "cell_type": "code",
   "execution_count": 8,
   "id": "34549773",
   "metadata": {
    "ExecuteTime": {
     "end_time": "2021-11-24T00:43:52.145761Z",
     "start_time": "2021-11-24T00:43:52.142317Z"
    }
   },
   "outputs": [],
   "source": [
    "tx2 = df2[df2.NAME_1==\"Texas\"] "
   ]
  },
  {
   "cell_type": "code",
   "execution_count": 9,
   "id": "ba0f7df2",
   "metadata": {
    "ExecuteTime": {
     "end_time": "2021-11-24T00:43:52.249095Z",
     "start_time": "2021-11-24T00:43:52.149263Z"
    }
   },
   "outputs": [
    {
     "data": {
      "text/plain": [
       "73    MULTIPOLYGON (((-97.13000 27.90417, -97.12972 ...\n",
       "Name: geometry, dtype: geometry"
      ]
     },
     "execution_count": 9,
     "metadata": {},
     "output_type": "execute_result"
    }
   ],
   "source": [
    "tx2.geometry"
   ]
  },
  {
   "cell_type": "code",
   "execution_count": 10,
   "id": "6e0dfa8a",
   "metadata": {
    "ExecuteTime": {
     "end_time": "2021-11-24T00:43:52.307850Z",
     "start_time": "2021-11-24T00:43:52.251196Z"
    }
   },
   "outputs": [
    {
     "name": "stderr",
     "output_type": "stream",
     "text": [
      "/Users/ecv/anaconda3/envs/geoplanar_docs/lib/python3.7/site-packages/ipykernel_launcher.py:1: FutureWarning: Currently, index_parts defaults to True, but in the future, it will default to False to be consistent with Pandas. Use `index_parts=True` to keep the current behavior and True/False to silence the warning.\n",
      "  \"\"\"Entry point for launching an IPython kernel.\n"
     ]
    }
   ],
   "source": [
    "tx = tx.explode()"
   ]
  },
  {
   "cell_type": "code",
   "execution_count": 11,
   "id": "bad4fdb6",
   "metadata": {
    "ExecuteTime": {
     "end_time": "2021-11-24T00:43:52.326552Z",
     "start_time": "2021-11-24T00:43:52.309819Z"
    }
   },
   "outputs": [
    {
     "name": "stderr",
     "output_type": "stream",
     "text": [
      "/Users/ecv/anaconda3/envs/geoplanar_docs/lib/python3.7/site-packages/ipykernel_launcher.py:1: FutureWarning: Currently, index_parts defaults to True, but in the future, it will default to False to be consistent with Pandas. Use `index_parts=True` to keep the current behavior and True/False to silence the warning.\n",
      "  \"\"\"Entry point for launching an IPython kernel.\n"
     ]
    }
   ],
   "source": [
    "tx2 = tx2.explode()"
   ]
  },
  {
   "cell_type": "code",
   "execution_count": 12,
   "id": "22d4e47c",
   "metadata": {
    "ExecuteTime": {
     "end_time": "2021-11-24T00:43:52.335134Z",
     "start_time": "2021-11-24T00:43:52.328876Z"
    }
   },
   "outputs": [
    {
     "data": {
      "text/plain": [
       "index                                                        43\n",
       "ADM1_ES                                                    None\n",
       "ADM1_PCODE                                                 None\n",
       "ADM1_REF                                                   None\n",
       "ADM1ALT1ES                                                 None\n",
       "ADM1ALT2ES                                                 None\n",
       "ADM0_ES                                                    None\n",
       "ADM0_PCODE                                                 None\n",
       "date                                                       None\n",
       "validOn                                                    None\n",
       "validTo                                                    None\n",
       "Shape_Leng                                                  NaN\n",
       "Shape_Area                                                  NaN\n",
       "COUNTRY                                                      US\n",
       "GID_0                                                       USA\n",
       "NAME_0                                            United States\n",
       "GID_1                                                  USA.44_1\n",
       "NAME_1                                                    Texas\n",
       "VARNAME_1                                               TX|Tex.\n",
       "NL_NAME_1                                                  None\n",
       "TYPE_1                                                    State\n",
       "ENGTYPE_1                                                 State\n",
       "CC_1                                                       None\n",
       "HASC_1                                                    US.TX\n",
       "geometry      POLYGON ((-97.21569823999999 25.97013855, -97....\n",
       "Name: (73, 0), dtype: object"
      ]
     },
     "execution_count": 12,
     "metadata": {},
     "output_type": "execute_result"
    }
   ],
   "source": [
    "tx.iloc[0]"
   ]
  },
  {
   "cell_type": "code",
   "execution_count": 34,
   "id": "46a78826",
   "metadata": {
    "ExecuteTime": {
     "end_time": "2021-11-24T00:46:19.076787Z",
     "start_time": "2021-11-24T00:46:19.071819Z"
    }
   },
   "outputs": [
    {
     "data": {
      "text/plain": [
       "index                                                        43\n",
       "ADM1_ES                                                    None\n",
       "ADM1_PCODE                                                 None\n",
       "ADM1_REF                                                   None\n",
       "ADM1ALT1ES                                                 None\n",
       "ADM1ALT2ES                                                 None\n",
       "ADM0_ES                                                    None\n",
       "ADM0_PCODE                                                 None\n",
       "date                                                       None\n",
       "validOn                                                    None\n",
       "validTo                                                    None\n",
       "Shape_Leng                                                  NaN\n",
       "Shape_Area                                                  NaN\n",
       "COUNTRY                                                      US\n",
       "GID_0                                                       USA\n",
       "NAME_0                                            United States\n",
       "GID_1                                                  USA.44_1\n",
       "NAME_1                                                    Texas\n",
       "VARNAME_1                                               TX|Tex.\n",
       "NL_NAME_1                                                  None\n",
       "TYPE_1                                                    State\n",
       "ENGTYPE_1                                                 State\n",
       "CC_1                                                       None\n",
       "HASC_1                                                    US.TX\n",
       "geometry      POLYGON ((-97.21569823999999 25.97013855, -97....\n",
       "Name: (73, 108), dtype: object"
      ]
     },
     "execution_count": 34,
     "metadata": {},
     "output_type": "execute_result"
    }
   ],
   "source": [
    "tx2.iloc[108]"
   ]
  },
  {
   "cell_type": "code",
   "execution_count": 14,
   "id": "44583170",
   "metadata": {
    "ExecuteTime": {
     "end_time": "2021-11-24T00:43:52.358180Z",
     "start_time": "2021-11-24T00:43:52.346641Z"
    }
   },
   "outputs": [
    {
     "data": {
      "text/plain": [
       "73  0      POLYGON ((-97.21570 25.97014, -97.21570 25.970...\n",
       "    1      POLYGON ((-97.17458 25.98125, -97.17458 25.981...\n",
       "    2      POLYGON ((-97.27708 26.24042, -97.27708 26.240...\n",
       "    3      POLYGON ((-97.27847 26.24403, -97.27847 26.244...\n",
       "    4      POLYGON ((-97.28098 26.25097, -97.28098 26.251...\n",
       "                                 ...                        \n",
       "    254    POLYGON ((-96.57306 28.65667, -96.57257 28.656...\n",
       "    255    POLYGON ((-96.57207 28.69083, -96.57111 28.690...\n",
       "    256    POLYGON ((-96.57970 28.69389, -96.57722 28.693...\n",
       "    257    POLYGON ((-96.65595 28.71873, -96.65556 28.718...\n",
       "    258    POLYGON ((-96.44866 28.75027, -96.44836 28.750...\n",
       "Name: geometry, Length: 259, dtype: geometry"
      ]
     },
     "execution_count": 14,
     "metadata": {},
     "output_type": "execute_result"
    }
   ],
   "source": [
    "tx.geometry"
   ]
  },
  {
   "cell_type": "code",
   "execution_count": 15,
   "id": "37205cdc",
   "metadata": {
    "ExecuteTime": {
     "end_time": "2021-11-24T00:43:52.453039Z",
     "start_time": "2021-11-24T00:43:52.361573Z"
    }
   },
   "outputs": [
    {
     "data": {
      "text/plain": [
       "73  0      POLYGON ((-97.13000 27.90417, -97.12972 27.904...\n",
       "    1      POLYGON ((-97.12155 27.91134, -97.12167 27.911...\n",
       "    2      POLYGON ((-97.12000 27.92139, -97.11972 27.921...\n",
       "    3      POLYGON ((-97.14944 28.03028, -97.14944 28.031...\n",
       "    4      POLYGON ((-97.15444 28.05278, -97.15417 28.052...\n",
       "                                 ...                        \n",
       "    254    POLYGON ((-97.36458 27.79020, -97.36424 27.789...\n",
       "    255    POLYGON ((-97.49994 27.37181, -97.49994 27.372...\n",
       "    256    POLYGON ((-97.52722 27.42278, -97.52722 27.423...\n",
       "    257    POLYGON ((-97.74277 27.42639, -97.74250 27.426...\n",
       "    258    POLYGON ((-103.34054 29.02285, -103.34093 29.0...\n",
       "Name: geometry, Length: 259, dtype: geometry"
      ]
     },
     "execution_count": 15,
     "metadata": {},
     "output_type": "execute_result"
    }
   ],
   "source": [
    "tx2.geometry"
   ]
  },
  {
   "cell_type": "code",
   "execution_count": 16,
   "id": "96e9298f",
   "metadata": {
    "ExecuteTime": {
     "end_time": "2021-11-24T00:43:52.460566Z",
     "start_time": "2021-11-24T00:43:52.454885Z"
    }
   },
   "outputs": [
    {
     "data": {
      "image/svg+xml": [
       "<svg xmlns=\"http://www.w3.org/2000/svg\" xmlns:xlink=\"http://www.w3.org/1999/xlink\" width=\"100.0\" height=\"100.0\" viewBox=\"-97.215831602 25.970005188000002 0.0033261139999893885 0.0036007739999988075\" preserveAspectRatio=\"xMinYMin meet\"><g transform=\"matrix(1,0,0,-1,0,51.94361115)\"><path fill-rule=\"evenodd\" fill=\"#66cc99\" stroke=\"#555555\" stroke-width=\"7.201547999997615e-05\" opacity=\"0.6\" d=\"M -97.21569824,25.97013855 L -97.21569824,25.97041702 L -97.21541595,25.97041702 L -97.21541595,25.97069359 L -97.2151413,25.97069359 L -97.2151413,25.97125053 L -97.21485901,25.97125053 L -97.21485901,25.9715271 L -97.21458435,25.9715271 L -97.21458435,25.97180557 L -97.21430206,25.97180557 L -97.21430206,25.97263908 L -97.2140274,25.97263908 L -97.2140274,25.97319221 L -97.21375275,25.97319221 L -97.21375275,25.9734726 L -97.21291351,25.9734726 L -97.21291351,25.97319221 L -97.21263885,25.97319221 L -97.21263885,25.97208214 L -97.21291351,25.97208214 L -97.21291351,25.9715271 L -97.2131958,25.9715271 L -97.2131958,25.97125053 L -97.21347046,25.97125053 L -97.21347046,25.97041702 L -97.2151413,25.97041702 L -97.2151413,25.97013855 L -97.21569824,25.97013855 z\" /></g></svg>"
      ],
      "text/plain": [
       "<shapely.geometry.polygon.Polygon at 0x7fd007bff950>"
      ]
     },
     "execution_count": 16,
     "metadata": {},
     "output_type": "execute_result"
    }
   ],
   "source": [
    "tx.iloc[0].geometry"
   ]
  },
  {
   "cell_type": "code",
   "execution_count": 17,
   "id": "37fcfa1d",
   "metadata": {
    "ExecuteTime": {
     "end_time": "2021-11-24T00:43:52.467439Z",
     "start_time": "2021-11-24T00:43:52.462381Z"
    }
   },
   "outputs": [
    {
     "data": {
      "text/plain": [
       "4.862688301187362e-06"
      ]
     },
     "execution_count": 17,
     "metadata": {},
     "output_type": "execute_result"
    }
   ],
   "source": [
    "tx.iloc[0].geometry.area"
   ]
  },
  {
   "cell_type": "code",
   "execution_count": 18,
   "id": "bc04709e",
   "metadata": {
    "ExecuteTime": {
     "end_time": "2021-11-24T00:43:52.474315Z",
     "start_time": "2021-11-24T00:43:52.469646Z"
    }
   },
   "outputs": [
    {
     "name": "stdout",
     "output_type": "stream",
     "text": [
      "POINT (-97.21386197606429 25.97177211860352)\n"
     ]
    }
   ],
   "source": [
    "print(tx.iloc[0].geometry.centroid)"
   ]
  },
  {
   "cell_type": "code",
   "execution_count": 19,
   "id": "93d5669c",
   "metadata": {
    "ExecuteTime": {
     "end_time": "2021-11-24T00:43:52.480515Z",
     "start_time": "2021-11-24T00:43:52.476452Z"
    }
   },
   "outputs": [
    {
     "name": "stdout",
     "output_type": "stream",
     "text": [
      "POLYGON ((-97.21569823999999 25.97013855, -97.21569823999999 25.97041702, -97.21541594999999 25.97041702, -97.21541594999999 25.97069359, -97.2151413 25.97069359, -97.2151413 25.97125053, -97.21485901 25.97125053, -97.21485901 25.9715271, -97.21458435 25.9715271, -97.21458435 25.97180557, -97.21430205999999 25.97180557, -97.21430205999999 25.97263908, -97.21402740000001 25.97263908, -97.21402740000001 25.97319221, -97.21375275 25.97319221, -97.21375275 25.9734726, -97.21291351000001 25.9734726, -97.21291351000001 25.97319221, -97.21263885 25.97319221, -97.21263885 25.97208214, -97.21291351000001 25.97208214, -97.21291351000001 25.9715271, -97.21319579999999 25.9715271, -97.21319579999999 25.97125053, -97.21347046 25.97125053, -97.21347046 25.97041702, -97.2151413 25.97041702, -97.2151413 25.97013855, -97.21569823999999 25.97013855))\n"
     ]
    }
   ],
   "source": [
    "print(tx.iloc[0]['geometry'])"
   ]
  },
  {
   "cell_type": "code",
   "execution_count": 20,
   "id": "b9f04e77",
   "metadata": {
    "ExecuteTime": {
     "end_time": "2021-11-24T00:43:52.489701Z",
     "start_time": "2021-11-24T00:43:52.482938Z"
    }
   },
   "outputs": [
    {
     "data": {
      "image/svg+xml": [
       "<svg xmlns=\"http://www.w3.org/2000/svg\" xmlns:xlink=\"http://www.w3.org/1999/xlink\" width=\"100.0\" height=\"100.0\" viewBox=\"-97.215831602 25.970005188000002 0.0033261139999893885 0.0036007739999988075\" preserveAspectRatio=\"xMinYMin meet\"><g transform=\"matrix(1,0,0,-1,0,51.94361115)\"><path fill-rule=\"evenodd\" fill=\"#66cc99\" stroke=\"#555555\" stroke-width=\"7.201547999997615e-05\" opacity=\"0.6\" d=\"M -97.21569824,25.97013855 L -97.21569824,25.97041702 L -97.21541595,25.97041702 L -97.21541595,25.97069359 L -97.2151413,25.97069359 L -97.2151413,25.97125053 L -97.21485901,25.97125053 L -97.21485901,25.9715271 L -97.21458435,25.9715271 L -97.21458435,25.97180557 L -97.21430206,25.97180557 L -97.21430206,25.97263908 L -97.2140274,25.97263908 L -97.2140274,25.97319221 L -97.21375275,25.97319221 L -97.21375275,25.9734726 L -97.21291351,25.9734726 L -97.21291351,25.97319221 L -97.21263885,25.97319221 L -97.21263885,25.97208214 L -97.21291351,25.97208214 L -97.21291351,25.9715271 L -97.2131958,25.9715271 L -97.2131958,25.97125053 L -97.21347046,25.97125053 L -97.21347046,25.97041702 L -97.2151413,25.97041702 L -97.2151413,25.97013855 L -97.21569824,25.97013855 z\" /></g></svg>"
      ],
      "text/plain": [
       "<shapely.geometry.polygon.Polygon at 0x7fd01fdbe790>"
      ]
     },
     "execution_count": 20,
     "metadata": {},
     "output_type": "execute_result"
    }
   ],
   "source": [
    "tx2.iloc[108].geometry"
   ]
  },
  {
   "cell_type": "code",
   "execution_count": 21,
   "id": "b1d8f71b",
   "metadata": {
    "ExecuteTime": {
     "end_time": "2021-11-24T00:43:52.497705Z",
     "start_time": "2021-11-24T00:43:52.492043Z"
    }
   },
   "outputs": [
    {
     "data": {
      "text/plain": [
       "4.862688301187362e-06"
      ]
     },
     "execution_count": 21,
     "metadata": {},
     "output_type": "execute_result"
    }
   ],
   "source": [
    "tx2.iloc[108].geometry.area"
   ]
  },
  {
   "cell_type": "code",
   "execution_count": 22,
   "id": "74967732",
   "metadata": {
    "ExecuteTime": {
     "end_time": "2021-11-24T00:43:52.503065Z",
     "start_time": "2021-11-24T00:43:52.500428Z"
    }
   },
   "outputs": [],
   "source": [
    "# 4.862688301187362e-06"
   ]
  },
  {
   "cell_type": "code",
   "execution_count": 23,
   "id": "b9586e2e",
   "metadata": {
    "ExecuteTime": {
     "end_time": "2021-11-24T00:43:52.515570Z",
     "start_time": "2021-11-24T00:43:52.511401Z"
    }
   },
   "outputs": [
    {
     "name": "stdout",
     "output_type": "stream",
     "text": [
      "POINT (-97.21386197606429 25.97177211860352)\n"
     ]
    }
   ],
   "source": [
    "print(tx2.iloc[108].geometry.centroid)"
   ]
  },
  {
   "cell_type": "code",
   "execution_count": 24,
   "id": "146cfc6f",
   "metadata": {
    "ExecuteTime": {
     "end_time": "2021-11-24T00:43:52.525945Z",
     "start_time": "2021-11-24T00:43:52.521830Z"
    }
   },
   "outputs": [
    {
     "name": "stdout",
     "output_type": "stream",
     "text": [
      "POLYGON ((-97.21569823999999 25.97013855, -97.21569823999999 25.97041702, -97.21541594999999 25.97041702, -97.21541594999999 25.97069359, -97.2151413 25.97069359, -97.2151413 25.97125053, -97.21485901 25.97125053, -97.21485901 25.9715271, -97.21458435 25.9715271, -97.21458435 25.97180557, -97.21430205999999 25.97180557, -97.21430205999999 25.97263908, -97.21402740000001 25.97263908, -97.21402740000001 25.97319221, -97.21375275 25.97319221, -97.21375275 25.9734726, -97.21291351000001 25.9734726, -97.21291351000001 25.97319221, -97.21263885 25.97319221, -97.21263885 25.97208214, -97.21291351000001 25.97208214, -97.21291351000001 25.9715271, -97.21319579999999 25.9715271, -97.21319579999999 25.97125053, -97.21347046 25.97125053, -97.21347046 25.97041702, -97.2151413 25.97041702, -97.2151413 25.97013855, -97.21569823999999 25.97013855))\n"
     ]
    }
   ],
   "source": [
    "print(tx2.iloc[108]['geometry'])"
   ]
  },
  {
   "cell_type": "code",
   "execution_count": 25,
   "id": "dc937b7a",
   "metadata": {
    "ExecuteTime": {
     "end_time": "2021-11-24T00:43:52.782602Z",
     "start_time": "2021-11-24T00:43:52.528153Z"
    }
   },
   "outputs": [
    {
     "name": "stderr",
     "output_type": "stream",
     "text": [
      "/Users/ecv/anaconda3/envs/geoplanar_docs/lib/python3.7/site-packages/ipykernel_launcher.py:1: UserWarning: Geometry is in a geographic CRS. Results from 'centroid' are likely incorrect. Use 'GeoSeries.to_crs()' to re-project geometries to a projected CRS before this operation.\n",
      "\n",
      "  \"\"\"Entry point for launching an IPython kernel.\n"
     ]
    }
   ],
   "source": [
    "c = tx.centroid"
   ]
  },
  {
   "cell_type": "code",
   "execution_count": 26,
   "id": "f4b58675",
   "metadata": {
    "ExecuteTime": {
     "end_time": "2021-11-24T00:43:52.813206Z",
     "start_time": "2021-11-24T00:43:52.784367Z"
    }
   },
   "outputs": [
    {
     "name": "stderr",
     "output_type": "stream",
     "text": [
      "/Users/ecv/anaconda3/envs/geoplanar_docs/lib/python3.7/site-packages/ipykernel_launcher.py:1: UserWarning: Geometry is in a geographic CRS. Results from 'centroid' are likely incorrect. Use 'GeoSeries.to_crs()' to re-project geometries to a projected CRS before this operation.\n",
      "\n",
      "  \"\"\"Entry point for launching an IPython kernel.\n"
     ]
    }
   ],
   "source": [
    "c2 = tx2.centroid"
   ]
  },
  {
   "cell_type": "code",
   "execution_count": 39,
   "id": "9df9a0ba",
   "metadata": {
    "ExecuteTime": {
     "end_time": "2021-11-24T00:49:13.788000Z",
     "start_time": "2021-11-24T00:49:13.781713Z"
    }
   },
   "outputs": [
    {
     "data": {
      "text/plain": [
       "73  0    POINT (-97.21386 25.97177)\n",
       "    1    POINT (-97.17138 25.97784)\n",
       "    2    POINT (-97.27195 26.22279)\n",
       "    3    POINT (-97.27887 26.24255)\n",
       "    4    POINT (-97.28073 26.24778)\n",
       "dtype: geometry"
      ]
     },
     "execution_count": 39,
     "metadata": {},
     "output_type": "execute_result"
    }
   ],
   "source": [
    "c.head()"
   ]
  },
  {
   "cell_type": "code",
   "execution_count": 29,
   "id": "8719459e",
   "metadata": {
    "ExecuteTime": {
     "end_time": "2021-11-24T00:43:53.074381Z",
     "start_time": "2021-11-24T00:43:52.880868Z"
    }
   },
   "outputs": [
    {
     "data": {
      "text/plain": [
       "<AxesSubplot:>"
      ]
     },
     "execution_count": 29,
     "metadata": {},
     "output_type": "execute_result"
    },
    {
     "data": {
      "image/png": "[encoded data removed]",
      "text/plain": [
       "<Figure size 432x288 with 1 Axes>"
      ]
     },
     "metadata": {
      "needs_background": "light"
     },
     "output_type": "display_data"
    }
   ],
   "source": [
    "tx.head(25).plot()"
   ]
  },
  {
   "cell_type": "code",
   "execution_count": 30,
   "id": "59eea18d",
   "metadata": {
    "ExecuteTime": {
     "end_time": "2021-11-24T00:43:53.201790Z",
     "start_time": "2021-11-24T00:43:53.076388Z"
    }
   },
   "outputs": [
    {
     "data": {
      "text/plain": [
       "<AxesSubplot:>"
      ]
     },
     "execution_count": 30,
     "metadata": {},
     "output_type": "execute_result"
    },
    {
     "data": {
      "image/png": "[encoded data removed]",
      "text/plain": [
       "<Figure size 432x288 with 1 Axes>"
      ]
     },
     "metadata": {
      "needs_background": "light"
     },
     "output_type": "display_data"
    }
   ],
   "source": [
    "tx2.head(25).plot()"
   ]
  },
  {
   "cell_type": "code",
   "execution_count": 31,
   "id": "d875feb8",
   "metadata": {
    "ExecuteTime": {
     "end_time": "2021-11-24T00:43:53.212656Z",
     "start_time": "2021-11-24T00:43:53.203602Z"
    }
   },
   "outputs": [
    {
     "data": {
      "text/plain": [
       "73  0      False\n",
       "    1      False\n",
       "    2      False\n",
       "    3      False\n",
       "    4      False\n",
       "           ...  \n",
       "    254    False\n",
       "    255    False\n",
       "    256    False\n",
       "    257    False\n",
       "    258    False\n",
       "Length: 259, dtype: bool"
      ]
     },
     "execution_count": 31,
     "metadata": {},
     "output_type": "execute_result"
    }
   ],
   "source": [
    "# for each aligned geometry equal to other.\n",
    "tx.geometry.geom_equals(tx2.geometry)"
   ]
  },
  {
   "cell_type": "code",
   "execution_count": 32,
   "id": "9e08ece1",
   "metadata": {
    "ExecuteTime": {
     "end_time": "2021-11-24T00:43:53.224131Z",
     "start_time": "2021-11-24T00:43:53.214356Z"
    }
   },
   "outputs": [
    {
     "data": {
      "text/plain": [
       "73  0      False\n",
       "    1      False\n",
       "    2      False\n",
       "    3      False\n",
       "    4      False\n",
       "           ...  \n",
       "    254    False\n",
       "    255    False\n",
       "    256    False\n",
       "    257    False\n",
       "    258    False\n",
       "Length: 259, dtype: bool"
      ]
     },
     "execution_count": 32,
     "metadata": {},
     "output_type": "execute_result"
    }
   ],
   "source": [
    "# if each aligned geometry is approximately equal to other.\n",
    "tx.geometry.geom_almost_equals(tx2.geometry, decimal=.001, align=False)"
   ]
  },
  {
   "cell_type": "code",
   "execution_count": null,
   "id": "968a3391",
   "metadata": {},
   "outputs": [],
   "source": []
  },
  {
   "cell_type": "code",
   "execution_count": null,
   "id": "32ffb569",
   "metadata": {},
   "outputs": [],
   "source": []
  }
 ],
 "metadata": {
  "jupytext": {
   "formats": "ipynb,md"
  },
  "kernelspec": {
   "display_name": "Python 3",
   "language": "python",
   "name": "python3"
  },
  "language_info": {
   "codemirror_mode": {
    "name": "ipython",
    "version": 3
   },
   "file_extension": ".py",
   "mimetype": "text/x-python",
   "name": "python",
   "nbconvert_exporter": "python",
   "pygments_lexer": "ipython3",
   "version": "3.7.10"
  },
  "varInspector": {
   "cols": {
    "lenName": 16,
    "lenType": 16,
    "lenVar": 40
   },
   "kernels_config": {
    "python": {
     "delete_cmd_postfix": "",
     "delete_cmd_prefix": "del ",
     "library": "var_list.py",
     "varRefreshCmd": "print(var_dic_list())"
    },
    "r": {
     "delete_cmd_postfix": ") ",
     "delete_cmd_prefix": "rm(",
     "library": "var_list.r",
     "varRefreshCmd": "cat(var_dic_list()) "
    }
   },
   "types_to_exclude": [
    "module",
    "function",
    "builtin_function_or_method",
    "instance",
    "_Feature"
   ],
   "window_display": false
  }
 },
 "nbformat": 4,
 "nbformat_minor": 5
}
