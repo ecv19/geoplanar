{
 "cells": [
  {
   "cell_type": "markdown",
   "id": "d8b70256-9398-409d-8953-b139a367d494",
   "metadata": {},
   "source": [
    "### changes in polygon edge/vertex position \n",
    "\n"
   ]
  },
  {
   "cell_type": "markdown",
   "id": "7ac25e4c",
   "metadata": {},
   "source": [
    "Testing whether there were any changes in polygons' area and/or geometry. Once we apply geoplanar to fix planar violations, the expected behavior is that we can compare raw and clean dataframes to check for any changes in their respective area. We find that polygons have shifted their edges/vertices randomly. The example below shows an example of Texas (mutlipolygon). "
   ]
  },
  {
   "cell_type": "code",
   "execution_count": 20,
   "id": "eb7b2ccb-12a8-49c3-896f-0c5cef25eb53",
   "metadata": {
    "ExecuteTime": {
     "end_time": "2021-12-03T01:03:52.859354Z",
     "start_time": "2021-12-03T01:03:51.013042Z"
    }
   },
   "outputs": [],
   "source": [
    "import geopandas as gpd\n",
    "\n",
    "df = gpd.read_parquet(\"../geoplanar/datasets/usmex/usmex_1.parquet\")\n",
    "df2 = gpd.read_parquet(\"../geoplanar/datasets/usmex/final_usmex1.parquet\")"
   ]
  },
  {
   "cell_type": "code",
   "execution_count": 21,
   "id": "21ee6958",
   "metadata": {
    "ExecuteTime": {
     "end_time": "2021-12-03T01:03:56.270980Z",
     "start_time": "2021-12-03T01:03:56.203296Z"
    }
   },
   "outputs": [
    {
     "name": "stderr",
     "output_type": "stream",
     "text": [
      "/Users/ecv/anaconda3/envs/geoplanar_docs/lib/python3.7/site-packages/ipykernel_launcher.py:2: FutureWarning: Currently, index_parts defaults to True, but in the future, it will default to False to be consistent with Pandas. Use `index_parts=True` to keep the current behavior and True/False to silence the warning.\n",
      "  \n"
     ]
    },
    {
     "data": {
      "text/plain": [
       "73  0      POLYGON ((-97.21570 25.97014, -97.21570 25.970...\n",
       "    1      POLYGON ((-97.17458 25.98125, -97.17458 25.981...\n",
       "    2      POLYGON ((-97.27708 26.24042, -97.27708 26.240...\n",
       "    3      POLYGON ((-97.27847 26.24403, -97.27847 26.244...\n",
       "    4      POLYGON ((-97.28098 26.25097, -97.28098 26.251...\n",
       "                                 ...                        \n",
       "    254    POLYGON ((-96.57306 28.65667, -96.57257 28.656...\n",
       "    255    POLYGON ((-96.57207 28.69083, -96.57111 28.690...\n",
       "    256    POLYGON ((-96.57970 28.69389, -96.57722 28.693...\n",
       "    257    POLYGON ((-96.65595 28.71873, -96.65556 28.718...\n",
       "    258    POLYGON ((-96.44866 28.75027, -96.44836 28.750...\n",
       "Name: geometry, Length: 259, dtype: geometry"
      ]
     },
     "execution_count": 21,
     "metadata": {},
     "output_type": "execute_result"
    }
   ],
   "source": [
    "tx = df[df.NAME_1==\"Texas\"] \n",
    "tx = tx.explode()\n",
    "tx.geometry"
   ]
  },
  {
   "cell_type": "code",
   "execution_count": 22,
   "id": "f82ac215",
   "metadata": {
    "ExecuteTime": {
     "end_time": "2021-12-03T01:03:59.735043Z",
     "start_time": "2021-12-03T01:03:59.662345Z"
    }
   },
   "outputs": [
    {
     "name": "stderr",
     "output_type": "stream",
     "text": [
      "/Users/ecv/anaconda3/envs/geoplanar_docs/lib/python3.7/site-packages/ipykernel_launcher.py:2: FutureWarning: Currently, index_parts defaults to True, but in the future, it will default to False to be consistent with Pandas. Use `index_parts=True` to keep the current behavior and True/False to silence the warning.\n",
      "  \n"
     ]
    },
    {
     "data": {
      "text/plain": [
       "73  0      POLYGON ((-97.13000 27.90417, -97.12972 27.904...\n",
       "    1      POLYGON ((-97.12155 27.91134, -97.12167 27.911...\n",
       "    2      POLYGON ((-97.12000 27.92139, -97.11972 27.921...\n",
       "    3      POLYGON ((-97.14944 28.03028, -97.14944 28.031...\n",
       "    4      POLYGON ((-97.15444 28.05278, -97.15417 28.052...\n",
       "                                 ...                        \n",
       "    254    POLYGON ((-97.36458 27.79020, -97.36424 27.789...\n",
       "    255    POLYGON ((-97.49994 27.37181, -97.49994 27.372...\n",
       "    256    POLYGON ((-97.52722 27.42278, -97.52722 27.423...\n",
       "    257    POLYGON ((-97.74277 27.42639, -97.74250 27.426...\n",
       "    258    POLYGON ((-103.34054 29.02285, -103.34093 29.0...\n",
       "Name: geometry, Length: 259, dtype: geometry"
      ]
     },
     "execution_count": 22,
     "metadata": {},
     "output_type": "execute_result"
    }
   ],
   "source": [
    "tx2 = df2[df2.NAME_1==\"Texas\"] \n",
    "tx2 = tx2.explode()\n",
    "tx2.geometry"
   ]
  },
  {
   "cell_type": "code",
   "execution_count": 25,
   "id": "d37d91b3",
   "metadata": {
    "ExecuteTime": {
     "end_time": "2021-12-03T01:05:08.514882Z",
     "start_time": "2021-12-03T01:05:08.510008Z"
    }
   },
   "outputs": [
    {
     "data": {
      "image/svg+xml": [
       "<svg xmlns=\"http://www.w3.org/2000/svg\" xmlns:xlink=\"http://www.w3.org/1999/xlink\" width=\"100.0\" height=\"100.0\" viewBox=\"-97.215831602 25.970005188000002 0.0033261139999893885 0.0036007739999988075\" preserveAspectRatio=\"xMinYMin meet\"><g transform=\"matrix(1,0,0,-1,0,51.94361115)\"><path fill-rule=\"evenodd\" fill=\"#66cc99\" stroke=\"#555555\" stroke-width=\"7.201547999997615e-05\" opacity=\"0.6\" d=\"M -97.21569824,25.97013855 L -97.21569824,25.97041702 L -97.21541595,25.97041702 L -97.21541595,25.97069359 L -97.2151413,25.97069359 L -97.2151413,25.97125053 L -97.21485901,25.97125053 L -97.21485901,25.9715271 L -97.21458435,25.9715271 L -97.21458435,25.97180557 L -97.21430206,25.97180557 L -97.21430206,25.97263908 L -97.2140274,25.97263908 L -97.2140274,25.97319221 L -97.21375275,25.97319221 L -97.21375275,25.9734726 L -97.21291351,25.9734726 L -97.21291351,25.97319221 L -97.21263885,25.97319221 L -97.21263885,25.97208214 L -97.21291351,25.97208214 L -97.21291351,25.9715271 L -97.2131958,25.9715271 L -97.2131958,25.97125053 L -97.21347046,25.97125053 L -97.21347046,25.97041702 L -97.2151413,25.97041702 L -97.2151413,25.97013855 L -97.21569824,25.97013855 z\" /></g></svg>"
      ],
      "text/plain": [
       "<shapely.geometry.polygon.Polygon at 0x7f98c39fdb90>"
      ]
     },
     "execution_count": 25,
     "metadata": {},
     "output_type": "execute_result"
    }
   ],
   "source": [
    "tx.iloc[0].geometry   # original df position"
   ]
  },
  {
   "cell_type": "code",
   "execution_count": 26,
   "id": "065d9767",
   "metadata": {
    "ExecuteTime": {
     "end_time": "2021-12-03T01:05:17.687290Z",
     "start_time": "2021-12-03T01:05:17.681431Z"
    }
   },
   "outputs": [
    {
     "data": {
      "image/svg+xml": [
       "<svg xmlns=\"http://www.w3.org/2000/svg\" xmlns:xlink=\"http://www.w3.org/1999/xlink\" width=\"100.0\" height=\"100.0\" viewBox=\"-97.215831602 25.970005188000002 0.0033261139999893885 0.0036007739999988075\" preserveAspectRatio=\"xMinYMin meet\"><g transform=\"matrix(1,0,0,-1,0,51.94361115)\"><path fill-rule=\"evenodd\" fill=\"#66cc99\" stroke=\"#555555\" stroke-width=\"7.201547999997615e-05\" opacity=\"0.6\" d=\"M -97.21569824,25.97013855 L -97.21569824,25.97041702 L -97.21541595,25.97041702 L -97.21541595,25.97069359 L -97.2151413,25.97069359 L -97.2151413,25.97125053 L -97.21485901,25.97125053 L -97.21485901,25.9715271 L -97.21458435,25.9715271 L -97.21458435,25.97180557 L -97.21430206,25.97180557 L -97.21430206,25.97263908 L -97.2140274,25.97263908 L -97.2140274,25.97319221 L -97.21375275,25.97319221 L -97.21375275,25.9734726 L -97.21291351,25.9734726 L -97.21291351,25.97319221 L -97.21263885,25.97319221 L -97.21263885,25.97208214 L -97.21291351,25.97208214 L -97.21291351,25.9715271 L -97.2131958,25.9715271 L -97.2131958,25.97125053 L -97.21347046,25.97125053 L -97.21347046,25.97041702 L -97.2151413,25.97041702 L -97.2151413,25.97013855 L -97.21569824,25.97013855 z\" /></g></svg>"
      ],
      "text/plain": [
       "<shapely.geometry.polygon.Polygon at 0x7f98c9f5ce90>"
      ]
     },
     "execution_count": 26,
     "metadata": {},
     "output_type": "execute_result"
    }
   ],
   "source": [
    "tx2.iloc[108].geometry # new df position, changed to 108"
   ]
  },
  {
   "cell_type": "markdown",
   "id": "b4174de8",
   "metadata": {},
   "source": [
    "The original polygon changed from positon 0 to position 108. No function was applied to change the ordering, it just happens randomly. This change triggers a false change of the polygon's geometry."
   ]
  },
  {
   "cell_type": "code",
   "execution_count": null,
   "id": "23338338",
   "metadata": {},
   "outputs": [],
   "source": []
  }
 ],
 "metadata": {
  "jupytext": {
   "formats": "ipynb,md"
  },
  "kernelspec": {
   "display_name": "Python 3",
   "language": "python",
   "name": "python3"
  },
  "language_info": {
   "codemirror_mode": {
    "name": "ipython",
    "version": 3
   },
   "file_extension": ".py",
   "mimetype": "text/x-python",
   "name": "python",
   "nbconvert_exporter": "python",
   "pygments_lexer": "ipython3",
   "version": "3.7.10"
  },
  "varInspector": {
   "cols": {
    "lenName": 16,
    "lenType": 16,
    "lenVar": 40
   },
   "kernels_config": {
    "python": {
     "delete_cmd_postfix": "",
     "delete_cmd_prefix": "del ",
     "library": "var_list.py",
     "varRefreshCmd": "print(var_dic_list())"
    },
    "r": {
     "delete_cmd_postfix": ") ",
     "delete_cmd_prefix": "rm(",
     "library": "var_list.r",
     "varRefreshCmd": "cat(var_dic_list()) "
    }
   },
   "types_to_exclude": [
    "module",
    "function",
    "builtin_function_or_method",
    "instance",
    "_Feature"
   ],
   "window_display": false
  }
 },
 "nbformat": 4,
 "nbformat_minor": 5
}
