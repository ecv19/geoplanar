{
 "cells": [
  {
   "cell_type": "markdown",
   "id": "d8b70256-9398-409d-8953-b139a367d494",
   "metadata": {},
   "source": [
    "\n",
    "# US - Mexico Level 1 Contiguity"
   ]
  },
  {
   "cell_type": "code",
   "execution_count": 1,
   "id": "eb7b2ccb-12a8-49c3-896f-0c5cef25eb53",
   "metadata": {
    "ExecuteTime": {
     "end_time": "2022-01-17T23:41:48.381020Z",
     "start_time": "2022-01-17T23:41:46.785549Z"
    }
   },
   "outputs": [],
   "source": [
    "import geopandas as gpd\n",
    "import pandas as pd\n",
    "import numpy as np\n",
    "import libpysal\n",
    "from libpysal.weights import Queen, Rook"
   ]
  },
  {
   "cell_type": "code",
   "execution_count": 2,
   "id": "a7d51ff3-ac62-4eef-a77d-0bd574f4d3f9",
   "metadata": {
    "ExecuteTime": {
     "end_time": "2022-01-17T23:41:48.910724Z",
     "start_time": "2022-01-17T23:41:48.383124Z"
    }
   },
   "outputs": [],
   "source": [
    "old = gpd.read_parquet(\"../../geoplanar/datasets/usmex/usmex_1.parquet\")\n",
    "new = gpd.read_parquet(\"../../geoplanar/datasets/usmex/final_usmex1.parquet\") "
   ]
  },
  {
   "cell_type": "markdown",
   "id": "d1059da3",
   "metadata": {},
   "source": [
    "# Checking for contiguity "
   ]
  },
  {
   "cell_type": "markdown",
   "id": "a500aef5",
   "metadata": {},
   "source": [
    "# Rook contiguity"
   ]
  },
  {
   "cell_type": "code",
   "execution_count": 3,
   "id": "5e65b9f0",
   "metadata": {
    "ExecuteTime": {
     "end_time": "2022-01-17T23:42:03.788446Z",
     "start_time": "2022-01-17T23:41:48.912444Z"
    },
    "scrolled": true
   },
   "outputs": [
    {
     "name": "stderr",
     "output_type": "stream",
     "text": [
      "/Users/ecv/mambaforge/envs/geoplanar_docs/lib/python3.7/site-packages/libpysal/weights/_contW_lists.py:31: ShapelyDeprecationWarning: Iteration over multi-part geometries is deprecated and will be removed in Shapely 2.0. Use the `geoms` property to access the constituent parts of a multi-part geometry.\n",
      "  return list(it.chain(*(_get_boundary_points(part.boundary) for part in shape)))\n",
      "/Users/ecv/mambaforge/envs/geoplanar_docs/lib/python3.7/site-packages/libpysal/weights/_contW_lists.py:29: ShapelyDeprecationWarning: Iteration over multi-part geometries is deprecated and will be removed in Shapely 2.0. Use the `geoms` property to access the constituent parts of a multi-part geometry.\n",
      "  return list(it.chain(*(list(zip(*shape.coords.xy)) for shape in shape)))\n",
      "/Users/ecv/mambaforge/envs/geoplanar_docs/lib/python3.7/site-packages/libpysal/weights/weights.py:172: UserWarning: The weights matrix is not fully connected: \n",
      " There are 2 disconnected components.\n",
      "  warnings.warn(message)\n"
     ]
    }
   ],
   "source": [
    "old_rook = Rook.from_dataframe(old) # creating our old rook df"
   ]
  },
  {
   "cell_type": "code",
   "execution_count": 4,
   "id": "b28769b2",
   "metadata": {
    "ExecuteTime": {
     "end_time": "2022-01-17T23:42:03.799452Z",
     "start_time": "2022-01-17T23:42:03.790890Z"
    }
   },
   "outputs": [
    {
     "data": {
      "text/plain": [
       "81"
      ]
     },
     "execution_count": 4,
     "metadata": {},
     "output_type": "execute_result"
    }
   ],
   "source": [
    "old_rook.n"
   ]
  },
  {
   "cell_type": "code",
   "execution_count": 5,
   "id": "f2209708",
   "metadata": {
    "ExecuteTime": {
     "end_time": "2022-01-17T23:42:17.659025Z",
     "start_time": "2022-01-17T23:42:03.801261Z"
    }
   },
   "outputs": [],
   "source": [
    "new_rook = Rook.from_dataframe(new) # creating our new rook df"
   ]
  },
  {
   "cell_type": "code",
   "execution_count": 6,
   "id": "9e144e1e",
   "metadata": {
    "ExecuteTime": {
     "end_time": "2022-01-17T23:42:17.665140Z",
     "start_time": "2022-01-17T23:42:17.660623Z"
    }
   },
   "outputs": [
    {
     "data": {
      "text/plain": [
       "81"
      ]
     },
     "execution_count": 6,
     "metadata": {},
     "output_type": "execute_result"
    }
   ],
   "source": [
    "new_rook.n"
   ]
  },
  {
   "cell_type": "markdown",
   "id": "0ec8a19c",
   "metadata": {},
   "source": [
    "### non-zero entries\n"
   ]
  },
  {
   "cell_type": "code",
   "execution_count": 7,
   "id": "c157599a",
   "metadata": {
    "ExecuteTime": {
     "end_time": "2022-01-17T23:42:17.675559Z",
     "start_time": "2022-01-17T23:42:17.670568Z"
    }
   },
   "outputs": [
    {
     "data": {
      "text/plain": [
       "354"
      ]
     },
     "execution_count": 7,
     "metadata": {},
     "output_type": "execute_result"
    }
   ],
   "source": [
    "old_rook.nonzero"
   ]
  },
  {
   "cell_type": "code",
   "execution_count": 8,
   "id": "7b0dc279",
   "metadata": {
    "ExecuteTime": {
     "end_time": "2022-01-17T23:42:17.680886Z",
     "start_time": "2022-01-17T23:42:17.677201Z"
    }
   },
   "outputs": [
    {
     "data": {
      "text/plain": [
       "372"
      ]
     },
     "execution_count": 8,
     "metadata": {},
     "output_type": "execute_result"
    }
   ],
   "source": [
    "new_rook.nonzero"
   ]
  },
  {
   "cell_type": "markdown",
   "id": "3c16a4ad",
   "metadata": {},
   "source": [
    "### number of joins\n"
   ]
  },
  {
   "cell_type": "code",
   "execution_count": 9,
   "id": "029731a9",
   "metadata": {
    "ExecuteTime": {
     "end_time": "2022-01-17T23:42:17.687099Z",
     "start_time": "2022-01-17T23:42:17.683025Z"
    }
   },
   "outputs": [
    {
     "data": {
      "text/plain": [
       "354.0"
      ]
     },
     "execution_count": 9,
     "metadata": {},
     "output_type": "execute_result"
    }
   ],
   "source": [
    "old_rook.s0"
   ]
  },
  {
   "cell_type": "code",
   "execution_count": 10,
   "id": "16af498a",
   "metadata": {
    "ExecuteTime": {
     "end_time": "2022-01-17T23:42:17.702882Z",
     "start_time": "2022-01-17T23:42:17.696704Z"
    }
   },
   "outputs": [
    {
     "data": {
      "text/plain": [
       "372.0"
      ]
     },
     "execution_count": 10,
     "metadata": {},
     "output_type": "execute_result"
    }
   ],
   "source": [
    "new_rook.s0"
   ]
  },
  {
   "cell_type": "markdown",
   "id": "c2ea5dc4",
   "metadata": {},
   "source": [
    "### measure of the density of the spatial weights matrix\n"
   ]
  },
  {
   "cell_type": "code",
   "execution_count": 11,
   "id": "e9768c1a",
   "metadata": {
    "ExecuteTime": {
     "end_time": "2022-01-17T23:42:17.709587Z",
     "start_time": "2022-01-17T23:42:17.704888Z"
    }
   },
   "outputs": [
    {
     "data": {
      "text/plain": [
       "5.3955189757658895"
      ]
     },
     "execution_count": 11,
     "metadata": {},
     "output_type": "execute_result"
    }
   ],
   "source": [
    "old_rook.pct_nonzero"
   ]
  },
  {
   "cell_type": "code",
   "execution_count": 12,
   "id": "96a49ffa",
   "metadata": {
    "ExecuteTime": {
     "end_time": "2022-01-17T23:42:17.718565Z",
     "start_time": "2022-01-17T23:42:17.712645Z"
    }
   },
   "outputs": [
    {
     "data": {
      "text/plain": [
       "5.66986739826246"
      ]
     },
     "execution_count": 12,
     "metadata": {},
     "output_type": "execute_result"
    }
   ],
   "source": [
    "new_rook.pct_nonzero"
   ]
  },
  {
   "cell_type": "markdown",
   "id": "f18fb91d",
   "metadata": {},
   "source": [
    "### location 0 has the following neighbors\n"
   ]
  },
  {
   "cell_type": "code",
   "execution_count": 13,
   "id": "659c4cdc",
   "metadata": {
    "ExecuteTime": {
     "end_time": "2022-01-17T23:42:17.724757Z",
     "start_time": "2022-01-17T23:42:17.720389Z"
    }
   },
   "outputs": [
    {
     "data": {
      "text/plain": [
       "[13, 31]"
      ]
     },
     "execution_count": 13,
     "metadata": {},
     "output_type": "execute_result"
    }
   ],
   "source": [
    "old_rook.neighbors[0] "
   ]
  },
  {
   "cell_type": "code",
   "execution_count": 14,
   "id": "59ab61e0",
   "metadata": {
    "ExecuteTime": {
     "end_time": "2022-01-17T23:42:17.731660Z",
     "start_time": "2022-01-17T23:42:17.727277Z"
    }
   },
   "outputs": [
    {
     "data": {
      "text/plain": [
       "[13, 31]"
      ]
     },
     "execution_count": 14,
     "metadata": {},
     "output_type": "execute_result"
    }
   ],
   "source": [
    "new_rook.neighbors[0]"
   ]
  },
  {
   "cell_type": "markdown",
   "id": "38fd9d18",
   "metadata": {},
   "source": [
    "### neighbors for each observation\n"
   ]
  },
  {
   "cell_type": "code",
   "execution_count": 15,
   "id": "4a6a8ba8",
   "metadata": {
    "ExecuteTime": {
     "end_time": "2022-01-17T23:42:17.745093Z",
     "start_time": "2022-01-17T23:42:17.733671Z"
    },
    "scrolled": true
   },
   "outputs": [
    {
     "data": {
      "text/plain": [
       "{0: [13, 31],\n",
       " 1: [25, 2],\n",
       " 2: [1],\n",
       " 3: [26, 22, 30],\n",
       " 4: [26, 19, 29],\n",
       " 5: [24, 9, 6, 25],\n",
       " 6: [9, 18, 5, 31],\n",
       " 7: [13, 15],\n",
       " 8: [16, 14],\n",
       " 9: [17, 5, 6, 24, 31],\n",
       " 10: [21, 23, 15, 13, 31],\n",
       " 11: [16, 19, 20, 14, 15],\n",
       " 12: [20, 21, 23, 28, 29, 14],\n",
       " 13: [0, 17, 7, 10, 31, 15],\n",
       " 14: [8, 11, 12, 15, 16, 20, 21, 28],\n",
       " 15: [21, 7, 10, 11, 13, 14],\n",
       " 16: [8, 11, 20, 14],\n",
       " 17: [24, 9, 13, 31],\n",
       " 18: [27, 31, 6, 23],\n",
       " 19: [29, 11, 4, 20],\n",
       " 20: [16, 29, 19, 11, 12, 28, 14],\n",
       " 21: [23, 10, 12, 14, 15],\n",
       " 22: [3, 30],\n",
       " 23: [18, 21, 10, 27, 12, 29, 31],\n",
       " 24: [17, 5, 9, 25],\n",
       " 25: [24, 1, 5],\n",
       " 26: [3, 4, 29],\n",
       " 27: [18, 29, 23],\n",
       " 28: [20, 12, 14],\n",
       " 29: [19, 4, 20, 23, 26, 27, 12],\n",
       " 30: [3, 22],\n",
       " 31: [0, 6, 9, 10, 13, 17, 18, 23],\n",
       " 32: [72, 41, 40, 54],\n",
       " 33: [74, 35, 58, 61],\n",
       " 34: [48, 66, 54, 55, 72, 73],\n",
       " 35: [33, 58, 67],\n",
       " 36: [80, 66, 57, 74, 61, 46],\n",
       " 37: [51, 69, 62],\n",
       " 38: [50, 68, 60],\n",
       " 39: [50, 76],\n",
       " 40: [32, 41],\n",
       " 41: [32, 70, 40, 72, 63],\n",
       " 42: [80, 67, 58, 56, 74, 77],\n",
       " 43: [47, 52, 55, 44, 45, 79],\n",
       " 44: [65, 43, 52, 47],\n",
       " 45: [53, 55, 71, 57, 43, 79],\n",
       " 46: [57, 66, 36, 55],\n",
       " 47: [65, 55, 72, 43, 44, 78, 76],\n",
       " 48: [73, 34, 54],\n",
       " 49: [59],\n",
       " 50: [68, 38, 39, 76, 78],\n",
       " 51: [37, 69, 59, 75, 62],\n",
       " 52: [65, 53, 43, 44, 79],\n",
       " 53: [64, 52, 71, 45, 79],\n",
       " 54: [32, 48, 72, 34],\n",
       " 55: [34, 66, 72, 43, 45, 46, 47, 57],\n",
       " 56: [80, 42, 64, 71],\n",
       " 57: [80, 36, 55, 71, 45, 46],\n",
       " 58: [33, 67, 35, 74, 42],\n",
       " 59: [49, 75, 51],\n",
       " 60: [62, 68, 38],\n",
       " 61: [73, 33, 66, 36],\n",
       " 62: [65, 51, 68, 37, 75, 60],\n",
       " 63: [72, 41, 76, 70],\n",
       " 64: [56, 53, 71],\n",
       " 65: [52, 68, 62, 44, 78, 47],\n",
       " 66: [34, 36, 55, 73, 61, 46],\n",
       " 67: [42, 35, 58, 77],\n",
       " 68: [65, 50, 38, 78, 60, 62],\n",
       " 69: [51, 37],\n",
       " 70: [41, 63],\n",
       " 71: [64, 80, 53, 56, 57, 45],\n",
       " 72: [32, 34, 41, 76, 47, 54, 55, 63],\n",
       " 73: [48, 34, 61, 66],\n",
       " 74: [80, 33, 36, 42, 58],\n",
       " 75: [59, 51, 62],\n",
       " 76: [50, 39, 72, 47, 78, 63],\n",
       " 77: [42, 67],\n",
       " 78: [65, 50, 68, 76, 47],\n",
       " 79: [45, 43, 52, 53],\n",
       " 80: [36, 42, 71, 56, 57, 74]}"
      ]
     },
     "execution_count": 15,
     "metadata": {},
     "output_type": "execute_result"
    }
   ],
   "source": [
    "old_rook.neighbors # old df"
   ]
  },
  {
   "cell_type": "code",
   "execution_count": 16,
   "id": "f7a012a3",
   "metadata": {
    "ExecuteTime": {
     "end_time": "2022-01-17T23:42:17.762651Z",
     "start_time": "2022-01-17T23:42:17.747530Z"
    },
    "scrolled": true
   },
   "outputs": [
    {
     "data": {
      "text/plain": [
       "{0: [13, 31],\n",
       " 1: [33, 2, 35, 25],\n",
       " 2: [1],\n",
       " 3: [26, 22, 30],\n",
       " 4: [26, 19, 29],\n",
       " 5: [73, 6, 24, 9, 61, 25],\n",
       " 6: [18, 5, 73, 9, 31],\n",
       " 7: [13, 15],\n",
       " 8: [16, 14],\n",
       " 9: [17, 5, 6, 24, 31],\n",
       " 10: [21, 23, 15, 13, 31],\n",
       " 11: [16, 19, 20, 14, 15],\n",
       " 12: [20, 21, 23, 28, 29, 14],\n",
       " 13: [0, 17, 7, 10, 31, 15],\n",
       " 14: [8, 11, 12, 15, 16, 20, 21, 28],\n",
       " 15: [21, 7, 10, 11, 13, 14],\n",
       " 16: [8, 11, 20, 14],\n",
       " 17: [24, 9, 13, 31],\n",
       " 18: [6, 23, 73, 27, 31],\n",
       " 19: [29, 11, 4, 20],\n",
       " 20: [16, 29, 19, 11, 12, 28, 14],\n",
       " 21: [23, 10, 12, 14, 15],\n",
       " 22: [3, 30],\n",
       " 23: [18, 21, 10, 27, 12, 29, 31],\n",
       " 24: [17, 5, 9, 25],\n",
       " 25: [1, 33, 5, 24, 61],\n",
       " 26: [3, 4, 29],\n",
       " 27: [73, 18, 29, 23],\n",
       " 28: [20, 12, 14],\n",
       " 29: [19, 4, 20, 23, 26, 27, 12],\n",
       " 30: [3, 22],\n",
       " 31: [0, 6, 9, 10, 13, 17, 18, 23],\n",
       " 32: [72, 41, 40, 54],\n",
       " 33: [1, 35, 58, 25, 74, 61],\n",
       " 34: [48, 66, 54, 55, 72, 73],\n",
       " 35: [1, 58, 67, 33],\n",
       " 36: [80, 66, 57, 74, 61, 46],\n",
       " 37: [51, 69, 62],\n",
       " 38: [50, 68, 60],\n",
       " 39: [50, 76],\n",
       " 40: [32, 41],\n",
       " 41: [32, 70, 40, 72, 63],\n",
       " 42: [80, 67, 58, 56, 74, 77],\n",
       " 43: [47, 52, 55, 44, 45, 79],\n",
       " 44: [65, 43, 52, 47],\n",
       " 45: [53, 55, 71, 57, 43, 79],\n",
       " 46: [57, 66, 36, 55],\n",
       " 47: [65, 55, 72, 43, 44, 78, 76],\n",
       " 48: [73, 34, 54],\n",
       " 49: [59],\n",
       " 50: [68, 38, 39, 76, 78],\n",
       " 51: [37, 69, 59, 75, 62],\n",
       " 52: [65, 53, 43, 44, 79],\n",
       " 53: [64, 52, 71, 45, 79],\n",
       " 54: [32, 48, 72, 34],\n",
       " 55: [34, 66, 72, 43, 45, 46, 47, 57],\n",
       " 56: [80, 42, 64, 71],\n",
       " 57: [80, 36, 55, 71, 45, 46],\n",
       " 58: [33, 67, 35, 74, 42],\n",
       " 59: [49, 75, 51],\n",
       " 60: [62, 68, 38],\n",
       " 61: [33, 66, 36, 5, 73, 25],\n",
       " 62: [65, 51, 68, 37, 75, 60],\n",
       " 63: [72, 41, 76, 70],\n",
       " 64: [56, 53, 71],\n",
       " 65: [52, 68, 62, 44, 78, 47],\n",
       " 66: [34, 36, 55, 73, 61, 46],\n",
       " 67: [42, 35, 58, 77],\n",
       " 68: [65, 50, 38, 78, 60, 62],\n",
       " 69: [51, 37],\n",
       " 70: [41, 63],\n",
       " 71: [64, 80, 53, 56, 57, 45],\n",
       " 72: [32, 34, 41, 76, 47, 54, 55, 63],\n",
       " 73: [34, 66, 5, 6, 48, 18, 27, 61],\n",
       " 74: [80, 33, 36, 42, 58],\n",
       " 75: [59, 51, 62],\n",
       " 76: [50, 39, 72, 47, 78, 63],\n",
       " 77: [42, 67],\n",
       " 78: [65, 50, 68, 76, 47],\n",
       " 79: [45, 43, 52, 53],\n",
       " 80: [36, 42, 71, 56, 57, 74]}"
      ]
     },
     "execution_count": 16,
     "metadata": {},
     "output_type": "execute_result"
    }
   ],
   "source": [
    "new_rook.neighbors # new df"
   ]
  },
  {
   "cell_type": "markdown",
   "id": "607a0f60",
   "metadata": {},
   "source": [
    "### full neighbor matrix\n"
   ]
  },
  {
   "cell_type": "code",
   "execution_count": 17,
   "id": "e9d9784d",
   "metadata": {
    "ExecuteTime": {
     "end_time": "2022-01-17T23:42:17.788938Z",
     "start_time": "2022-01-17T23:42:17.764893Z"
    }
   },
   "outputs": [
    {
     "data": {
      "text/html": [
       "<div>\n",
       "<style scoped>\n",
       "    .dataframe tbody tr th:only-of-type {\n",
       "        vertical-align: middle;\n",
       "    }\n",
       "\n",
       "    .dataframe tbody tr th {\n",
       "        vertical-align: top;\n",
       "    }\n",
       "\n",
       "    .dataframe thead th {\n",
       "        text-align: right;\n",
       "    }\n",
       "</style>\n",
       "<table border=\"1\" class=\"dataframe\">\n",
       "  <thead>\n",
       "    <tr style=\"text-align: right;\">\n",
       "      <th></th>\n",
       "      <th>0</th>\n",
       "      <th>1</th>\n",
       "      <th>2</th>\n",
       "      <th>3</th>\n",
       "      <th>4</th>\n",
       "      <th>5</th>\n",
       "      <th>6</th>\n",
       "      <th>7</th>\n",
       "      <th>8</th>\n",
       "      <th>9</th>\n",
       "      <th>...</th>\n",
       "      <th>71</th>\n",
       "      <th>72</th>\n",
       "      <th>73</th>\n",
       "      <th>74</th>\n",
       "      <th>75</th>\n",
       "      <th>76</th>\n",
       "      <th>77</th>\n",
       "      <th>78</th>\n",
       "      <th>79</th>\n",
       "      <th>80</th>\n",
       "    </tr>\n",
       "  </thead>\n",
       "  <tbody>\n",
       "    <tr>\n",
       "      <th>0</th>\n",
       "      <td>0</td>\n",
       "      <td>0</td>\n",
       "      <td>0</td>\n",
       "      <td>0</td>\n",
       "      <td>0</td>\n",
       "      <td>0</td>\n",
       "      <td>0</td>\n",
       "      <td>0</td>\n",
       "      <td>0</td>\n",
       "      <td>0</td>\n",
       "      <td>...</td>\n",
       "      <td>0</td>\n",
       "      <td>0</td>\n",
       "      <td>0</td>\n",
       "      <td>0</td>\n",
       "      <td>0</td>\n",
       "      <td>0</td>\n",
       "      <td>0</td>\n",
       "      <td>0</td>\n",
       "      <td>0</td>\n",
       "      <td>0</td>\n",
       "    </tr>\n",
       "    <tr>\n",
       "      <th>1</th>\n",
       "      <td>0</td>\n",
       "      <td>0</td>\n",
       "      <td>1</td>\n",
       "      <td>0</td>\n",
       "      <td>0</td>\n",
       "      <td>0</td>\n",
       "      <td>0</td>\n",
       "      <td>0</td>\n",
       "      <td>0</td>\n",
       "      <td>0</td>\n",
       "      <td>...</td>\n",
       "      <td>0</td>\n",
       "      <td>0</td>\n",
       "      <td>0</td>\n",
       "      <td>0</td>\n",
       "      <td>0</td>\n",
       "      <td>0</td>\n",
       "      <td>0</td>\n",
       "      <td>0</td>\n",
       "      <td>0</td>\n",
       "      <td>0</td>\n",
       "    </tr>\n",
       "    <tr>\n",
       "      <th>2</th>\n",
       "      <td>0</td>\n",
       "      <td>1</td>\n",
       "      <td>0</td>\n",
       "      <td>0</td>\n",
       "      <td>0</td>\n",
       "      <td>0</td>\n",
       "      <td>0</td>\n",
       "      <td>0</td>\n",
       "      <td>0</td>\n",
       "      <td>0</td>\n",
       "      <td>...</td>\n",
       "      <td>0</td>\n",
       "      <td>0</td>\n",
       "      <td>0</td>\n",
       "      <td>0</td>\n",
       "      <td>0</td>\n",
       "      <td>0</td>\n",
       "      <td>0</td>\n",
       "      <td>0</td>\n",
       "      <td>0</td>\n",
       "      <td>0</td>\n",
       "    </tr>\n",
       "    <tr>\n",
       "      <th>3</th>\n",
       "      <td>0</td>\n",
       "      <td>0</td>\n",
       "      <td>0</td>\n",
       "      <td>0</td>\n",
       "      <td>0</td>\n",
       "      <td>0</td>\n",
       "      <td>0</td>\n",
       "      <td>0</td>\n",
       "      <td>0</td>\n",
       "      <td>0</td>\n",
       "      <td>...</td>\n",
       "      <td>0</td>\n",
       "      <td>0</td>\n",
       "      <td>0</td>\n",
       "      <td>0</td>\n",
       "      <td>0</td>\n",
       "      <td>0</td>\n",
       "      <td>0</td>\n",
       "      <td>0</td>\n",
       "      <td>0</td>\n",
       "      <td>0</td>\n",
       "    </tr>\n",
       "    <tr>\n",
       "      <th>4</th>\n",
       "      <td>0</td>\n",
       "      <td>0</td>\n",
       "      <td>0</td>\n",
       "      <td>0</td>\n",
       "      <td>0</td>\n",
       "      <td>0</td>\n",
       "      <td>0</td>\n",
       "      <td>0</td>\n",
       "      <td>0</td>\n",
       "      <td>0</td>\n",
       "      <td>...</td>\n",
       "      <td>0</td>\n",
       "      <td>0</td>\n",
       "      <td>0</td>\n",
       "      <td>0</td>\n",
       "      <td>0</td>\n",
       "      <td>0</td>\n",
       "      <td>0</td>\n",
       "      <td>0</td>\n",
       "      <td>0</td>\n",
       "      <td>0</td>\n",
       "    </tr>\n",
       "    <tr>\n",
       "      <th>...</th>\n",
       "      <td>...</td>\n",
       "      <td>...</td>\n",
       "      <td>...</td>\n",
       "      <td>...</td>\n",
       "      <td>...</td>\n",
       "      <td>...</td>\n",
       "      <td>...</td>\n",
       "      <td>...</td>\n",
       "      <td>...</td>\n",
       "      <td>...</td>\n",
       "      <td>...</td>\n",
       "      <td>...</td>\n",
       "      <td>...</td>\n",
       "      <td>...</td>\n",
       "      <td>...</td>\n",
       "      <td>...</td>\n",
       "      <td>...</td>\n",
       "      <td>...</td>\n",
       "      <td>...</td>\n",
       "      <td>...</td>\n",
       "      <td>...</td>\n",
       "    </tr>\n",
       "    <tr>\n",
       "      <th>76</th>\n",
       "      <td>0</td>\n",
       "      <td>0</td>\n",
       "      <td>0</td>\n",
       "      <td>0</td>\n",
       "      <td>0</td>\n",
       "      <td>0</td>\n",
       "      <td>0</td>\n",
       "      <td>0</td>\n",
       "      <td>0</td>\n",
       "      <td>0</td>\n",
       "      <td>...</td>\n",
       "      <td>0</td>\n",
       "      <td>1</td>\n",
       "      <td>0</td>\n",
       "      <td>0</td>\n",
       "      <td>0</td>\n",
       "      <td>0</td>\n",
       "      <td>0</td>\n",
       "      <td>1</td>\n",
       "      <td>0</td>\n",
       "      <td>0</td>\n",
       "    </tr>\n",
       "    <tr>\n",
       "      <th>77</th>\n",
       "      <td>0</td>\n",
       "      <td>0</td>\n",
       "      <td>0</td>\n",
       "      <td>0</td>\n",
       "      <td>0</td>\n",
       "      <td>0</td>\n",
       "      <td>0</td>\n",
       "      <td>0</td>\n",
       "      <td>0</td>\n",
       "      <td>0</td>\n",
       "      <td>...</td>\n",
       "      <td>0</td>\n",
       "      <td>0</td>\n",
       "      <td>0</td>\n",
       "      <td>0</td>\n",
       "      <td>0</td>\n",
       "      <td>0</td>\n",
       "      <td>0</td>\n",
       "      <td>0</td>\n",
       "      <td>0</td>\n",
       "      <td>0</td>\n",
       "    </tr>\n",
       "    <tr>\n",
       "      <th>78</th>\n",
       "      <td>0</td>\n",
       "      <td>0</td>\n",
       "      <td>0</td>\n",
       "      <td>0</td>\n",
       "      <td>0</td>\n",
       "      <td>0</td>\n",
       "      <td>0</td>\n",
       "      <td>0</td>\n",
       "      <td>0</td>\n",
       "      <td>0</td>\n",
       "      <td>...</td>\n",
       "      <td>0</td>\n",
       "      <td>0</td>\n",
       "      <td>0</td>\n",
       "      <td>0</td>\n",
       "      <td>0</td>\n",
       "      <td>1</td>\n",
       "      <td>0</td>\n",
       "      <td>0</td>\n",
       "      <td>0</td>\n",
       "      <td>0</td>\n",
       "    </tr>\n",
       "    <tr>\n",
       "      <th>79</th>\n",
       "      <td>0</td>\n",
       "      <td>0</td>\n",
       "      <td>0</td>\n",
       "      <td>0</td>\n",
       "      <td>0</td>\n",
       "      <td>0</td>\n",
       "      <td>0</td>\n",
       "      <td>0</td>\n",
       "      <td>0</td>\n",
       "      <td>0</td>\n",
       "      <td>...</td>\n",
       "      <td>0</td>\n",
       "      <td>0</td>\n",
       "      <td>0</td>\n",
       "      <td>0</td>\n",
       "      <td>0</td>\n",
       "      <td>0</td>\n",
       "      <td>0</td>\n",
       "      <td>0</td>\n",
       "      <td>0</td>\n",
       "      <td>0</td>\n",
       "    </tr>\n",
       "    <tr>\n",
       "      <th>80</th>\n",
       "      <td>0</td>\n",
       "      <td>0</td>\n",
       "      <td>0</td>\n",
       "      <td>0</td>\n",
       "      <td>0</td>\n",
       "      <td>0</td>\n",
       "      <td>0</td>\n",
       "      <td>0</td>\n",
       "      <td>0</td>\n",
       "      <td>0</td>\n",
       "      <td>...</td>\n",
       "      <td>1</td>\n",
       "      <td>0</td>\n",
       "      <td>0</td>\n",
       "      <td>1</td>\n",
       "      <td>0</td>\n",
       "      <td>0</td>\n",
       "      <td>0</td>\n",
       "      <td>0</td>\n",
       "      <td>0</td>\n",
       "      <td>0</td>\n",
       "    </tr>\n",
       "  </tbody>\n",
       "</table>\n",
       "<p>81 rows × 81 columns</p>\n",
       "</div>"
      ],
      "text/plain": [
       "    0   1   2   3   4   5   6   7   8   9   ...  71  72  73  74  75  76  77  \\\n",
       "0    0   0   0   0   0   0   0   0   0   0  ...   0   0   0   0   0   0   0   \n",
       "1    0   0   1   0   0   0   0   0   0   0  ...   0   0   0   0   0   0   0   \n",
       "2    0   1   0   0   0   0   0   0   0   0  ...   0   0   0   0   0   0   0   \n",
       "3    0   0   0   0   0   0   0   0   0   0  ...   0   0   0   0   0   0   0   \n",
       "4    0   0   0   0   0   0   0   0   0   0  ...   0   0   0   0   0   0   0   \n",
       "..  ..  ..  ..  ..  ..  ..  ..  ..  ..  ..  ...  ..  ..  ..  ..  ..  ..  ..   \n",
       "76   0   0   0   0   0   0   0   0   0   0  ...   0   1   0   0   0   0   0   \n",
       "77   0   0   0   0   0   0   0   0   0   0  ...   0   0   0   0   0   0   0   \n",
       "78   0   0   0   0   0   0   0   0   0   0  ...   0   0   0   0   0   1   0   \n",
       "79   0   0   0   0   0   0   0   0   0   0  ...   0   0   0   0   0   0   0   \n",
       "80   0   0   0   0   0   0   0   0   0   0  ...   1   0   0   1   0   0   0   \n",
       "\n",
       "    78  79  80  \n",
       "0    0   0   0  \n",
       "1    0   0   0  \n",
       "2    0   0   0  \n",
       "3    0   0   0  \n",
       "4    0   0   0  \n",
       "..  ..  ..  ..  \n",
       "76   1   0   0  \n",
       "77   0   0   0  \n",
       "78   0   0   0  \n",
       "79   0   0   0  \n",
       "80   0   0   0  \n",
       "\n",
       "[81 rows x 81 columns]"
      ]
     },
     "execution_count": 17,
     "metadata": {},
     "output_type": "execute_result"
    }
   ],
   "source": [
    "pd.DataFrame(*old_rook.full()).astype(int) # old rook df"
   ]
  },
  {
   "cell_type": "code",
   "execution_count": 18,
   "id": "13cd5753",
   "metadata": {
    "ExecuteTime": {
     "end_time": "2022-01-17T23:42:17.809701Z",
     "start_time": "2022-01-17T23:42:17.790874Z"
    }
   },
   "outputs": [
    {
     "data": {
      "text/html": [
       "<div>\n",
       "<style scoped>\n",
       "    .dataframe tbody tr th:only-of-type {\n",
       "        vertical-align: middle;\n",
       "    }\n",
       "\n",
       "    .dataframe tbody tr th {\n",
       "        vertical-align: top;\n",
       "    }\n",
       "\n",
       "    .dataframe thead th {\n",
       "        text-align: right;\n",
       "    }\n",
       "</style>\n",
       "<table border=\"1\" class=\"dataframe\">\n",
       "  <thead>\n",
       "    <tr style=\"text-align: right;\">\n",
       "      <th></th>\n",
       "      <th>0</th>\n",
       "      <th>1</th>\n",
       "      <th>2</th>\n",
       "      <th>3</th>\n",
       "      <th>4</th>\n",
       "      <th>5</th>\n",
       "      <th>6</th>\n",
       "      <th>7</th>\n",
       "      <th>8</th>\n",
       "      <th>9</th>\n",
       "      <th>...</th>\n",
       "      <th>71</th>\n",
       "      <th>72</th>\n",
       "      <th>73</th>\n",
       "      <th>74</th>\n",
       "      <th>75</th>\n",
       "      <th>76</th>\n",
       "      <th>77</th>\n",
       "      <th>78</th>\n",
       "      <th>79</th>\n",
       "      <th>80</th>\n",
       "    </tr>\n",
       "  </thead>\n",
       "  <tbody>\n",
       "    <tr>\n",
       "      <th>0</th>\n",
       "      <td>0</td>\n",
       "      <td>0</td>\n",
       "      <td>0</td>\n",
       "      <td>0</td>\n",
       "      <td>0</td>\n",
       "      <td>0</td>\n",
       "      <td>0</td>\n",
       "      <td>0</td>\n",
       "      <td>0</td>\n",
       "      <td>0</td>\n",
       "      <td>...</td>\n",
       "      <td>0</td>\n",
       "      <td>0</td>\n",
       "      <td>0</td>\n",
       "      <td>0</td>\n",
       "      <td>0</td>\n",
       "      <td>0</td>\n",
       "      <td>0</td>\n",
       "      <td>0</td>\n",
       "      <td>0</td>\n",
       "      <td>0</td>\n",
       "    </tr>\n",
       "    <tr>\n",
       "      <th>1</th>\n",
       "      <td>0</td>\n",
       "      <td>0</td>\n",
       "      <td>1</td>\n",
       "      <td>0</td>\n",
       "      <td>0</td>\n",
       "      <td>0</td>\n",
       "      <td>0</td>\n",
       "      <td>0</td>\n",
       "      <td>0</td>\n",
       "      <td>0</td>\n",
       "      <td>...</td>\n",
       "      <td>0</td>\n",
       "      <td>0</td>\n",
       "      <td>0</td>\n",
       "      <td>0</td>\n",
       "      <td>0</td>\n",
       "      <td>0</td>\n",
       "      <td>0</td>\n",
       "      <td>0</td>\n",
       "      <td>0</td>\n",
       "      <td>0</td>\n",
       "    </tr>\n",
       "    <tr>\n",
       "      <th>2</th>\n",
       "      <td>0</td>\n",
       "      <td>1</td>\n",
       "      <td>0</td>\n",
       "      <td>0</td>\n",
       "      <td>0</td>\n",
       "      <td>0</td>\n",
       "      <td>0</td>\n",
       "      <td>0</td>\n",
       "      <td>0</td>\n",
       "      <td>0</td>\n",
       "      <td>...</td>\n",
       "      <td>0</td>\n",
       "      <td>0</td>\n",
       "      <td>0</td>\n",
       "      <td>0</td>\n",
       "      <td>0</td>\n",
       "      <td>0</td>\n",
       "      <td>0</td>\n",
       "      <td>0</td>\n",
       "      <td>0</td>\n",
       "      <td>0</td>\n",
       "    </tr>\n",
       "    <tr>\n",
       "      <th>3</th>\n",
       "      <td>0</td>\n",
       "      <td>0</td>\n",
       "      <td>0</td>\n",
       "      <td>0</td>\n",
       "      <td>0</td>\n",
       "      <td>0</td>\n",
       "      <td>0</td>\n",
       "      <td>0</td>\n",
       "      <td>0</td>\n",
       "      <td>0</td>\n",
       "      <td>...</td>\n",
       "      <td>0</td>\n",
       "      <td>0</td>\n",
       "      <td>0</td>\n",
       "      <td>0</td>\n",
       "      <td>0</td>\n",
       "      <td>0</td>\n",
       "      <td>0</td>\n",
       "      <td>0</td>\n",
       "      <td>0</td>\n",
       "      <td>0</td>\n",
       "    </tr>\n",
       "    <tr>\n",
       "      <th>4</th>\n",
       "      <td>0</td>\n",
       "      <td>0</td>\n",
       "      <td>0</td>\n",
       "      <td>0</td>\n",
       "      <td>0</td>\n",
       "      <td>0</td>\n",
       "      <td>0</td>\n",
       "      <td>0</td>\n",
       "      <td>0</td>\n",
       "      <td>0</td>\n",
       "      <td>...</td>\n",
       "      <td>0</td>\n",
       "      <td>0</td>\n",
       "      <td>0</td>\n",
       "      <td>0</td>\n",
       "      <td>0</td>\n",
       "      <td>0</td>\n",
       "      <td>0</td>\n",
       "      <td>0</td>\n",
       "      <td>0</td>\n",
       "      <td>0</td>\n",
       "    </tr>\n",
       "    <tr>\n",
       "      <th>...</th>\n",
       "      <td>...</td>\n",
       "      <td>...</td>\n",
       "      <td>...</td>\n",
       "      <td>...</td>\n",
       "      <td>...</td>\n",
       "      <td>...</td>\n",
       "      <td>...</td>\n",
       "      <td>...</td>\n",
       "      <td>...</td>\n",
       "      <td>...</td>\n",
       "      <td>...</td>\n",
       "      <td>...</td>\n",
       "      <td>...</td>\n",
       "      <td>...</td>\n",
       "      <td>...</td>\n",
       "      <td>...</td>\n",
       "      <td>...</td>\n",
       "      <td>...</td>\n",
       "      <td>...</td>\n",
       "      <td>...</td>\n",
       "      <td>...</td>\n",
       "    </tr>\n",
       "    <tr>\n",
       "      <th>76</th>\n",
       "      <td>0</td>\n",
       "      <td>0</td>\n",
       "      <td>0</td>\n",
       "      <td>0</td>\n",
       "      <td>0</td>\n",
       "      <td>0</td>\n",
       "      <td>0</td>\n",
       "      <td>0</td>\n",
       "      <td>0</td>\n",
       "      <td>0</td>\n",
       "      <td>...</td>\n",
       "      <td>0</td>\n",
       "      <td>1</td>\n",
       "      <td>0</td>\n",
       "      <td>0</td>\n",
       "      <td>0</td>\n",
       "      <td>0</td>\n",
       "      <td>0</td>\n",
       "      <td>1</td>\n",
       "      <td>0</td>\n",
       "      <td>0</td>\n",
       "    </tr>\n",
       "    <tr>\n",
       "      <th>77</th>\n",
       "      <td>0</td>\n",
       "      <td>0</td>\n",
       "      <td>0</td>\n",
       "      <td>0</td>\n",
       "      <td>0</td>\n",
       "      <td>0</td>\n",
       "      <td>0</td>\n",
       "      <td>0</td>\n",
       "      <td>0</td>\n",
       "      <td>0</td>\n",
       "      <td>...</td>\n",
       "      <td>0</td>\n",
       "      <td>0</td>\n",
       "      <td>0</td>\n",
       "      <td>0</td>\n",
       "      <td>0</td>\n",
       "      <td>0</td>\n",
       "      <td>0</td>\n",
       "      <td>0</td>\n",
       "      <td>0</td>\n",
       "      <td>0</td>\n",
       "    </tr>\n",
       "    <tr>\n",
       "      <th>78</th>\n",
       "      <td>0</td>\n",
       "      <td>0</td>\n",
       "      <td>0</td>\n",
       "      <td>0</td>\n",
       "      <td>0</td>\n",
       "      <td>0</td>\n",
       "      <td>0</td>\n",
       "      <td>0</td>\n",
       "      <td>0</td>\n",
       "      <td>0</td>\n",
       "      <td>...</td>\n",
       "      <td>0</td>\n",
       "      <td>0</td>\n",
       "      <td>0</td>\n",
       "      <td>0</td>\n",
       "      <td>0</td>\n",
       "      <td>1</td>\n",
       "      <td>0</td>\n",
       "      <td>0</td>\n",
       "      <td>0</td>\n",
       "      <td>0</td>\n",
       "    </tr>\n",
       "    <tr>\n",
       "      <th>79</th>\n",
       "      <td>0</td>\n",
       "      <td>0</td>\n",
       "      <td>0</td>\n",
       "      <td>0</td>\n",
       "      <td>0</td>\n",
       "      <td>0</td>\n",
       "      <td>0</td>\n",
       "      <td>0</td>\n",
       "      <td>0</td>\n",
       "      <td>0</td>\n",
       "      <td>...</td>\n",
       "      <td>0</td>\n",
       "      <td>0</td>\n",
       "      <td>0</td>\n",
       "      <td>0</td>\n",
       "      <td>0</td>\n",
       "      <td>0</td>\n",
       "      <td>0</td>\n",
       "      <td>0</td>\n",
       "      <td>0</td>\n",
       "      <td>0</td>\n",
       "    </tr>\n",
       "    <tr>\n",
       "      <th>80</th>\n",
       "      <td>0</td>\n",
       "      <td>0</td>\n",
       "      <td>0</td>\n",
       "      <td>0</td>\n",
       "      <td>0</td>\n",
       "      <td>0</td>\n",
       "      <td>0</td>\n",
       "      <td>0</td>\n",
       "      <td>0</td>\n",
       "      <td>0</td>\n",
       "      <td>...</td>\n",
       "      <td>1</td>\n",
       "      <td>0</td>\n",
       "      <td>0</td>\n",
       "      <td>1</td>\n",
       "      <td>0</td>\n",
       "      <td>0</td>\n",
       "      <td>0</td>\n",
       "      <td>0</td>\n",
       "      <td>0</td>\n",
       "      <td>0</td>\n",
       "    </tr>\n",
       "  </tbody>\n",
       "</table>\n",
       "<p>81 rows × 81 columns</p>\n",
       "</div>"
      ],
      "text/plain": [
       "    0   1   2   3   4   5   6   7   8   9   ...  71  72  73  74  75  76  77  \\\n",
       "0    0   0   0   0   0   0   0   0   0   0  ...   0   0   0   0   0   0   0   \n",
       "1    0   0   1   0   0   0   0   0   0   0  ...   0   0   0   0   0   0   0   \n",
       "2    0   1   0   0   0   0   0   0   0   0  ...   0   0   0   0   0   0   0   \n",
       "3    0   0   0   0   0   0   0   0   0   0  ...   0   0   0   0   0   0   0   \n",
       "4    0   0   0   0   0   0   0   0   0   0  ...   0   0   0   0   0   0   0   \n",
       "..  ..  ..  ..  ..  ..  ..  ..  ..  ..  ..  ...  ..  ..  ..  ..  ..  ..  ..   \n",
       "76   0   0   0   0   0   0   0   0   0   0  ...   0   1   0   0   0   0   0   \n",
       "77   0   0   0   0   0   0   0   0   0   0  ...   0   0   0   0   0   0   0   \n",
       "78   0   0   0   0   0   0   0   0   0   0  ...   0   0   0   0   0   1   0   \n",
       "79   0   0   0   0   0   0   0   0   0   0  ...   0   0   0   0   0   0   0   \n",
       "80   0   0   0   0   0   0   0   0   0   0  ...   1   0   0   1   0   0   0   \n",
       "\n",
       "    78  79  80  \n",
       "0    0   0   0  \n",
       "1    0   0   0  \n",
       "2    0   0   0  \n",
       "3    0   0   0  \n",
       "4    0   0   0  \n",
       "..  ..  ..  ..  \n",
       "76   1   0   0  \n",
       "77   0   0   0  \n",
       "78   0   0   0  \n",
       "79   0   0   0  \n",
       "80   0   0   0  \n",
       "\n",
       "[81 rows x 81 columns]"
      ]
     },
     "execution_count": 18,
     "metadata": {},
     "output_type": "execute_result"
    }
   ],
   "source": [
    "# newrook df\n",
    "pd.DataFrame(*new_rook.full()).astype(int)"
   ]
  },
  {
   "cell_type": "markdown",
   "id": "2f572b2c",
   "metadata": {},
   "source": [
    "### weight values\n"
   ]
  },
  {
   "cell_type": "code",
   "execution_count": 19,
   "id": "0c9c843e",
   "metadata": {
    "ExecuteTime": {
     "end_time": "2022-01-17T23:42:17.821175Z",
     "start_time": "2022-01-17T23:42:17.811691Z"
    },
    "scrolled": true
   },
   "outputs": [
    {
     "data": {
      "text/plain": [
       "{0: [1.0, 1.0],\n",
       " 1: [1.0, 1.0],\n",
       " 2: [1.0],\n",
       " 3: [1.0, 1.0, 1.0],\n",
       " 4: [1.0, 1.0, 1.0],\n",
       " 5: [1.0, 1.0, 1.0, 1.0],\n",
       " 6: [1.0, 1.0, 1.0, 1.0],\n",
       " 7: [1.0, 1.0],\n",
       " 8: [1.0, 1.0],\n",
       " 9: [1.0, 1.0, 1.0, 1.0, 1.0],\n",
       " 10: [1.0, 1.0, 1.0, 1.0, 1.0],\n",
       " 11: [1.0, 1.0, 1.0, 1.0, 1.0],\n",
       " 12: [1.0, 1.0, 1.0, 1.0, 1.0, 1.0],\n",
       " 13: [1.0, 1.0, 1.0, 1.0, 1.0, 1.0],\n",
       " 14: [1.0, 1.0, 1.0, 1.0, 1.0, 1.0, 1.0, 1.0],\n",
       " 15: [1.0, 1.0, 1.0, 1.0, 1.0, 1.0],\n",
       " 16: [1.0, 1.0, 1.0, 1.0],\n",
       " 17: [1.0, 1.0, 1.0, 1.0],\n",
       " 18: [1.0, 1.0, 1.0, 1.0],\n",
       " 19: [1.0, 1.0, 1.0, 1.0],\n",
       " 20: [1.0, 1.0, 1.0, 1.0, 1.0, 1.0, 1.0],\n",
       " 21: [1.0, 1.0, 1.0, 1.0, 1.0],\n",
       " 22: [1.0, 1.0],\n",
       " 23: [1.0, 1.0, 1.0, 1.0, 1.0, 1.0, 1.0],\n",
       " 24: [1.0, 1.0, 1.0, 1.0],\n",
       " 25: [1.0, 1.0, 1.0],\n",
       " 26: [1.0, 1.0, 1.0],\n",
       " 27: [1.0, 1.0, 1.0],\n",
       " 28: [1.0, 1.0, 1.0],\n",
       " 29: [1.0, 1.0, 1.0, 1.0, 1.0, 1.0, 1.0],\n",
       " 30: [1.0, 1.0],\n",
       " 31: [1.0, 1.0, 1.0, 1.0, 1.0, 1.0, 1.0, 1.0],\n",
       " 32: [1.0, 1.0, 1.0, 1.0],\n",
       " 33: [1.0, 1.0, 1.0, 1.0],\n",
       " 34: [1.0, 1.0, 1.0, 1.0, 1.0, 1.0],\n",
       " 35: [1.0, 1.0, 1.0],\n",
       " 36: [1.0, 1.0, 1.0, 1.0, 1.0, 1.0],\n",
       " 37: [1.0, 1.0, 1.0],\n",
       " 38: [1.0, 1.0, 1.0],\n",
       " 39: [1.0, 1.0],\n",
       " 40: [1.0, 1.0],\n",
       " 41: [1.0, 1.0, 1.0, 1.0, 1.0],\n",
       " 42: [1.0, 1.0, 1.0, 1.0, 1.0, 1.0],\n",
       " 43: [1.0, 1.0, 1.0, 1.0, 1.0, 1.0],\n",
       " 44: [1.0, 1.0, 1.0, 1.0],\n",
       " 45: [1.0, 1.0, 1.0, 1.0, 1.0, 1.0],\n",
       " 46: [1.0, 1.0, 1.0, 1.0],\n",
       " 47: [1.0, 1.0, 1.0, 1.0, 1.0, 1.0, 1.0],\n",
       " 48: [1.0, 1.0, 1.0],\n",
       " 49: [1.0],\n",
       " 50: [1.0, 1.0, 1.0, 1.0, 1.0],\n",
       " 51: [1.0, 1.0, 1.0, 1.0, 1.0],\n",
       " 52: [1.0, 1.0, 1.0, 1.0, 1.0],\n",
       " 53: [1.0, 1.0, 1.0, 1.0, 1.0],\n",
       " 54: [1.0, 1.0, 1.0, 1.0],\n",
       " 55: [1.0, 1.0, 1.0, 1.0, 1.0, 1.0, 1.0, 1.0],\n",
       " 56: [1.0, 1.0, 1.0, 1.0],\n",
       " 57: [1.0, 1.0, 1.0, 1.0, 1.0, 1.0],\n",
       " 58: [1.0, 1.0, 1.0, 1.0, 1.0],\n",
       " 59: [1.0, 1.0, 1.0],\n",
       " 60: [1.0, 1.0, 1.0],\n",
       " 61: [1.0, 1.0, 1.0, 1.0],\n",
       " 62: [1.0, 1.0, 1.0, 1.0, 1.0, 1.0],\n",
       " 63: [1.0, 1.0, 1.0, 1.0],\n",
       " 64: [1.0, 1.0, 1.0],\n",
       " 65: [1.0, 1.0, 1.0, 1.0, 1.0, 1.0],\n",
       " 66: [1.0, 1.0, 1.0, 1.0, 1.0, 1.0],\n",
       " 67: [1.0, 1.0, 1.0, 1.0],\n",
       " 68: [1.0, 1.0, 1.0, 1.0, 1.0, 1.0],\n",
       " 69: [1.0, 1.0],\n",
       " 70: [1.0, 1.0],\n",
       " 71: [1.0, 1.0, 1.0, 1.0, 1.0, 1.0],\n",
       " 72: [1.0, 1.0, 1.0, 1.0, 1.0, 1.0, 1.0, 1.0],\n",
       " 73: [1.0, 1.0, 1.0, 1.0],\n",
       " 74: [1.0, 1.0, 1.0, 1.0, 1.0],\n",
       " 75: [1.0, 1.0, 1.0],\n",
       " 76: [1.0, 1.0, 1.0, 1.0, 1.0, 1.0],\n",
       " 77: [1.0, 1.0],\n",
       " 78: [1.0, 1.0, 1.0, 1.0, 1.0],\n",
       " 79: [1.0, 1.0, 1.0, 1.0],\n",
       " 80: [1.0, 1.0, 1.0, 1.0, 1.0, 1.0]}"
      ]
     },
     "execution_count": 19,
     "metadata": {},
     "output_type": "execute_result"
    }
   ],
   "source": [
    "old_rook.weights"
   ]
  },
  {
   "cell_type": "code",
   "execution_count": 20,
   "id": "b7288be6",
   "metadata": {
    "ExecuteTime": {
     "end_time": "2022-01-17T23:42:17.836637Z",
     "start_time": "2022-01-17T23:42:17.823316Z"
    },
    "scrolled": true
   },
   "outputs": [
    {
     "data": {
      "text/plain": [
       "{0: [1.0, 1.0],\n",
       " 1: [1.0, 1.0, 1.0, 1.0],\n",
       " 2: [1.0],\n",
       " 3: [1.0, 1.0, 1.0],\n",
       " 4: [1.0, 1.0, 1.0],\n",
       " 5: [1.0, 1.0, 1.0, 1.0, 1.0, 1.0],\n",
       " 6: [1.0, 1.0, 1.0, 1.0, 1.0],\n",
       " 7: [1.0, 1.0],\n",
       " 8: [1.0, 1.0],\n",
       " 9: [1.0, 1.0, 1.0, 1.0, 1.0],\n",
       " 10: [1.0, 1.0, 1.0, 1.0, 1.0],\n",
       " 11: [1.0, 1.0, 1.0, 1.0, 1.0],\n",
       " 12: [1.0, 1.0, 1.0, 1.0, 1.0, 1.0],\n",
       " 13: [1.0, 1.0, 1.0, 1.0, 1.0, 1.0],\n",
       " 14: [1.0, 1.0, 1.0, 1.0, 1.0, 1.0, 1.0, 1.0],\n",
       " 15: [1.0, 1.0, 1.0, 1.0, 1.0, 1.0],\n",
       " 16: [1.0, 1.0, 1.0, 1.0],\n",
       " 17: [1.0, 1.0, 1.0, 1.0],\n",
       " 18: [1.0, 1.0, 1.0, 1.0, 1.0],\n",
       " 19: [1.0, 1.0, 1.0, 1.0],\n",
       " 20: [1.0, 1.0, 1.0, 1.0, 1.0, 1.0, 1.0],\n",
       " 21: [1.0, 1.0, 1.0, 1.0, 1.0],\n",
       " 22: [1.0, 1.0],\n",
       " 23: [1.0, 1.0, 1.0, 1.0, 1.0, 1.0, 1.0],\n",
       " 24: [1.0, 1.0, 1.0, 1.0],\n",
       " 25: [1.0, 1.0, 1.0, 1.0, 1.0],\n",
       " 26: [1.0, 1.0, 1.0],\n",
       " 27: [1.0, 1.0, 1.0, 1.0],\n",
       " 28: [1.0, 1.0, 1.0],\n",
       " 29: [1.0, 1.0, 1.0, 1.0, 1.0, 1.0, 1.0],\n",
       " 30: [1.0, 1.0],\n",
       " 31: [1.0, 1.0, 1.0, 1.0, 1.0, 1.0, 1.0, 1.0],\n",
       " 32: [1.0, 1.0, 1.0, 1.0],\n",
       " 33: [1.0, 1.0, 1.0, 1.0, 1.0, 1.0],\n",
       " 34: [1.0, 1.0, 1.0, 1.0, 1.0, 1.0],\n",
       " 35: [1.0, 1.0, 1.0, 1.0],\n",
       " 36: [1.0, 1.0, 1.0, 1.0, 1.0, 1.0],\n",
       " 37: [1.0, 1.0, 1.0],\n",
       " 38: [1.0, 1.0, 1.0],\n",
       " 39: [1.0, 1.0],\n",
       " 40: [1.0, 1.0],\n",
       " 41: [1.0, 1.0, 1.0, 1.0, 1.0],\n",
       " 42: [1.0, 1.0, 1.0, 1.0, 1.0, 1.0],\n",
       " 43: [1.0, 1.0, 1.0, 1.0, 1.0, 1.0],\n",
       " 44: [1.0, 1.0, 1.0, 1.0],\n",
       " 45: [1.0, 1.0, 1.0, 1.0, 1.0, 1.0],\n",
       " 46: [1.0, 1.0, 1.0, 1.0],\n",
       " 47: [1.0, 1.0, 1.0, 1.0, 1.0, 1.0, 1.0],\n",
       " 48: [1.0, 1.0, 1.0],\n",
       " 49: [1.0],\n",
       " 50: [1.0, 1.0, 1.0, 1.0, 1.0],\n",
       " 51: [1.0, 1.0, 1.0, 1.0, 1.0],\n",
       " 52: [1.0, 1.0, 1.0, 1.0, 1.0],\n",
       " 53: [1.0, 1.0, 1.0, 1.0, 1.0],\n",
       " 54: [1.0, 1.0, 1.0, 1.0],\n",
       " 55: [1.0, 1.0, 1.0, 1.0, 1.0, 1.0, 1.0, 1.0],\n",
       " 56: [1.0, 1.0, 1.0, 1.0],\n",
       " 57: [1.0, 1.0, 1.0, 1.0, 1.0, 1.0],\n",
       " 58: [1.0, 1.0, 1.0, 1.0, 1.0],\n",
       " 59: [1.0, 1.0, 1.0],\n",
       " 60: [1.0, 1.0, 1.0],\n",
       " 61: [1.0, 1.0, 1.0, 1.0, 1.0, 1.0],\n",
       " 62: [1.0, 1.0, 1.0, 1.0, 1.0, 1.0],\n",
       " 63: [1.0, 1.0, 1.0, 1.0],\n",
       " 64: [1.0, 1.0, 1.0],\n",
       " 65: [1.0, 1.0, 1.0, 1.0, 1.0, 1.0],\n",
       " 66: [1.0, 1.0, 1.0, 1.0, 1.0, 1.0],\n",
       " 67: [1.0, 1.0, 1.0, 1.0],\n",
       " 68: [1.0, 1.0, 1.0, 1.0, 1.0, 1.0],\n",
       " 69: [1.0, 1.0],\n",
       " 70: [1.0, 1.0],\n",
       " 71: [1.0, 1.0, 1.0, 1.0, 1.0, 1.0],\n",
       " 72: [1.0, 1.0, 1.0, 1.0, 1.0, 1.0, 1.0, 1.0],\n",
       " 73: [1.0, 1.0, 1.0, 1.0, 1.0, 1.0, 1.0, 1.0],\n",
       " 74: [1.0, 1.0, 1.0, 1.0, 1.0],\n",
       " 75: [1.0, 1.0, 1.0],\n",
       " 76: [1.0, 1.0, 1.0, 1.0, 1.0, 1.0],\n",
       " 77: [1.0, 1.0],\n",
       " 78: [1.0, 1.0, 1.0, 1.0, 1.0],\n",
       " 79: [1.0, 1.0, 1.0, 1.0],\n",
       " 80: [1.0, 1.0, 1.0, 1.0, 1.0, 1.0]}"
      ]
     },
     "execution_count": 20,
     "metadata": {},
     "output_type": "execute_result"
    }
   ],
   "source": [
    "new_rook.weights"
   ]
  },
  {
   "cell_type": "markdown",
   "id": "750f6685",
   "metadata": {},
   "source": [
    "### number of neighbors for each observation\n"
   ]
  },
  {
   "cell_type": "code",
   "execution_count": 21,
   "id": "b86c2a58",
   "metadata": {
    "ExecuteTime": {
     "end_time": "2022-01-17T23:42:17.845100Z",
     "start_time": "2022-01-17T23:42:17.838674Z"
    },
    "scrolled": true
   },
   "outputs": [
    {
     "data": {
      "text/plain": [
       "{0: 2,\n",
       " 1: 2,\n",
       " 2: 1,\n",
       " 3: 3,\n",
       " 4: 3,\n",
       " 5: 4,\n",
       " 6: 4,\n",
       " 7: 2,\n",
       " 8: 2,\n",
       " 9: 5,\n",
       " 10: 5,\n",
       " 11: 5,\n",
       " 12: 6,\n",
       " 13: 6,\n",
       " 14: 8,\n",
       " 15: 6,\n",
       " 16: 4,\n",
       " 17: 4,\n",
       " 18: 4,\n",
       " 19: 4,\n",
       " 20: 7,\n",
       " 21: 5,\n",
       " 22: 2,\n",
       " 23: 7,\n",
       " 24: 4,\n",
       " 25: 3,\n",
       " 26: 3,\n",
       " 27: 3,\n",
       " 28: 3,\n",
       " 29: 7,\n",
       " 30: 2,\n",
       " 31: 8,\n",
       " 32: 4,\n",
       " 33: 4,\n",
       " 34: 6,\n",
       " 35: 3,\n",
       " 36: 6,\n",
       " 37: 3,\n",
       " 38: 3,\n",
       " 39: 2,\n",
       " 40: 2,\n",
       " 41: 5,\n",
       " 42: 6,\n",
       " 43: 6,\n",
       " 44: 4,\n",
       " 45: 6,\n",
       " 46: 4,\n",
       " 47: 7,\n",
       " 48: 3,\n",
       " 49: 1,\n",
       " 50: 5,\n",
       " 51: 5,\n",
       " 52: 5,\n",
       " 53: 5,\n",
       " 54: 4,\n",
       " 55: 8,\n",
       " 56: 4,\n",
       " 57: 6,\n",
       " 58: 5,\n",
       " 59: 3,\n",
       " 60: 3,\n",
       " 61: 4,\n",
       " 62: 6,\n",
       " 63: 4,\n",
       " 64: 3,\n",
       " 65: 6,\n",
       " 66: 6,\n",
       " 67: 4,\n",
       " 68: 6,\n",
       " 69: 2,\n",
       " 70: 2,\n",
       " 71: 6,\n",
       " 72: 8,\n",
       " 73: 4,\n",
       " 74: 5,\n",
       " 75: 3,\n",
       " 76: 6,\n",
       " 77: 2,\n",
       " 78: 5,\n",
       " 79: 4,\n",
       " 80: 6}"
      ]
     },
     "execution_count": 21,
     "metadata": {},
     "output_type": "execute_result"
    }
   ],
   "source": [
    "old_rook.cardinalities"
   ]
  },
  {
   "cell_type": "code",
   "execution_count": 22,
   "id": "3ca604fb",
   "metadata": {
    "ExecuteTime": {
     "end_time": "2022-01-17T23:42:17.855001Z",
     "start_time": "2022-01-17T23:42:17.847193Z"
    },
    "scrolled": true
   },
   "outputs": [
    {
     "data": {
      "text/plain": [
       "{0: 2,\n",
       " 1: 4,\n",
       " 2: 1,\n",
       " 3: 3,\n",
       " 4: 3,\n",
       " 5: 6,\n",
       " 6: 5,\n",
       " 7: 2,\n",
       " 8: 2,\n",
       " 9: 5,\n",
       " 10: 5,\n",
       " 11: 5,\n",
       " 12: 6,\n",
       " 13: 6,\n",
       " 14: 8,\n",
       " 15: 6,\n",
       " 16: 4,\n",
       " 17: 4,\n",
       " 18: 5,\n",
       " 19: 4,\n",
       " 20: 7,\n",
       " 21: 5,\n",
       " 22: 2,\n",
       " 23: 7,\n",
       " 24: 4,\n",
       " 25: 5,\n",
       " 26: 3,\n",
       " 27: 4,\n",
       " 28: 3,\n",
       " 29: 7,\n",
       " 30: 2,\n",
       " 31: 8,\n",
       " 32: 4,\n",
       " 33: 6,\n",
       " 34: 6,\n",
       " 35: 4,\n",
       " 36: 6,\n",
       " 37: 3,\n",
       " 38: 3,\n",
       " 39: 2,\n",
       " 40: 2,\n",
       " 41: 5,\n",
       " 42: 6,\n",
       " 43: 6,\n",
       " 44: 4,\n",
       " 45: 6,\n",
       " 46: 4,\n",
       " 47: 7,\n",
       " 48: 3,\n",
       " 49: 1,\n",
       " 50: 5,\n",
       " 51: 5,\n",
       " 52: 5,\n",
       " 53: 5,\n",
       " 54: 4,\n",
       " 55: 8,\n",
       " 56: 4,\n",
       " 57: 6,\n",
       " 58: 5,\n",
       " 59: 3,\n",
       " 60: 3,\n",
       " 61: 6,\n",
       " 62: 6,\n",
       " 63: 4,\n",
       " 64: 3,\n",
       " 65: 6,\n",
       " 66: 6,\n",
       " 67: 4,\n",
       " 68: 6,\n",
       " 69: 2,\n",
       " 70: 2,\n",
       " 71: 6,\n",
       " 72: 8,\n",
       " 73: 8,\n",
       " 74: 5,\n",
       " 75: 3,\n",
       " 76: 6,\n",
       " 77: 2,\n",
       " 78: 5,\n",
       " 79: 4,\n",
       " 80: 6}"
      ]
     },
     "execution_count": 22,
     "metadata": {},
     "output_type": "execute_result"
    }
   ],
   "source": [
    "new_rook.cardinalities"
   ]
  },
  {
   "cell_type": "markdown",
   "id": "ff33385e",
   "metadata": {},
   "source": [
    "### overview of the distribution of the cardinalities\n",
    "The cardinalities and histogram attributes help quickly spot asymmetries in the number of neighbors"
   ]
  },
  {
   "cell_type": "code",
   "execution_count": 23,
   "id": "5236b1e8",
   "metadata": {
    "ExecuteTime": {
     "end_time": "2022-01-17T23:42:17.866660Z",
     "start_time": "2022-01-17T23:42:17.858900Z"
    }
   },
   "outputs": [
    {
     "data": {
      "text/plain": [
       "[(1, 2), (2, 11), (3, 14), (4, 18), (5, 12), (6, 16), (7, 4), (8, 4)]"
      ]
     },
     "execution_count": 23,
     "metadata": {},
     "output_type": "execute_result"
    }
   ],
   "source": [
    "old_rook.histogram"
   ]
  },
  {
   "cell_type": "code",
   "execution_count": 24,
   "id": "a456073e",
   "metadata": {
    "ExecuteTime": {
     "end_time": "2022-01-17T23:42:17.878390Z",
     "start_time": "2022-01-17T23:42:17.870955Z"
    }
   },
   "outputs": [
    {
     "data": {
      "text/plain": [
       "[(1, 2), (2, 10), (3, 11), (4, 15), (5, 15), (6, 19), (7, 4), (8, 5)]"
      ]
     },
     "execution_count": 24,
     "metadata": {},
     "output_type": "execute_result"
    }
   ],
   "source": [
    "new_rook.histogram"
   ]
  },
  {
   "cell_type": "code",
   "execution_count": 25,
   "id": "71bc207e",
   "metadata": {
    "ExecuteTime": {
     "end_time": "2022-01-17T23:42:18.727211Z",
     "start_time": "2022-01-17T23:42:17.881230Z"
    }
   },
   "outputs": [
    {
     "data": {
      "image/png": "[encoded data removed]",
      "text/plain": [
       "<Figure size 432x288 with 1 Axes>"
      ]
     },
     "metadata": {
      "needs_background": "light"
     },
     "output_type": "display_data"
    }
   ],
   "source": [
    "pd.Series(old_rook.cardinalities).plot.hist(color='k');"
   ]
  },
  {
   "cell_type": "code",
   "execution_count": 26,
   "id": "3603d98a",
   "metadata": {
    "ExecuteTime": {
     "end_time": "2022-01-17T23:42:18.871751Z",
     "start_time": "2022-01-17T23:42:18.728972Z"
    }
   },
   "outputs": [
    {
     "data": {
      "image/png": "[encoded data removed]",
      "text/plain": [
       "<Figure size 432x288 with 1 Axes>"
      ]
     },
     "metadata": {
      "needs_background": "light"
     },
     "output_type": "display_data"
    }
   ],
   "source": [
    "pd.Series(new_rook.cardinalities).plot.hist(color='k');"
   ]
  },
  {
   "cell_type": "code",
   "execution_count": 27,
   "id": "e6c2f130",
   "metadata": {
    "ExecuteTime": {
     "end_time": "2022-01-17T23:42:19.045531Z",
     "start_time": "2022-01-17T23:42:18.873676Z"
    }
   },
   "outputs": [
    {
     "data": {
      "text/plain": [
       "<AxesSubplot:ylabel='Frequency'>"
      ]
     },
     "execution_count": 27,
     "metadata": {},
     "output_type": "execute_result"
    },
    {
     "data": {
      "image/png": "[encoded data removed]",
      "text/plain": [
       "<Figure size 432x288 with 1 Axes>"
      ]
     },
     "metadata": {
      "needs_background": "light"
     },
     "output_type": "display_data"
    }
   ],
   "source": [
    "pd.Series(old_rook.cardinalities).plot.hist(color='r', alpha=0.5)\n",
    "pd.Series(new_rook.cardinalities).plot.hist(color='b', alpha=.5)  "
   ]
  },
  {
   "cell_type": "code",
   "execution_count": 28,
   "id": "4bc18b74",
   "metadata": {
    "ExecuteTime": {
     "end_time": "2022-01-17T23:42:19.059029Z",
     "start_time": "2022-01-17T23:42:19.054842Z"
    }
   },
   "outputs": [],
   "source": [
    "%matplotlib inline\n",
    "import matplotlib.pyplot as plt\n",
    "import warnings\n",
    "warnings.filterwarnings(\"ignore\")"
   ]
  },
  {
   "cell_type": "code",
   "execution_count": 29,
   "id": "8e6c701f",
   "metadata": {
    "ExecuteTime": {
     "end_time": "2022-01-17T23:42:29.990290Z",
     "start_time": "2022-01-17T23:42:19.061258Z"
    },
    "scrolled": true
   },
   "outputs": [
    {
     "data": {
      "image/png": "[encoded data removed]",
      "text/plain": [
       "<Figure size 1152x1152 with 2 Axes>"
      ]
     },
     "metadata": {
      "needs_background": "light"
     },
     "output_type": "display_data"
    }
   ],
   "source": [
    "f,ax = plt.subplots(1,2,figsize=(16, 16), subplot_kw=dict(aspect='equal'))\n",
    "old.plot(edgecolor='grey', facecolor='w', ax=ax[0])\n",
    "old_rook.plot(old, ax=ax[0],\n",
    "        edge_kws=dict(color='r', linestyle=':', linewidth=1),\n",
    "        node_kws=dict(marker=''))\n",
    "ax[0].set_title('Old Rook')\n",
    "\n",
    "ax[0].axis('off')\n",
    "new.plot(edgecolor='grey', facecolor='w', ax=ax[1])\n",
    "new_rook.plot(new, ax=ax[1],\n",
    "        edge_kws=dict(color='r', linestyle=':', linewidth=1),\n",
    "        node_kws=dict(marker=''))\n",
    "ax[1].set_title('New Rook')\n",
    "\n",
    "# remove the axis\n",
    "ax[1].set_axis_off()"
   ]
  },
  {
   "cell_type": "markdown",
   "id": "db4a3224",
   "metadata": {},
   "source": [
    "# Queen Contiguity"
   ]
  },
  {
   "cell_type": "code",
   "execution_count": 30,
   "id": "4b392413",
   "metadata": {
    "ExecuteTime": {
     "end_time": "2022-01-17T23:42:42.659132Z",
     "start_time": "2022-01-17T23:42:29.992020Z"
    }
   },
   "outputs": [],
   "source": [
    "old_queen = Queen.from_dataframe(old) # creating our old queen df"
   ]
  },
  {
   "cell_type": "code",
   "execution_count": 31,
   "id": "ce180ba9",
   "metadata": {
    "ExecuteTime": {
     "end_time": "2022-01-17T23:42:42.666283Z",
     "start_time": "2022-01-17T23:42:42.660352Z"
    }
   },
   "outputs": [
    {
     "data": {
      "text/plain": [
       "81"
      ]
     },
     "execution_count": 31,
     "metadata": {},
     "output_type": "execute_result"
    }
   ],
   "source": [
    "old_queen.n"
   ]
  },
  {
   "cell_type": "code",
   "execution_count": 32,
   "id": "225ac4ea",
   "metadata": {
    "ExecuteTime": {
     "end_time": "2022-01-17T23:42:56.958341Z",
     "start_time": "2022-01-17T23:42:42.668863Z"
    }
   },
   "outputs": [],
   "source": [
    "new_queen = Queen.from_dataframe(new) # creating our new queen df"
   ]
  },
  {
   "cell_type": "code",
   "execution_count": 33,
   "id": "e16cda2f",
   "metadata": {
    "ExecuteTime": {
     "end_time": "2022-01-17T23:42:56.976354Z",
     "start_time": "2022-01-17T23:42:56.962732Z"
    }
   },
   "outputs": [
    {
     "data": {
      "text/plain": [
       "81"
      ]
     },
     "execution_count": 33,
     "metadata": {},
     "output_type": "execute_result"
    }
   ],
   "source": [
    "new_queen.n"
   ]
  },
  {
   "cell_type": "code",
   "execution_count": 34,
   "id": "60e96e72",
   "metadata": {
    "ExecuteTime": {
     "end_time": "2022-01-17T23:42:56.988199Z",
     "start_time": "2022-01-17T23:42:56.981361Z"
    }
   },
   "outputs": [
    {
     "data": {
      "text/plain": [
       "True"
      ]
     },
     "execution_count": 34,
     "metadata": {},
     "output_type": "execute_result"
    }
   ],
   "source": [
    "old_queen.n == old_rook.n"
   ]
  },
  {
   "cell_type": "code",
   "execution_count": 35,
   "id": "bb000785",
   "metadata": {
    "ExecuteTime": {
     "end_time": "2022-01-17T23:42:56.998928Z",
     "start_time": "2022-01-17T23:42:56.991992Z"
    }
   },
   "outputs": [
    {
     "data": {
      "text/plain": [
       "True"
      ]
     },
     "execution_count": 35,
     "metadata": {},
     "output_type": "execute_result"
    }
   ],
   "source": [
    "new_queen.n == new_rook.n"
   ]
  },
  {
   "cell_type": "markdown",
   "id": "85983e1b",
   "metadata": {},
   "source": [
    "### non-zero entries\n"
   ]
  },
  {
   "cell_type": "code",
   "execution_count": 36,
   "id": "dd065483",
   "metadata": {
    "ExecuteTime": {
     "end_time": "2022-01-17T23:42:57.019742Z",
     "start_time": "2022-01-17T23:42:57.010602Z"
    }
   },
   "outputs": [
    {
     "data": {
      "text/plain": [
       "358"
      ]
     },
     "execution_count": 36,
     "metadata": {},
     "output_type": "execute_result"
    }
   ],
   "source": [
    "old_queen.nonzero"
   ]
  },
  {
   "cell_type": "code",
   "execution_count": 37,
   "id": "a032b3f5",
   "metadata": {
    "ExecuteTime": {
     "end_time": "2022-01-17T23:42:57.029615Z",
     "start_time": "2022-01-17T23:42:57.024273Z"
    }
   },
   "outputs": [
    {
     "data": {
      "text/plain": [
       "376"
      ]
     },
     "execution_count": 37,
     "metadata": {},
     "output_type": "execute_result"
    }
   ],
   "source": [
    "new_queen.nonzero"
   ]
  },
  {
   "cell_type": "markdown",
   "id": "7001f8e5",
   "metadata": {},
   "source": [
    "### number of joins\n"
   ]
  },
  {
   "cell_type": "code",
   "execution_count": 38,
   "id": "afd6ecad",
   "metadata": {
    "ExecuteTime": {
     "end_time": "2022-01-17T23:42:57.042342Z",
     "start_time": "2022-01-17T23:42:57.034201Z"
    }
   },
   "outputs": [
    {
     "data": {
      "text/plain": [
       "358.0"
      ]
     },
     "execution_count": 38,
     "metadata": {},
     "output_type": "execute_result"
    }
   ],
   "source": [
    "old_queen.s0"
   ]
  },
  {
   "cell_type": "code",
   "execution_count": 39,
   "id": "290dc4ce",
   "metadata": {
    "ExecuteTime": {
     "end_time": "2022-01-17T23:42:57.049615Z",
     "start_time": "2022-01-17T23:42:57.044427Z"
    }
   },
   "outputs": [
    {
     "data": {
      "text/plain": [
       "376.0"
      ]
     },
     "execution_count": 39,
     "metadata": {},
     "output_type": "execute_result"
    }
   ],
   "source": [
    "new_queen.s0"
   ]
  },
  {
   "cell_type": "markdown",
   "id": "ea3a054d",
   "metadata": {},
   "source": [
    "### measure of the density of the spatial weights matrix\n"
   ]
  },
  {
   "cell_type": "code",
   "execution_count": 40,
   "id": "001debba",
   "metadata": {
    "ExecuteTime": {
     "end_time": "2022-01-17T23:42:57.055518Z",
     "start_time": "2022-01-17T23:42:57.051741Z"
    }
   },
   "outputs": [
    {
     "data": {
      "text/plain": [
       "5.4564852918762385"
      ]
     },
     "execution_count": 40,
     "metadata": {},
     "output_type": "execute_result"
    }
   ],
   "source": [
    "old_queen.pct_nonzero"
   ]
  },
  {
   "cell_type": "code",
   "execution_count": 41,
   "id": "cc2c184e",
   "metadata": {
    "ExecuteTime": {
     "end_time": "2022-01-17T23:42:57.062959Z",
     "start_time": "2022-01-17T23:42:57.057997Z"
    }
   },
   "outputs": [
    {
     "data": {
      "text/plain": [
       "5.730833714372809"
      ]
     },
     "execution_count": 41,
     "metadata": {},
     "output_type": "execute_result"
    }
   ],
   "source": [
    "new_queen.pct_nonzero"
   ]
  },
  {
   "cell_type": "markdown",
   "id": "faf8ab85",
   "metadata": {},
   "source": [
    "### location 0 has the following neighbors\n"
   ]
  },
  {
   "cell_type": "code",
   "execution_count": 42,
   "id": "09c5c5e0",
   "metadata": {
    "ExecuteTime": {
     "end_time": "2022-01-17T23:42:57.073402Z",
     "start_time": "2022-01-17T23:42:57.068067Z"
    }
   },
   "outputs": [
    {
     "data": {
      "text/plain": [
       "[13, 31]"
      ]
     },
     "execution_count": 42,
     "metadata": {},
     "output_type": "execute_result"
    }
   ],
   "source": [
    "old_queen.neighbors[0]"
   ]
  },
  {
   "cell_type": "code",
   "execution_count": 43,
   "id": "a73215aa",
   "metadata": {
    "ExecuteTime": {
     "end_time": "2022-01-17T23:42:57.080631Z",
     "start_time": "2022-01-17T23:42:57.075723Z"
    }
   },
   "outputs": [
    {
     "data": {
      "text/plain": [
       "[13, 31]"
      ]
     },
     "execution_count": 43,
     "metadata": {},
     "output_type": "execute_result"
    }
   ],
   "source": [
    "new_queen.neighbors[0]"
   ]
  },
  {
   "cell_type": "markdown",
   "id": "7c4e1fa4",
   "metadata": {},
   "source": [
    "### neighbors for each observation\n"
   ]
  },
  {
   "cell_type": "code",
   "execution_count": 44,
   "id": "c332934b",
   "metadata": {
    "ExecuteTime": {
     "end_time": "2022-01-17T23:42:57.102648Z",
     "start_time": "2022-01-17T23:42:57.084058Z"
    },
    "scrolled": true
   },
   "outputs": [
    {
     "data": {
      "text/plain": [
       "{0: [13, 31],\n",
       " 1: [25, 2],\n",
       " 2: [1],\n",
       " 3: [26, 22, 30],\n",
       " 4: [26, 19, 29],\n",
       " 5: [24, 9, 6, 25],\n",
       " 6: [9, 18, 5, 31],\n",
       " 7: [13, 15],\n",
       " 8: [16, 14],\n",
       " 9: [17, 5, 6, 24, 31],\n",
       " 10: [21, 23, 15, 13, 31],\n",
       " 11: [16, 19, 20, 14, 15],\n",
       " 12: [20, 21, 23, 28, 29, 14],\n",
       " 13: [0, 17, 7, 10, 15, 31],\n",
       " 14: [8, 11, 12, 15, 16, 20, 21, 28],\n",
       " 15: [21, 7, 10, 11, 13, 14],\n",
       " 16: [8, 11, 20, 14],\n",
       " 17: [24, 9, 13, 31],\n",
       " 18: [27, 31, 6, 23],\n",
       " 19: [29, 11, 4, 20],\n",
       " 20: [16, 29, 19, 11, 12, 28, 14],\n",
       " 21: [23, 10, 12, 14, 15],\n",
       " 22: [3, 30],\n",
       " 23: [18, 21, 10, 27, 12, 29, 31],\n",
       " 24: [17, 5, 9, 25],\n",
       " 25: [24, 1, 5],\n",
       " 26: [3, 4, 29],\n",
       " 27: [18, 29, 23],\n",
       " 28: [20, 12, 14],\n",
       " 29: [19, 4, 20, 23, 26, 27, 12],\n",
       " 30: [3, 22],\n",
       " 31: [0, 6, 9, 10, 13, 17, 18, 23],\n",
       " 32: [72, 41, 40, 54],\n",
       " 33: [35, 36, 58, 74, 61],\n",
       " 34: [48, 66, 54, 55, 72, 73],\n",
       " 35: [33, 58, 67],\n",
       " 36: [80, 33, 66, 57, 74, 61, 46],\n",
       " 37: [51, 69, 62],\n",
       " 38: [50, 68, 60],\n",
       " 39: [50, 76],\n",
       " 40: [32, 41],\n",
       " 41: [32, 70, 40, 72, 63],\n",
       " 42: [80, 67, 58, 56, 74, 77],\n",
       " 43: [47, 52, 55, 44, 45, 79],\n",
       " 44: [65, 43, 52, 47],\n",
       " 45: [53, 55, 71, 57, 43, 79],\n",
       " 46: [57, 66, 36, 55],\n",
       " 47: [65, 55, 72, 43, 44, 78, 76],\n",
       " 48: [73, 34, 54],\n",
       " 49: [59],\n",
       " 50: [68, 38, 39, 76, 78],\n",
       " 51: [69, 37, 59, 75, 62],\n",
       " 52: [65, 53, 43, 44, 79],\n",
       " 53: [64, 52, 71, 45, 79],\n",
       " 54: [32, 48, 72, 34],\n",
       " 55: [34, 66, 72, 43, 45, 46, 47, 57],\n",
       " 56: [80, 42, 64, 71],\n",
       " 57: [80, 36, 55, 71, 45, 46],\n",
       " 58: [33, 67, 35, 42, 74],\n",
       " 59: [49, 75, 51],\n",
       " 60: [62, 68, 38],\n",
       " 61: [33, 66, 36, 73, 74],\n",
       " 62: [65, 51, 68, 37, 75, 60],\n",
       " 63: [72, 41, 76, 70],\n",
       " 64: [56, 53, 71],\n",
       " 65: [68, 52, 62, 44, 78, 47],\n",
       " 66: [34, 36, 55, 73, 61, 46],\n",
       " 67: [42, 35, 58, 77],\n",
       " 68: [65, 50, 38, 78, 60, 62],\n",
       " 69: [51, 37],\n",
       " 70: [41, 63],\n",
       " 71: [64, 80, 53, 56, 57, 45],\n",
       " 72: [32, 34, 41, 76, 47, 54, 55, 63],\n",
       " 73: [48, 34, 61, 66],\n",
       " 74: [80, 33, 36, 42, 58, 61],\n",
       " 75: [59, 51, 62],\n",
       " 76: [50, 39, 72, 63, 78, 47],\n",
       " 77: [42, 67],\n",
       " 78: [65, 50, 68, 76, 47],\n",
       " 79: [45, 43, 52, 53],\n",
       " 80: [36, 74, 71, 56, 57, 42]}"
      ]
     },
     "execution_count": 44,
     "metadata": {},
     "output_type": "execute_result"
    }
   ],
   "source": [
    "old_queen.neighbors"
   ]
  },
  {
   "cell_type": "code",
   "execution_count": 45,
   "id": "7ec50519",
   "metadata": {
    "ExecuteTime": {
     "end_time": "2022-01-17T23:42:57.121607Z",
     "start_time": "2022-01-17T23:42:57.104844Z"
    },
    "scrolled": true
   },
   "outputs": [
    {
     "data": {
      "text/plain": [
       "{0: [13, 31],\n",
       " 1: [33, 2, 35, 25],\n",
       " 2: [1],\n",
       " 3: [26, 22, 30],\n",
       " 4: [26, 19, 29],\n",
       " 5: [6, 9, 24, 73, 61, 25],\n",
       " 6: [18, 5, 73, 9, 31],\n",
       " 7: [13, 15],\n",
       " 8: [16, 14],\n",
       " 9: [17, 5, 6, 24, 31],\n",
       " 10: [21, 23, 15, 13, 31],\n",
       " 11: [16, 19, 20, 14, 15],\n",
       " 12: [20, 21, 23, 28, 29, 14],\n",
       " 13: [0, 17, 7, 10, 15, 31],\n",
       " 14: [8, 11, 12, 15, 16, 20, 21, 28],\n",
       " 15: [21, 7, 10, 11, 13, 14],\n",
       " 16: [8, 11, 20, 14],\n",
       " 17: [24, 9, 13, 31],\n",
       " 18: [6, 23, 73, 27, 31],\n",
       " 19: [29, 11, 4, 20],\n",
       " 20: [16, 29, 19, 11, 12, 28, 14],\n",
       " 21: [23, 10, 12, 14, 15],\n",
       " 22: [3, 30],\n",
       " 23: [18, 21, 10, 27, 12, 29, 31],\n",
       " 24: [17, 5, 9, 25],\n",
       " 25: [1, 33, 5, 24, 61],\n",
       " 26: [3, 4, 29],\n",
       " 27: [73, 18, 29, 23],\n",
       " 28: [20, 12, 14],\n",
       " 29: [19, 4, 20, 23, 26, 27, 12],\n",
       " 30: [3, 22],\n",
       " 31: [0, 6, 9, 10, 13, 17, 18, 23],\n",
       " 32: [72, 41, 40, 54],\n",
       " 33: [1, 35, 36, 58, 25, 74, 61],\n",
       " 34: [48, 66, 54, 55, 72, 73],\n",
       " 35: [1, 58, 67, 33],\n",
       " 36: [80, 33, 66, 57, 74, 61, 46],\n",
       " 37: [51, 69, 62],\n",
       " 38: [50, 68, 60],\n",
       " 39: [50, 76],\n",
       " 40: [32, 41],\n",
       " 41: [32, 70, 40, 72, 63],\n",
       " 42: [80, 67, 58, 56, 74, 77],\n",
       " 43: [47, 52, 55, 44, 45, 79],\n",
       " 44: [65, 43, 52, 47],\n",
       " 45: [53, 55, 71, 57, 43, 79],\n",
       " 46: [57, 66, 36, 55],\n",
       " 47: [65, 55, 72, 43, 44, 78, 76],\n",
       " 48: [73, 34, 54],\n",
       " 49: [59],\n",
       " 50: [68, 38, 39, 76, 78],\n",
       " 51: [69, 37, 59, 75, 62],\n",
       " 52: [65, 53, 43, 44, 79],\n",
       " 53: [64, 52, 71, 45, 79],\n",
       " 54: [32, 48, 72, 34],\n",
       " 55: [34, 66, 72, 43, 45, 46, 47, 57],\n",
       " 56: [80, 42, 64, 71],\n",
       " 57: [80, 36, 55, 71, 45, 46],\n",
       " 58: [33, 67, 35, 42, 74],\n",
       " 59: [49, 75, 51],\n",
       " 60: [62, 68, 38],\n",
       " 61: [33, 66, 36, 5, 73, 74, 25],\n",
       " 62: [65, 51, 68, 37, 75, 60],\n",
       " 63: [72, 41, 76, 70],\n",
       " 64: [56, 53, 71],\n",
       " 65: [68, 52, 62, 44, 78, 47],\n",
       " 66: [34, 36, 55, 73, 61, 46],\n",
       " 67: [42, 35, 58, 77],\n",
       " 68: [65, 50, 38, 78, 60, 62],\n",
       " 69: [51, 37],\n",
       " 70: [41, 63],\n",
       " 71: [64, 80, 53, 56, 57, 45],\n",
       " 72: [32, 34, 41, 76, 47, 54, 55, 63],\n",
       " 73: [34, 66, 5, 6, 48, 18, 27, 61],\n",
       " 74: [80, 33, 36, 42, 58, 61],\n",
       " 75: [59, 51, 62],\n",
       " 76: [50, 39, 72, 63, 78, 47],\n",
       " 77: [42, 67],\n",
       " 78: [65, 50, 68, 76, 47],\n",
       " 79: [45, 43, 52, 53],\n",
       " 80: [36, 74, 71, 56, 57, 42]}"
      ]
     },
     "execution_count": 45,
     "metadata": {},
     "output_type": "execute_result"
    }
   ],
   "source": [
    "new_queen.neighbors"
   ]
  },
  {
   "cell_type": "markdown",
   "id": "5b3a80f9",
   "metadata": {},
   "source": [
    "### full neighbor matrix\n"
   ]
  },
  {
   "cell_type": "code",
   "execution_count": 46,
   "id": "523170d4",
   "metadata": {
    "ExecuteTime": {
     "end_time": "2022-01-17T23:42:57.147164Z",
     "start_time": "2022-01-17T23:42:57.123647Z"
    }
   },
   "outputs": [
    {
     "data": {
      "text/html": [
       "<div>\n",
       "<style scoped>\n",
       "    .dataframe tbody tr th:only-of-type {\n",
       "        vertical-align: middle;\n",
       "    }\n",
       "\n",
       "    .dataframe tbody tr th {\n",
       "        vertical-align: top;\n",
       "    }\n",
       "\n",
       "    .dataframe thead th {\n",
       "        text-align: right;\n",
       "    }\n",
       "</style>\n",
       "<table border=\"1\" class=\"dataframe\">\n",
       "  <thead>\n",
       "    <tr style=\"text-align: right;\">\n",
       "      <th></th>\n",
       "      <th>0</th>\n",
       "      <th>1</th>\n",
       "      <th>2</th>\n",
       "      <th>3</th>\n",
       "      <th>4</th>\n",
       "      <th>5</th>\n",
       "      <th>6</th>\n",
       "      <th>7</th>\n",
       "      <th>8</th>\n",
       "      <th>9</th>\n",
       "      <th>...</th>\n",
       "      <th>71</th>\n",
       "      <th>72</th>\n",
       "      <th>73</th>\n",
       "      <th>74</th>\n",
       "      <th>75</th>\n",
       "      <th>76</th>\n",
       "      <th>77</th>\n",
       "      <th>78</th>\n",
       "      <th>79</th>\n",
       "      <th>80</th>\n",
       "    </tr>\n",
       "  </thead>\n",
       "  <tbody>\n",
       "    <tr>\n",
       "      <th>0</th>\n",
       "      <td>0</td>\n",
       "      <td>0</td>\n",
       "      <td>0</td>\n",
       "      <td>0</td>\n",
       "      <td>0</td>\n",
       "      <td>0</td>\n",
       "      <td>0</td>\n",
       "      <td>0</td>\n",
       "      <td>0</td>\n",
       "      <td>0</td>\n",
       "      <td>...</td>\n",
       "      <td>0</td>\n",
       "      <td>0</td>\n",
       "      <td>0</td>\n",
       "      <td>0</td>\n",
       "      <td>0</td>\n",
       "      <td>0</td>\n",
       "      <td>0</td>\n",
       "      <td>0</td>\n",
       "      <td>0</td>\n",
       "      <td>0</td>\n",
       "    </tr>\n",
       "    <tr>\n",
       "      <th>1</th>\n",
       "      <td>0</td>\n",
       "      <td>0</td>\n",
       "      <td>1</td>\n",
       "      <td>0</td>\n",
       "      <td>0</td>\n",
       "      <td>0</td>\n",
       "      <td>0</td>\n",
       "      <td>0</td>\n",
       "      <td>0</td>\n",
       "      <td>0</td>\n",
       "      <td>...</td>\n",
       "      <td>0</td>\n",
       "      <td>0</td>\n",
       "      <td>0</td>\n",
       "      <td>0</td>\n",
       "      <td>0</td>\n",
       "      <td>0</td>\n",
       "      <td>0</td>\n",
       "      <td>0</td>\n",
       "      <td>0</td>\n",
       "      <td>0</td>\n",
       "    </tr>\n",
       "    <tr>\n",
       "      <th>2</th>\n",
       "      <td>0</td>\n",
       "      <td>1</td>\n",
       "      <td>0</td>\n",
       "      <td>0</td>\n",
       "      <td>0</td>\n",
       "      <td>0</td>\n",
       "      <td>0</td>\n",
       "      <td>0</td>\n",
       "      <td>0</td>\n",
       "      <td>0</td>\n",
       "      <td>...</td>\n",
       "      <td>0</td>\n",
       "      <td>0</td>\n",
       "      <td>0</td>\n",
       "      <td>0</td>\n",
       "      <td>0</td>\n",
       "      <td>0</td>\n",
       "      <td>0</td>\n",
       "      <td>0</td>\n",
       "      <td>0</td>\n",
       "      <td>0</td>\n",
       "    </tr>\n",
       "    <tr>\n",
       "      <th>3</th>\n",
       "      <td>0</td>\n",
       "      <td>0</td>\n",
       "      <td>0</td>\n",
       "      <td>0</td>\n",
       "      <td>0</td>\n",
       "      <td>0</td>\n",
       "      <td>0</td>\n",
       "      <td>0</td>\n",
       "      <td>0</td>\n",
       "      <td>0</td>\n",
       "      <td>...</td>\n",
       "      <td>0</td>\n",
       "      <td>0</td>\n",
       "      <td>0</td>\n",
       "      <td>0</td>\n",
       "      <td>0</td>\n",
       "      <td>0</td>\n",
       "      <td>0</td>\n",
       "      <td>0</td>\n",
       "      <td>0</td>\n",
       "      <td>0</td>\n",
       "    </tr>\n",
       "    <tr>\n",
       "      <th>4</th>\n",
       "      <td>0</td>\n",
       "      <td>0</td>\n",
       "      <td>0</td>\n",
       "      <td>0</td>\n",
       "      <td>0</td>\n",
       "      <td>0</td>\n",
       "      <td>0</td>\n",
       "      <td>0</td>\n",
       "      <td>0</td>\n",
       "      <td>0</td>\n",
       "      <td>...</td>\n",
       "      <td>0</td>\n",
       "      <td>0</td>\n",
       "      <td>0</td>\n",
       "      <td>0</td>\n",
       "      <td>0</td>\n",
       "      <td>0</td>\n",
       "      <td>0</td>\n",
       "      <td>0</td>\n",
       "      <td>0</td>\n",
       "      <td>0</td>\n",
       "    </tr>\n",
       "    <tr>\n",
       "      <th>...</th>\n",
       "      <td>...</td>\n",
       "      <td>...</td>\n",
       "      <td>...</td>\n",
       "      <td>...</td>\n",
       "      <td>...</td>\n",
       "      <td>...</td>\n",
       "      <td>...</td>\n",
       "      <td>...</td>\n",
       "      <td>...</td>\n",
       "      <td>...</td>\n",
       "      <td>...</td>\n",
       "      <td>...</td>\n",
       "      <td>...</td>\n",
       "      <td>...</td>\n",
       "      <td>...</td>\n",
       "      <td>...</td>\n",
       "      <td>...</td>\n",
       "      <td>...</td>\n",
       "      <td>...</td>\n",
       "      <td>...</td>\n",
       "      <td>...</td>\n",
       "    </tr>\n",
       "    <tr>\n",
       "      <th>76</th>\n",
       "      <td>0</td>\n",
       "      <td>0</td>\n",
       "      <td>0</td>\n",
       "      <td>0</td>\n",
       "      <td>0</td>\n",
       "      <td>0</td>\n",
       "      <td>0</td>\n",
       "      <td>0</td>\n",
       "      <td>0</td>\n",
       "      <td>0</td>\n",
       "      <td>...</td>\n",
       "      <td>0</td>\n",
       "      <td>1</td>\n",
       "      <td>0</td>\n",
       "      <td>0</td>\n",
       "      <td>0</td>\n",
       "      <td>0</td>\n",
       "      <td>0</td>\n",
       "      <td>1</td>\n",
       "      <td>0</td>\n",
       "      <td>0</td>\n",
       "    </tr>\n",
       "    <tr>\n",
       "      <th>77</th>\n",
       "      <td>0</td>\n",
       "      <td>0</td>\n",
       "      <td>0</td>\n",
       "      <td>0</td>\n",
       "      <td>0</td>\n",
       "      <td>0</td>\n",
       "      <td>0</td>\n",
       "      <td>0</td>\n",
       "      <td>0</td>\n",
       "      <td>0</td>\n",
       "      <td>...</td>\n",
       "      <td>0</td>\n",
       "      <td>0</td>\n",
       "      <td>0</td>\n",
       "      <td>0</td>\n",
       "      <td>0</td>\n",
       "      <td>0</td>\n",
       "      <td>0</td>\n",
       "      <td>0</td>\n",
       "      <td>0</td>\n",
       "      <td>0</td>\n",
       "    </tr>\n",
       "    <tr>\n",
       "      <th>78</th>\n",
       "      <td>0</td>\n",
       "      <td>0</td>\n",
       "      <td>0</td>\n",
       "      <td>0</td>\n",
       "      <td>0</td>\n",
       "      <td>0</td>\n",
       "      <td>0</td>\n",
       "      <td>0</td>\n",
       "      <td>0</td>\n",
       "      <td>0</td>\n",
       "      <td>...</td>\n",
       "      <td>0</td>\n",
       "      <td>0</td>\n",
       "      <td>0</td>\n",
       "      <td>0</td>\n",
       "      <td>0</td>\n",
       "      <td>1</td>\n",
       "      <td>0</td>\n",
       "      <td>0</td>\n",
       "      <td>0</td>\n",
       "      <td>0</td>\n",
       "    </tr>\n",
       "    <tr>\n",
       "      <th>79</th>\n",
       "      <td>0</td>\n",
       "      <td>0</td>\n",
       "      <td>0</td>\n",
       "      <td>0</td>\n",
       "      <td>0</td>\n",
       "      <td>0</td>\n",
       "      <td>0</td>\n",
       "      <td>0</td>\n",
       "      <td>0</td>\n",
       "      <td>0</td>\n",
       "      <td>...</td>\n",
       "      <td>0</td>\n",
       "      <td>0</td>\n",
       "      <td>0</td>\n",
       "      <td>0</td>\n",
       "      <td>0</td>\n",
       "      <td>0</td>\n",
       "      <td>0</td>\n",
       "      <td>0</td>\n",
       "      <td>0</td>\n",
       "      <td>0</td>\n",
       "    </tr>\n",
       "    <tr>\n",
       "      <th>80</th>\n",
       "      <td>0</td>\n",
       "      <td>0</td>\n",
       "      <td>0</td>\n",
       "      <td>0</td>\n",
       "      <td>0</td>\n",
       "      <td>0</td>\n",
       "      <td>0</td>\n",
       "      <td>0</td>\n",
       "      <td>0</td>\n",
       "      <td>0</td>\n",
       "      <td>...</td>\n",
       "      <td>1</td>\n",
       "      <td>0</td>\n",
       "      <td>0</td>\n",
       "      <td>1</td>\n",
       "      <td>0</td>\n",
       "      <td>0</td>\n",
       "      <td>0</td>\n",
       "      <td>0</td>\n",
       "      <td>0</td>\n",
       "      <td>0</td>\n",
       "    </tr>\n",
       "  </tbody>\n",
       "</table>\n",
       "<p>81 rows × 81 columns</p>\n",
       "</div>"
      ],
      "text/plain": [
       "    0   1   2   3   4   5   6   7   8   9   ...  71  72  73  74  75  76  77  \\\n",
       "0    0   0   0   0   0   0   0   0   0   0  ...   0   0   0   0   0   0   0   \n",
       "1    0   0   1   0   0   0   0   0   0   0  ...   0   0   0   0   0   0   0   \n",
       "2    0   1   0   0   0   0   0   0   0   0  ...   0   0   0   0   0   0   0   \n",
       "3    0   0   0   0   0   0   0   0   0   0  ...   0   0   0   0   0   0   0   \n",
       "4    0   0   0   0   0   0   0   0   0   0  ...   0   0   0   0   0   0   0   \n",
       "..  ..  ..  ..  ..  ..  ..  ..  ..  ..  ..  ...  ..  ..  ..  ..  ..  ..  ..   \n",
       "76   0   0   0   0   0   0   0   0   0   0  ...   0   1   0   0   0   0   0   \n",
       "77   0   0   0   0   0   0   0   0   0   0  ...   0   0   0   0   0   0   0   \n",
       "78   0   0   0   0   0   0   0   0   0   0  ...   0   0   0   0   0   1   0   \n",
       "79   0   0   0   0   0   0   0   0   0   0  ...   0   0   0   0   0   0   0   \n",
       "80   0   0   0   0   0   0   0   0   0   0  ...   1   0   0   1   0   0   0   \n",
       "\n",
       "    78  79  80  \n",
       "0    0   0   0  \n",
       "1    0   0   0  \n",
       "2    0   0   0  \n",
       "3    0   0   0  \n",
       "4    0   0   0  \n",
       "..  ..  ..  ..  \n",
       "76   1   0   0  \n",
       "77   0   0   0  \n",
       "78   0   0   0  \n",
       "79   0   0   0  \n",
       "80   0   0   0  \n",
       "\n",
       "[81 rows x 81 columns]"
      ]
     },
     "execution_count": 46,
     "metadata": {},
     "output_type": "execute_result"
    }
   ],
   "source": [
    "pd.DataFrame(*old_queen.full()).astype(int)"
   ]
  },
  {
   "cell_type": "code",
   "execution_count": 47,
   "id": "c3a8b910",
   "metadata": {
    "ExecuteTime": {
     "end_time": "2022-01-17T23:42:57.202925Z",
     "start_time": "2022-01-17T23:42:57.150360Z"
    }
   },
   "outputs": [
    {
     "data": {
      "text/html": [
       "<div>\n",
       "<style scoped>\n",
       "    .dataframe tbody tr th:only-of-type {\n",
       "        vertical-align: middle;\n",
       "    }\n",
       "\n",
       "    .dataframe tbody tr th {\n",
       "        vertical-align: top;\n",
       "    }\n",
       "\n",
       "    .dataframe thead th {\n",
       "        text-align: right;\n",
       "    }\n",
       "</style>\n",
       "<table border=\"1\" class=\"dataframe\">\n",
       "  <thead>\n",
       "    <tr style=\"text-align: right;\">\n",
       "      <th></th>\n",
       "      <th>0</th>\n",
       "      <th>1</th>\n",
       "      <th>2</th>\n",
       "      <th>3</th>\n",
       "      <th>4</th>\n",
       "      <th>5</th>\n",
       "      <th>6</th>\n",
       "      <th>7</th>\n",
       "      <th>8</th>\n",
       "      <th>9</th>\n",
       "      <th>...</th>\n",
       "      <th>71</th>\n",
       "      <th>72</th>\n",
       "      <th>73</th>\n",
       "      <th>74</th>\n",
       "      <th>75</th>\n",
       "      <th>76</th>\n",
       "      <th>77</th>\n",
       "      <th>78</th>\n",
       "      <th>79</th>\n",
       "      <th>80</th>\n",
       "    </tr>\n",
       "  </thead>\n",
       "  <tbody>\n",
       "    <tr>\n",
       "      <th>0</th>\n",
       "      <td>0</td>\n",
       "      <td>0</td>\n",
       "      <td>0</td>\n",
       "      <td>0</td>\n",
       "      <td>0</td>\n",
       "      <td>0</td>\n",
       "      <td>0</td>\n",
       "      <td>0</td>\n",
       "      <td>0</td>\n",
       "      <td>0</td>\n",
       "      <td>...</td>\n",
       "      <td>0</td>\n",
       "      <td>0</td>\n",
       "      <td>0</td>\n",
       "      <td>0</td>\n",
       "      <td>0</td>\n",
       "      <td>0</td>\n",
       "      <td>0</td>\n",
       "      <td>0</td>\n",
       "      <td>0</td>\n",
       "      <td>0</td>\n",
       "    </tr>\n",
       "    <tr>\n",
       "      <th>1</th>\n",
       "      <td>0</td>\n",
       "      <td>0</td>\n",
       "      <td>1</td>\n",
       "      <td>0</td>\n",
       "      <td>0</td>\n",
       "      <td>0</td>\n",
       "      <td>0</td>\n",
       "      <td>0</td>\n",
       "      <td>0</td>\n",
       "      <td>0</td>\n",
       "      <td>...</td>\n",
       "      <td>0</td>\n",
       "      <td>0</td>\n",
       "      <td>0</td>\n",
       "      <td>0</td>\n",
       "      <td>0</td>\n",
       "      <td>0</td>\n",
       "      <td>0</td>\n",
       "      <td>0</td>\n",
       "      <td>0</td>\n",
       "      <td>0</td>\n",
       "    </tr>\n",
       "    <tr>\n",
       "      <th>2</th>\n",
       "      <td>0</td>\n",
       "      <td>1</td>\n",
       "      <td>0</td>\n",
       "      <td>0</td>\n",
       "      <td>0</td>\n",
       "      <td>0</td>\n",
       "      <td>0</td>\n",
       "      <td>0</td>\n",
       "      <td>0</td>\n",
       "      <td>0</td>\n",
       "      <td>...</td>\n",
       "      <td>0</td>\n",
       "      <td>0</td>\n",
       "      <td>0</td>\n",
       "      <td>0</td>\n",
       "      <td>0</td>\n",
       "      <td>0</td>\n",
       "      <td>0</td>\n",
       "      <td>0</td>\n",
       "      <td>0</td>\n",
       "      <td>0</td>\n",
       "    </tr>\n",
       "    <tr>\n",
       "      <th>3</th>\n",
       "      <td>0</td>\n",
       "      <td>0</td>\n",
       "      <td>0</td>\n",
       "      <td>0</td>\n",
       "      <td>0</td>\n",
       "      <td>0</td>\n",
       "      <td>0</td>\n",
       "      <td>0</td>\n",
       "      <td>0</td>\n",
       "      <td>0</td>\n",
       "      <td>...</td>\n",
       "      <td>0</td>\n",
       "      <td>0</td>\n",
       "      <td>0</td>\n",
       "      <td>0</td>\n",
       "      <td>0</td>\n",
       "      <td>0</td>\n",
       "      <td>0</td>\n",
       "      <td>0</td>\n",
       "      <td>0</td>\n",
       "      <td>0</td>\n",
       "    </tr>\n",
       "    <tr>\n",
       "      <th>4</th>\n",
       "      <td>0</td>\n",
       "      <td>0</td>\n",
       "      <td>0</td>\n",
       "      <td>0</td>\n",
       "      <td>0</td>\n",
       "      <td>0</td>\n",
       "      <td>0</td>\n",
       "      <td>0</td>\n",
       "      <td>0</td>\n",
       "      <td>0</td>\n",
       "      <td>...</td>\n",
       "      <td>0</td>\n",
       "      <td>0</td>\n",
       "      <td>0</td>\n",
       "      <td>0</td>\n",
       "      <td>0</td>\n",
       "      <td>0</td>\n",
       "      <td>0</td>\n",
       "      <td>0</td>\n",
       "      <td>0</td>\n",
       "      <td>0</td>\n",
       "    </tr>\n",
       "    <tr>\n",
       "      <th>...</th>\n",
       "      <td>...</td>\n",
       "      <td>...</td>\n",
       "      <td>...</td>\n",
       "      <td>...</td>\n",
       "      <td>...</td>\n",
       "      <td>...</td>\n",
       "      <td>...</td>\n",
       "      <td>...</td>\n",
       "      <td>...</td>\n",
       "      <td>...</td>\n",
       "      <td>...</td>\n",
       "      <td>...</td>\n",
       "      <td>...</td>\n",
       "      <td>...</td>\n",
       "      <td>...</td>\n",
       "      <td>...</td>\n",
       "      <td>...</td>\n",
       "      <td>...</td>\n",
       "      <td>...</td>\n",
       "      <td>...</td>\n",
       "      <td>...</td>\n",
       "    </tr>\n",
       "    <tr>\n",
       "      <th>76</th>\n",
       "      <td>0</td>\n",
       "      <td>0</td>\n",
       "      <td>0</td>\n",
       "      <td>0</td>\n",
       "      <td>0</td>\n",
       "      <td>0</td>\n",
       "      <td>0</td>\n",
       "      <td>0</td>\n",
       "      <td>0</td>\n",
       "      <td>0</td>\n",
       "      <td>...</td>\n",
       "      <td>0</td>\n",
       "      <td>1</td>\n",
       "      <td>0</td>\n",
       "      <td>0</td>\n",
       "      <td>0</td>\n",
       "      <td>0</td>\n",
       "      <td>0</td>\n",
       "      <td>1</td>\n",
       "      <td>0</td>\n",
       "      <td>0</td>\n",
       "    </tr>\n",
       "    <tr>\n",
       "      <th>77</th>\n",
       "      <td>0</td>\n",
       "      <td>0</td>\n",
       "      <td>0</td>\n",
       "      <td>0</td>\n",
       "      <td>0</td>\n",
       "      <td>0</td>\n",
       "      <td>0</td>\n",
       "      <td>0</td>\n",
       "      <td>0</td>\n",
       "      <td>0</td>\n",
       "      <td>...</td>\n",
       "      <td>0</td>\n",
       "      <td>0</td>\n",
       "      <td>0</td>\n",
       "      <td>0</td>\n",
       "      <td>0</td>\n",
       "      <td>0</td>\n",
       "      <td>0</td>\n",
       "      <td>0</td>\n",
       "      <td>0</td>\n",
       "      <td>0</td>\n",
       "    </tr>\n",
       "    <tr>\n",
       "      <th>78</th>\n",
       "      <td>0</td>\n",
       "      <td>0</td>\n",
       "      <td>0</td>\n",
       "      <td>0</td>\n",
       "      <td>0</td>\n",
       "      <td>0</td>\n",
       "      <td>0</td>\n",
       "      <td>0</td>\n",
       "      <td>0</td>\n",
       "      <td>0</td>\n",
       "      <td>...</td>\n",
       "      <td>0</td>\n",
       "      <td>0</td>\n",
       "      <td>0</td>\n",
       "      <td>0</td>\n",
       "      <td>0</td>\n",
       "      <td>1</td>\n",
       "      <td>0</td>\n",
       "      <td>0</td>\n",
       "      <td>0</td>\n",
       "      <td>0</td>\n",
       "    </tr>\n",
       "    <tr>\n",
       "      <th>79</th>\n",
       "      <td>0</td>\n",
       "      <td>0</td>\n",
       "      <td>0</td>\n",
       "      <td>0</td>\n",
       "      <td>0</td>\n",
       "      <td>0</td>\n",
       "      <td>0</td>\n",
       "      <td>0</td>\n",
       "      <td>0</td>\n",
       "      <td>0</td>\n",
       "      <td>...</td>\n",
       "      <td>0</td>\n",
       "      <td>0</td>\n",
       "      <td>0</td>\n",
       "      <td>0</td>\n",
       "      <td>0</td>\n",
       "      <td>0</td>\n",
       "      <td>0</td>\n",
       "      <td>0</td>\n",
       "      <td>0</td>\n",
       "      <td>0</td>\n",
       "    </tr>\n",
       "    <tr>\n",
       "      <th>80</th>\n",
       "      <td>0</td>\n",
       "      <td>0</td>\n",
       "      <td>0</td>\n",
       "      <td>0</td>\n",
       "      <td>0</td>\n",
       "      <td>0</td>\n",
       "      <td>0</td>\n",
       "      <td>0</td>\n",
       "      <td>0</td>\n",
       "      <td>0</td>\n",
       "      <td>...</td>\n",
       "      <td>1</td>\n",
       "      <td>0</td>\n",
       "      <td>0</td>\n",
       "      <td>1</td>\n",
       "      <td>0</td>\n",
       "      <td>0</td>\n",
       "      <td>0</td>\n",
       "      <td>0</td>\n",
       "      <td>0</td>\n",
       "      <td>0</td>\n",
       "    </tr>\n",
       "  </tbody>\n",
       "</table>\n",
       "<p>81 rows × 81 columns</p>\n",
       "</div>"
      ],
      "text/plain": [
       "    0   1   2   3   4   5   6   7   8   9   ...  71  72  73  74  75  76  77  \\\n",
       "0    0   0   0   0   0   0   0   0   0   0  ...   0   0   0   0   0   0   0   \n",
       "1    0   0   1   0   0   0   0   0   0   0  ...   0   0   0   0   0   0   0   \n",
       "2    0   1   0   0   0   0   0   0   0   0  ...   0   0   0   0   0   0   0   \n",
       "3    0   0   0   0   0   0   0   0   0   0  ...   0   0   0   0   0   0   0   \n",
       "4    0   0   0   0   0   0   0   0   0   0  ...   0   0   0   0   0   0   0   \n",
       "..  ..  ..  ..  ..  ..  ..  ..  ..  ..  ..  ...  ..  ..  ..  ..  ..  ..  ..   \n",
       "76   0   0   0   0   0   0   0   0   0   0  ...   0   1   0   0   0   0   0   \n",
       "77   0   0   0   0   0   0   0   0   0   0  ...   0   0   0   0   0   0   0   \n",
       "78   0   0   0   0   0   0   0   0   0   0  ...   0   0   0   0   0   1   0   \n",
       "79   0   0   0   0   0   0   0   0   0   0  ...   0   0   0   0   0   0   0   \n",
       "80   0   0   0   0   0   0   0   0   0   0  ...   1   0   0   1   0   0   0   \n",
       "\n",
       "    78  79  80  \n",
       "0    0   0   0  \n",
       "1    0   0   0  \n",
       "2    0   0   0  \n",
       "3    0   0   0  \n",
       "4    0   0   0  \n",
       "..  ..  ..  ..  \n",
       "76   1   0   0  \n",
       "77   0   0   0  \n",
       "78   0   0   0  \n",
       "79   0   0   0  \n",
       "80   0   0   0  \n",
       "\n",
       "[81 rows x 81 columns]"
      ]
     },
     "execution_count": 47,
     "metadata": {},
     "output_type": "execute_result"
    }
   ],
   "source": [
    "pd.DataFrame(*new_queen.full()).astype(int)"
   ]
  },
  {
   "cell_type": "markdown",
   "id": "cfbd049a",
   "metadata": {},
   "source": [
    "### weight values\n"
   ]
  },
  {
   "cell_type": "code",
   "execution_count": 48,
   "id": "536d196b",
   "metadata": {
    "ExecuteTime": {
     "end_time": "2022-01-17T23:42:57.237580Z",
     "start_time": "2022-01-17T23:42:57.208572Z"
    },
    "scrolled": true
   },
   "outputs": [
    {
     "data": {
      "text/plain": [
       "{0: [1.0, 1.0],\n",
       " 1: [1.0, 1.0],\n",
       " 2: [1.0],\n",
       " 3: [1.0, 1.0, 1.0],\n",
       " 4: [1.0, 1.0, 1.0],\n",
       " 5: [1.0, 1.0, 1.0, 1.0],\n",
       " 6: [1.0, 1.0, 1.0, 1.0],\n",
       " 7: [1.0, 1.0],\n",
       " 8: [1.0, 1.0],\n",
       " 9: [1.0, 1.0, 1.0, 1.0, 1.0],\n",
       " 10: [1.0, 1.0, 1.0, 1.0, 1.0],\n",
       " 11: [1.0, 1.0, 1.0, 1.0, 1.0],\n",
       " 12: [1.0, 1.0, 1.0, 1.0, 1.0, 1.0],\n",
       " 13: [1.0, 1.0, 1.0, 1.0, 1.0, 1.0],\n",
       " 14: [1.0, 1.0, 1.0, 1.0, 1.0, 1.0, 1.0, 1.0],\n",
       " 15: [1.0, 1.0, 1.0, 1.0, 1.0, 1.0],\n",
       " 16: [1.0, 1.0, 1.0, 1.0],\n",
       " 17: [1.0, 1.0, 1.0, 1.0],\n",
       " 18: [1.0, 1.0, 1.0, 1.0],\n",
       " 19: [1.0, 1.0, 1.0, 1.0],\n",
       " 20: [1.0, 1.0, 1.0, 1.0, 1.0, 1.0, 1.0],\n",
       " 21: [1.0, 1.0, 1.0, 1.0, 1.0],\n",
       " 22: [1.0, 1.0],\n",
       " 23: [1.0, 1.0, 1.0, 1.0, 1.0, 1.0, 1.0],\n",
       " 24: [1.0, 1.0, 1.0, 1.0],\n",
       " 25: [1.0, 1.0, 1.0],\n",
       " 26: [1.0, 1.0, 1.0],\n",
       " 27: [1.0, 1.0, 1.0],\n",
       " 28: [1.0, 1.0, 1.0],\n",
       " 29: [1.0, 1.0, 1.0, 1.0, 1.0, 1.0, 1.0],\n",
       " 30: [1.0, 1.0],\n",
       " 31: [1.0, 1.0, 1.0, 1.0, 1.0, 1.0, 1.0, 1.0],\n",
       " 32: [1.0, 1.0, 1.0, 1.0],\n",
       " 33: [1.0, 1.0, 1.0, 1.0, 1.0],\n",
       " 34: [1.0, 1.0, 1.0, 1.0, 1.0, 1.0],\n",
       " 35: [1.0, 1.0, 1.0],\n",
       " 36: [1.0, 1.0, 1.0, 1.0, 1.0, 1.0, 1.0],\n",
       " 37: [1.0, 1.0, 1.0],\n",
       " 38: [1.0, 1.0, 1.0],\n",
       " 39: [1.0, 1.0],\n",
       " 40: [1.0, 1.0],\n",
       " 41: [1.0, 1.0, 1.0, 1.0, 1.0],\n",
       " 42: [1.0, 1.0, 1.0, 1.0, 1.0, 1.0],\n",
       " 43: [1.0, 1.0, 1.0, 1.0, 1.0, 1.0],\n",
       " 44: [1.0, 1.0, 1.0, 1.0],\n",
       " 45: [1.0, 1.0, 1.0, 1.0, 1.0, 1.0],\n",
       " 46: [1.0, 1.0, 1.0, 1.0],\n",
       " 47: [1.0, 1.0, 1.0, 1.0, 1.0, 1.0, 1.0],\n",
       " 48: [1.0, 1.0, 1.0],\n",
       " 49: [1.0],\n",
       " 50: [1.0, 1.0, 1.0, 1.0, 1.0],\n",
       " 51: [1.0, 1.0, 1.0, 1.0, 1.0],\n",
       " 52: [1.0, 1.0, 1.0, 1.0, 1.0],\n",
       " 53: [1.0, 1.0, 1.0, 1.0, 1.0],\n",
       " 54: [1.0, 1.0, 1.0, 1.0],\n",
       " 55: [1.0, 1.0, 1.0, 1.0, 1.0, 1.0, 1.0, 1.0],\n",
       " 56: [1.0, 1.0, 1.0, 1.0],\n",
       " 57: [1.0, 1.0, 1.0, 1.0, 1.0, 1.0],\n",
       " 58: [1.0, 1.0, 1.0, 1.0, 1.0],\n",
       " 59: [1.0, 1.0, 1.0],\n",
       " 60: [1.0, 1.0, 1.0],\n",
       " 61: [1.0, 1.0, 1.0, 1.0, 1.0],\n",
       " 62: [1.0, 1.0, 1.0, 1.0, 1.0, 1.0],\n",
       " 63: [1.0, 1.0, 1.0, 1.0],\n",
       " 64: [1.0, 1.0, 1.0],\n",
       " 65: [1.0, 1.0, 1.0, 1.0, 1.0, 1.0],\n",
       " 66: [1.0, 1.0, 1.0, 1.0, 1.0, 1.0],\n",
       " 67: [1.0, 1.0, 1.0, 1.0],\n",
       " 68: [1.0, 1.0, 1.0, 1.0, 1.0, 1.0],\n",
       " 69: [1.0, 1.0],\n",
       " 70: [1.0, 1.0],\n",
       " 71: [1.0, 1.0, 1.0, 1.0, 1.0, 1.0],\n",
       " 72: [1.0, 1.0, 1.0, 1.0, 1.0, 1.0, 1.0, 1.0],\n",
       " 73: [1.0, 1.0, 1.0, 1.0],\n",
       " 74: [1.0, 1.0, 1.0, 1.0, 1.0, 1.0],\n",
       " 75: [1.0, 1.0, 1.0],\n",
       " 76: [1.0, 1.0, 1.0, 1.0, 1.0, 1.0],\n",
       " 77: [1.0, 1.0],\n",
       " 78: [1.0, 1.0, 1.0, 1.0, 1.0],\n",
       " 79: [1.0, 1.0, 1.0, 1.0],\n",
       " 80: [1.0, 1.0, 1.0, 1.0, 1.0, 1.0]}"
      ]
     },
     "execution_count": 48,
     "metadata": {},
     "output_type": "execute_result"
    }
   ],
   "source": [
    "old_queen.weights"
   ]
  },
  {
   "cell_type": "code",
   "execution_count": 49,
   "id": "fcf9d926",
   "metadata": {
    "ExecuteTime": {
     "end_time": "2022-01-17T23:42:57.255800Z",
     "start_time": "2022-01-17T23:42:57.241545Z"
    },
    "scrolled": true
   },
   "outputs": [
    {
     "data": {
      "text/plain": [
       "{0: [1.0, 1.0],\n",
       " 1: [1.0, 1.0, 1.0, 1.0],\n",
       " 2: [1.0],\n",
       " 3: [1.0, 1.0, 1.0],\n",
       " 4: [1.0, 1.0, 1.0],\n",
       " 5: [1.0, 1.0, 1.0, 1.0, 1.0, 1.0],\n",
       " 6: [1.0, 1.0, 1.0, 1.0, 1.0],\n",
       " 7: [1.0, 1.0],\n",
       " 8: [1.0, 1.0],\n",
       " 9: [1.0, 1.0, 1.0, 1.0, 1.0],\n",
       " 10: [1.0, 1.0, 1.0, 1.0, 1.0],\n",
       " 11: [1.0, 1.0, 1.0, 1.0, 1.0],\n",
       " 12: [1.0, 1.0, 1.0, 1.0, 1.0, 1.0],\n",
       " 13: [1.0, 1.0, 1.0, 1.0, 1.0, 1.0],\n",
       " 14: [1.0, 1.0, 1.0, 1.0, 1.0, 1.0, 1.0, 1.0],\n",
       " 15: [1.0, 1.0, 1.0, 1.0, 1.0, 1.0],\n",
       " 16: [1.0, 1.0, 1.0, 1.0],\n",
       " 17: [1.0, 1.0, 1.0, 1.0],\n",
       " 18: [1.0, 1.0, 1.0, 1.0, 1.0],\n",
       " 19: [1.0, 1.0, 1.0, 1.0],\n",
       " 20: [1.0, 1.0, 1.0, 1.0, 1.0, 1.0, 1.0],\n",
       " 21: [1.0, 1.0, 1.0, 1.0, 1.0],\n",
       " 22: [1.0, 1.0],\n",
       " 23: [1.0, 1.0, 1.0, 1.0, 1.0, 1.0, 1.0],\n",
       " 24: [1.0, 1.0, 1.0, 1.0],\n",
       " 25: [1.0, 1.0, 1.0, 1.0, 1.0],\n",
       " 26: [1.0, 1.0, 1.0],\n",
       " 27: [1.0, 1.0, 1.0, 1.0],\n",
       " 28: [1.0, 1.0, 1.0],\n",
       " 29: [1.0, 1.0, 1.0, 1.0, 1.0, 1.0, 1.0],\n",
       " 30: [1.0, 1.0],\n",
       " 31: [1.0, 1.0, 1.0, 1.0, 1.0, 1.0, 1.0, 1.0],\n",
       " 32: [1.0, 1.0, 1.0, 1.0],\n",
       " 33: [1.0, 1.0, 1.0, 1.0, 1.0, 1.0, 1.0],\n",
       " 34: [1.0, 1.0, 1.0, 1.0, 1.0, 1.0],\n",
       " 35: [1.0, 1.0, 1.0, 1.0],\n",
       " 36: [1.0, 1.0, 1.0, 1.0, 1.0, 1.0, 1.0],\n",
       " 37: [1.0, 1.0, 1.0],\n",
       " 38: [1.0, 1.0, 1.0],\n",
       " 39: [1.0, 1.0],\n",
       " 40: [1.0, 1.0],\n",
       " 41: [1.0, 1.0, 1.0, 1.0, 1.0],\n",
       " 42: [1.0, 1.0, 1.0, 1.0, 1.0, 1.0],\n",
       " 43: [1.0, 1.0, 1.0, 1.0, 1.0, 1.0],\n",
       " 44: [1.0, 1.0, 1.0, 1.0],\n",
       " 45: [1.0, 1.0, 1.0, 1.0, 1.0, 1.0],\n",
       " 46: [1.0, 1.0, 1.0, 1.0],\n",
       " 47: [1.0, 1.0, 1.0, 1.0, 1.0, 1.0, 1.0],\n",
       " 48: [1.0, 1.0, 1.0],\n",
       " 49: [1.0],\n",
       " 50: [1.0, 1.0, 1.0, 1.0, 1.0],\n",
       " 51: [1.0, 1.0, 1.0, 1.0, 1.0],\n",
       " 52: [1.0, 1.0, 1.0, 1.0, 1.0],\n",
       " 53: [1.0, 1.0, 1.0, 1.0, 1.0],\n",
       " 54: [1.0, 1.0, 1.0, 1.0],\n",
       " 55: [1.0, 1.0, 1.0, 1.0, 1.0, 1.0, 1.0, 1.0],\n",
       " 56: [1.0, 1.0, 1.0, 1.0],\n",
       " 57: [1.0, 1.0, 1.0, 1.0, 1.0, 1.0],\n",
       " 58: [1.0, 1.0, 1.0, 1.0, 1.0],\n",
       " 59: [1.0, 1.0, 1.0],\n",
       " 60: [1.0, 1.0, 1.0],\n",
       " 61: [1.0, 1.0, 1.0, 1.0, 1.0, 1.0, 1.0],\n",
       " 62: [1.0, 1.0, 1.0, 1.0, 1.0, 1.0],\n",
       " 63: [1.0, 1.0, 1.0, 1.0],\n",
       " 64: [1.0, 1.0, 1.0],\n",
       " 65: [1.0, 1.0, 1.0, 1.0, 1.0, 1.0],\n",
       " 66: [1.0, 1.0, 1.0, 1.0, 1.0, 1.0],\n",
       " 67: [1.0, 1.0, 1.0, 1.0],\n",
       " 68: [1.0, 1.0, 1.0, 1.0, 1.0, 1.0],\n",
       " 69: [1.0, 1.0],\n",
       " 70: [1.0, 1.0],\n",
       " 71: [1.0, 1.0, 1.0, 1.0, 1.0, 1.0],\n",
       " 72: [1.0, 1.0, 1.0, 1.0, 1.0, 1.0, 1.0, 1.0],\n",
       " 73: [1.0, 1.0, 1.0, 1.0, 1.0, 1.0, 1.0, 1.0],\n",
       " 74: [1.0, 1.0, 1.0, 1.0, 1.0, 1.0],\n",
       " 75: [1.0, 1.0, 1.0],\n",
       " 76: [1.0, 1.0, 1.0, 1.0, 1.0, 1.0],\n",
       " 77: [1.0, 1.0],\n",
       " 78: [1.0, 1.0, 1.0, 1.0, 1.0],\n",
       " 79: [1.0, 1.0, 1.0, 1.0],\n",
       " 80: [1.0, 1.0, 1.0, 1.0, 1.0, 1.0]}"
      ]
     },
     "execution_count": 49,
     "metadata": {},
     "output_type": "execute_result"
    }
   ],
   "source": [
    "new_queen.weights"
   ]
  },
  {
   "cell_type": "markdown",
   "id": "46165ce6",
   "metadata": {},
   "source": [
    "### number of neighbors for each observation\n"
   ]
  },
  {
   "cell_type": "code",
   "execution_count": 50,
   "id": "d033ad05",
   "metadata": {
    "ExecuteTime": {
     "end_time": "2022-01-17T23:42:57.269323Z",
     "start_time": "2022-01-17T23:42:57.258177Z"
    },
    "scrolled": true
   },
   "outputs": [
    {
     "data": {
      "text/plain": [
       "{0: 2,\n",
       " 1: 2,\n",
       " 2: 1,\n",
       " 3: 3,\n",
       " 4: 3,\n",
       " 5: 4,\n",
       " 6: 4,\n",
       " 7: 2,\n",
       " 8: 2,\n",
       " 9: 5,\n",
       " 10: 5,\n",
       " 11: 5,\n",
       " 12: 6,\n",
       " 13: 6,\n",
       " 14: 8,\n",
       " 15: 6,\n",
       " 16: 4,\n",
       " 17: 4,\n",
       " 18: 4,\n",
       " 19: 4,\n",
       " 20: 7,\n",
       " 21: 5,\n",
       " 22: 2,\n",
       " 23: 7,\n",
       " 24: 4,\n",
       " 25: 3,\n",
       " 26: 3,\n",
       " 27: 3,\n",
       " 28: 3,\n",
       " 29: 7,\n",
       " 30: 2,\n",
       " 31: 8,\n",
       " 32: 4,\n",
       " 33: 5,\n",
       " 34: 6,\n",
       " 35: 3,\n",
       " 36: 7,\n",
       " 37: 3,\n",
       " 38: 3,\n",
       " 39: 2,\n",
       " 40: 2,\n",
       " 41: 5,\n",
       " 42: 6,\n",
       " 43: 6,\n",
       " 44: 4,\n",
       " 45: 6,\n",
       " 46: 4,\n",
       " 47: 7,\n",
       " 48: 3,\n",
       " 49: 1,\n",
       " 50: 5,\n",
       " 51: 5,\n",
       " 52: 5,\n",
       " 53: 5,\n",
       " 54: 4,\n",
       " 55: 8,\n",
       " 56: 4,\n",
       " 57: 6,\n",
       " 58: 5,\n",
       " 59: 3,\n",
       " 60: 3,\n",
       " 61: 5,\n",
       " 62: 6,\n",
       " 63: 4,\n",
       " 64: 3,\n",
       " 65: 6,\n",
       " 66: 6,\n",
       " 67: 4,\n",
       " 68: 6,\n",
       " 69: 2,\n",
       " 70: 2,\n",
       " 71: 6,\n",
       " 72: 8,\n",
       " 73: 4,\n",
       " 74: 6,\n",
       " 75: 3,\n",
       " 76: 6,\n",
       " 77: 2,\n",
       " 78: 5,\n",
       " 79: 4,\n",
       " 80: 6}"
      ]
     },
     "execution_count": 50,
     "metadata": {},
     "output_type": "execute_result"
    }
   ],
   "source": [
    "old_queen.cardinalities"
   ]
  },
  {
   "cell_type": "code",
   "execution_count": 51,
   "id": "1abf4a29",
   "metadata": {
    "ExecuteTime": {
     "end_time": "2022-01-17T23:42:57.278323Z",
     "start_time": "2022-01-17T23:42:57.272168Z"
    },
    "scrolled": true
   },
   "outputs": [
    {
     "data": {
      "text/plain": [
       "{0: 2,\n",
       " 1: 4,\n",
       " 2: 1,\n",
       " 3: 3,\n",
       " 4: 3,\n",
       " 5: 6,\n",
       " 6: 5,\n",
       " 7: 2,\n",
       " 8: 2,\n",
       " 9: 5,\n",
       " 10: 5,\n",
       " 11: 5,\n",
       " 12: 6,\n",
       " 13: 6,\n",
       " 14: 8,\n",
       " 15: 6,\n",
       " 16: 4,\n",
       " 17: 4,\n",
       " 18: 5,\n",
       " 19: 4,\n",
       " 20: 7,\n",
       " 21: 5,\n",
       " 22: 2,\n",
       " 23: 7,\n",
       " 24: 4,\n",
       " 25: 5,\n",
       " 26: 3,\n",
       " 27: 4,\n",
       " 28: 3,\n",
       " 29: 7,\n",
       " 30: 2,\n",
       " 31: 8,\n",
       " 32: 4,\n",
       " 33: 7,\n",
       " 34: 6,\n",
       " 35: 4,\n",
       " 36: 7,\n",
       " 37: 3,\n",
       " 38: 3,\n",
       " 39: 2,\n",
       " 40: 2,\n",
       " 41: 5,\n",
       " 42: 6,\n",
       " 43: 6,\n",
       " 44: 4,\n",
       " 45: 6,\n",
       " 46: 4,\n",
       " 47: 7,\n",
       " 48: 3,\n",
       " 49: 1,\n",
       " 50: 5,\n",
       " 51: 5,\n",
       " 52: 5,\n",
       " 53: 5,\n",
       " 54: 4,\n",
       " 55: 8,\n",
       " 56: 4,\n",
       " 57: 6,\n",
       " 58: 5,\n",
       " 59: 3,\n",
       " 60: 3,\n",
       " 61: 7,\n",
       " 62: 6,\n",
       " 63: 4,\n",
       " 64: 3,\n",
       " 65: 6,\n",
       " 66: 6,\n",
       " 67: 4,\n",
       " 68: 6,\n",
       " 69: 2,\n",
       " 70: 2,\n",
       " 71: 6,\n",
       " 72: 8,\n",
       " 73: 8,\n",
       " 74: 6,\n",
       " 75: 3,\n",
       " 76: 6,\n",
       " 77: 2,\n",
       " 78: 5,\n",
       " 79: 4,\n",
       " 80: 6}"
      ]
     },
     "execution_count": 51,
     "metadata": {},
     "output_type": "execute_result"
    }
   ],
   "source": [
    "new_queen.cardinalities"
   ]
  },
  {
   "cell_type": "markdown",
   "id": "800f1286",
   "metadata": {},
   "source": [
    "### overview of the distribution of the cardinalities\n",
    "The cardinalities and histogram attributes help quickly spot asymmetries in the number of neighbors"
   ]
  },
  {
   "cell_type": "code",
   "execution_count": 52,
   "id": "bd7a6f19",
   "metadata": {
    "ExecuteTime": {
     "end_time": "2022-01-17T23:42:57.285052Z",
     "start_time": "2022-01-17T23:42:57.280471Z"
    }
   },
   "outputs": [
    {
     "data": {
      "text/plain": [
       "[(1, 2), (2, 11), (3, 14), (4, 16), (5, 13), (6, 16), (7, 5), (8, 4)]"
      ]
     },
     "execution_count": 52,
     "metadata": {},
     "output_type": "execute_result"
    }
   ],
   "source": [
    "old_queen.histogram"
   ]
  },
  {
   "cell_type": "code",
   "execution_count": 53,
   "id": "17d47ede",
   "metadata": {
    "ExecuteTime": {
     "end_time": "2022-01-17T23:42:57.292658Z",
     "start_time": "2022-01-17T23:42:57.287622Z"
    }
   },
   "outputs": [
    {
     "data": {
      "text/plain": [
       "[(1, 2), (2, 10), (3, 11), (4, 15), (5, 14), (6, 17), (7, 7), (8, 5)]"
      ]
     },
     "execution_count": 53,
     "metadata": {},
     "output_type": "execute_result"
    }
   ],
   "source": [
    "new_queen.histogram"
   ]
  },
  {
   "cell_type": "code",
   "execution_count": 54,
   "id": "9d819421",
   "metadata": {
    "ExecuteTime": {
     "end_time": "2022-01-17T23:42:57.452416Z",
     "start_time": "2022-01-17T23:42:57.294938Z"
    }
   },
   "outputs": [
    {
     "data": {
      "image/png": "[encoded data removed]",
      "text/plain": [
       "<Figure size 432x288 with 1 Axes>"
      ]
     },
     "metadata": {
      "needs_background": "light"
     },
     "output_type": "display_data"
    }
   ],
   "source": [
    "pd.Series(old_queen.cardinalities).plot.hist(color='k');"
   ]
  },
  {
   "cell_type": "code",
   "execution_count": 55,
   "id": "b101f626",
   "metadata": {
    "ExecuteTime": {
     "end_time": "2022-01-17T23:42:57.594247Z",
     "start_time": "2022-01-17T23:42:57.454631Z"
    }
   },
   "outputs": [
    {
     "data": {
      "image/png": "[encoded data removed]",
      "text/plain": [
       "<Figure size 432x288 with 1 Axes>"
      ]
     },
     "metadata": {
      "needs_background": "light"
     },
     "output_type": "display_data"
    }
   ],
   "source": [
    "pd.Series(new_queen.cardinalities).plot.hist(color='k');"
   ]
  },
  {
   "cell_type": "code",
   "execution_count": 56,
   "id": "b5a478f9",
   "metadata": {
    "ExecuteTime": {
     "end_time": "2022-01-17T23:42:57.788492Z",
     "start_time": "2022-01-17T23:42:57.596874Z"
    }
   },
   "outputs": [
    {
     "data": {
      "text/plain": [
       "<AxesSubplot:ylabel='Frequency'>"
      ]
     },
     "execution_count": 56,
     "metadata": {},
     "output_type": "execute_result"
    },
    {
     "data": {
      "image/png": "[encoded data removed]",
      "text/plain": [
       "<Figure size 432x288 with 1 Axes>"
      ]
     },
     "metadata": {
      "needs_background": "light"
     },
     "output_type": "display_data"
    }
   ],
   "source": [
    "pd.Series(old_queen.cardinalities).plot.hist(color='r', alpha=0.5)\n",
    "pd.Series(new_queen.cardinalities).plot.hist(color='b', alpha=.5)  "
   ]
  },
  {
   "cell_type": "code",
   "execution_count": 57,
   "id": "2090be76",
   "metadata": {
    "ExecuteTime": {
     "end_time": "2022-01-17T23:43:08.119061Z",
     "start_time": "2022-01-17T23:42:57.790563Z"
    }
   },
   "outputs": [
    {
     "data": {
      "image/png": "[encoded data removed]",
      "text/plain": [
       "<Figure size 1152x1152 with 2 Axes>"
      ]
     },
     "metadata": {
      "needs_background": "light"
     },
     "output_type": "display_data"
    }
   ],
   "source": [
    "f,ax = plt.subplots(1,2,figsize=(16, 16), subplot_kw=dict(aspect='equal'))\n",
    "old.plot(edgecolor='grey', facecolor='w', ax=ax[0])\n",
    "old_queen.plot(old, ax=ax[0],\n",
    "        edge_kws=dict(color='r', linestyle=':', linewidth=1),\n",
    "        node_kws=dict(marker=''))\n",
    "ax[0].set_title('Old Queen')\n",
    "\n",
    "ax[0].axis('off')\n",
    "new.plot(edgecolor='grey', facecolor='w', ax=ax[1])\n",
    "new_queen.plot(new, ax=ax[1],\n",
    "        edge_kws=dict(color='r', linestyle=':', linewidth=1),\n",
    "        node_kws=dict(marker=''))\n",
    "ax[1].set_title('New Queen')\n",
    "\n",
    "# remove the axis\n",
    "ax[1].set_axis_off()"
   ]
  },
  {
   "cell_type": "code",
   "execution_count": 58,
   "id": "af9a46d3",
   "metadata": {
    "ExecuteTime": {
     "end_time": "2022-01-17T23:43:18.603291Z",
     "start_time": "2022-01-17T23:43:08.121104Z"
    }
   },
   "outputs": [
    {
     "data": {
      "image/png": "[encoded data removed]",
      "text/plain": [
       "<Figure size 1152x1152 with 2 Axes>"
      ]
     },
     "metadata": {
      "needs_background": "light"
     },
     "output_type": "display_data"
    }
   ],
   "source": [
    "f,ax = plt.subplots(1,2,figsize=(16, 16), subplot_kw=dict(aspect='equal'))\n",
    "old.plot(edgecolor='grey', facecolor='w', ax=ax[0])\n",
    "old_rook.plot(old, ax=ax[0],\n",
    "        edge_kws=dict(color='r', linestyle=':', linewidth=1),\n",
    "        node_kws=dict(marker=''))\n",
    "ax[0].set_title('Old Rook')\n",
    "\n",
    "ax[0].axis('off')\n",
    "new.plot(edgecolor='grey', facecolor='w', ax=ax[1])\n",
    "new_rook.plot(new, ax=ax[1],\n",
    "        edge_kws=dict(color='r', linestyle=':', linewidth=1),\n",
    "        node_kws=dict(marker=''))\n",
    "ax[1].set_title('New Rook')\n",
    "\n",
    "# remove the axis\n",
    "ax[1].set_axis_off()"
   ]
  },
  {
   "cell_type": "code",
   "execution_count": null,
   "id": "8db55a34",
   "metadata": {},
   "outputs": [],
   "source": []
  }
 ],
 "metadata": {
  "jupytext": {
   "formats": "ipynb,md"
  },
  "kernelspec": {
   "display_name": "Python 3 (ipykernel)",
   "language": "python",
   "name": "python3"
  },
  "language_info": {
   "codemirror_mode": {
    "name": "ipython",
    "version": 3
   },
   "file_extension": ".py",
   "mimetype": "text/x-python",
   "name": "python",
   "nbconvert_exporter": "python",
   "pygments_lexer": "ipython3",
   "version": "3.7.12"
  },
  "varInspector": {
   "cols": {
    "lenName": 16,
    "lenType": 16,
    "lenVar": 40
   },
   "kernels_config": {
    "python": {
     "delete_cmd_postfix": "",
     "delete_cmd_prefix": "del ",
     "library": "var_list.py",
     "varRefreshCmd": "print(var_dic_list())"
    },
    "r": {
     "delete_cmd_postfix": ") ",
     "delete_cmd_prefix": "rm(",
     "library": "var_list.r",
     "varRefreshCmd": "cat(var_dic_list()) "
    }
   },
   "types_to_exclude": [
    "module",
    "function",
    "builtin_function_or_method",
    "instance",
    "_Feature"
   ],
   "window_display": false
  }
 },
 "nbformat": 4,
 "nbformat_minor": 5
}
